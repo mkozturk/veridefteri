{
 "cells": [
  {
   "cell_type": "raw",
   "metadata": {},
   "source": [
    "---\n",
    "title: \"Python Programlamaya Giriş 21 - Dinamik kod üretme\"\n",
    "author: Kaan Öztürk\n",
    "date: Jun 8, 2018\n",
    "image: 0780f-magnolia.jpg\n",
    "categories:\n",
    "    - Python Programlamaya Giriş\n",
    "format:\n",
    "    html:\n",
    "        code-fold: False\n",
    "---"
   ]
  },
  {
   "cell_type": "markdown",
   "metadata": {},
   "source": [
    "Python _dinamik_ tabir edilen dillerden biridir. Programda kullandığıız değişkenlerin tiplerini baştan bildirmeniz gerekmez. Program çalıştıkça işlenen komutlar, yeni nesneleri anında üretir. Bu dinamiklik sayesinde, dize olarak verilmiş Python komutlarını da işleyebilir, hatta program yazan programlar yazabiliriz.\n",
    "\n",
    "Bu işlemi yapmak için iki Python fonksiyonu vardır: `eval()` ve `exec()`\n",
    "\n",
    "Dizinin bütün yazılarına erişmek için <a href=\"http://www.veridefteri.com/category/python-giris/\"><em>Python Programlamaya Giriş</em></a> kategorimize bakabilirsiniz. Bu dizideki yazılar ayrıca Jupyter defterleri halinde <a href=\"https://github.com/sibirbil/VeriDefteri/tree/master/Python_Programlama\">GitHub depomuzda</a> da mevcut."
   ]
  },
  {
   "cell_type": "markdown",
   "metadata": {},
   "source": [
    "## eval"
   ]
  },
  {
   "cell_type": "markdown",
   "metadata": {},
   "source": [
    "Bu fonksiyon, Python komutları içeren bir dizeyi yorumlayıcıya gönderir ve sonucu geri verir."
   ]
  },
  {
   "cell_type": "code",
   "execution_count": 1,
   "metadata": {},
   "outputs": [
    {
     "data": {
      "text/plain": [
       "28"
      ]
     },
     "execution_count": 1,
     "metadata": {},
     "output_type": "execute_result"
    }
   ],
   "source": [
    "eval(\"2**3 + 4*5\")"
   ]
  },
  {
   "cell_type": "markdown",
   "metadata": {},
   "source": [
    "Çalıştırma anında isim alanında bulunan değişkenler de kod dizesi içinde kullanılabilir."
   ]
  },
  {
   "cell_type": "code",
   "execution_count": 2,
   "metadata": {},
   "outputs": [
    {
     "data": {
      "text/plain": [
       "14"
      ]
     },
     "execution_count": 2,
     "metadata": {},
     "output_type": "execute_result"
    }
   ],
   "source": [
    "x = 5\n",
    "eval(\"2*x+4\")"
   ]
  },
  {
   "cell_type": "markdown",
   "metadata": {},
   "source": [
    "Komut dizesi içindeki değişkeni başka bir değerle kullanmak isterseniz, değişkenleri bir sözlük ile verebilirsiniz."
   ]
  },
  {
   "cell_type": "code",
   "execution_count": 3,
   "metadata": {},
   "outputs": [
    {
     "data": {
      "text/plain": [
       "24"
      ]
     },
     "execution_count": 3,
     "metadata": {},
     "output_type": "execute_result"
    }
   ],
   "source": [
    "eval(\"2*x+4\",{\"x\":10})"
   ]
  },
  {
   "cell_type": "markdown",
   "metadata": {},
   "source": [
    "### Örnek: Basit hesap makinesi.\n",
    "Kullanıcıdan tek tek matematiksel ifadeler alıp sonucu yazan bir programcık yazalım. Kullanıcı \"dur\" yazdığında program sona ersin."
   ]
  },
  {
   "cell_type": "code",
   "execution_count": 6,
   "metadata": {},
   "outputs": [
    {
     "name": "stdout",
     "output_type": "stream",
     "text": [
      "1 + 2 + 3 + 4 + 5  =  15\n",
      "2**2 + 3 * 5  =  19\n",
      "1/10 + 1/5  =  0.30000000000000004\n"
     ]
    }
   ],
   "source": [
    "işlemler = \"\"\"1 + 2 + 3 + 4 + 5\n",
    "2**2 + 3 * 5\n",
    "1/10 + 1/5\n",
    "\"\"\"\n",
    "for işlem in işlemler.splitlines():\n",
    "    print(işlem, \" = \", eval(işlem))"
   ]
  },
  {
   "cell_type": "markdown",
   "metadata": {},
   "source": [
    "### Örnek: Yardım belgeleri özetleri\n",
    "Nesnelerin yardım belgelerini daha önce kullanmıştık. Bir metodla ilgili bilgi almak için `help()` komutunu kullandığımızda o metodun (bir fonksiyon nesnesidir) `__doc__` isimli özelliği ekrana basılır. Buna doğrudan da erişebiliriz."
   ]
  },
  {
   "cell_type": "code",
   "execution_count": 5,
   "metadata": {},
   "outputs": [
    {
     "data": {
      "text/plain": [
       "'L.append(object) -> None -- append object to end'"
      ]
     },
     "execution_count": 5,
     "metadata": {},
     "output_type": "execute_result"
    }
   ],
   "source": [
    "list.append.__doc__"
   ]
  },
  {
   "cell_type": "markdown",
   "metadata": {},
   "source": [
    "Diyelim bir nesne sınıfı altında tanımlanmış bütün metodların kısa tarifini (belge dizesini) ekrana dökmek istiyoruz. Ama bir sınıf altında, daha özel amaçlı, doğrudan kullanılmayan metodlar da bulunur. Bunların başlarında ve sonlarında bir çift altçizgi (\"dunder\") bulunur."
   ]
  },
  {
   "cell_type": "markdown",
   "metadata": {},
   "source": [
    "Çift altçizgili metodları hariç tutarak, metodların kısa açıklamalarını listelemek için `eval`'i bir döngü içinde kullanabiliriz."
   ]
  },
  {
   "cell_type": "code",
   "execution_count": 7,
   "metadata": {},
   "outputs": [
    {
     "name": "stdout",
     "output_type": "stream",
     "text": [
      "L.append(object) -> None -- append object to end\n",
      "L.clear() -> None -- remove all items from L\n",
      "L.copy() -> list -- a shallow copy of L\n",
      "L.count(value) -> integer -- return number of occurrences of value\n",
      "L.extend(iterable) -> None -- extend list by appending elements from the iterable\n",
      "L.index(value, [start, [stop]]) -> integer -- return first index of value.\n",
      "Raises ValueError if the value is not present.\n",
      "L.insert(index, object) -- insert object before index\n",
      "L.pop([index]) -> item -- remove and return item at index (default last).\n",
      "Raises IndexError if list is empty or index is out of range.\n",
      "L.remove(value) -> None -- remove first occurrence of value.\n",
      "Raises ValueError if the value is not present.\n",
      "L.reverse() -- reverse *IN PLACE*\n",
      "L.sort(key=None, reverse=False) -> None -- stable sort *IN PLACE*\n"
     ]
    }
   ],
   "source": [
    "for metod in dir(list):\n",
    "    if \"__\" not in metod:\n",
    "        print(eval(\"list.\"+metod+\".__doc__\"))"
   ]
  },
  {
   "cell_type": "markdown",
   "metadata": {},
   "source": [
    "## exec"
   ]
  },
  {
   "cell_type": "markdown",
   "metadata": {},
   "source": [
    "Değer döndüren ifadeleri `eval()` ile işletebiliriz, ama bir ifade (expression) olmayan, yani değer döndürmeyen komutları (söz gelişi, modül yükleme, fonksiyon tanımları, döngüler, atamalar vb.) çalıştırmak için `exec()` fonksiyonuna ihtiyacımız var.\n",
    "\n",
    "Örnek olarak, bir değişken ataması yapalım:"
   ]
  },
  {
   "cell_type": "code",
   "execution_count": 11,
   "metadata": {},
   "outputs": [
    {
     "data": {
      "text/plain": [
       "3.141592653589793"
      ]
     },
     "execution_count": 11,
     "metadata": {},
     "output_type": "execute_result"
    }
   ],
   "source": [
    "exec(\"\"\"\n",
    "import math\n",
    "x=math.pi\"\"\")\n",
    "x"
   ]
  },
  {
   "cell_type": "markdown",
   "metadata": {},
   "source": [
    "Bir formülde değişkene 0-9 arası değerler vererek bir tablo oluşturan bir kod yazalım."
   ]
  },
  {
   "cell_type": "code",
   "execution_count": 14,
   "metadata": {},
   "outputs": [
    {
     "name": "stdout",
     "output_type": "stream",
     "text": [
      "\n",
      "for x in range(10):\n",
      "    print(x, 1/(1+x) + x)\n"
     ]
    }
   ],
   "source": [
    "değişken = \"x\"\n",
    "formül = \"1/(1+x) + x\"\n",
    "kod = \"\"\"\n",
    "for {0} in range(10):\n",
    "    print({0}, {1})\"\"\".format(değişken, formül)\n",
    "print(kod)"
   ]
  },
  {
   "cell_type": "code",
   "execution_count": 15,
   "metadata": {},
   "outputs": [
    {
     "name": "stdout",
     "output_type": "stream",
     "text": [
      "0 1.0\n",
      "1 1.5\n",
      "2 2.3333333333333335\n",
      "3 3.25\n",
      "4 4.2\n",
      "5 5.166666666666667\n",
      "6 6.142857142857143\n",
      "7 7.125\n",
      "8 8.11111111111111\n",
      "9 9.1\n"
     ]
    }
   ],
   "source": [
    "exec(kod)"
   ]
  },
  {
   "cell_type": "markdown",
   "metadata": {},
   "source": [
    "Farkedeceğiniz gibi, `değişken`'in değeri `\"x\"` olduğu için formülde de `x` karakterini kullanmamız gerekiyor."
   ]
  },
  {
   "cell_type": "markdown",
   "metadata": {},
   "source": [
    "## Global ve yerel değişkenler"
   ]
  },
  {
   "cell_type": "markdown",
   "metadata": {},
   "source": [
    "`eval`/`exec` fonksiyonları, işletilecek kodu barındıran dizenin yanı sıra iki parametre daha alırlar: *globals* ve *locals*. Bu parametreler özellikle belirtilmezse, `eval`/`exec` kodunda yorumlayıcının o andaki durumunda tanımlanmış olan bütün isimler kullanılabilir.\n",
    "\n",
    "_Yerel_ değişkenler bir fonksiyon içinden tanımlı olan, o fonksiyonun dışında tanınmayan isimlerdir. _Global_ değişkenler ise bütün fonksiyonların erişebileceği değişkenlerdir. Yerel isimlere `locals()`, global isimlere ise `globals()` komutlarıyla ulaşılabilir. Bu komutlar değişken isimleriyle değerlerini eşleştiren birer sözlük döndürür."
   ]
  },
  {
   "cell_type": "code",
   "execution_count": 12,
   "metadata": {},
   "outputs": [
    {
     "name": "stdout",
     "output_type": "stream",
     "text": [
      "{'a': 10, 'x': 3}\n"
     ]
    }
   ],
   "source": [
    "def f(x):\n",
    "    a = 10\n",
    "    print(locals())\n",
    "\n",
    "f(3)"
   ]
  },
  {
   "cell_type": "markdown",
   "metadata": {},
   "source": [
    "`eval`/`exec` ile bir kod parçası çalıştırırken bu global ve yerel değişkenleri sınırlandırabiliriz. Bu fonksiyonların genel kullanımı şöyledir:\n",
    "\n",
    "    eval(source, globals=None, locals=None)\n",
    "    exec(source, globals=None, locals=None)\n",
    "\n",
    "Burada `globals` ve `locals` parametreleri için global ve yerel değişkenleri tutan birer sözlük koyabiliriz."
   ]
  },
  {
   "cell_type": "code",
   "execution_count": 13,
   "metadata": {},
   "outputs": [
    {
     "name": "stdout",
     "output_type": "stream",
     "text": [
      "{'abc': 17, 'xyz': 'Mehmet'}\n"
     ]
    }
   ],
   "source": [
    "exec(\"print(locals())\", None, {\"abc\": 17, \"xyz\": \"Mehmet\"})"
   ]
  },
  {
   "cell_type": "code",
   "execution_count": 14,
   "metadata": {},
   "outputs": [
    {
     "name": "stdout",
     "output_type": "stream",
     "text": [
      "{'__name__': '__main__', '__doc__': 'Automatically created module for IPython interactive environment', '__package__': None, '__loader__': None, '__spec__': None, '__builtin__': <module 'builtins' (built-in)>, '__builtins__': <module 'builtins' (built-in)>, '_ih': ['', 'eval(\"2**3 + 4*5\")', 'x = 5\\neval(\"2*x+4\")', 'eval(\"2*x+4\",{\"x\":10})', 'while(True):\\n    işlem = input(\"Bir işlem yazın: \")\\n    if işlem.strip().lower()==\"dur\": break\\n    print(eval(işlem))', 'list.append.__doc__', 'dir(list)', 'for metod in dir(list):\\n    if \"__\" not in metod:\\n        print(eval(\"list.\"+metod+\".__doc__\"))', 'exec(\"x=3.1415\")\\nx', 'değişken = \"x\" # Formülde kullanılacak değişken.\\nformül = input(\"Bir matematiksel formül yazın: \")\\nkod = \"\"\"\\nfor {0} in range(10):\\n    print({0}, {1})\"\"\".format(değişken, formül)\\nprint(kod)', 'exec(kod)', 'globals()', 'def f(x):\\n    a = 10\\n    print(locals())\\n\\nf(3)', 'exec(\"print(locals())\", None, {\"abc\": 17, \"xyz\": \"Mehmet\"})', 'exec(\"print(globals())\", None, {\"abc\": 17, \"xyz\": \"Mehmet\"})'], '_oh': {1: 28, 2: 14, 3: 24, 5: 'L.append(object) -> None -- append object to end', 6: ['__add__', '__class__', '__contains__', '__delattr__', '__delitem__', '__dir__', '__doc__', '__eq__', '__format__', '__ge__', '__getattribute__', '__getitem__', '__gt__', '__hash__', '__iadd__', '__imul__', '__init__', '__init_subclass__', '__iter__', '__le__', '__len__', '__lt__', '__mul__', '__ne__', '__new__', '__reduce__', '__reduce_ex__', '__repr__', '__reversed__', '__rmul__', '__setattr__', '__setitem__', '__sizeof__', '__str__', '__subclasshook__', 'append', 'clear', 'copy', 'count', 'extend', 'index', 'insert', 'pop', 'remove', 'reverse', 'sort'], 8: 3.1415, 11: {...}}, '_dh': ['/home/kaan/git/VeriDefteri/Python_Programlama'], 'In': ['', 'eval(\"2**3 + 4*5\")', 'x = 5\\neval(\"2*x+4\")', 'eval(\"2*x+4\",{\"x\":10})', 'while(True):\\n    işlem = input(\"Bir işlem yazın: \")\\n    if işlem.strip().lower()==\"dur\": break\\n    print(eval(işlem))', 'list.append.__doc__', 'dir(list)', 'for metod in dir(list):\\n    if \"__\" not in metod:\\n        print(eval(\"list.\"+metod+\".__doc__\"))', 'exec(\"x=3.1415\")\\nx', 'değişken = \"x\" # Formülde kullanılacak değişken.\\nformül = input(\"Bir matematiksel formül yazın: \")\\nkod = \"\"\"\\nfor {0} in range(10):\\n    print({0}, {1})\"\"\".format(değişken, formül)\\nprint(kod)', 'exec(kod)', 'globals()', 'def f(x):\\n    a = 10\\n    print(locals())\\n\\nf(3)', 'exec(\"print(locals())\", None, {\"abc\": 17, \"xyz\": \"Mehmet\"})', 'exec(\"print(globals())\", None, {\"abc\": 17, \"xyz\": \"Mehmet\"})'], 'Out': {1: 28, 2: 14, 3: 24, 5: 'L.append(object) -> None -- append object to end', 6: ['__add__', '__class__', '__contains__', '__delattr__', '__delitem__', '__dir__', '__doc__', '__eq__', '__format__', '__ge__', '__getattribute__', '__getitem__', '__gt__', '__hash__', '__iadd__', '__imul__', '__init__', '__init_subclass__', '__iter__', '__le__', '__len__', '__lt__', '__mul__', '__ne__', '__new__', '__reduce__', '__reduce_ex__', '__repr__', '__reversed__', '__rmul__', '__setattr__', '__setitem__', '__sizeof__', '__str__', '__subclasshook__', 'append', 'clear', 'copy', 'count', 'extend', 'index', 'insert', 'pop', 'remove', 'reverse', 'sort'], 8: 3.1415, 11: {...}}, 'get_ipython': <bound method InteractiveShell.get_ipython of <ipykernel.zmqshell.ZMQInteractiveShell object at 0x7f9d822f7b70>>, 'exit': <IPython.core.autocall.ZMQExitAutocall object at 0x7f9d80260630>, 'quit': <IPython.core.autocall.ZMQExitAutocall object at 0x7f9d80260630>, '_': {...}, '__': 3.1415, '___': ['__add__', '__class__', '__contains__', '__delattr__', '__delitem__', '__dir__', '__doc__', '__eq__', '__format__', '__ge__', '__getattribute__', '__getitem__', '__gt__', '__hash__', '__iadd__', '__imul__', '__init__', '__init_subclass__', '__iter__', '__le__', '__len__', '__lt__', '__mul__', '__ne__', '__new__', '__reduce__', '__reduce_ex__', '__repr__', '__reversed__', '__rmul__', '__setattr__', '__setitem__', '__sizeof__', '__str__', '__subclasshook__', 'append', 'clear', 'copy', 'count', 'extend', 'index', 'insert', 'pop', 'remove', 'reverse', 'sort'], '_i': 'exec(\"print(locals())\", None, {\"abc\": 17, \"xyz\": \"Mehmet\"})', '_ii': 'def f(x):\\n    a = 10\\n    print(locals())\\n\\nf(3)', '_iii': 'globals()', '_i1': 'eval(\"2**3 + 4*5\")', '_1': 28, '_i2': 'x = 5\\neval(\"2*x+4\")', 'x': 9, '_2': 14, '_i3': 'eval(\"2*x+4\",{\"x\":10})', '_3': 24, '_i4': 'while(True):\\n    işlem = input(\"Bir işlem yazın: \")\\n    if işlem.strip().lower()==\"dur\": break\\n    print(eval(işlem))', 'işlem': 'dur', '_i5': 'list.append.__doc__', '_5': 'L.append(object) -> None -- append object to end', '_i6': 'dir(list)', '_6': ['__add__', '__class__', '__contains__', '__delattr__', '__delitem__', '__dir__', '__doc__', '__eq__', '__format__', '__ge__', '__getattribute__', '__getitem__', '__gt__', '__hash__', '__iadd__', '__imul__', '__init__', '__init_subclass__', '__iter__', '__le__', '__len__', '__lt__', '__mul__', '__ne__', '__new__', '__reduce__', '__reduce_ex__', '__repr__', '__reversed__', '__rmul__', '__setattr__', '__setitem__', '__sizeof__', '__str__', '__subclasshook__', 'append', 'clear', 'copy', 'count', 'extend', 'index', 'insert', 'pop', 'remove', 'reverse', 'sort'], '_i7': 'for metod in dir(list):\\n    if \"__\" not in metod:\\n        print(eval(\"list.\"+metod+\".__doc__\"))', 'metod': 'sort', '_i8': 'exec(\"x=3.1415\")\\nx', '_8': 3.1415, '_i9': 'değişken = \"x\" # Formülde kullanılacak değişken.\\nformül = input(\"Bir matematiksel formül yazın: \")\\nkod = \"\"\"\\nfor {0} in range(10):\\n    print({0}, {1})\"\"\".format(değişken, formül)\\nprint(kod)', 'değişken': 'x', 'formül': '2*x**3-10', 'kod': '\\nfor x in range(10):\\n    print(x, 2*x**3-10)', '_i10': 'exec(kod)', '_i11': 'globals()', '_11': {...}, '_i12': 'def f(x):\\n    a = 10\\n    print(locals())\\n\\nf(3)', 'f': <function f at 0x7f9d80165d08>, '_i13': 'exec(\"print(locals())\", None, {\"abc\": 17, \"xyz\": \"Mehmet\"})', '_i14': 'exec(\"print(globals())\", None, {\"abc\": 17, \"xyz\": \"Mehmet\"})'}\n"
     ]
    }
   ],
   "source": [
    "exec(\"print(globals())\", None, {\"abc\": 17, \"xyz\": \"Mehmet\"})"
   ]
  },
  {
   "cell_type": "markdown",
   "metadata": {},
   "source": [
    "_globals_ yerine boş bir sözlük koyarsak, sadece Python'da tanımlanmış (built-in) isimlere erişilebilir sadece"
   ]
  },
  {
   "cell_type": "code",
   "execution_count": 15,
   "metadata": {},
   "outputs": [
    {
     "name": "stdout",
     "output_type": "stream",
     "text": [
      "{'__builtins__': {'__name__': 'builtins', '__doc__': \"Built-in functions, exceptions, and other objects.\\n\\nNoteworthy: None is the `nil' object; Ellipsis represents `...' in slices.\", '__package__': '', '__loader__': <class '_frozen_importlib.BuiltinImporter'>, '__spec__': ModuleSpec(name='builtins', loader=<class '_frozen_importlib.BuiltinImporter'>), '__build_class__': <built-in function __build_class__>, '__import__': <built-in function __import__>, 'abs': <built-in function abs>, 'all': <built-in function all>, 'any': <built-in function any>, 'ascii': <built-in function ascii>, 'bin': <built-in function bin>, 'callable': <built-in function callable>, 'chr': <built-in function chr>, 'compile': <built-in function compile>, 'delattr': <built-in function delattr>, 'dir': <built-in function dir>, 'divmod': <built-in function divmod>, 'eval': <built-in function eval>, 'exec': <built-in function exec>, 'format': <built-in function format>, 'getattr': <built-in function getattr>, 'globals': <built-in function globals>, 'hasattr': <built-in function hasattr>, 'hash': <built-in function hash>, 'hex': <built-in function hex>, 'id': <built-in function id>, 'input': <bound method Kernel.raw_input of <ipykernel.ipkernel.IPythonKernel object at 0x7f9d822f7f28>>, 'isinstance': <built-in function isinstance>, 'issubclass': <built-in function issubclass>, 'iter': <built-in function iter>, 'len': <built-in function len>, 'locals': <built-in function locals>, 'max': <built-in function max>, 'min': <built-in function min>, 'next': <built-in function next>, 'oct': <built-in function oct>, 'ord': <built-in function ord>, 'pow': <built-in function pow>, 'print': <built-in function print>, 'repr': <built-in function repr>, 'round': <built-in function round>, 'setattr': <built-in function setattr>, 'sorted': <built-in function sorted>, 'sum': <built-in function sum>, 'vars': <built-in function vars>, 'None': None, 'Ellipsis': Ellipsis, 'NotImplemented': NotImplemented, 'False': False, 'True': True, 'bool': <class 'bool'>, 'memoryview': <class 'memoryview'>, 'bytearray': <class 'bytearray'>, 'bytes': <class 'bytes'>, 'classmethod': <class 'classmethod'>, 'complex': <class 'complex'>, 'dict': <class 'dict'>, 'enumerate': <class 'enumerate'>, 'filter': <class 'filter'>, 'float': <class 'float'>, 'frozenset': <class 'frozenset'>, 'property': <class 'property'>, 'int': <class 'int'>, 'list': <class 'list'>, 'map': <class 'map'>, 'object': <class 'object'>, 'range': <class 'range'>, 'reversed': <class 'reversed'>, 'set': <class 'set'>, 'slice': <class 'slice'>, 'staticmethod': <class 'staticmethod'>, 'str': <class 'str'>, 'super': <class 'super'>, 'tuple': <class 'tuple'>, 'type': <class 'type'>, 'zip': <class 'zip'>, '__debug__': True, 'BaseException': <class 'BaseException'>, 'Exception': <class 'Exception'>, 'TypeError': <class 'TypeError'>, 'StopAsyncIteration': <class 'StopAsyncIteration'>, 'StopIteration': <class 'StopIteration'>, 'GeneratorExit': <class 'GeneratorExit'>, 'SystemExit': <class 'SystemExit'>, 'KeyboardInterrupt': <class 'KeyboardInterrupt'>, 'ImportError': <class 'ImportError'>, 'ModuleNotFoundError': <class 'ModuleNotFoundError'>, 'OSError': <class 'OSError'>, 'EnvironmentError': <class 'OSError'>, 'IOError': <class 'OSError'>, 'EOFError': <class 'EOFError'>, 'RuntimeError': <class 'RuntimeError'>, 'RecursionError': <class 'RecursionError'>, 'NotImplementedError': <class 'NotImplementedError'>, 'NameError': <class 'NameError'>, 'UnboundLocalError': <class 'UnboundLocalError'>, 'AttributeError': <class 'AttributeError'>, 'SyntaxError': <class 'SyntaxError'>, 'IndentationError': <class 'IndentationError'>, 'TabError': <class 'TabError'>, 'LookupError': <class 'LookupError'>, 'IndexError': <class 'IndexError'>, 'KeyError': <class 'KeyError'>, 'ValueError': <class 'ValueError'>, 'UnicodeError': <class 'UnicodeError'>, 'UnicodeEncodeError': <class 'UnicodeEncodeError'>, 'UnicodeDecodeError': <class 'UnicodeDecodeError'>, 'UnicodeTranslateError': <class 'UnicodeTranslateError'>, 'AssertionError': <class 'AssertionError'>, 'ArithmeticError': <class 'ArithmeticError'>, 'FloatingPointError': <class 'FloatingPointError'>, 'OverflowError': <class 'OverflowError'>, 'ZeroDivisionError': <class 'ZeroDivisionError'>, 'SystemError': <class 'SystemError'>, 'ReferenceError': <class 'ReferenceError'>, 'BufferError': <class 'BufferError'>, 'MemoryError': <class 'MemoryError'>, 'Warning': <class 'Warning'>, 'UserWarning': <class 'UserWarning'>, 'DeprecationWarning': <class 'DeprecationWarning'>, 'PendingDeprecationWarning': <class 'PendingDeprecationWarning'>, 'SyntaxWarning': <class 'SyntaxWarning'>, 'RuntimeWarning': <class 'RuntimeWarning'>, 'FutureWarning': <class 'FutureWarning'>, 'ImportWarning': <class 'ImportWarning'>, 'UnicodeWarning': <class 'UnicodeWarning'>, 'BytesWarning': <class 'BytesWarning'>, 'ResourceWarning': <class 'ResourceWarning'>, 'ConnectionError': <class 'ConnectionError'>, 'BlockingIOError': <class 'BlockingIOError'>, 'BrokenPipeError': <class 'BrokenPipeError'>, 'ChildProcessError': <class 'ChildProcessError'>, 'ConnectionAbortedError': <class 'ConnectionAbortedError'>, 'ConnectionRefusedError': <class 'ConnectionRefusedError'>, 'ConnectionResetError': <class 'ConnectionResetError'>, 'FileExistsError': <class 'FileExistsError'>, 'FileNotFoundError': <class 'FileNotFoundError'>, 'IsADirectoryError': <class 'IsADirectoryError'>, 'NotADirectoryError': <class 'NotADirectoryError'>, 'InterruptedError': <class 'InterruptedError'>, 'PermissionError': <class 'PermissionError'>, 'ProcessLookupError': <class 'ProcessLookupError'>, 'TimeoutError': <class 'TimeoutError'>, 'open': <built-in function open>, 'copyright': Copyright (c) 2001-2017 Python Software Foundation.\n",
      "All Rights Reserved.\n",
      "\n",
      "Copyright (c) 2000 BeOpen.com.\n",
      "All Rights Reserved.\n",
      "\n",
      "Copyright (c) 1995-2001 Corporation for National Research Initiatives.\n",
      "All Rights Reserved.\n",
      "\n",
      "Copyright (c) 1991-1995 Stichting Mathematisch Centrum, Amsterdam.\n",
      "All Rights Reserved., 'credits':     Thanks to CWI, CNRI, BeOpen.com, Zope Corporation and a cast of thousands\n",
      "    for supporting Python development.  See www.python.org for more information., 'license': Type license() to see the full license text, 'help': Type help() for interactive help, or help(object) for help about object., '__IPYTHON__': True, 'display': <function display at 0x7f9d893481e0>, 'get_ipython': <bound method InteractiveShell.get_ipython of <ipykernel.zmqshell.ZMQInteractiveShell object at 0x7f9d822f7b70>>}}\n"
     ]
    }
   ],
   "source": [
    "exec(\"print(globals())\", {}, {\"abc\": 17, \"xyz\": \"Mehmet\"})"
   ]
  },
  {
   "cell_type": "markdown",
   "metadata": {},
   "source": [
    "Bunlara bile erişimi kapatmamız mümkündür, aşağıdaki bölümde göreceğimiz gibi."
   ]
  },
  {
   "cell_type": "markdown",
   "metadata": {},
   "source": [
    "## Güvenlik"
   ]
  },
  {
   "cell_type": "markdown",
   "metadata": {},
   "source": [
    "Dışarıdan alınan bir kodu çalıştırmak her zaman risklidir. `exec()` ve `eval()` fonksiyonlarının bilgisayarınıza bir kapı açtığını unutmayın.\n",
    "\n",
    "Tehlikeyi örneklemek için, yukarıdaki örneği tekrar ele alalım. Siz bir formül beklerken, kötü niyetli bir kullanıcı işletim sisteminizi yönetecek bir komutu bu formülle beraber verebilir. Meselâ, formül sorulduğunda\n",
    "\n",
    "    'x); import os; os.system(\"touch hello.world\");(0,\n",
    "dizesinin verildiğini varsayalım."
   ]
  },
  {
   "cell_type": "code",
   "execution_count": 16,
   "metadata": {},
   "outputs": [],
   "source": [
    "değişken = \"x\" # Formülde kullanılacak değişken.\n",
    "formül = 'x); import os; os.system(\"touch hello.world\");(0,'\n",
    "kod = \"\"\"\n",
    "for {0} in range(10):\n",
    "    print({0}, {1})\"\"\".format(değişken, formül)"
   ]
  },
  {
   "cell_type": "markdown",
   "metadata": {},
   "source": [
    "Bu girdi sonucunda çalıştırılacak kod şöyle olur:"
   ]
  },
  {
   "cell_type": "code",
   "execution_count": 17,
   "metadata": {},
   "outputs": [
    {
     "name": "stdout",
     "output_type": "stream",
     "text": [
      "\n",
      "for x in range(10):\n",
      "    print(x, x); import os; os.system(\"touch hello.world\");(0,)\n"
     ]
    }
   ],
   "source": [
    "print(kod)"
   ]
  },
  {
   "cell_type": "markdown",
   "metadata": {},
   "source": [
    "Burada kötü niyetli kullanıcı beklenen formülü verdikten sonra parantezi kapatmış ve işletim sistemine yönelik komutlar eklemiş. (Sondaki `(0,` kısmı, kalıpta bulunan sağ parantezin sentaks hatası vermemesi için, onu etkisiz eleman haline dönüştürüyor.) \n",
    "\n",
    "Bu kodu `exec(kod)` ile çalıştırdığınızda ekrana sayılar tablosu çıkmasının yanı sıra, bu programı çalıştırdığınız dizinin altında _hello.world_ isimli boş bir dosya yaratıldığını göreceksiniz (Linux kullanıyorsanız). Yani program işletim sisteminize erişebildi. Kötü niyetli bir saldırgan aynı yöntemle diskinizi silebilir, şifrelerinizi çalabilir, virüs yerleştirebilir.\n",
    "\n",
    "Bu risklere karşı alınabilecek kısmi tedbirler vardır. En yaygın olanı, `exec`'in çalıştığı sanal ortamdaki değişkenleri, _globals_ ve _locals_ parametreleri kullanarak düzenlemektir. Sözgelişi aşağıda, _globals_ parametresi olarak `{\"__builtins__\":None}` vermekle Python'un öntanımlı fonksiyonlarını kapatırız. Böylelikle `import` ile bir modül yüklenmesini ve işletim sistemine ulaşılmasını engelleriz. Bu işlem `range` ve `print` fonksiyonlarını da kapatır, o yüzden _locals_ parametresine bunların tanımlarını içeren bir sözlük veririz."
   ]
  },
  {
   "cell_type": "code",
   "execution_count": 18,
   "metadata": {},
   "outputs": [
    {
     "name": "stdout",
     "output_type": "stream",
     "text": [
      "0 0\n"
     ]
    },
    {
     "ename": "ImportError",
     "evalue": "__import__ not found",
     "output_type": "error",
     "traceback": [
      "\u001b[0;31m---------------------------------------------------------------------------\u001b[0m",
      "\u001b[0;31mImportError\u001b[0m                               Traceback (most recent call last)",
      "\u001b[0;32m<ipython-input-18-d4573d593261>\u001b[0m in \u001b[0;36m<module>\u001b[0;34m()\u001b[0m\n\u001b[0;32m----> 1\u001b[0;31m \u001b[0mexec\u001b[0m\u001b[0;34m(\u001b[0m\u001b[0mkod\u001b[0m\u001b[0;34m,\u001b[0m \u001b[0;34m{\u001b[0m\u001b[0;34m\"__builtins__\"\u001b[0m\u001b[0;34m:\u001b[0m\u001b[0;32mNone\u001b[0m\u001b[0;34m}\u001b[0m\u001b[0;34m,\u001b[0m \u001b[0;34m{\u001b[0m\u001b[0;34m\"range\"\u001b[0m\u001b[0;34m:\u001b[0m\u001b[0mrange\u001b[0m\u001b[0;34m,\u001b[0m \u001b[0;34m\"print\"\u001b[0m\u001b[0;34m:\u001b[0m\u001b[0mprint\u001b[0m\u001b[0;34m}\u001b[0m\u001b[0;34m)\u001b[0m\u001b[0;34m\u001b[0m\u001b[0m\n\u001b[0m",
      "\u001b[0;32m<string>\u001b[0m in \u001b[0;36m<module>\u001b[0;34m()\u001b[0m\n",
      "\u001b[0;31mImportError\u001b[0m: __import__ not found"
     ]
    }
   ],
   "source": [
    "exec(kod, {\"__builtins__\":None}, {\"range\":range, \"print\":print})"
   ]
  },
  {
   "cell_type": "markdown",
   "metadata": {},
   "source": [
    "Bu yeni düzende `import` fonksiyonu tanınmadığı için `exec()` çağrısı bir hata verdi ve sızma engellendi. Aynı kodu beklenen şekilde bir girdiyle çalıştırdığınızda ise sorun yaşamazsınız. \n",
    "\n",
    "Matematik kütüphanesindeki fonksiyonları kullanan işlemler yapmak istiyorsanız, gereken fonksiyonlardan oluşan bir \"beyaz liste\" oluşturabilirsiniz."
   ]
  },
  {
   "cell_type": "code",
   "execution_count": 19,
   "metadata": {},
   "outputs": [],
   "source": [
    "değişken = \"x\" # Formülde kullanılacak değişken.\n",
    "formül = \"x * sqrt(x+1)/log(x+2)\"\n",
    "kod = \"\"\"\n",
    "for {0} in range(10):\n",
    "    print({0}, {1})\"\"\".format(değişken, formül)"
   ]
  },
  {
   "cell_type": "code",
   "execution_count": 20,
   "metadata": {},
   "outputs": [
    {
     "name": "stdout",
     "output_type": "stream",
     "text": [
      "0 0.0\n",
      "1 1.2872726592996706\n",
      "2 2.4988211106473432\n",
      "3 3.728009607357671\n",
      "4 4.991893199734352\n",
      "5 6.293943592339911\n",
      "6 7.6340245917967176\n",
      "7 9.010908615097694\n",
      "8 10.423067565678043\n",
      "9 11.868949934707404\n"
     ]
    }
   ],
   "source": [
    "import math\n",
    "exec(kod, {\"__builtins__\":None}, {\"range\":range, \"print\":print, \"sqrt\":math.sqrt, \"log\":math.log})"
   ]
  },
  {
   "cell_type": "markdown",
   "metadata": {},
   "source": [
    "Kendi kullanacağınız programlar veya bir masaüstü uygulaması için fazla endişe etmek gerekmeyebilir. Yanlış veya kötü niyetli bir kullanım sadece kullanıcıya zarar verecektir. Ama bir web uygulaması yazıyorsanız güvenliğe çok daha fazla dikkat etmelisiniz. Bu, daha derin bir uzmanlık gerektirir.\n",
    "\n",
    "------\n",
    "Özetle, dinamik olarak üretilen bir kodu işletmek için `exec`/`eval` kullanabilirsiniz. Bunun yararlı olduğu çeşitli durumlar vardır. Söz gelişi, Python sentaksıyla yazılmış bir dizeyi doğrudan alıp işletmek gibi.\n",
    "\n",
    "`exec`/`eval` ilk bakışta çok hoş görünseler de çok sık kullanılmamalıdırlar, bazı sakıncaları vardır.\n",
    "\n",
    "* Kodu okumayı zorlaştırır. Programcı kaynak koduna ek olarak, çalıştırılmak üzere alınacak kodun ne olduğunu da bilmelidir.\n",
    "* Kodu test etmeyi, hataları bulmayı zorlaştırır.\n",
    "* Güvenlik açığı oluşturur.\n",
    "\n",
    "`exec`/`eval` fonksiyonlarının işe yaradığı durumlar vardır, ama probleminizi önce başka yaklaşımlarla çözmeye çalışın."
   ]
  }
 ],
 "metadata": {
  "kernelspec": {
   "display_name": "Python 3",
   "language": "python",
   "name": "python3"
  },
  "language_info": {
   "codemirror_mode": {
    "name": "ipython",
    "version": 3
   },
   "file_extension": ".py",
   "mimetype": "text/x-python",
   "name": "python",
   "nbconvert_exporter": "python",
   "pygments_lexer": "ipython3",
   "version": "3.10.11"
  }
 },
 "nbformat": 4,
 "nbformat_minor": 2
}
