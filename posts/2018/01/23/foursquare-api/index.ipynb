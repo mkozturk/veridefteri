{
 "cells": [
  {
   "cell_type": "raw",
   "metadata": {},
   "source": [
    "---\n",
    "title: Foursquare API\n",
    "author: Birol Yüceoğlu\n",
    "date: 2018-01-23\n",
    "categories:\n",
    "    - Başlangıç\n",
    "    - Genel\n",
    "    - veri setleri\n",
    "image: 059a2-map-1272165_640.png\n",
    "---"
   ]
  },
  {
   "cell_type": "markdown",
   "metadata": {},
   "source": [
    "İnternet üzerindeki açık veri kaynakları, bu verileri kullanan uygulamalar geliştirmek isteyenler ya da üzerinde çalıştıkları problemlere farklı alanlardan derledikleri verileri de katmak isteyenler için birçok imkan sunuyor. Örnek olarak Twitter üzerindeki tweetleri kullanarak duygu analizi yapmak ya da hava durumu, hisse senedi fiyatları gibi verileri de analizinize katmak açık veri kaynakları sayesinde mümkün.\n",
    "\n",
    "İlker, [Star Wars](http://www.veridefteri.com/2017/12/13/veri-defteri-ben-seviyor-cok/) filmlerinin verisi kullanılarak hazırlanmış bir uygulama ara yüzünden (Application Programming Interface, API) bahsetmişti. Bu yazıda benzer bir uygulamayı Foursquare API'ı üzerinden yapacağız.\n",
    "\n",
    "Bildiğiniz gibi, Foursquare konum temelli arama yapmanızı sağlayan ve istediğiniz konularda (restoran, ziyaret edilecek yerler) tavsiyeler alabileceğiniz bir servis. Konum temelli uygulamalar geliştirmek ya da konuma bağlı sorularınıza cevap aramak için Foursquare üzerindeki verilerden yararlanabilirsiniz.\n",
    "\n",
    "Foursquare API'ını kullanmak için ilk yapmamız gereken [Foursquare](https://developer.foursquare.com/) üzerinden bir geliştirici (developer) hesabı açmak. Geliştirici hesabı üzerinden 'Yeni bir uygulama oluştur'a girerek uygulamanızın detaylarını oluşturabilirsiniz.\n",
    "\n",
    "![](uygulama.PNG)"
   ]
  },
  {
   "cell_type": "markdown",
   "metadata": {},
   "source": [
    "Uygulamanız için bir isim ve web sayfası girmeniz gerekiyor.\n",
    "\n",
    "![](uygulamaolustur.PNG)"
   ]
  },
  {
   "cell_type": "markdown",
   "metadata": {},
   "source": [
    "Bir sonraki aşamada hesap tipini seçmelisiniz. Ben deneme amacıyla 'Sandbox' tipi bir hesap kullandım. 'Sandbox' hesabının kötü yanı günlük 1000 adet sorguyla kısıtlı olması. Hesabınızı doğrulatarak, ücretsiz olarak 'Personal' tipi bir hesap açabilir ve daha fazla sorgulama yapabilirsiniz.\n",
    "\n",
    "![](hesap.PNG)"
   ]
  },
  {
   "cell_type": "markdown",
   "metadata": {},
   "source": [
    "Hesap tipini seçtikten sonra, Foursquare size 'Client ID' ve 'Client Secret' adlı iki anahtar sağlayacak. Bu anahtarlar API ile haberleşmenize olanak verecek kişisel bilgilerinizdir. Bu nedenle aşağıdaki dosyada bu anahtarları gizledim.\n",
    "\n",
    "![](anahtar.PNG)"
   ]
  },
  {
   "cell_type": "markdown",
   "metadata": {},
   "source": [
    "Bu işlemleri yaptıktan sonra artık API'ı kullanabilirsiniz. Kayıt için gerekli adımları [FourSquare API dokümanında](https://developer.foursquare.com/docs/api/getting-started) bulabilirsiniz. API'ı kullanmak için ilk olarak 'Client ID' ve 'Client Secret' anahtarlarını tanıtıyoruz. Anahtarları aşağıda da gizledim."
   ]
  },
  {
   "cell_type": "code",
   "execution_count": 5,
   "metadata": {
    "collapsed": true
   },
   "outputs": [],
   "source": [
    "client_id = 'EP3...............'\n",
    "client_secret = 'YYG...............'"
   ]
  },
  {
   "cell_type": "markdown",
   "metadata": {},
   "source": [
    "Artık API'ı kullanmaya hazırız. Daha önce [Star Wars](http://www.veridefteri.com/2017/12/13/veri-defteri-ben-seviyor-cok/) API'nda olduğu gibi Foursquare API'ndan çekeceğimiz veri de JSON formatında. Yani veri *alan anahtarı: değer* şeklinde ikililer olarak tutuluyor. Süslü parantezler yardımıyla iç içe geçmiş bir yapı kurmak da mümkün. JSON formatı Kaan'ın [yazısında](http://www.veridefteri.com/2017/12/11/python-programlamaya-giris-sayilar-aritmetik-temel-veri-yapilari/) değindiği Python sözlükleri ile aynı yapıda.\n",
    "\n",
    "İlk olarak mekan aramayı deneyelim. Veriler JSON formatında olduğu için `json` paketini ve API'a sorgu göndermek için de `requests` paketini kullanacağız. Aşağıdaki örnekte Ayasofya'yı bularak başlayalım."
   ]
  },
  {
   "cell_type": "code",
   "execution_count": 6,
   "metadata": {},
   "outputs": [
    {
     "name": "stdout",
     "output_type": "stream",
     "text": [
      "{\n",
      "    \"meta\": {\n",
      "        \"code\": 400,\n",
      "        \"errorType\": \"param_error\",\n",
      "        \"errorDetail\": \"Must provide parameter ll\",\n",
      "        \"requestId\": \"5a634a4b9fb6b764642942b1\"\n",
      "    },\n",
      "    \"response\": {}\n",
      "}\n"
     ]
    }
   ],
   "source": [
    "# API'a sorgu göndermek için requests paketini kullanıyoruz.\n",
    "import requests\n",
    "# JSON formatındaki verileri almak ve yazdırmak için json paketine ihtiyacımız var.  \n",
    "import json\n",
    "\n",
    "# Arama yapmak istediğimiz için aşağıdaki URL'yi kullanıyoruz. Arama dışındaki örneklerde URL değişecek.\n",
    "url = 'https://api.foursquare.com/v2/venues/search'\n",
    "\n",
    "# Sorgu parametrelerini tanımlayalım. \n",
    "\"\"\"\n",
    "client_id ve client_secret kendimizi Foursquare'e tanımlamak için kullandığımız anahtarlar.\n",
    "v değeri API'ın hangi versiyonunu kullandığımızı gösteriyor ve zorunlu bir alan.\n",
    "query değeri de yapmak istediğimiz sorgunun arama kelimesi\n",
    "\"\"\"\n",
    "params = dict(\n",
    "  client_id=client_id,\n",
    "  client_secret=client_secret,\n",
    "  v='20170801',\n",
    "  query='Ayasofya'\n",
    ")\n",
    "resp = requests.get(url=url, params=params)\n",
    "data = json.loads(resp.text)\n",
    "print(json.dumps(data,indent = 4))"
   ]
  },
  {
   "cell_type": "markdown",
   "metadata": {},
   "source": [
    "Kodumuz çalıştı gibi görünse de aslında bir hata aldık. Arama yaparken arama yaptığımız yaklaşık yeri de vermemiz gerekiyor. Bunu yapmanın iki yolu var. `ll` ile bir yer koordinatı verebiliriz (Tarihi yarımada yaklaşık olarak 41.01 enleminde ve 28.97 boylamında) ya da `near` ile bulunduğu bölge hakkında bir ipucu verebiliriz. Ben, ayrıca, döndürülen sonuç sayısını limitlemeyi tercih ettim. Bu sayede karşımıza tek bir sonuç çıkacak ve adında Ayasofya olan diğer yerlerin de veri setinde yer almasını engelleyeceğiz."
   ]
  },
  {
   "cell_type": "code",
   "execution_count": 7,
   "metadata": {},
   "outputs": [
    {
     "name": "stdout",
     "output_type": "stream",
     "text": [
      "{\n",
      "    \"meta\": {\n",
      "        \"code\": 200,\n",
      "        \"requestId\": \"5a634a4bf594df01e978d8db\"\n",
      "    },\n",
      "    \"response\": {\n",
      "        \"venues\": [\n",
      "            {\n",
      "                \"id\": \"4bc8088f15a7ef3b6b857ada\",\n",
      "                \"name\": \"Ayasofya | Hagia Sophia (Ayasofya)\",\n",
      "                \"contact\": {\n",
      "                    \"phone\": \"+902125221750\",\n",
      "                    \"formattedPhone\": \"+90 212 522 17 50\"\n",
      "                },\n",
      "                \"location\": {\n",
      "                    \"address\": \"Ayasofya Myd. Sultanahmet\",\n",
      "                    \"lat\": 41.0082839956457,\n",
      "                    \"lng\": 28.979008518719493,\n",
      "                    \"distance\": 780,\n",
      "                    \"postalCode\": \"34122\",\n",
      "                    \"cc\": \"TR\",\n",
      "                    \"city\": \"Fatih\",\n",
      "                    \"state\": \"İstanbul\",\n",
      "                    \"country\": \"Türkiye\",\n",
      "                    \"formattedAddress\": [\n",
      "                        \"Ayasofya Myd. Sultanahmet\",\n",
      "                        \"34122 Fatih\",\n",
      "                        \"Türkiye\"\n",
      "                    ]\n",
      "                },\n",
      "                \"categories\": [\n",
      "                    {\n",
      "                        \"id\": \"4bf58dd8d48988d190941735\",\n",
      "                        \"name\": \"History Museum\",\n",
      "                        \"pluralName\": \"History Museums\",\n",
      "                        \"shortName\": \"History Museum\",\n",
      "                        \"icon\": {\n",
      "                            \"prefix\": \"https://ss3.4sqi.net/img/categories_v2/arts_entertainment/museum_history_\",\n",
      "                            \"suffix\": \".png\"\n",
      "                        },\n",
      "                        \"primary\": true\n",
      "                    }\n",
      "                ],\n",
      "                \"verified\": true,\n",
      "                \"stats\": {\n",
      "                    \"checkinsCount\": 224502,\n",
      "                    \"usersCount\": 184348,\n",
      "                    \"tipCount\": 1149\n",
      "                },\n",
      "                \"url\": \"http://ayasofyamuzesi.gov.tr\",\n",
      "                \"allowMenuUrlEdit\": true,\n",
      "                \"beenHere\": {\n",
      "                    \"lastCheckinExpiredAt\": 0\n",
      "                },\n",
      "                \"specials\": {\n",
      "                    \"count\": 0,\n",
      "                    \"items\": []\n",
      "                },\n",
      "                \"venuePage\": {\n",
      "                    \"id\": \"81118933\"\n",
      "                },\n",
      "                \"hereNow\": {\n",
      "                    \"count\": 36,\n",
      "                    \"summary\": \"36 people are here\",\n",
      "                    \"groups\": [\n",
      "                        {\n",
      "                            \"type\": \"others\",\n",
      "                            \"name\": \"Other people here\",\n",
      "                            \"count\": 36,\n",
      "                            \"items\": []\n",
      "                        }\n",
      "                    ]\n",
      "                },\n",
      "                \"referralId\": \"v-1516456523\",\n",
      "                \"venueChains\": [],\n",
      "                \"hasPerk\": false\n",
      "            }\n",
      "        ]\n",
      "    }\n",
      "}\n"
     ]
    }
   ],
   "source": [
    "\"\"\"\n",
    "ll değeri enlem ve boylam cinsinden aramak istediğimiz yeri belirtiyor ve tarihi yarımadanın koordinatlarına denk geliyor.\n",
    "limit değeriyle tek bir sonuç döndürmeyi tercih ettik.\n",
    "\"\"\"\n",
    "params = dict(\n",
    "  client_id=client_id,\n",
    "  client_secret=client_secret,\n",
    "  v='20170801',\n",
    "  ll=\"41.01,28.97\",\n",
    "  query='Ayasofya',\n",
    "  limit=1\n",
    ")\n",
    "resp = requests.get(url=url, params=params)\n",
    "data = json.loads(resp.text)\n",
    "print(json.dumps(data,indent = 4, ensure_ascii= False))"
   ]
  },
  {
   "cell_type": "markdown",
   "metadata": {},
   "source": [
    "Veri setinde `reponse` anahtarının altında sorgulamamızla ilişkili sonuçlara erişebiliriz. Sonucun altında koyduğumuz limit sayesinde tek bir mekan (`venues`) bulunmakta. Burada önemli olan anahtarlar:\n",
    "\n",
    "| Anahtar       | Anlam                            |               Değer              |\n",
    "|:------------- |:---------------------------------|:---------------------------------|\n",
    "| id            | Mekanın belirteci                | 4bc8088f15a7ef3b6b857ada         |\n",
    "| name          | Mekanın adı                      | Ayasofya Hagia Sophia (Ayasofya) |\n",
    "| lat           | Boylamı                          | 41.00824813964318                |\n",
    "| lng           | Enlemi                           | 28.978616263778942               |\n",
    "| distance      | Aradığımız koordinatlara uzaklık | 749 metre                        |\n",
    "| checkinsCount | Check-in sayısı                  | 223738                           |\n",
    "| usersCount    | Kullanıcı sayısı                 | 183768                           |\n",
    "| tipCount      | Tavsiye sayısı                   | 1147                             |\n",
    "\n",
    "Ayasofya'nın Foursquare [sayfasını](https://tr.foursquare.com/v/ayasofya--hagia-sophia/4bc8088f15a7ef3b6b857ada) ziyaret ederek yukarıdaki değerleri kontrol edebilirsiniz. Özellikle check-in sayısı, kullanıcı sayısı, tavsiye sayısı ve tavsiyeler konumların popülerliği hakında ipucu verecek bilgiler.\n",
    "\n",
    "Bir diğer arama yöntemi olarak da Paris yakınındaki Eyfel Kulesi'ni arayalım. Bu sefer koordinat vermek yerine yaklaşık yeri belirteceğiz (`near = \"Paris\"`)"
   ]
  },
  {
   "cell_type": "code",
   "execution_count": 8,
   "metadata": {
    "scrolled": false
   },
   "outputs": [
    {
     "name": "stdout",
     "output_type": "stream",
     "text": [
      "[\n",
      "    {\n",
      "        \"id\": \"51a2445e5019c80b56934c75\",\n",
      "        \"name\": \"Tour Eiffel\",\n",
      "        \"contact\": {\n",
      "            \"phone\": \"+33892701239\",\n",
      "            \"formattedPhone\": \"+33 892 70 12 39\",\n",
      "            \"twitter\": \"latoureiffel\",\n",
      "            \"instagram\": \"toureiffelofficielle\",\n",
      "            \"facebook\": \"141184112585566\",\n",
      "            \"facebookUsername\": \"TourEiffel\",\n",
      "            \"facebookName\": \"Tour Eiffel\"\n",
      "        },\n",
      "        \"location\": {\n",
      "            \"address\": \"5 avenue Anatole France\",\n",
      "            \"crossStreet\": \"Parc du Champ-de-Mars\",\n",
      "            \"lat\": 48.858249354605626,\n",
      "            \"lng\": 2.2944259643554683,\n",
      "            \"labeledLatLngs\": [\n",
      "                {\n",
      "                    \"label\": \"display\",\n",
      "                    \"lat\": 48.858249354605626,\n",
      "                    \"lng\": 2.2944259643554683\n",
      "                }\n",
      "            ],\n",
      "            \"postalCode\": \"75007\",\n",
      "            \"cc\": \"FR\",\n",
      "            \"city\": \"Paris\",\n",
      "            \"state\": \"Île-de-France\",\n",
      "            \"country\": \"France\",\n",
      "            \"formattedAddress\": [\n",
      "                \"5 avenue Anatole France (Parc du Champ-de-Mars)\",\n",
      "                \"75007 Paris\",\n",
      "                \"France\"\n",
      "            ]\n",
      "        },\n",
      "        \"categories\": [\n",
      "            {\n",
      "                \"id\": \"4bf58dd8d48988d12d941735\",\n",
      "                \"name\": \"Monument / Landmark\",\n",
      "                \"pluralName\": \"Monuments / Landmarks\",\n",
      "                \"shortName\": \"Landmark\",\n",
      "                \"icon\": {\n",
      "                    \"prefix\": \"https://ss3.4sqi.net/img/categories_v2/building/government_monument_\",\n",
      "                    \"suffix\": \".png\"\n",
      "                },\n",
      "                \"primary\": true\n",
      "            }\n",
      "        ],\n",
      "        \"verified\": true,\n",
      "        \"stats\": {\n",
      "            \"checkinsCount\": 254582,\n",
      "            \"usersCount\": 193249,\n",
      "            \"tipCount\": 2331\n",
      "        },\n",
      "        \"url\": \"http://www.paris.fr\",\n",
      "        \"beenHere\": {\n",
      "            \"lastCheckinExpiredAt\": 0\n",
      "        },\n",
      "        \"specials\": {\n",
      "            \"count\": 0,\n",
      "            \"items\": []\n",
      "        },\n",
      "        \"storeId\": \"\",\n",
      "        \"hereNow\": {\n",
      "            \"count\": 11,\n",
      "            \"summary\": \"11 people are here\",\n",
      "            \"groups\": [\n",
      "                {\n",
      "                    \"type\": \"others\",\n",
      "                    \"name\": \"Other people here\",\n",
      "                    \"count\": 11,\n",
      "                    \"items\": []\n",
      "                }\n",
      "            ]\n",
      "        },\n",
      "        \"referralId\": \"v-1516456525\",\n",
      "        \"venueChains\": [],\n",
      "        \"hasPerk\": false\n",
      "    }\n",
      "]\n"
     ]
    }
   ],
   "source": [
    "params = dict(\n",
    "  client_id=client_id,\n",
    "  client_secret=client_secret,\n",
    "  v='20170801',\n",
    "  near = \"Paris\",\n",
    "  query='Eiffel Tower', \n",
    "  limit = 1\n",
    ")\n",
    "resp = requests.get(url=url, params=params)\n",
    "data = json.loads(resp.text)\n",
    "print(json.dumps(data['response']['venues'],indent = 4, ensure_ascii= False))"
   ]
  },
  {
   "cell_type": "markdown",
   "metadata": {},
   "source": [
    "Gördüğünüz gibi koordinat yerine yaklaşık olarak yer vermek de aynı işi görüyor. Şimdi Eyfel Kulesi'yle ilgili en popüler 10 yorumu görelim. Bir mekanla ilgili tavsiyeleri görmek için mekanın belirtecini de url'ye eklememiz gerekiyor.  Yorumların metin kısmıyla ilgileneceğimiz için, süslü parantez yapısına göre, `response` - `tips` - `items` alanlarına erişmemiz gerekiyor. Hangi alanlara erişmemiz gerektiğini aşağıdaki kodda bulunan `data` sözlüğünün yapısını inceleyerek bulabilirsiniz. Bu alanların altındaki her bir yorum için de `text` alanının değerini bastıralım."
   ]
  },
  {
   "cell_type": "code",
   "execution_count": 9,
   "metadata": {
    "scrolled": true
   },
   "outputs": [
    {
     "name": "stdout",
     "output_type": "stream",
     "text": [
      "Icon of Paris. Nuff said. Go to the top and enjoy the view.\n",
      "Apparently the Eiffel Tower grows in summer! Made of iron, it expands with heat & can get more than 15 cm taller.\n",
      "La tour Eiffel est l'icône de Paris, pourtant, à l'exception de vos photos traditionnelles avec la tour sur l'arrière-plan il n'y a pas grand-chose. Vous devriez aller avant 9h00.\n",
      "Aussi, vous devriez y aller la nuit. Vous devriez avoir une vue incroyable avec une superbe photo.\n",
      "Welcome to one of the world's most iconic monuments 😜 From the 🔝 you can take beautiful shots 😜😍📸👍\n",
      "I went there for fun, the joy of being on the top, and sightseeing. I'd suggest buying the tickets in advance to avoid the long queues.\n",
      "Sit by the river right next to the tower for best view at midnight when it sparkles for 5 mins. Another option is to see it from louvre that's a further view! Beautiful 5 mins of ur life!\n",
      "The famous landmark! Take a tour to the summit that cost €17 for an adult. Beware of pickpocket in the elevator! Enjoy the view on 2nd and top floor and visit the souvenirs shop. Bring jacket!\n",
      "5/14/13: you have two options 1) first level only and about €8, or 2) all the way to the top €14,50. Both are great views, but might as well go to the top! Will take at least 30 min wait time\n",
      "Tarihi olmayan bir demir yığınının dümdüz Paris'te sağladığı mükemmel manzara. Sırasında beklerken bile çıksak mı dediğimiz kuleye çıkmadan etmeyin. Ayrı bir tecrübe. Gün batımına denk getirin.\n"
     ]
    }
   ],
   "source": [
    "# Dokümandaki url \"https://api.foursquare.com/v2/venues/VENUE_ID/tips\" şeklinde.\n",
    "# VENUE_ID'yi sorgulayacağımız mekana göre değiştirmemiz gerekiyor.\n",
    "# Eiffel Kulesi'nin belirteci: 51a2445e5019c80b56934c75\n",
    "url = \"https://api.foursquare.com/v2/venues/51a2445e5019c80b56934c75/tips\"\n",
    "    \n",
    "params = dict(\n",
    "  client_id=client_id,\n",
    "  client_secret=client_secret,\n",
    "  v='20170801',\n",
    "  sort = \"popular\",\n",
    "  limit=10\n",
    ")\n",
    "resp = requests.get(url=url, params=params)\n",
    "data = json.loads(resp.text)\n",
    "\n",
    "for tavsiye in data['response']['tips']['items']:\n",
    "    print(tavsiye['text'])"
   ]
  },
  {
   "cell_type": "markdown",
   "metadata": {},
   "source": [
    "Eyfel Kulesi'yle ilgili tavsiyeleri almak için Eyfel Kulesi'nin belirtecini de url'ye eklemek durumunda kaldık. Bunu yapmadan da tavsiyelere ulaşmak mümkün. Foursquare API'ını kullanmanın bir diğer yolu linkteki [Github](https://github.com/mLewisLogic/foursquare) dizinindeki kütüphane. Python için API'ı kullanmayı kolaylaştıran `foursquare` kütüphanenesini aşağıdaki [sihirli ifadeyle](http://www.veridefteri.com/2017/11/28/ipython-sihirli-ifadeler/) yükleyebilirsiniz. Sadece diyez işaretini kaldırmanız gerekecek."
   ]
  },
  {
   "cell_type": "code",
   "execution_count": 10,
   "metadata": {
    "collapsed": true
   },
   "outputs": [],
   "source": [
    "# Yanlışlıkla yüklemeyi engellemek için sihirli ifade yorum olarak girildi.\n",
    "# foursquare paketini yüklemek için aşağıdaki satırda # işaretini kaldırmanız yeterli.\n",
    "# !pip install foursquare"
   ]
  },
  {
   "cell_type": "markdown",
   "metadata": {},
   "source": [
    "Paketi yükledikten sonra, kendimizi tanıtmamız gerekiyor. Kendimizi tanıtmak için yukarıda oluşturduğunuz anahtarları kullanabilirsiniz."
   ]
  },
  {
   "cell_type": "code",
   "execution_count": 11,
   "metadata": {
    "collapsed": true
   },
   "outputs": [],
   "source": [
    "import foursquare as fs\n",
    "#Anahtarlarımızı tanıtarak izin alıyoruz.\n",
    "client = fs.Foursquare(client_id=client_id, client_secret=client_secret)\n",
    "auth_uri = client.oauth.auth_url()"
   ]
  },
  {
   "cell_type": "markdown",
   "metadata": {},
   "source": [
    "Şimdi Ayasofya yakınlarındaki restoranları arayalım. 1.5 km mesafedeki en popüler 10 restoranı bulalım ve uzaklıklarıyla birlikte sonuçları görelim. Kullanabileceğiniz başka sıralama yöntemleri ve parametreleri öğrenmek için API dokümantasyonu size yardımcı olacaktır."
   ]
  },
  {
   "cell_type": "code",
   "execution_count": 12,
   "metadata": {},
   "outputs": [
    {
     "name": "stdout",
     "output_type": "stream",
     "text": [
      "Restoran adı: Neyzen Restaurant Uzaklık: 1253 metre\n",
      "Restoran adı: Sefa-i Hürrem Cafe & Restaurant Uzaklık: 1393 metre\n",
      "Restoran adı: Meşale Restaurant & Cafè Uzaklık: 299 metre\n",
      "Restoran adı: Hamdi Restaurant Uzaklık: 1235 metre\n",
      "Restoran adı: Afrodit Restaurant Uzaklık: 1247 metre\n",
      "Restoran adı: Namlı Cafe Şarküteri Restaurant Uzaklık: 1191 metre\n",
      "Restoran adı: Fuego Cafe & Restaurant Uzaklık: 116 metre\n",
      "Restoran adı: Seoul Restaurant Uzaklık: 349 metre\n",
      "Restoran adı: Albura Kathisma Cafe & Restaurant Uzaklık: 316 metre\n",
      "Restoran adı: Olive Anatolian Restaurant Uzaklık: 463 metre\n"
     ]
    }
   ],
   "source": [
    "params = dict(\n",
    "  query = 'restaurant',\n",
    "  ll = '41.00824813964318,28.978616263778942',\n",
    "  radius = 1500,\n",
    "  sort = \"popular\",\n",
    "  limit=10\n",
    ")\n",
    "\n",
    "data = client.venues.search(params=params)\n",
    "for restaurant in data['venues']:\n",
    "    print(\"Restoran adı: {} Uzaklık: {} metre\".format(restaurant['name'], restaurant[\"location\"][\"distance\"]))"
   ]
  },
  {
   "cell_type": "markdown",
   "metadata": {},
   "source": [
    "İki sorgununda da parametrelerini sözlük yapısında vermemiz gerekti. Aynı zamanda kullandığımız parametreler de aynıydı. Orijinal API'ı kullanmakla `foursquare` paketini kullanmak arasında gözüken iki fark var:\n",
    " \n",
    "* Sonuçları görmek için `response` alanına erişmek zorunda kalmadık. `foursquare` paketi bize zaten `response` alanını döndürüyor, sorgunuzla ilgili üst veriyi (`metadata`) döndürmüyor.\n",
    "* Sorgu için herhangi bir `url` girmemiz gerekmedi. `foursquare` paketi sayesinde adresi ezberlemenize ya da araştırmanıza gerek kalmadı. Ancak paketin altındaki fonksiyonları öğrenmeniz gerekiyor. \n",
    "\n",
    "Bahsettiğim konular dışında bir fark yok gibi. Eyfel Kulesi'yle ilgili tavsiyeleri bir de `foursquare` paketiyle alalım."
   ]
  },
  {
   "cell_type": "code",
   "execution_count": 13,
   "metadata": {},
   "outputs": [
    {
     "name": "stdout",
     "output_type": "stream",
     "text": [
      "Icon of Paris. Nuff said. Go to the top and enjoy the view.\n",
      "Apparently the Eiffel Tower grows in summer! Made of iron, it expands with heat & can get more than 15 cm taller.\n",
      "La tour Eiffel est l'icône de Paris, pourtant, à l'exception de vos photos traditionnelles avec la tour sur l'arrière-plan il n'y a pas grand-chose. Vous devriez aller avant 9h00.\n",
      "Aussi, vous devriez y aller la nuit. Vous devriez avoir une vue incroyable avec une superbe photo.\n",
      "Welcome to one of the world's most iconic monuments 😜 From the 🔝 you can take beautiful shots 😜😍📸👍\n",
      "I went there for fun, the joy of being on the top, and sightseeing. I'd suggest buying the tickets in advance to avoid the long queues.\n",
      "Sit by the river right next to the tower for best view at midnight when it sparkles for 5 mins. Another option is to see it from louvre that's a further view! Beautiful 5 mins of ur life!\n",
      "The famous landmark! Take a tour to the summit that cost €17 for an adult. Beware of pickpocket in the elevator! Enjoy the view on 2nd and top floor and visit the souvenirs shop. Bring jacket!\n",
      "5/14/13: you have two options 1) first level only and about €8, or 2) all the way to the top €14,50. Both are great views, but might as well go to the top! Will take at least 30 min wait time\n",
      "Tarihi olmayan bir demir yığınının dümdüz Paris'te sağladığı mükemmel manzara. Sırasında beklerken bile çıksak mı dediğimiz kuleye çıkmadan etmeyin. Ayrı bir tecrübe. Gün batımına denk getirin.\n"
     ]
    }
   ],
   "source": [
    "params = dict(\n",
    "  sort = \"popular\",\n",
    "  limit=10\n",
    ")\n",
    "data = client.venues.tips('51a2445e5019c80b56934c75', params=params)\n",
    "for tavsiye in data['tips']['items']:\n",
    "    print(tavsiye['text'])"
   ]
  },
  {
   "cell_type": "markdown",
   "metadata": {},
   "source": [
    "`foursquare` paketini kullanmadığımızda sorgu adresini değiştirmemiz (adresin içine mekanın belirtecini girmemiz) gerekmişti. `foursquare` paketiyle mekan belirtecini bir parametre olarak sorguya vermemiz yeterli oldu. Paketi kullanmak, adresleri girmemek ve değiştirmek zorunda kalmamak nedeniyle bana daha kolay geldi. Ancak paketin dokümantasyonunun çok da iyi olmadığını belirtmem gerek.\n",
    "\n",
    "Hem Foursquare API'ı hem de `foursquare` paketi üzerinden başka bilgilere erişmek mümkün. Kullanıcıların check-in yaptığı ve beğendiği yerlere, diğer bilgilerine, yüklediği fotoğraflara API üzerinden erişebiliyoruz. Mekanlarla ilgili olarak da çalışma saatleri, mekanın fotoğrafları, tavsiyeler gibi verileri derleyebiliyoruz. Aynı zamanda fotoğraf, check-in ve tavsiyeler için API sorguları da mevcut.\n",
    "\n",
    "Bu yazıya Jupyter defteri olarak [Github](https://github.com/sibirbil/VeriDefteri) dizinimizden erişebilirsiniz."
   ]
  }
 ],
 "metadata": {
  "kernelspec": {
   "display_name": "Python 3",
   "language": "python",
   "name": "python3"
  },
  "language_info": {
   "codemirror_mode": {
    "name": "ipython",
    "version": 3
   },
   "file_extension": ".py",
   "mimetype": "text/x-python",
   "name": "python",
   "nbconvert_exporter": "python",
   "pygments_lexer": "ipython3",
   "version": "3.6.2"
  }
 },
 "nbformat": 4,
 "nbformat_minor": 2
}
