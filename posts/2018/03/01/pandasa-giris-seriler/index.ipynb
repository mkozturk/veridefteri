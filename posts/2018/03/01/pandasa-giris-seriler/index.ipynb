{
 "cells": [
  {
   "cell_type": "raw",
   "metadata": {},
   "source": [
    "---\n",
    "title: pandas'a Giriş - Seriler\n",
    "author: Birol Yüceoğlu\n",
    "date: 2018-03-01\n",
    "categories:\n",
    "    - Başlangıç\n",
    "    - Genel\n",
    "    - pandas\n",
    "    - veri önişleme\n",
    "image: 74f1f-1200px-atlanta_zoo_panda.jpg\n",
    "---"
   ]
  },
  {
   "cell_type": "markdown",
   "metadata": {},
   "source": [
    "`Pandas` veri analitiği alanında, özellikle veri işleme ve analizi için sıklıkla kullanılan bir Python paketi. `Pandas` paketi seri (`Series`) ve veri çerçevesi (`DataFrame`) isimli iki veri yapısının üzerine kurulmuş. Bunlardan serileri tek boyutlu diziler, veri çerçevelerini ise iki boyutlu matrisler (ya da her kolonu bir seriden oluşan yapı) gibi düşünebiliriz. Ancak `Pandas` paketi liste ve matrislerden farklı işlevler sunuyor. Örnek olarak SQL tablolarında kullanılan tablo birleştirme (join) gibi işlemleri de `Pandas` sayesinde yapmak mümkün.\n",
    "\n",
    "`Pandas` paketiyle yapabileceğimiz temel işlemleri aşağıda bulabilirsiniz:\n",
    "\n",
    "* Veriyi çeşitli formatlardaki dosyalardan okutmak ve dosyalara yazdırmak mümkün. `Pandas`, metin ve Excel dosyalarının yanında, Stata ve SAS gibi yazılımların formatlarını da destekliyor. \n",
    "* Eksik değerleri doldurmak/çıkarmak için yöntemler içeriyor.\n",
    "* Çeşitli veri çerçevelerini birleştirmek (SQL dilindeki JOIN ve MERGE işlemleri) mümkün.\n",
    "* Farklı türlerde grafikler çizdirebiliriz. \n",
    "* Groupby fonksiyonu sayesinde veriyi gruplara bölerek, yapacağımız işlemlerle (toplama, sayma, ortalama alma gibi) özetleyebiliriz. `Groupby` konusunda yazdığımız detaylı bir yazıya [linkten](http://www.veridefteri.com/2017/10/30/groupby/) erişebilirsiniz. \n",
    "\n",
    "`Pandas` ile ilgili yazı serisinin ilk bölümünde seri veri yapısını inceleyeceğiz. Burada kullandığımız yöntemlerin çoğu veri çerçeveleri için de geçerli olacaktır. Pandas serilerine giriş amacıyla IMF'nin gayrisafi yurt içi hasıla verisini kullanacağız. Detaylı veri setine [linkten](http://www.imf.org/external/pubs/ft/weo/2017/02/weodata/download.aspx) erişebilirsiniz. Ben küçük bir örneklemle çalıştığım için veriyi okutmayla ilgili kısımlara, veri çerçeveleriyle ilgili yazıda değineceğim.\n",
    "\n",
    "# Seriler\n",
    "\n",
    "Seri, etiketli verilerden oluşan tek boyutlu bir veri yapısıdır. Etiket değerlerine indeks denir. Verinin kendisi sayılar, dizeler ya da başka Python objelerinden oluşabilir. Serileri oluşturmak için listeler, sıralı diziler ya da sözlükler kullanılabilir. 10 ülkenin 2017 yılının GSYİH değerlerinden oluşan bir seri oluşturalım. Dikkat etmemiz gereken nokta indeks ve verinin aynı boyutta olması. Bunu sağlayamazsak hata mesajı alacağız."
   ]
  },
  {
   "cell_type": "code",
   "execution_count": 1,
   "metadata": {},
   "outputs": [
    {
     "name": "stdout",
     "output_type": "stream",
     "text": [
      "0    19362.13\n",
      "1    11937.56\n",
      "2     4884.49\n",
      "3     3651.87\n",
      "4     2574.81\n",
      "5     2565.05\n",
      "6     2439.01\n",
      "7     2080.92\n",
      "8     1921.14\n",
      "9     1640.39\n",
      "dtype: float64\n"
     ]
    }
   ],
   "source": [
    "%matplotlib inline\n",
    "import matplotlib.pyplot as plt\n",
    "\n",
    "#Pandas paketini yükleyelim\n",
    "import pandas as pd \n",
    "import numpy as np\n",
    "\n",
    "#GSYİH değeri en yüksek olan 10 ülkenin değerlerini kullanacağız.\n",
    "gdp_data_2017 = [19362.13, 11937.56, 4884.49, 3651.87, 2574.81, 2565.05, 2439.01, 2080.92, 1921.14, 1640.39]\n",
    "\n",
    "#Seriyi oluşturalım. İndeks değerini vermediğimizde, Pandas 0'dan başlayarak veriyi indeksler.\n",
    "gdp_2017 = pd.Series(gdp_data_2017)\n",
    "print(gdp_2017)"
   ]
  },
  {
   "cell_type": "markdown",
   "metadata": {},
   "source": [
    "İndeks değeri vermediğimizde seri pek anlamlı durmuyor. İndeks değerlerini bir liste olarak sonradan atayabilir ya da seriyi oluştururken belirtebiliriz."
   ]
  },
  {
   "cell_type": "code",
   "execution_count": 2,
   "metadata": {},
   "outputs": [
    {
     "name": "stdout",
     "output_type": "stream",
     "text": [
      "ABD                 19362.13\n",
      "Çin                 11937.56\n",
      "Japonya              4884.49\n",
      "Almanya              3651.87\n",
      "Fransa               2574.81\n",
      "Birleşik Krallık     2565.05\n",
      "Hindistan            2439.01\n",
      "Brezilya             2080.92\n",
      "İtalya               1921.14\n",
      "Kanada               1640.39\n",
      "dtype: float64\n"
     ]
    }
   ],
   "source": [
    "# İndeks değerlerini içeren listeyi oluşturalım.\n",
    "gdp_index_2017 = ['ABD', 'Çin', 'Japonya', 'Almanya', 'Fransa', 'Birleşik Krallık', 'Hindistan', 'Brezilya', 'İtalya', 'Kanada']\n",
    "\n",
    "# Serinin indeks değerini oluşturduğumuz listeye eşitleyelim.\n",
    "gdp_2017.index = gdp_index_2017\n",
    "print(gdp_2017)\n",
    "\n",
    "# Seriyi oluştururken indeks değerlerini belirtmek için aşağıdaki satırı kullanabiliriz.\n",
    "#gdp_2017 = pd.Series(gdp_data_2017, index = gdp_index_2017)"
   ]
  },
  {
   "cell_type": "markdown",
   "metadata": {},
   "source": [
    "2016 yılı için de aşağıdaki gibi sözlük veri yapısını kullanarak bir seri oluşturalım. Bu sefer seriyi oluşturmak için bir sözlük kullanacağız. "
   ]
  },
  {
   "cell_type": "code",
   "execution_count": 3,
   "metadata": {},
   "outputs": [
    {
     "name": "stdout",
     "output_type": "stream",
     "text": [
      "ABD                 18624.45\n",
      "Almanya              3479.23\n",
      "Birleşik Krallık     2629.19\n",
      "Brezilya             1798.62\n",
      "Fransa               2466.47\n",
      "Hindistan            2263.79\n",
      "Japonya              4936.54\n",
      "Kanada               1529.76\n",
      "Çin                 11232.11\n",
      "İtalya               1850.74\n",
      "dtype: float64\n"
     ]
    }
   ],
   "source": [
    "d = {'ABD':18624.45,\n",
    "'Çin':11232.11,\n",
    "'Japonya':4936.54,\n",
    "'Almanya':3479.23,\n",
    "'Fransa':2466.47,\n",
    "'Birleşik Krallık':2629.19,\n",
    "'Hindistan':2263.79,\n",
    "'Brezilya':1798.62,\n",
    "'İtalya':1850.74,\n",
    "'Kanada':1529.76}\n",
    "\n",
    "gdp_2016 = pd.Series(d)\n",
    "\n",
    "print(gdp_2016)"
   ]
  },
  {
   "cell_type": "markdown",
   "metadata": {},
   "source": [
    "Sözlük yapısıyla girdiğimiz verilerin sırasının değiştiğini, alfabetik olarak sıralandığını görüyoruz. `Pandas` indeksin değerine göre işlem yaptığı için bunun bir önemi yok. \n",
    "\n",
    "Veri kümesini genişletmek istediğimizde iki seçeneğimiz var:\n",
    "* Köşeli parantez ile veriyi girebiliriz.\n",
    "* Oluşturduğumuz ikinci bir seriyi `append` fonksiyonuyla ilk seriye ekleyebiliriz. \n",
    "\n",
    "Köşeli parantezle girdiğimiz veri o indekse sahip bütün girdileri sağladığımız değere eşitler. Eğer o indekse sahip bir değer yoksa seriye yeni bir eleman ekler."
   ]
  },
  {
   "cell_type": "code",
   "execution_count": 4,
   "metadata": {},
   "outputs": [
    {
     "name": "stdout",
     "output_type": "stream",
     "text": [
      "ABD                 18624.45\n",
      "Almanya              3479.23\n",
      "Birleşik Krallık     2629.19\n",
      "Brezilya             1798.62\n",
      "Fransa               2466.47\n",
      "Hindistan            2263.79\n",
      "Japonya              4936.54\n",
      "Kanada               1529.76\n",
      "Çin                 11232.11\n",
      "İtalya               1850.74\n",
      "Kore                 1411.04\n",
      "dtype: float64\n"
     ]
    }
   ],
   "source": [
    "# Kore'nin GSYİH değerini giriyoruz. \n",
    "# Seride 'Korea' indeksine sahip bir eleman olmadığı için seriye yeni bir eleman eklenecek.\n",
    "gdp_2016['Kore'] = 1411.04\n",
    "\n",
    "print(gdp_2016)\n",
    "\n",
    "#Aşağıdaki satırı eklemiş olsaydık yeni bir gözlem eklemek yerine var olan gözlemi değiştirmiş olacaktık.\n",
    "#gdp['China'] = 1411.04 "
   ]
  },
  {
   "cell_type": "markdown",
   "metadata": {},
   "source": [
    "`append` fonksiyonunu kullandığımızda ise bir seri, diğerinin sonuna eklenir. Burada dikkat etmemiz gereken nokta aynı indekse sahip elemanlar varsa bunların çoğullanacak olmasıdır. Sözlüğün içinde aynı indekse sahip girdiler varsa en sonuncusu alınır. Aşağıdaki örnekte Meksika'nın tek girdisi olmasına rağmen ABD'nin iki girdisi olduğunu görüyoruz."
   ]
  },
  {
   "cell_type": "code",
   "execution_count": 5,
   "metadata": {},
   "outputs": [
    {
     "name": "stdout",
     "output_type": "stream",
     "text": [
      "ABD                 18624.450\n",
      "Almanya              3479.230\n",
      "Birleşik Krallık     2629.190\n",
      "Brezilya             1798.620\n",
      "Fransa               2466.470\n",
      "Hindistan            2263.790\n",
      "Japonya              4936.540\n",
      "Kanada               1529.760\n",
      "Çin                 11232.110\n",
      "İtalya               1850.740\n",
      "Kore                 1411.040\n",
      "ABD                     0.000\n",
      "Avustralya           1229.938\n",
      "Meksika              1046.925\n",
      "Rusya                1365.865\n",
      "İspanya              1193.556\n",
      "dtype: float64\n"
     ]
    }
   ],
   "source": [
    "d1 = {'Rusya' : 1365.865,\n",
    "'Avustralya' : 1229.938,\n",
    "'İspanya' : 1193.556,\n",
    "'Meksika' : np.NaN,\n",
    "'Meksika' : 1,\n",
    "'Meksika' : 1046.925,\n",
    "'ABD' : 0\n",
    "}\n",
    "\n",
    "gdp_2016 = gdp_2016.append(pd.Series(d1))\n",
    "print(gdp_2016)"
   ]
  },
  {
   "cell_type": "markdown",
   "metadata": {},
   "source": [
    "# Temel Metotlar ve Erişim\n",
    "\n",
    "Seriler veri ve indeks değerlerinden oluşur. `values` ve `index` metotlarıyla bunlara erişmek mümkündür. \n",
    "\n",
    "Yazının geri kalanında, kimi çıktılarda kullanılan biçimlendirmeyi (`format`)  öğrenmek için Kaan'ın [dize biçimlendirme](http://www.veridefteri.com/2018/02/23/python-programlamaya-giris-16-dize-bicimlendirme/) yazısını inceleyebilirsiniz. "
   ]
  },
  {
   "cell_type": "code",
   "execution_count": 6,
   "metadata": {},
   "outputs": [
    {
     "name": "stdout",
     "output_type": "stream",
     "text": [
      "GSYİH değerleri: [ 19362.13  11937.56   4884.49   3651.87   2574.81   2565.05   2439.01\n",
      "   2080.92   1921.14   1640.39]\n",
      "İndeks değerleri: Index(['ABD', 'Çin', 'Japonya', 'Almanya', 'Fransa', 'Birleşik Krallık',\n",
      "       'Hindistan', 'Brezilya', 'İtalya', 'Kanada'],\n",
      "      dtype='object')\n"
     ]
    }
   ],
   "source": [
    "print('GSYİH değerleri: {}'.format(gdp_2017.values))\n",
    "print('İndeks değerleri: {}'.format(gdp_2017.index))"
   ]
  },
  {
   "cell_type": "markdown",
   "metadata": {},
   "source": [
    "`ndim` boyutu, `shape` şekli, `size` ise serinin uzunluğunu verir."
   ]
  },
  {
   "cell_type": "code",
   "execution_count": 7,
   "metadata": {},
   "outputs": [
    {
     "name": "stdout",
     "output_type": "stream",
     "text": [
      "Boyut: 1\n",
      "Şekil: (10,)\n",
      "Uzunluk: 10\n"
     ]
    }
   ],
   "source": [
    "print('Boyut: {}'.format(gdp_2017.ndim))\n",
    "print('Şekil: {}'.format(gdp_2017.shape))\n",
    "print('Uzunluk: {}'.format(gdp_2017.size))"
   ]
  },
  {
   "cell_type": "markdown",
   "metadata": {},
   "source": [
    "Serideki değerlerin ve indeksin adını da belirtmek mümkün. Bunun için `name` metodunu kullanabiliriz. İndeksin ülkeler, verinin de GSYİH olduğunu belirtelim."
   ]
  },
  {
   "cell_type": "code",
   "execution_count": 8,
   "metadata": {},
   "outputs": [
    {
     "name": "stdout",
     "output_type": "stream",
     "text": [
      "Ülkeler\n",
      "ABD                 19362.13\n",
      "Çin                 11937.56\n",
      "Japonya              4884.49\n",
      "Almanya              3651.87\n",
      "Fransa               2574.81\n",
      "Birleşik Krallık     2565.05\n",
      "Hindistan            2439.01\n",
      "Brezilya             2080.92\n",
      "İtalya               1921.14\n",
      "Kanada               1640.39\n",
      "Name: GSYİH, dtype: float64\n"
     ]
    }
   ],
   "source": [
    "gdp_2017.name = 'GSYİH'\n",
    "gdp_2017.index.name = 'Ülkeler'\n",
    "print(gdp_2017)"
   ]
  },
  {
   "cell_type": "markdown",
   "metadata": {},
   "source": [
    "Veriyle ilgili özet bilgiler almak ve serinin içeriğine bakmak için `describe` ve `head` fonksiyonlarını kullanabiliriz. `head` fonksiyonuna sağlayacağınız bir tamsayı, kaç satırlık veriye ulaşacağınızı belirleyecektir (varsayılan değer 5)."
   ]
  },
  {
   "cell_type": "code",
   "execution_count": 9,
   "metadata": {},
   "outputs": [
    {
     "name": "stdout",
     "output_type": "stream",
     "text": [
      "Verinin özeti:\n",
      "count       10.000000\n",
      "mean      5305.737000\n",
      "std       5801.849771\n",
      "min       1640.390000\n",
      "25%       2170.442500\n",
      "50%       2569.930000\n",
      "75%       4576.335000\n",
      "max      19362.130000\n",
      "Name: GSYİH, dtype: float64\n",
      "Serinin ilk beş satırı:\n",
      "Ülkeler\n",
      "ABD        19362.13\n",
      "Çin        11937.56\n",
      "Japonya     4884.49\n",
      "Almanya     3651.87\n",
      "Fransa      2574.81\n",
      "Name: GSYİH, dtype: float64\n"
     ]
    }
   ],
   "source": [
    "print('Verinin özeti:')\n",
    "print(gdp_2017.describe())\n",
    "print('Serinin ilk beş satırı:')\n",
    "print(gdp_2017.head())"
   ]
  },
  {
   "cell_type": "markdown",
   "metadata": {},
   "source": [
    "Erişim için indeksin değerini ya da sırasını verebiliriz. Örnek olarak Çin'in ve 5. sıradaki (indeksi 4 olan) ülkenin GSYİH değerlerine bakalım. Sıra numarasıyla eriştiğimizde indeks değerini ayrıca kontrol etmemiz gerekebilir. Seriyi sözlük kullanarak oluşturduğumuzda girdilerin sırasının değiştiğini hatırlayalım."
   ]
  },
  {
   "cell_type": "code",
   "execution_count": 10,
   "metadata": {},
   "outputs": [
    {
     "name": "stdout",
     "output_type": "stream",
     "text": [
      "gdp_2017['Çin']: 11937.56\n",
      "gdp_2017[4]: 2574.81\n"
     ]
    }
   ],
   "source": [
    "print('gdp_2017[\\'Çin\\']: {}'.format(gdp_2017['Çin']))\n",
    "print('gdp_2017[4]: {}'.format(gdp_2017[4]))"
   ]
  },
  {
   "cell_type": "markdown",
   "metadata": {},
   "source": [
    "[Sıralı nesnelerdeki dilimleme](http://www.veridefteri.com/2018/01/26/python-programlamaya-giris-sirali-nesnelerle-islemler/) işlemleri `Pandas` serilerinde de kullanılabilir. Dilimleme için iki seçenek var: indeksin sırası ve kendisi. `iloc` indeksin sırasıyla, `loc` indeksin kendisiyle işlem yapmaya olanak verir. `loc` metotunda ilk eleman da son eleman da dilimlemeye dahil edilir. İlk 3 elemana (`iloc`) ve Japonya ile İtalya arasındaki elemanlara (`loc`) erişelim."
   ]
  },
  {
   "cell_type": "code",
   "execution_count": 11,
   "metadata": {},
   "outputs": [
    {
     "name": "stdout",
     "output_type": "stream",
     "text": [
      "gdp_2017.iloc[:3]:\n",
      "Ülkeler\n",
      "ABD        19362.13\n",
      "Çin        11937.56\n",
      "Japonya     4884.49\n",
      "Name: GSYİH, dtype: float64\n",
      "gdp_2017.loc['Japonya':'İtalya']:\n",
      "Ülkeler\n",
      "Japonya             4884.49\n",
      "Almanya             3651.87\n",
      "Fransa              2574.81\n",
      "Birleşik Krallık    2565.05\n",
      "Hindistan           2439.01\n",
      "Brezilya            2080.92\n",
      "İtalya              1921.14\n",
      "Name: GSYİH, dtype: float64\n"
     ]
    }
   ],
   "source": [
    "print('gdp_2017.iloc[:3]:\\n{}'.format(gdp_2017.iloc[:3]))\n",
    "print('gdp_2017.loc[\\'Japonya\\':\\'İtalya\\']:\\n{}'.format(gdp_2017.loc['Japonya':'İtalya']))"
   ]
  },
  {
   "cell_type": "markdown",
   "metadata": {},
   "source": [
    "`gdp_2016` tablosunda indeksi ABD olan iki girdi var. Şimdi bunlardan birini silelim. ABD'nin GSYİH değerini 18624.450'ye eşitleyerek değerleri `drop_duplicate` fonksiyonuyla tekilleştirelim. "
   ]
  },
  {
   "cell_type": "code",
   "execution_count": 12,
   "metadata": {},
   "outputs": [
    {
     "name": "stdout",
     "output_type": "stream",
     "text": [
      "Tekilleştirme öncesi\n",
      "ABD                 18624.450\n",
      "Almanya              3479.230\n",
      "Birleşik Krallık     2629.190\n",
      "Brezilya             1798.620\n",
      "Fransa               2466.470\n",
      "Hindistan            2263.790\n",
      "Japonya              4936.540\n",
      "Kanada               1529.760\n",
      "Çin                 11232.110\n",
      "İtalya               1850.740\n",
      "Kore                 1411.040\n",
      "ABD                 18624.450\n",
      "Avustralya           1229.938\n",
      "Meksika              1046.925\n",
      "Rusya                1365.865\n",
      "İspanya              1193.556\n",
      "dtype: float64\n",
      "Tekilleştirme sonrası\n",
      "ABD                 18624.450\n",
      "Almanya              3479.230\n",
      "Birleşik Krallık     2629.190\n",
      "Brezilya             1798.620\n",
      "Fransa               2466.470\n",
      "Hindistan            2263.790\n",
      "Japonya              4936.540\n",
      "Kanada               1529.760\n",
      "Çin                 11232.110\n",
      "İtalya               1850.740\n",
      "Kore                 1411.040\n",
      "Avustralya           1229.938\n",
      "Meksika              1046.925\n",
      "Rusya                1365.865\n",
      "İspanya              1193.556\n",
      "dtype: float64\n"
     ]
    }
   ],
   "source": [
    "# Aşağıdaki satır indeksi ABD olan bütün girdileri değiştirir.\n",
    "gdp_2016['ABD'] = 18624.450\n",
    "print('Tekilleştirme öncesi')\n",
    "print(gdp_2016)\n",
    "# Aşağıdaki satır aynı olan değerleri tekilleştirir. \n",
    "# inplace = True sayesinde işlemi serinin kendisi üzerinde yapıyoruz.\n",
    "gdp_2016.drop_duplicates(inplace = True)\n",
    "print('Tekilleştirme sonrası')\n",
    "print(gdp_2016)"
   ]
  },
  {
   "cell_type": "markdown",
   "metadata": {},
   "source": [
    "Tek bir ülkeyi silmek için `drop` fonksiyonuna indeks değerini vermemiz yeterli."
   ]
  },
  {
   "cell_type": "code",
   "execution_count": 13,
   "metadata": {},
   "outputs": [
    {
     "name": "stdout",
     "output_type": "stream",
     "text": [
      "ABD                 18624.450\n",
      "Almanya              3479.230\n",
      "Birleşik Krallık     2629.190\n",
      "Brezilya             1798.620\n",
      "Fransa               2466.470\n",
      "Hindistan            2263.790\n",
      "Japonya              4936.540\n",
      "Çin                 11232.110\n",
      "İtalya               1850.740\n",
      "Kore                 1411.040\n",
      "Avustralya           1229.938\n",
      "Meksika              1046.925\n",
      "Rusya                1365.865\n",
      "İspanya              1193.556\n",
      "dtype: float64\n"
     ]
    }
   ],
   "source": [
    "gdp_2016.drop('Kanada', inplace = True)\n",
    "print(gdp_2016)"
   ]
  },
  {
   "cell_type": "markdown",
   "metadata": {},
   "source": [
    "`drop` fonksiyonuyla birden fazla değer de silebiliriz. Örnek olarak Kore ile İspanya arasındaki bütün değerleri silelim. `drop` fonksiyonu indeks değerleriyle işlem yaptığı için, Kore ile İspanya arasındaki indeks değerlerini kullanacak."
   ]
  },
  {
   "cell_type": "code",
   "execution_count": 14,
   "metadata": {},
   "outputs": [
    {
     "name": "stdout",
     "output_type": "stream",
     "text": [
      "ABD                 18624.45\n",
      "Almanya              3479.23\n",
      "Birleşik Krallık     2629.19\n",
      "Brezilya             1798.62\n",
      "Fransa               2466.47\n",
      "Hindistan            2263.79\n",
      "Japonya              4936.54\n",
      "Çin                 11232.11\n",
      "İtalya               1850.74\n",
      "dtype: float64\n"
     ]
    }
   ],
   "source": [
    "gdp_2016.drop(gdp_2016.loc['Kore' : 'İspanya'].index, inplace = True)\n",
    "print(gdp_2016)"
   ]
  },
  {
   "cell_type": "markdown",
   "metadata": {},
   "source": [
    "# Grafikler\n",
    "\n",
    "`Pandas`, `matplotlib` paketini kullanarak grafik çizdirmeye de izin veriyor. Bu amaçla `plot` fonksiyonunu kullanabiliriz. Grafiğin tarzını belirtmek için de `kind` argümanını kullanabiliriz. Kind argümanı histogram (`hist`), pasta grafiği (`pie`) ya da çizgi grafiği (`line`) gibi temel grafik çeşitlerini destekliyor. İstanbul'un yıl içindeki sıcaklığını (`line`) ve 2017 yılı için GSYİH dağılımını (`pie`) görselleştirelim."
   ]
  },
  {
   "cell_type": "code",
   "execution_count": 15,
   "metadata": {},
   "outputs": [
    {
     "data": {
      "image/png": "[encoded data removed]",
      "text/plain": [
       "<matplotlib.figure.Figure at 0x1d10f1d1400>"
      ]
     },
     "metadata": {},
     "output_type": "display_data"
    },
    {
     "data": {
      "image/png": "[encoded data removed]",
      "text/plain": [
       "<matplotlib.figure.Figure at 0x1d10f399470>"
      ]
     },
     "metadata": {},
     "output_type": "display_data"
    }
   ],
   "source": [
    "\"\"\"\n",
    "# Sıcaklık verisini aşağıdaki kodu kullanarak elde ettim. Daha sonra ay isimlerini Türkçeye çevirdim\n",
    "# Pandas altındaki okuma ve yazma fonksiyonlarına ileriki yazılarda değineceğiz.\n",
    "\n",
    "temp = pd.read_html('http://www.yr.no/place/Turkey/Istanbul/Istanbul/statistics.html', header = 1, index_col=0) \n",
    "temp_ist = pd.Series(temp[1]['Normal'], index= temp[1].index.values)\n",
    "temp_ist = temp_ist.astype(str).str[:-2].astype(np.float)\n",
    "\"\"\"\n",
    "\n",
    "temp_ist = pd.Series([5.6, 5.9, 7.5, 12., 16.5, 21.1, 23.2, 23., 19.7, 15.3, 11.6, 8.1], \n",
    "                     index = ['Ocak', 'Şubat', 'Mart', 'Nisan', 'Mayıs','Haziran', \n",
    "                              'Temmuz', 'Ağustos', 'Eylül', 'Ekim', 'Kasım', 'Aralık'])\n",
    "temp_ist.name = 'Sıcaklık'\n",
    "temp_ist.index.name = 'Aylar'\n",
    "plt.figure(figsize= (10,5))\n",
    "# Çizgi grafiği çizdirelim.\n",
    "temp_ist.plot(kind = 'line', xticks=np.arange(0,12), rot = 45)\n",
    "plt.ylabel('Derece')\n",
    "plt.show()\n",
    "\n",
    "gdp_2017.name = 'GSYİH'\n",
    "plt.figure(figsize= (8,8))\n",
    "# Pasta grafiği çizdirelim.\n",
    "gdp_2017.plot(kind = 'pie')\n",
    "plt.show()"
   ]
  },
  {
   "cell_type": "markdown",
   "metadata": {},
   "source": [
    "# İşlemler\n",
    "\n",
    "Seriler üzerinde dört işlem yapmak mümkündür. Yaptığımız işlemlerde sadece aynı indekse sahip elemanlar bu işlemlerden etkilenir. İşlem yaparken eksik olan gözlemler ya da bir seride bulunmayan gözlemler diğer serilerde olsa bile `NaN` değerini alır. Bunu engellemek ve eksik olan değerleri doldurmak istiyorsanız işlemlerle ilgili fonksiyonları (`add`, `subtract`, `divide`, `multiply`) kullanabilirsiniz. `fill_value` parametresiyle eksik değerleri değiştirmek mümkün. Ancak iki seride de bulunmayan değerler yine `NaN` değerini alacaktır."
   ]
  },
  {
   "cell_type": "code",
   "execution_count": 16,
   "metadata": {},
   "outputs": [
    {
     "name": "stdout",
     "output_type": "stream",
     "text": [
      "a    5.0\n",
      "b    5.2\n",
      "c    NaN\n",
      "d    NaN\n",
      "f    NaN\n",
      "dtype: float64\n",
      "a    4.0\n",
      "b    6.4\n",
      "c    NaN\n",
      "d    NaN\n",
      "f    NaN\n",
      "dtype: float64\n",
      "a    4.0\n",
      "b    6.4\n",
      "c    6.0\n",
      "d    7.0\n",
      "f    NaN\n",
      "dtype: float64\n"
     ]
    }
   ],
   "source": [
    "d1 = {'a' : 1, 'b' : 2,'c' : 6, 'f' : np.NaN}\n",
    "d2 = {'a' : 4, 'b' : 3.2, 'd' : 7, 'f' : np.NaN}\n",
    "\n",
    "s1 = pd.Series(d1)\n",
    "s2 = pd.Series(d2)\n",
    "print(s1 + s2)\n",
    "print(s1 * s2)\n",
    "print(s1.multiply(s2, fill_value=1))"
   ]
  },
  {
   "cell_type": "markdown",
   "metadata": {},
   "source": [
    "Aynı indekse sahip birden fazla değer varsa yapılan işlemler o indekse ait bütün değerler üzerinden yapılır. Aşağıdaki örnekte iki seride de `a` indeksine sahip iki değer var (Birinci seride 1 ve 5, ikinci seride 4 ve 5). Serileri topladığımızda `a` indeksine ait dört değer görüyoruz. "
   ]
  },
  {
   "cell_type": "code",
   "execution_count": 17,
   "metadata": {},
   "outputs": [
    {
     "name": "stdout",
     "output_type": "stream",
     "text": [
      "a     5.0\n",
      "a     6.0\n",
      "a     9.0\n",
      "a    10.0\n",
      "b     5.2\n",
      "c     NaN\n",
      "d     NaN\n",
      "dtype: float64\n"
     ]
    }
   ],
   "source": [
    "d1 = {'a' : 1, 'b' : 2,'c' : 6}\n",
    "d2 = {'a' : 4, 'b' : 3.2, 'd' : 7}\n",
    "\n",
    "d3 = {'a' : 5}\n",
    "s1 = pd.Series(d1)\n",
    "s2 = pd.Series(d2)\n",
    "s1 = s1.append(pd.Series(d3))\n",
    "s2 = s2.append(pd.Series(d3))\n",
    "\n",
    "print(s1 + s2)"
   ]
  },
  {
   "cell_type": "markdown",
   "metadata": {},
   "source": [
    "Pandas altında yapacağınız işlemler indekse bağlı olduğu için indekslerin çoklanması ve bunun sonuçları konusunda dikkat etmeniz gerekli.\n",
    "\n",
    "# Zaman Serileri\n",
    "\n",
    "Serilerin indeks değerlerini zamana çevirerek zaman serilerini elde edebiliriz. Ocak 2017'de her saat başında bir zar atıp bunun değerlerinden oluşan bir zaman serisi oluşturalım. Bunun için 1 Ocak ile 31 Ocak arasındaki saat dilimlerine ihtiyacımız olacak. Saat dilimlerini oluşturmak için `date_range` fonksiyonunu kullanabiliriz. 31 Ocak 2017 tarihini verirken saati belirtmezsek günün başlangıcını kabul ettiğinden (00:00) saati 23:59 olarak belirtelim. `freq` argümanı sıklığı (frekansı) belirtir. Sıklığı bir saat olarak belirlediğimiz için 'H' değerini kullanıyoruz."
   ]
  },
  {
   "cell_type": "code",
   "execution_count": 18,
   "metadata": {},
   "outputs": [
    {
     "name": "stdout",
     "output_type": "stream",
     "text": [
      "2017-01-01 00:00:00    3\n",
      "2017-01-01 01:00:00    1\n",
      "2017-01-01 02:00:00    1\n",
      "2017-01-01 03:00:00    5\n",
      "2017-01-01 04:00:00    3\n",
      "Freq: H, dtype: int32\n"
     ]
    }
   ],
   "source": [
    "#Her saat için bir indeks oluşturuyoruz.\n",
    "ts = pd.date_range('1/1/2017', end = '31/1/2017 23:59:00', freq= 'H')\n",
    "\n",
    "#Bu indekse sahip girdiler için zar atalım.\n",
    "zar = pd.Series(np.random.randint(1,7,len(ts)), index= ts )\n",
    "\n",
    "print(zar.head())"
   ]
  },
  {
   "cell_type": "markdown",
   "metadata": {},
   "source": [
    "Attığımız ilk 100 zarı çizgi grafiği olarak gösterelim."
   ]
  },
  {
   "cell_type": "code",
   "execution_count": 19,
   "metadata": {},
   "outputs": [
    {
     "data": {
      "image/png": "[encoded data removed]",
      "text/plain": [
       "<matplotlib.figure.Figure at 0x1d10f197550>"
      ]
     },
     "metadata": {},
     "output_type": "display_data"
    }
   ],
   "source": [
    "plt.figure(figsize = ( 10,5))\n",
    "zar.head(100).plot()\n",
    "plt.show()"
   ]
  },
  {
   "cell_type": "markdown",
   "metadata": {},
   "source": [
    "Erişim için tarih vererek (indeks değerlerine uygun olacak şekilde), istediğimiz zaman aralığındaki değerleri görebiliriz."
   ]
  },
  {
   "cell_type": "code",
   "execution_count": 20,
   "metadata": {},
   "outputs": [
    {
     "name": "stdout",
     "output_type": "stream",
     "text": [
      "2017-01-01 00:00:00    3\n",
      "2017-01-01 01:00:00    1\n",
      "2017-01-01 02:00:00    1\n",
      "2017-01-01 03:00:00    5\n",
      "2017-01-01 04:00:00    3\n",
      "2017-01-01 05:00:00    4\n",
      "2017-01-01 06:00:00    1\n",
      "2017-01-01 07:00:00    3\n",
      "2017-01-01 08:00:00    2\n",
      "2017-01-01 09:00:00    5\n",
      "2017-01-01 10:00:00    5\n",
      "2017-01-01 11:00:00    2\n",
      "2017-01-01 12:00:00    6\n",
      "2017-01-01 13:00:00    2\n",
      "2017-01-01 14:00:00    6\n",
      "2017-01-01 15:00:00    1\n",
      "2017-01-01 16:00:00    5\n",
      "2017-01-01 17:00:00    2\n",
      "2017-01-01 18:00:00    6\n",
      "2017-01-01 19:00:00    2\n",
      "2017-01-01 20:00:00    6\n",
      "2017-01-01 21:00:00    5\n",
      "2017-01-01 22:00:00    1\n",
      "2017-01-01 23:00:00    5\n",
      "Freq: H, dtype: int32\n",
      "2017-01-01 13:00:00    2\n",
      "2017-01-01 14:00:00    6\n",
      "2017-01-01 15:00:00    1\n",
      "2017-01-01 16:00:00    5\n",
      "Freq: H, dtype: int32\n"
     ]
    }
   ],
   "source": [
    "#1 Ocak tarihine ait gözlemler\n",
    "print(zar['2017-01-01'])\n",
    "\n",
    "#1 Ocak 13:00:00 ile 16:30:00 arasındaki gözlemler\n",
    "print(zar['2017-01-01 13:00:00' : '2017-01-01 16:30:00'])"
   ]
  },
  {
   "cell_type": "markdown",
   "metadata": {},
   "source": [
    "Zaman serilerinin bir avantajı veriyi istediğimiz sıklıkta yeniden şekillendirebilmemiz. Örnek olarak 6 saatlik toplamlara ya da günlük ortalamaya bakabiliriz. İşlemler sonucunda elde edeceğimiz seriler için önceden bahsettiğimiz `Pandas` fonksiyonlarını kullanabiliriz."
   ]
  },
  {
   "cell_type": "code",
   "execution_count": 21,
   "metadata": {},
   "outputs": [
    {
     "name": "stdout",
     "output_type": "stream",
     "text": [
      "2017-01-01 00:00:00    17\n",
      "2017-01-01 06:00:00    18\n",
      "2017-01-01 12:00:00    22\n",
      "2017-01-01 18:00:00    25\n",
      "2017-01-02 00:00:00    21\n",
      "Freq: 6H, dtype: int32\n",
      "2017-01-01    3.416667\n",
      "2017-01-02    3.291667\n",
      "2017-01-03    3.458333\n",
      "2017-01-04    3.791667\n",
      "2017-01-05    3.291667\n",
      "Freq: D, dtype: float64\n"
     ]
    },
    {
     "data": {
      "image/png": "[encoded data removed]",
      "text/plain": [
       "<matplotlib.figure.Figure at 0x1d10f197978>"
      ]
     },
     "metadata": {},
     "output_type": "display_data"
    },
    {
     "name": "stdout",
     "output_type": "stream",
     "text": [
      "En şanslı olduğumuz gün: 2017-01-14 00:00:00, zarların ortalaması: 4.375\n"
     ]
    }
   ],
   "source": [
    "# 6 saatlik toplamlara bakalım.\n",
    "zar1 = zar.resample('6H').sum()\n",
    "print(zar1.head())\n",
    "\n",
    "# Günlük ortalamaya bakalım.\n",
    "zar2 = zar.resample('D').mean()\n",
    "print(zar2.head())\n",
    "\n",
    "# Günlük ortalamaları çizgi grafiği biçiminde çizdirelim.\n",
    "plt.figure(figsize=(10,5))\n",
    "zar2.plot(kind = 'line')\n",
    "plt.show()\n",
    "print('En şanslı olduğumuz gün: {}, zarların ortalaması: {}'.format(zar2.idxmax(), zar2[zar2.idxmax()]))"
   ]
  },
  {
   "cell_type": "markdown",
   "metadata": {},
   "source": [
    "Bu yazının Jupyter defterine [Github](https://github.com/sibirbil/VeriDefteri) dizinimizden ulaşabilirsiniz."
   ]
  }
 ],
 "metadata": {
  "kernelspec": {
   "display_name": "Python 3",
   "language": "python",
   "name": "python3"
  },
  "language_info": {
   "codemirror_mode": {
    "name": "ipython",
    "version": 3
   },
   "file_extension": ".py",
   "mimetype": "text/x-python",
   "name": "python",
   "nbconvert_exporter": "python",
   "pygments_lexer": "ipython3",
   "version": "3.6.3"
  }
 },
 "nbformat": 4,
 "nbformat_minor": 2
}
