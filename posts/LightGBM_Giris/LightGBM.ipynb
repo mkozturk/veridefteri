{
 "cells": [
  {
   "cell_type": "markdown",
   "metadata": {},
   "source": [
    "Bu yazımızda Microsot tarafından hazırlanan ve Kaggle gibi platformlarda oldukça popülerleşen [LightGBM](https://github.com/Microsoft/LightGBM) kütüphanesini tanıtacağız. `LightGBM` kullanımı artan gradient boosting yöntemini kullanan bir kütüphane. Gradient Boosting yöntemini kullanan başka kütüphane ve modüller de mevcut. Örneğin [scikit-learn](http://scikit-learn.org/stable/modules/generated/sklearn.ensemble.GradientBoostingClassifier.html) üzerinden kullanabileceğiniz bir modül var. R kullanmayı tercih edenler için [gbm](https://cran.r-project.org/package=gbm) kütüphanesi bir diğer alternatif. Ayrıca R ve Python üzerinde çalışabilen ve yine oldukça popüler bir kütüphane olan [xgboost](https://github.com/dmlc/xgboost) da gradient boosting yöntemini kullanan paketlere örnek olarak verilebilir. `xgboost` ve `gbm` paketlerini kullanmadığımı söylemem lazım. `xgboost` paketini Python üzerinden kullanmak çok kolay değil; ancak R üzerinden yüklemek Python'a göre daha kolay. `scikit-learn` paketine kıyasla `LightGBM`in avantajı ise oldukça hızlı olması. Hız farkı GPU kullanmadığınızda bile rahatlıkla görebileceğiniz düzeyde. `LightGBM` aynı zamanda `scikit-learn` komutlarını kullanmanıza imkan tanıyan bir katman (wrapper) ile geliyor.\n",
    "\n",
    "# Boosting\n",
    "\n",
    "Boosting, kullanımı her geçen gün artan topluluk öğrenme (ensemble learning) yöntemlerinden biri. Boosting yöntemlerinin temeli, tahminleri rassal tahminden biraz daha başarılı zayıf öğrenen modellerin (weak learner) topluluk olarak tahmin yapması esasına dayanıyor. Örnek olarak bir ikili sınıflandırma problemi için zayıf öğrenen model, 0.5 olasılıktan biraz daha yüksek başarıyla tahmin yapan bir model olabilir. Boosting yöntemlerinde bu modeller sıralı olarak ve belirli ağırlıklar verilerek oluşturulur. AdaBoost yöntemi hatalı tahminlerin ağırlıklarını arttırarak sıradaki modeli oluşturarak hatayı azaltmaya çalışır. Gradient Boosting ise o iterasyonda yapılan hataları bir sonraki modelde öğrenmeye çalışarak tahmin yapar. Bu sayede ilk modellerde verideki örüntüler kabaca öğrenilir ve ileriki iterasyonlarda da yapılan hatalar düzeltilmeye çalışılır. Hatayı öğrenmek aynı zamanda modelin daha karmaşık yapıları öğrenebilmesini de sağlar. Gradient boosting ismi, tahmin etmeye çalıştığımız hatanın, fonksiyonunun gradyanının negatifine denk gelmesinden gelmektedir. \n",
    "\n",
    "# LightGBM\n",
    "`LightGBM` paketinin [dokümantasyonu](https://lightgbm.readthedocs.io/en/latest/) parametreleri açıklama ve API'ı tanıtma konusunda başarılı. Aynı zamanda çeşitli uygulama örnekleri de mevcut. Paketi yüklemek için `VC runtime` uygulamasını yüklemiş olmanız şart. Uygulama Visual C++ yüklü olmayan bilgisayarlarda da `LightGBM`'in çalışmasını sağlayacak kütüphaneleri içeriyor. Bunu yükledikten sonra `pip` ya da `conda` ile yükleme yapabilirsiniz. Yükleme hakkında detaylı bilgi almak için [paketin dokümanlarına](https://github.com/Microsoft/LightGBM/tree/master/python-package) bakabilirsiniz.\n",
    "\n",
    "Bu paket benim dikkatimi Kaggle üzerindeki [Instacart](https://www.kaggle.com/c/instacart-market-basket-analysis) yarışmasıyla çekmişti. Bu yarışmanın forumlarındaki örneklere bakmanızı da tavsiye ederim. Hem verinin hazırlanması, hem de `LightGBM`in kullanımı konusunda iyi uygulamalara rastlayabilirsiniz.\n",
    "\n",
    "Şimdi `LightGBM` paketinin kullanımını UCI dizinindeki [banka pazarlama veri kümesi](https://archive.ics.uci.edu/ml/datasets/bank+marketing) üzerinden inceleyelim. Amaç müşterilerin özelliklerine ve ekonomik göstergelere bakarak müşterilerin kampanya tekliflerine dönüş yapıp yapmayacağını tahmin etmek. Elimizdeki problem iki sınıftan oluşan bir sınıflandırma problemi, ancak `LightGBM` farklı problem sınıfları için de kullanılabiliyor.\n",
    "\n",
    "Paketleri yükleyerek ve veri kümesini okuyarak başlayalım."
   ]
  },
  {
   "cell_type": "code",
   "execution_count": 1,
   "metadata": {},
   "outputs": [
    {
     "name": "stdout",
     "output_type": "stream",
     "text": [
      "   yaş         iş medeni_durum       eğitim  gecikme   ev borç   iletişim  \\\n",
      "0   56  housemaid      married     basic.4y       no   no   no  telephone   \n",
      "1   57   services      married  high.school  unknown   no   no  telephone   \n",
      "2   37   services      married  high.school       no  yes   no  telephone   \n",
      "3   40     admin.      married     basic.6y       no   no   no  telephone   \n",
      "4   56   services      married  high.school       no   no  yes  telephone   \n",
      "\n",
      "    ay haftanın_günü  süre  kampanya  önceki_iletişimden_sonra_geçen_gün  \\\n",
      "0  may           mon   261         1                                 999   \n",
      "1  may           mon   149         1                                 999   \n",
      "2  may           mon   226         1                                 999   \n",
      "3  may           mon   151         1                                 999   \n",
      "4  may           mon   307         1                                 999   \n",
      "\n",
      "   iletişim_sayısı iletişim_sonucu  işsizlik  tüketici_fiyat_endeksi  \\\n",
      "0                0     nonexistent       1.1                  93.994   \n",
      "1                0     nonexistent       1.1                  93.994   \n",
      "2                0     nonexistent       1.1                  93.994   \n",
      "3                0     nonexistent       1.1                  93.994   \n",
      "4                0     nonexistent       1.1                  93.994   \n",
      "\n",
      "   tüketici_güven_endeksi  euribor_faizi  çalışan_sayısı  \n",
      "0                   -36.4          4.857          5191.0  \n",
      "1                   -36.4          4.857          5191.0  \n",
      "2                   -36.4          4.857          5191.0  \n",
      "3                   -36.4          4.857          5191.0  \n",
      "4                   -36.4          4.857          5191.0  \n"
     ]
    }
   ],
   "source": [
    "# Veri çerçevesi oluşturmak için Pandas paketini kullanıyoruz.\n",
    "import pandas as pd\n",
    "# Veri kümesini ikiye bölmek ve performans ölçütlerinin hesaplanması için gerekli modüller.\n",
    "from sklearn.model_selection import train_test_split\n",
    "from sklearn.metrics import roc_auc_score, accuracy_score\n",
    "# Grafik çizdirmek için gerekli paket.\n",
    "import matplotlib.pyplot as plt\n",
    "# LightGBM paketi.\n",
    "import lightgbm as lgb\n",
    "import numpy as np\n",
    "#Uyarı mesajlarını kapatmak için\n",
    "import warnings\n",
    "warnings.filterwarnings(\"ignore\")\n",
    "# Veri çerçevelerini daha güzel görselleştirmek için\n",
    "from IPython.display import display, HTML\n",
    "# Veri kümesini okuyalım ve etiketleri ayıralım. Veri çerçevesindeki sütun isimlerini de değiştiriyoruz.\n",
    "df = pd.read_csv('bank-additional-full.csv', delimiter=';')\n",
    "y= (df['y'] == 'yes')*1\n",
    "df.drop('y', axis=1, inplace = True)\n",
    "\n",
    "df.columns = ['yaş', 'iş', 'medeni_durum', 'eğitim', 'gecikme', 'ev', 'borç', 'iletişim', 'ay', 'haftanın_günü',\n",
    "              'süre', 'kampanya', 'önceki_iletişimden_sonra_geçen_gün', 'iletişim_sayısı', 'iletişim_sonucu', \n",
    "              'işsizlik', 'tüketici_fiyat_endeksi', 'tüketici_güven_endeksi', 'euribor_faizi', 'çalışan_sayısı'] \n",
    "print(df.head())"
   ]
  },
  {
   "cell_type": "markdown",
   "metadata": {},
   "source": [
    "Verideki değişkenlerin anlamlarını aşağıda ve veri kümesini indirebileceğiniz [web sayfasında](https://archive.ics.uci.edu/ml/datasets/bank+marketing) bulabilirsiniz:\n",
    "* yaş: Müşterinin yaşı.\n",
    "* iş: Müşterinin işinin tanımı.\n",
    "* medeni_durum: Müşterinin medeni durumu.\n",
    "* eğitim: Müşterinin eğitim durumu.\n",
    "* gecikme: Borcunu ödemekte gecikme yaşadığı kredi var mı?\n",
    "* ev: Ev kredisi ödüyor mu?\n",
    "* borç: Başka kredi ödüyor mu?\n",
    "* iletişim: İletişim için seçtiği telefon tipi (sabit hat, GSM).\n",
    "* ay: En son iletişim kurulan ay.\n",
    "* haftanın_günü: En son iletişim kurulan gün (haftanın günü olarak). \n",
    "* süre: En son iletişim kurulan süre. Bu değişken 0 değerini aldığında etiket de 0 (ya da `no`) değerini aldığı için sağlıklı bir analiz için bu değişkeni veri kümesinden çıkarıyoruz.\n",
    "* kampanya: Müşteri için bu kampanya özelinde kaç kere iletişim kurulduğu bilgisi.\n",
    "* önceki_iletişimden_sonra_geçen_gün: Müşteriyle başka bir kampanya için iletişim kurulan günden bu yana geçen zaman. Değer 999 ise iletişim kurulmadığı anlamına geliyor. \n",
    "* iletişim_sayısı: Müşteriyle bu kampanya öncesi kurulan iletişim sayısı.\n",
    "* iletişim_sonucu: Önceki kampanya iletişiminin sonucu.                     \n",
    "* işsizlik: İşsizlik endeksindeki değişim.\n",
    "* tüketici_fiyat_endeksi: Tüketici fiyat endeksi.\n",
    "* tüketici_güven_endeksi: Tüketici güven endeksi.\n",
    "* euribor_faizi: Euribor faizi (Euro Interbank Offered Rate).\n",
    "* çalışan_sayısı: Çalışan nüfus sayısı.\n",
    "\n",
    "Gördüğümüz gibi son beş değişken daha çok sosyal ve ekonomik göstergelerden oluşuyor. Bu göstergeler kampanya teklifinin yapıldığı zamana ait değerleri içeriyor. Veri kümesinde eksik değerler olup olmadığını inceleyelim."
   ]
  },
  {
   "cell_type": "code",
   "execution_count": 2,
   "metadata": {},
   "outputs": [
    {
     "name": "stdout",
     "output_type": "stream",
     "text": [
      "yaş                                   0\n",
      "iş                                    0\n",
      "medeni_durum                          0\n",
      "eğitim                                0\n",
      "gecikme                               0\n",
      "ev                                    0\n",
      "borç                                  0\n",
      "iletişim                              0\n",
      "ay                                    0\n",
      "haftanın_günü                         0\n",
      "süre                                  0\n",
      "kampanya                              0\n",
      "önceki_iletişimden_sonra_geçen_gün    0\n",
      "iletişim_sayısı                       0\n",
      "iletişim_sonucu                       0\n",
      "işsizlik                              0\n",
      "tüketici_fiyat_endeksi                0\n",
      "tüketici_güven_endeksi                0\n",
      "euribor_faizi                         0\n",
      "çalışan_sayısı                        0\n",
      "dtype: int64\n"
     ]
    }
   ],
   "source": [
    "print(df.isnull().sum())"
   ]
  },
  {
   "cell_type": "markdown",
   "metadata": {},
   "source": [
    "Veri kümesinde eksik değer yok. Aslında bilinmeyen (`unknown`) gibi değerler mevcut. Ayrıca `önceki_iletişimden_sonra_geçen_gün` değişkeni de 999 değerini aldığında bu değişkenin tanımlı olmadığı duruma denk geliyor. Şimdilik eksik değerlere odaklanmayalım ancak ileride eksik değerlerle tahmin yapmayı da göreceğiz. \n",
    "\n",
    "Veri kümesinde eksik değer bulunmasa da, kategorik değişkenler bulunmakta. Örnek olarak `iş` sütununu inceleyelim."
   ]
  },
  {
   "cell_type": "code",
   "execution_count": 3,
   "metadata": {},
   "outputs": [
    {
     "data": {
      "text/plain": [
       "array(['housemaid', 'services', 'admin.', 'blue-collar', 'technician',\n",
       "       'retired', 'management', 'unemployed', 'self-employed', 'unknown',\n",
       "       'entrepreneur', 'student'], dtype=object)"
      ]
     },
     "execution_count": 3,
     "metadata": {},
     "output_type": "execute_result"
    }
   ],
   "source": [
    "df['iş'].unique()"
   ]
  },
  {
   "cell_type": "markdown",
   "metadata": {},
   "source": [
    "Kategorik değişkenleri sayısal hale getirmemiz gerekiyor. Bu amaçla `scikit-learn` paketindeki `LabelEncoder` modülünü kullanabiliriz. Bahsettiğim modül değişkenleri 0 ve değer sayısı - 1 (bu örnekte 12 ayrı değer olduğu için 11) arasındaki sayılara çevirecek. Örnek olarak `housemaid` 0 değerini alırken `student` 11 değerini alacak. Kategorik değişkenleri 0 ve 1 değerleri alan kukla değişkenlere çevirmek için `LabelBinarizer` modülünü kullanabilirsiniz. Veri kümesinin boyutunu arttırmamak için ben `LabelEncoder`ı kullandım. `LightGBM` kategorik değişkenleri belirttiğimiz takdirde, bu değişkenleri o bilgiye göre değerlendirebiliyor. Ayrıca, `LightGBM` birbirini dışlayan (mutually exclusive) sütunları kendi içinde birleştirdiği için yapacağımız iki değişiklik de aynı kapıya çıkacak.\n",
    "\n",
    "Veri kümesindeki kategorik değişkenleri sayısal hale getirelim."
   ]
  },
  {
   "cell_type": "code",
   "execution_count": 4,
   "metadata": {},
   "outputs": [
    {
     "name": "stdout",
     "output_type": "stream",
     "text": [
      "   yaş  iş  medeni_durum  eğitim  gecikme  ev  borç  iletişim  ay  \\\n",
      "0   56   3             1       0        0   0     0         1   6   \n",
      "1   57   7             1       3        1   0     0         1   6   \n",
      "2   37   7             1       3        0   2     0         1   6   \n",
      "3   40   0             1       1        0   0     0         1   6   \n",
      "4   56   7             1       3        0   0     2         1   6   \n",
      "\n",
      "   haftanın_günü  süre  kampanya  önceki_iletişimden_sonra_geçen_gün  \\\n",
      "0              1   261         1                                 999   \n",
      "1              1   149         1                                 999   \n",
      "2              1   226         1                                 999   \n",
      "3              1   151         1                                 999   \n",
      "4              1   307         1                                 999   \n",
      "\n",
      "   iletişim_sayısı  iletişim_sonucu  işsizlik  tüketici_fiyat_endeksi  \\\n",
      "0                0                1       1.1                  93.994   \n",
      "1                0                1       1.1                  93.994   \n",
      "2                0                1       1.1                  93.994   \n",
      "3                0                1       1.1                  93.994   \n",
      "4                0                1       1.1                  93.994   \n",
      "\n",
      "   tüketici_güven_endeksi  euribor_faizi  çalışan_sayısı  \n",
      "0                   -36.4          4.857          5191.0  \n",
      "1                   -36.4          4.857          5191.0  \n",
      "2                   -36.4          4.857          5191.0  \n",
      "3                   -36.4          4.857          5191.0  \n",
      "4                   -36.4          4.857          5191.0  \n"
     ]
    }
   ],
   "source": [
    "from sklearn.preprocessing import LabelEncoder\n",
    "\n",
    "kategorik_sutunlar = ['iş', 'medeni_durum', 'eğitim', 'gecikme', 'ev', 'borç', 'iletişim', 'ay',\n",
    "                      'haftanın_günü', 'iletişim_sonucu']\n",
    "\n",
    "for i in kategorik_sutunlar:\n",
    "    le = LabelEncoder()\n",
    "    df[i] = le.fit_transform(df[i])\n",
    "print(df.head())"
   ]
  },
  {
   "cell_type": "markdown",
   "metadata": {},
   "source": [
    "Burada şunu belirtmem gerekiyor. Yaptığımız dönüşüm işlemini geri dönüşsüz olarak yaptık. Yani dönüştürdüğümüz kolonlardaki değerleri kaybettik. Veri kümesinin orijinal versiyonuyla bir eşleştirme yaparak bu değerleri tekrar elde edebiliriz. Eski değerleri koruyarak bu değişimi yapmak `scikit-learn` ile biraz daha zor bir işlem ve bu yazının konusunun dışında. Ancak [derin kopyalama](http://www.veridefteri.com/2018/03/19/python-programlamaya-giris-18-python-referans-modeli-sig-ve-derin-kopyalama/) ile veri çerçevesinin orijinalinin bir kopyasını oluşturmak mümkün.\n",
    "\n",
    "Veri kümesini analize uygun hale getirdiğimize göre eğitim ve sınama için ikiye bölelim ve `süre` değişkenini kümeden çıkartalım."
   ]
  },
  {
   "cell_type": "code",
   "execution_count": 5,
   "metadata": {},
   "outputs": [],
   "source": [
    "df.drop('süre', inplace = True, axis=1)\n",
    "df_train, df_test, y_train, y_test = train_test_split(df, y, train_size = 0.7, test_size = 0.3)"
   ]
  },
  {
   "cell_type": "markdown",
   "metadata": {},
   "source": [
    "# Veri kümesi oluşturma\n",
    "\n",
    "`LightGBM`, numpy sıralı nesneleri ve pandas veri çerçeveleri yanında kendi veri kümesi (`Dataset`) ile de çalışabiliyor. Veri kümesi oluştururken etiket değerlerini (`label`) ve verinin kendisini (`data`) veri kümesine tanıtmamız gerekiyor. `free_raw_data=False` opsiyonuyla da veri kümesini oluştururken kullandığınız veri çerçevesi ya da sıralı nesnelerin kodun ilerleyen kısımlarında kullanılabilmesini sağlıyor. Veri kümelerini oluştururken kategorik değişkenleri tanımlamak mümkün olsa da biz bunu modelin eğitilmesi sırasında yapacağız. "
   ]
  },
  {
   "cell_type": "code",
   "execution_count": 6,
   "metadata": {},
   "outputs": [],
   "source": [
    "# Veri kümesi oluşturalım.\n",
    "lgb_train = lgb.Dataset(data=df_train, label=y_train,  free_raw_data=False)"
   ]
  },
  {
   "cell_type": "markdown",
   "metadata": {},
   "source": [
    "# Modelin parametrelerini belirleme\n",
    "\n",
    "`Scikit-learn`'den farklı olarak kuracağımız modelin parametrelerini bir sözlük olarak tanımlamamız gerekiyor. `LightGBM` daha çok parametre içerdiği için hepsinden bahsetmek yararlı olmayabilir. Ama en önemli parametreleri aşağıda bulabilirsiniz:\n",
    "\n",
    "* `task`: Eğitim için 'train' değerini kullanabiliriz. Bunun yanısıra tahmin ve test için 'predict' ve modeli yeni veri ile güncellemek için 'refit' değerlerini kullanabiliriz.\n",
    "* `boosting_type`: Boosting için kullanacağımız yöntemi belirtmek için kullanıyoruz. \n",
    "    * 'gbdt' karar ağaçları temelli gradient boosting, \n",
    "    * 'rf' rastgele orman, \n",
    "    * 'goss' Gradient-based One-Side Sampling, enküçüklemek istediğimiz hata fonksiyonuna çok fazla katkısı olmayan gözlemleri kısmen dışarıda bırakan bir yöntem,\n",
    "    * 'dart' Dropouts meet Multiple Additive Regression Trees, gradient boosting yönteminde aşırı uyumu engelleyen bir yöntem.\n",
    "* `objective`: Çözeceğimiz problem tipi ve enküçükleyeceğimiz hata fonksiyonunu belirtiyor. `LightGBM` sınıflandırma, bağlanım, sıralama gibi problemleri çözebilen bir kütüphane. En sık kullanacağız problem tiplerini aşağıda bulabilirsiniz:\n",
    "    * 'binary': ikili sınıflandırma problemleri için,\n",
    "    * 'regression_l1' ortalama mutlak hatayı enküçükleyen bağlanım problemleri için,\n",
    "    * 'regression_l2' ortalama karesel hatayı enküçükleyen bağlanım problemleri için,\n",
    "    * 'multiclass' çok sınıflı sınıflandırma problemleri için,\n",
    "    * 'lambdarank' sıralama problemleri için kullanılabilir. Bahsettiklerim dışında birçok amaç fonksiyonunu kullanmanız mümkün.\n",
    "* `metric`: Modelin başarısını değerlendirmek için kullanacağımız değerlendirme ölçütü. `LightGBM` birden fazla ölçütü desteklediği gibi, bu değeri boş bırakmanız halinde belirttiğiniz `objective` değerine uygun bir ölçüt seçecektir. Yukarıda belirttiğimiz uygulamalar için aşağıdaki ölçütler uygun olabilir:\n",
    "    * 'AUC': eğri altı alan\n",
    "    * 'binary_error': isabetlilik\n",
    "    * 'binary_logloss': logaritmik kayıp fonksiyonu (sınıflandırma problemlerinde atanan olasılıklara göre değişen bir hata fonksiyonu)\n",
    "    * 'l1': ortalama mutlak hata\n",
    "    * 'l2': ortalama karesel hata\n",
    "    * 'multi_error': çok sınıflı sınıflandırma problemlerinde isabetlilik\n",
    "    * 'multi_logloss': çok sınıflı sınıflandırma problemlerindeki olasılıksal hata\n",
    "* `num_leaves`: Her iterasyonda oluşturulacak karar ağacının yaprak sayısı. Bu rakamın yüksek olması yöntemin çalışma süresini uzatıp performansını düşürecektir. Boosting iterasyonlarındaki tahminler çok iyi yöntemlere ihtiyaç duymaz.\n",
    "* `learning_rate`: Bu değer yöntemin ilerledikçe oluşturulan karar ağaçlarının önemindeki azalma oranını gösterir. Değerin yüksek olması hatayı tahmin eden karar ağaçlarının önemini arttıracağı için sonucu kötüleştirebilir.\n",
    "* `num_boosting_round`: Yöntemde kullanacağımız iterasyon sayısını belirler. İterasyon sayısının yüksek olması aşırı uyuma yol açabilir; düşük olması ise örüntüleri öğrenmemizi engeller. `num_leaves`, `learning_rate` ve `num_boosting_round` değerlerini birlikte değerlendirmemiz gerekir.\n",
    "\n",
    "En temel parametrelerden oluşan bir model kurarak başlayalım. Modelimiz bir ikili sınıflandırma problemi. Eniyilenecek ölçüt olarak eğri altı alan değerini seçelim. Modeli eğitmek için `train` fonksiyonunu kullanacağız ve kategorik öznitelikleri de belirtiyoruz. "
   ]
  },
  {
   "cell_type": "code",
   "execution_count": 7,
   "metadata": {},
   "outputs": [
    {
     "name": "stdout",
     "output_type": "stream",
     "text": [
      "Kategorik değişkenler: ['iş' 'medeni_durum' 'eğitim' 'gecikme' 'ev' 'borç' 'iletişim' 'ay'\n",
      " 'haftanın_günü' 'iletişim_sonucu']\n",
      "Eğitim...\n",
      "Eğitim bitti...\n"
     ]
    }
   ],
   "source": [
    "# Eğitim parametrelerini belirleyelim\n",
    "params = {\n",
    "    'task': 'train',\n",
    "    'boosting_type': 'gbdt',\n",
    "    'objective': 'binary',\n",
    "    'metric': 'auc',\n",
    "    'num_leaves': 31,\n",
    "    'learning_rate': 0.05,\n",
    "    'verbose': -1\n",
    "}\n",
    "\n",
    "# Kategorik değişkenlerin indeksleri\n",
    "kategorik_indeks = [1,2,3,4,5,6,7,8,9,13]\n",
    "print('Kategorik değişkenler: ' + str(df_train.columns[kategorik_indeks].values))\n",
    "\n",
    "print('Eğitim...')\n",
    "# Modeli eğitelim\n",
    "gbm = lgb.train(params,\n",
    "                lgb_train,\n",
    "                categorical_feature = kategorik_indeks)\n",
    "print('Eğitim bitti...')"
   ]
  },
  {
   "cell_type": "markdown",
   "metadata": {},
   "source": [
    "Şimdi eğittiğimiz modelin başarısına bakalım. Bu amaçla `predict` fonksiyonunu kullanacağız. Alternatif olarak `task` değerini değiştirmeyi de tercih edebilirdik."
   ]
  },
  {
   "cell_type": "code",
   "execution_count": 8,
   "metadata": {},
   "outputs": [
    {
     "name": "stdout",
     "output_type": "stream",
     "text": [
      "Eğri altı alan değeri: 0.805879217343\n",
      "İsabetlilik değeri: 0.901756089666\n"
     ]
    }
   ],
   "source": [
    "# Tahmin ve değerlendirme\n",
    "y_pred = gbm.predict(df_test)\n",
    "\n",
    "print('Eğri altı alan değeri:', roc_auc_score(y_test, y_pred))\n",
    "print('İsabetlilik değeri:', accuracy_score(y_test, ( y_pred>= 0.5)*1))"
   ]
  },
  {
   "cell_type": "markdown",
   "metadata": {},
   "source": [
    "Buraya kadar [`scikit-learn`](http://www.veridefteri.com/2017/11/23/scikit-learn-ile-veri-analitigine-giris/) üzerinde yaptıklarımıza oldukça benzer bir akış izledik. Ancak eğittiğimiz modelin başarısını değerlendirmek için bu amaçla oluşturduğumuz veri kümesini kullanabiliriz. Bu sayede, değerlendirme için kullandığımız veri kümesinde en iyi sonucu verecek iterasyonu (dolayısıyla modeli) kullanabiliriz. Bu özellik, aşırı uyum gibi problemlerin önüne geçebilir.\n",
    "\n",
    "Bu özelliği kullanmak için iterasyon sayısını arttıralım. Aşağıdaki kodda modelin eğitimini 150 iterasyon boyunca (`num_boost_round` değeri) sürdürüyoruz. Ancak 25 iterasyon (`early_stopping_rounds` değeri) boyunca iyileşme sağlayamazsak, modelin eğitilmesini durdurup en iyi sonucu veren iterasyonu kullanacağız. Burada sonuçların bu noktadan sonra tekrar iyileşmeyeceğini varsayıyoruz. Aşırı uyum gibi nedenlerle, bu varsayımın geçerli bir varsayım olduğunu düşünebiliriz."
   ]
  },
  {
   "cell_type": "code",
   "execution_count": 9,
   "metadata": {},
   "outputs": [
    {
     "name": "stdout",
     "output_type": "stream",
     "text": [
      "Eğitim...\n",
      "[1]\tvalid_0's auc: 0.78742\n",
      "Training until validation scores don't improve for 25 rounds.\n",
      "[2]\tvalid_0's auc: 0.789475\n",
      "[3]\tvalid_0's auc: 0.789526\n",
      "[4]\tvalid_0's auc: 0.789663\n",
      "[5]\tvalid_0's auc: 0.789849\n",
      "[6]\tvalid_0's auc: 0.789768\n",
      "[7]\tvalid_0's auc: 0.789819\n",
      "[8]\tvalid_0's auc: 0.789839\n",
      "[9]\tvalid_0's auc: 0.789914\n",
      "[10]\tvalid_0's auc: 0.797747\n",
      "[11]\tvalid_0's auc: 0.797924\n",
      "[12]\tvalid_0's auc: 0.797741\n",
      "[13]\tvalid_0's auc: 0.797905\n",
      "[14]\tvalid_0's auc: 0.797997\n",
      "[15]\tvalid_0's auc: 0.79871\n",
      "[16]\tvalid_0's auc: 0.798828\n",
      "[17]\tvalid_0's auc: 0.799208\n",
      "[18]\tvalid_0's auc: 0.800333\n",
      "[19]\tvalid_0's auc: 0.800382\n",
      "[20]\tvalid_0's auc: 0.800398\n",
      "[21]\tvalid_0's auc: 0.800523\n",
      "[22]\tvalid_0's auc: 0.800968\n",
      "[23]\tvalid_0's auc: 0.80091\n",
      "[24]\tvalid_0's auc: 0.800688\n",
      "[25]\tvalid_0's auc: 0.800484\n",
      "[26]\tvalid_0's auc: 0.80053\n",
      "[27]\tvalid_0's auc: 0.80241\n",
      "[28]\tvalid_0's auc: 0.803091\n",
      "[29]\tvalid_0's auc: 0.803029\n",
      "[30]\tvalid_0's auc: 0.802915\n",
      "[31]\tvalid_0's auc: 0.803011\n",
      "[32]\tvalid_0's auc: 0.802773\n",
      "[33]\tvalid_0's auc: 0.802956\n",
      "[34]\tvalid_0's auc: 0.803421\n",
      "[35]\tvalid_0's auc: 0.803552\n",
      "[36]\tvalid_0's auc: 0.803796\n",
      "[37]\tvalid_0's auc: 0.804098\n",
      "[38]\tvalid_0's auc: 0.804464\n",
      "[39]\tvalid_0's auc: 0.805213\n",
      "[40]\tvalid_0's auc: 0.805624\n",
      "[41]\tvalid_0's auc: 0.805729\n",
      "[42]\tvalid_0's auc: 0.806006\n",
      "[43]\tvalid_0's auc: 0.806238\n",
      "[44]\tvalid_0's auc: 0.806333\n",
      "[45]\tvalid_0's auc: 0.806415\n",
      "[46]\tvalid_0's auc: 0.806387\n",
      "[47]\tvalid_0's auc: 0.806478\n",
      "[48]\tvalid_0's auc: 0.806487\n",
      "[49]\tvalid_0's auc: 0.80655\n",
      "[50]\tvalid_0's auc: 0.806739\n",
      "[51]\tvalid_0's auc: 0.806779\n",
      "[52]\tvalid_0's auc: 0.80684\n",
      "[53]\tvalid_0's auc: 0.806934\n",
      "[54]\tvalid_0's auc: 0.807166\n",
      "[55]\tvalid_0's auc: 0.807061\n",
      "[56]\tvalid_0's auc: 0.806932\n",
      "[57]\tvalid_0's auc: 0.806948\n",
      "[58]\tvalid_0's auc: 0.807069\n",
      "[59]\tvalid_0's auc: 0.807448\n",
      "[60]\tvalid_0's auc: 0.80764\n",
      "[61]\tvalid_0's auc: 0.807637\n",
      "[62]\tvalid_0's auc: 0.807189\n",
      "[63]\tvalid_0's auc: 0.807577\n",
      "[64]\tvalid_0's auc: 0.807447\n",
      "[65]\tvalid_0's auc: 0.807197\n",
      "[66]\tvalid_0's auc: 0.807345\n",
      "[67]\tvalid_0's auc: 0.807731\n",
      "[68]\tvalid_0's auc: 0.80744\n",
      "[69]\tvalid_0's auc: 0.807468\n",
      "[70]\tvalid_0's auc: 0.80767\n",
      "[71]\tvalid_0's auc: 0.80748\n",
      "[72]\tvalid_0's auc: 0.807401\n",
      "[73]\tvalid_0's auc: 0.807318\n",
      "[74]\tvalid_0's auc: 0.807318\n",
      "[75]\tvalid_0's auc: 0.807065\n",
      "[76]\tvalid_0's auc: 0.807099\n",
      "[77]\tvalid_0's auc: 0.807325\n",
      "[78]\tvalid_0's auc: 0.807164\n",
      "[79]\tvalid_0's auc: 0.807235\n",
      "[80]\tvalid_0's auc: 0.807182\n",
      "[81]\tvalid_0's auc: 0.807137\n",
      "[82]\tvalid_0's auc: 0.806981\n",
      "[83]\tvalid_0's auc: 0.806606\n",
      "[84]\tvalid_0's auc: 0.806676\n",
      "[85]\tvalid_0's auc: 0.806778\n",
      "[86]\tvalid_0's auc: 0.806717\n",
      "[87]\tvalid_0's auc: 0.806822\n",
      "[88]\tvalid_0's auc: 0.806925\n",
      "[89]\tvalid_0's auc: 0.806777\n",
      "[90]\tvalid_0's auc: 0.806597\n",
      "[91]\tvalid_0's auc: 0.806535\n",
      "[92]\tvalid_0's auc: 0.806461\n",
      "Early stopping, best iteration is:\n",
      "[67]\tvalid_0's auc: 0.807731\n",
      "Eğitim bitti...\n",
      "En iyi sonucu veren iterasyon:  67\n",
      "Eğri altı alan değeri: 0.807731053993\n",
      "İsabetlilik değeri: 0.900056648054\n"
     ]
    }
   ],
   "source": [
    "# Değerlendirme veri kümesini oluşturuyoruz.\n",
    "lgb_eval = lgb.Dataset(data=df_test, label=y_test, reference=lgb_train,  free_raw_data=False)\n",
    "\n",
    "# Eğitim parametrelerini belirleyelim\n",
    "params = {\n",
    "    'task': 'train',\n",
    "    'boosting_type': 'gbdt',\n",
    "    'objective': 'binary',\n",
    "    'metric': 'auc',\n",
    "    'num_leaves': 31,\n",
    "    'learning_rate': 0.05,\n",
    "    'verbose': -1\n",
    "}\n",
    "\n",
    "print('Eğitim...')\n",
    "# Modeli eğitelim\n",
    "# Bu sefer değerlendirme veri kümesini de tanıtıyoruz.\n",
    "evals_result={}\n",
    "gbm = lgb.train(params,\n",
    "                lgb_train,\n",
    "                valid_sets = lgb_eval,\n",
    "                categorical_feature = kategorik_indeks,\n",
    "                num_boost_round= 150,\n",
    "                early_stopping_rounds= 25,\n",
    "                evals_result=evals_result)\n",
    "print('Eğitim bitti...')\n",
    "\n",
    "# Tahmin ve değerlendirme\n",
    "y_pred = gbm.predict(df_test, num_iteration=gbm.best_iteration)\n",
    "\n",
    "print('En iyi sonucu veren iterasyon: ', gbm.best_iteration)\n",
    "print('Eğri altı alan değeri:', roc_auc_score(y_test, y_pred))\n",
    "print('İsabetlilik değeri:', accuracy_score(y_test, ( y_pred>= 0.5)*1))"
   ]
  },
  {
   "cell_type": "markdown",
   "metadata": {},
   "source": [
    "67 numaralı iterasyonda en iyi sonucu elde ettik. 25 iterasyon boyunca daha iyi bir sonuç elde edemediğimiz için 92 numaralı iterasyondan sonra modeli eğitmeyi durdurduk. \n",
    "\n",
    "Modelle ilgili çeşitli başarı ölçütlerini ve tahmin amacıyla kullandığımız özniteliklerin önemlerini çizdirmek için de fonksiyonlar içeriyor. `plot_metric` ile modelde kullandığınız başarı ölçütlerinin grafiğini çizdirmeniz mümkün. "
   ]
  },
  {
   "cell_type": "code",
   "execution_count": 10,
   "metadata": {},
   "outputs": [
    {
     "name": "stdout",
     "output_type": "stream",
     "text": [
      "Eğri altı alan...\n"
     ]
    },
    {
     "data": {
      "image/png": "[encoded data removed]",
      "text/plain": [
       "<matplotlib.figure.Figure at 0x1d992d416a0>"
      ]
     },
     "metadata": {},
     "output_type": "display_data"
    }
   ],
   "source": [
    "print('Eğri altı alan...')\n",
    "ax = lgb.plot_metric(evals_result, metric='auc')\n",
    "ax.set_title('Eğri Altı Alanın İterasyona Göre Değişimi')\n",
    "ax.set_xlabel('İterasyon')\n",
    "ax.set_ylabel('Eğri Altı Alan Değeri')\n",
    "ax.legend_.remove()\n",
    "plt.show()"
   ]
  },
  {
   "cell_type": "markdown",
   "metadata": {},
   "source": [
    "Şekle göre ilk 20 iterasyonda başarının ciddi şekilde arttığı görülüyor. 40 numaralı iterasyondan sonra sonuçlardaki iyileşme daha az. 67 numaralı iterasyondan sonra ise sonuçlar kötüleşmeye başlamış (aşırı uyum).\n",
    "\n",
    "`scikit-learn` üzerinde olduğu gibi `LightGBM` de özniteliklerin önemini görmemizi sağlayan bir fonksiyon içeriyor. `plot_importance` ile modelin, istediğiniz sayıda en önemli özniteliğini ağırlıklarıyla birlikte şekle dökebilirsiniz.\n",
    "\n",
    "Aşağıda 10 öznitelik için (ve en iyi sonucu aldığımız iterasyondaki) önem grafiğini görebiliriz."
   ]
  },
  {
   "cell_type": "code",
   "execution_count": 11,
   "metadata": {},
   "outputs": [
    {
     "data": {
      "image/png": "[encoded data removed]",
      "text/plain": [
       "<matplotlib.figure.Figure at 0x1d997285438>"
      ]
     },
     "metadata": {},
     "output_type": "display_data"
    }
   ],
   "source": [
    "ax = lgb.plot_importance(gbm, max_num_features=10)\n",
    "ax.set_title('')\n",
    "ax.set_xlabel('Özniteliklerin Önemi')\n",
    "ax.set_ylabel('Öznitelikler')\n",
    "plt.show()"
   ]
  },
  {
   "cell_type": "markdown",
   "metadata": {},
   "source": [
    "`euribor_faizi`,`yaş` ve `kampanya` önemi yüksek, yani kampanyaya cevabı belirleyen, özniteliklerden.\n",
    "\n",
    "# Eksik veri ile çalışma\n",
    "\n",
    "`LightGBM`, `scikit-learn` paketinin aksine eksik değerlerle çalışmaya da izin veriyor. Örnek olarak `önceki_iletişimden_sonra_geçen_gün` değeri 999 olan müşterilerin bu değerini `NaN` yapalım."
   ]
  },
  {
   "cell_type": "code",
   "execution_count": 12,
   "metadata": {},
   "outputs": [
    {
     "name": "stdout",
     "output_type": "stream",
     "text": [
      "yaş                                       0\n",
      "iş                                        0\n",
      "medeni_durum                              0\n",
      "eğitim                                    0\n",
      "gecikme                                   0\n",
      "ev                                        0\n",
      "borç                                      0\n",
      "iletişim                                  0\n",
      "ay                                        0\n",
      "haftanın_günü                             0\n",
      "kampanya                                  0\n",
      "önceki_iletişimden_sonra_geçen_gün    27753\n",
      "iletişim_sayısı                           0\n",
      "iletişim_sonucu                           0\n",
      "işsizlik                                  0\n",
      "tüketici_fiyat_endeksi                    0\n",
      "tüketici_güven_endeksi                    0\n",
      "euribor_faizi                             0\n",
      "çalışan_sayısı                            0\n",
      "dtype: int64\n"
     ]
    }
   ],
   "source": [
    "# Veri kümelerinde eksik değerler oluşturuyoruz.\n",
    "df_train['önceki_iletişimden_sonra_geçen_gün'].replace(999, np.nan, inplace = True)\n",
    "df_test['önceki_iletişimden_sonra_geçen_gün'].replace(999, np.nan, inplace = True)\n",
    "\n",
    "print(df_train.isnull().sum())"
   ]
  },
  {
   "cell_type": "markdown",
   "metadata": {},
   "source": [
    "Gördüğümüz gibi artık veri setinde eksik değerler de var. Modeli eğitip sonuçları alalım."
   ]
  },
  {
   "cell_type": "code",
   "execution_count": 13,
   "metadata": {},
   "outputs": [
    {
     "name": "stdout",
     "output_type": "stream",
     "text": [
      "Eğitim...\n",
      "[1]\tvalid_0's auc: 0.78742\n",
      "Training until validation scores don't improve for 25 rounds.\n",
      "[2]\tvalid_0's auc: 0.789475\n",
      "[3]\tvalid_0's auc: 0.789526\n",
      "[4]\tvalid_0's auc: 0.789663\n",
      "[5]\tvalid_0's auc: 0.789849\n",
      "[6]\tvalid_0's auc: 0.789768\n",
      "[7]\tvalid_0's auc: 0.789819\n",
      "[8]\tvalid_0's auc: 0.789839\n",
      "[9]\tvalid_0's auc: 0.789914\n",
      "[10]\tvalid_0's auc: 0.797747\n",
      "[11]\tvalid_0's auc: 0.797924\n",
      "[12]\tvalid_0's auc: 0.797677\n",
      "[13]\tvalid_0's auc: 0.798105\n",
      "[14]\tvalid_0's auc: 0.798295\n",
      "[15]\tvalid_0's auc: 0.798434\n",
      "[16]\tvalid_0's auc: 0.799106\n",
      "[17]\tvalid_0's auc: 0.79919\n",
      "[18]\tvalid_0's auc: 0.799513\n",
      "[19]\tvalid_0's auc: 0.800609\n",
      "[20]\tvalid_0's auc: 0.800532\n",
      "[21]\tvalid_0's auc: 0.800621\n",
      "[22]\tvalid_0's auc: 0.801409\n",
      "[23]\tvalid_0's auc: 0.801717\n",
      "[24]\tvalid_0's auc: 0.801748\n",
      "[25]\tvalid_0's auc: 0.801865\n",
      "[26]\tvalid_0's auc: 0.803003\n",
      "[27]\tvalid_0's auc: 0.803296\n",
      "[28]\tvalid_0's auc: 0.803565\n",
      "[29]\tvalid_0's auc: 0.803508\n",
      "[30]\tvalid_0's auc: 0.803256\n",
      "[31]\tvalid_0's auc: 0.803135\n",
      "[32]\tvalid_0's auc: 0.803365\n",
      "[33]\tvalid_0's auc: 0.80334\n",
      "[34]\tvalid_0's auc: 0.803729\n",
      "[35]\tvalid_0's auc: 0.803753\n",
      "[36]\tvalid_0's auc: 0.804338\n",
      "[37]\tvalid_0's auc: 0.804594\n",
      "[38]\tvalid_0's auc: 0.805324\n",
      "[39]\tvalid_0's auc: 0.805672\n",
      "[40]\tvalid_0's auc: 0.806077\n",
      "[41]\tvalid_0's auc: 0.806452\n",
      "[42]\tvalid_0's auc: 0.806624\n",
      "[43]\tvalid_0's auc: 0.806568\n",
      "[44]\tvalid_0's auc: 0.806763\n",
      "[45]\tvalid_0's auc: 0.806802\n",
      "[46]\tvalid_0's auc: 0.806816\n",
      "[47]\tvalid_0's auc: 0.806992\n",
      "[48]\tvalid_0's auc: 0.806969\n",
      "[49]\tvalid_0's auc: 0.806885\n",
      "[50]\tvalid_0's auc: 0.806845\n",
      "[51]\tvalid_0's auc: 0.807258\n",
      "[52]\tvalid_0's auc: 0.807419\n",
      "[53]\tvalid_0's auc: 0.807595\n",
      "[54]\tvalid_0's auc: 0.807708\n",
      "[55]\tvalid_0's auc: 0.807837\n",
      "[56]\tvalid_0's auc: 0.807571\n",
      "[57]\tvalid_0's auc: 0.807663\n",
      "[58]\tvalid_0's auc: 0.808115\n",
      "[59]\tvalid_0's auc: 0.807808\n",
      "[60]\tvalid_0's auc: 0.807867\n",
      "[61]\tvalid_0's auc: 0.808091\n",
      "[62]\tvalid_0's auc: 0.808112\n",
      "[63]\tvalid_0's auc: 0.808062\n",
      "[64]\tvalid_0's auc: 0.807787\n",
      "[65]\tvalid_0's auc: 0.807958\n",
      "[66]\tvalid_0's auc: 0.807626\n",
      "[67]\tvalid_0's auc: 0.807364\n",
      "[68]\tvalid_0's auc: 0.807993\n",
      "[69]\tvalid_0's auc: 0.807935\n",
      "[70]\tvalid_0's auc: 0.807958\n",
      "[71]\tvalid_0's auc: 0.807693\n",
      "[72]\tvalid_0's auc: 0.807753\n",
      "[73]\tvalid_0's auc: 0.807701\n",
      "[74]\tvalid_0's auc: 0.80765\n",
      "[75]\tvalid_0's auc: 0.807728\n",
      "[76]\tvalid_0's auc: 0.807678\n",
      "[77]\tvalid_0's auc: 0.807654\n",
      "[78]\tvalid_0's auc: 0.8077\n",
      "[79]\tvalid_0's auc: 0.807778\n",
      "[80]\tvalid_0's auc: 0.807718\n",
      "[81]\tvalid_0's auc: 0.80772\n",
      "[82]\tvalid_0's auc: 0.807316\n",
      "[83]\tvalid_0's auc: 0.807212\n",
      "Early stopping, best iteration is:\n",
      "[58]\tvalid_0's auc: 0.808115\n",
      "Eğitim bitti...\n",
      "En iyi sonucu veren iterasyon:  58\n",
      "Eğri altı alan değeri: 0.808115206918\n",
      "İsabetlilik değeri: 0.9005422028\n"
     ]
    }
   ],
   "source": [
    "# Veri kümesi oluşturalım.\n",
    "lgb_train = lgb.Dataset(data=df_train, label=y_train,  free_raw_data=False)\n",
    "# Değerlendirme veri kümesini oluşturuyoruz.\n",
    "lgb_eval = lgb.Dataset(data=df_test, label=y_test, reference=lgb_train,  free_raw_data=False)\n",
    "\n",
    "# Eğitim parametrelerini belirleyelim\n",
    "params = {\n",
    "    'task': 'train',\n",
    "    'boosting_type': 'gbdt',\n",
    "    'objective': 'binary',\n",
    "    'metric': 'auc',\n",
    "    'num_leaves': 31,\n",
    "    'learning_rate': 0.05,\n",
    "    'verbose': -1\n",
    "}\n",
    "\n",
    "print('Eğitim...')\n",
    "# Modeli eğitelim\n",
    "evals_result={}\n",
    "gbm = lgb.train(params,\n",
    "                lgb_train,\n",
    "                valid_sets = lgb_eval,\n",
    "                categorical_feature = kategorik_indeks,\n",
    "                num_boost_round= 150,\n",
    "                early_stopping_rounds= 25,\n",
    "                evals_result=evals_result)\n",
    "print('Eğitim bitti...')\n",
    "\n",
    "# Tahmin ve değerlendirme\n",
    "y_pred = gbm.predict(df_test, num_iteration=gbm.best_iteration)\n",
    "\n",
    "print('En iyi sonucu veren iterasyon: ', gbm.best_iteration)\n",
    "print('Eğri altı alan değeri:', roc_auc_score(y_test, y_pred))\n",
    "print('İsabetlilik değeri:', accuracy_score(y_test, ( y_pred>= 0.5)*1))"
   ]
  },
  {
   "cell_type": "markdown",
   "metadata": {},
   "source": [
    "Gördüğümüz gibi eksik değerlerle yapılan tahminler biraz daha iyi sonuçlar verdi. Ancak her zaman bu şekilde olacağının bir garantisi yok. Hangi modeli kullanacağımızı belirlemek için birden fazla alternatifi çarpraz doğrulama ve istatistik yöntemleriyle test etmemiz gerekecektir. \n",
    "\n",
    "`LightGBM` veri analitiği konusunda kullanabileceğiniz bir çok aracı içeren bir paket. Ancak `scikit-learn` gibi uçtan uca bir çözüm sunmuyor. Veri işleme ve model sonuçlarını değerlendirme gibi alanlarda `scikit-learn` altındaki modülleri kullanmak durumunda kaldık. Bu noktada, `LightGBM` paketinin bir yapay öğrenme kütüphanesi olmadığını ve gradient boosting yöntemine dayanan bir kütüphane olduğunu hatırlatalım.\n",
    "\n",
    "Bu yazının Jupyter Notebook dosyasına [Github](https://github.com/sibirbil/VeriDefteri) dizinimizden erişebilirsiniz."
   ]
  }
 ],
 "metadata": {
  "kernelspec": {
   "display_name": "Python 3",
   "language": "python",
   "name": "python3"
  },
  "language_info": {
   "codemirror_mode": {
    "name": "ipython",
    "version": 3
   },
   "file_extension": ".py",
   "mimetype": "text/x-python",
   "name": "python",
   "nbconvert_exporter": "python",
   "pygments_lexer": "ipython3",
   "version": "3.6.3"
  }
 },
 "nbformat": 4,
 "nbformat_minor": 2
}
