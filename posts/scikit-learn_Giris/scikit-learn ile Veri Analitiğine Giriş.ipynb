{
 "cells": [
  {
   "cell_type": "markdown",
   "metadata": {},
   "source": [
    "Veri bilimine ilgi duyuyorsunuz ancak nereden başlayacağınız konusunda kafanız karışık mı? [Python](http://www.veridefteri.com/2017/10/30/veri-bilimciler-icin-python-ekosistemi/) ekosistemi hakkında bilginiz var. [Jupyter Notebook](http://www.veridefteri.com/2017/10/30/jupyter-notebook-nedir-2/) ile aranız fena değil. Sırada elinizi kirletmek var. Bunu yapmanın en kolay yollarından biri `scikit-learn` kütüphanesini kullanmak.\n",
    "\n",
    "`scikit-learn` yapay öğrenme alanında en yaygın olarak kullanılan kütüphanelerden biri. Doğrusal regresyon, lojistik regresyon, karar ağaçları, rastgele orman gibi birçok temel yöntemi içeren bu kütüphane, Anaconda ile beraber geliyor. Anaconda kullanmayanlar [web](http://scikit-learn.org/) sitesinden kütüphaneyi nasıl yükleyeceklerini öğrenebilirler. \n",
    "\n",
    "`scikit-learn` paketinin bu kadar popüler olmasının birkaç sebebi var. Bunlardan ilki ihtiyaç duyacağınız temel yöntemlerin büyük bir kısmını içermesi. İkinci olarak, `scikit-learn` sayesinde veri analitiği uygulamalarını baştan sona yürütmenizin mümkün olmasını sayabiliriz. Verideki eksik değerleri doldurmak, öznitelik seçmek, çapraz doğrulama yapmak, sonuçları değerlendirmek için ayrı ayrı modüller sayesinde başka bir pakete ihtiyacınız kalmıyor. `scikit-learn` paketinin en güzel yanı basit bir API'a sahip olması sayesinde uygulayacağınız farklı yöntemler için farklı sözdizimleri öğrenmenizin önüne geçmesi. Bu sayede veri analitiğine yeni başlayanlar hızla ellerini kirletebiliyorlar. `fit/predict` ya da `fit/transform` fonksiyonları sayesinde kümeleme, regresyon, karar ağaçları gibi yöntemleri uygulamak, eksik değerleri doldurmak, veriyi ölçeklendirmek gibi farklı adımlarda benzer fonksiyonlar kullanmak işinizi oldukça kolaylaştırıyor. API basit olmasının yanında çok iyi bir dokümantasyona sahip. \n",
    "\n",
    "`lightgbm`, `tensorflow` gibi kütüphaneler performans açısından ileride olsa da `scikit-learn` başlangıç seviyesindekiler için benim tavsiye edeceğim ilk kütüphane. Veri Defteri'nde `scikit-learn` paketinin API'ını bir örnek üzerinden anlatıp, temel modüllerden bahsedeceğiz. Bu amaçla yine `scikit-learn` altındaki veri kümelerini kullanacağız.\n",
    "\n",
    "Örneğimiz `digits` veri kümesi üzerinden bir sınıflandırma problemi olacak. `digits` veri kümesi elle yazılmış rakamların 8\\*8 büyüklüğündeki resimlerinin piksel (8\\*8 = 64) değerlerinden oluşuyor. Amacımız veri kümesindeki 3 ve 8 rakamlarını birbirinden ayırmak. Kaan `digits` veri kümesinden bir [yazısında](http://www.veridefteri.com/2017/11/03/yeni-baslayanlar-icin-veri-kumeleri-cicekler-bebekler-filmler/) bahsetmişti. Kullanacağımız modülleri, veri kümesini yükleyelim ve öğrenme ve sınama için ikiye bölelim."
   ]
  },
  {
   "cell_type": "code",
   "execution_count": 1,
   "metadata": {},
   "outputs": [
    {
     "name": "stdout",
     "output_type": "stream",
     "text": [
      "Verinin boyutları (Gözlem, öznitelik) = (1797, 64)\n",
      "Etiketlerin boyutları (Gözlem) = (1797,)\n"
     ]
    }
   ],
   "source": [
    "#Rakamlar veri kümesini yüklüyoruz.\n",
    "from sklearn.datasets import load_digits\n",
    "#numpy paketini yüklüyoruz.\n",
    "import numpy as np\n",
    "#Veri kümesini ikiye bölmek için kullanıyoruz.\n",
    "from sklearn.model_selection import train_test_split\n",
    "#Resimleri incelemek için matplotlib kullanıyoruz.\n",
    "%matplotlib inline\n",
    "import matplotlib.pyplot as plt\n",
    "\n",
    "#Veri kümesini etiket değerleriyle birlikte yükleyelim.\n",
    "X,y = load_digits(return_X_y=True)\n",
    "print('Verinin boyutları (Gözlem, öznitelik) = ' + str(np.shape(X)))\n",
    "print('Etiketlerin boyutları (Gözlem) = ' + str(np.shape(y)))"
   ]
  },
  {
   "cell_type": "markdown",
   "metadata": {},
   "source": [
    "Veri kümesi 64 öznitelik (bunlar piksellerin değerlerine denk geliyor) ve 1797 gözlemden oluşuyor. Veri kümesinin ilk rakamını inceleyerek başlayalım. Rakamı çizdirmek için (1,64) olan boyutu (8,8) şeklinde değiştirmemiz gerekiyor. Bu amaçla da `numpy` altında `reshape` fonksiyonunu kullanacağız."
   ]
  },
  {
   "cell_type": "code",
   "execution_count": 2,
   "metadata": {},
   "outputs": [
    {
     "data": {
      "image/png": "[encoded data removed]",
      "text/plain": [
       "<matplotlib.figure.Figure at 0xec082fb70>"
      ]
     },
     "metadata": {},
     "output_type": "display_data"
    },
    {
     "name": "stdout",
     "output_type": "stream",
     "text": [
      "Etiket: 0\n"
     ]
    }
   ],
   "source": [
    "rakam1 = X[0]\n",
    "rakam1 = np.reshape(rakam1, (8,8))\n",
    "\n",
    "plt.figure(figsize= (2,2))\n",
    "plt.imshow(rakam1, cmap=\"gray_r\")\n",
    "plt.show()\n",
    "etiket1 = y[0]\n",
    "print('Etiket: ' + str(etiket1))"
   ]
  },
  {
   "cell_type": "markdown",
   "metadata": {},
   "source": [
    "Gördüğümüz gibi ilk rakam 0. Veri kümesindeki 3 ve 8 rakamlarını ayırmak istiyoruz. Bu amaçla filtreleme kullanacağız. Eğer bir rakam beşe bölündüğünde kalan üç ise istediğimiz koşulları sağlıyor."
   ]
  },
  {
   "cell_type": "code",
   "execution_count": 3,
   "metadata": {},
   "outputs": [
    {
     "name": "stdout",
     "output_type": "stream",
     "text": [
      "Verinin boyutları (Gözlem, öznitelik) = (357, 64)\n",
      "Etiketlerin boyutları (Gözlem) = (357,)\n"
     ]
    }
   ],
   "source": [
    "#3 ve 8 rakamlarını seçmek için filtreleme kullanacağız.\n",
    "#Filtrelemeyi etiket değerlerine (y) bakarak yapacağız. \n",
    "#Etiket değeri beşe bölündüğünde kalan üç ise bu gözlemleri veri kümesinde bırakıyoruz.\n",
    "X= X[y%5 == 3]\n",
    "y= y[y%5 == 3]\n",
    "\n",
    "#Son olarak etiketleri 0 ve 1 değerlerine çevirelim.\n",
    "#Rakam 3 ise etiket 0, 8 ise 1 olacak.\n",
    "y = (y==8)*1\n",
    "print('Verinin boyutları (Gözlem, öznitelik) = ' + str(np.shape(X)))\n",
    "print('Etiketlerin boyutları (Gözlem) = ' + str(np.shape(y)))"
   ]
  },
  {
   "cell_type": "markdown",
   "metadata": {
    "collapsed": true
   },
   "source": [
    "Öğrenen modellerin başarısını sınamak için veri kümesini öğrenme (train) ve sınama (test) olarak ikiye bölelim. Bu da `scikit-learn` altında yapılabilecek bir işlem. Burada dikkat etmemiz gereken, veri kümesini bölerken etiketlerin yüzdelerini korumak. Bu sayede veri kümesinin sadece bir rakamdan oluşması gibi durumların önüne geçmeyi hedefliyoruz. `stratify` argümanı ile veri kümesini bölerken etiket değerlerini de hesaba katıyoruz. "
   ]
  },
  {
   "cell_type": "code",
   "execution_count": 4,
   "metadata": {},
   "outputs": [
    {
     "name": "stdout",
     "output_type": "stream",
     "text": [
      "Öğrenme verisinin boyutları (Gözlem, öznitelik) = (178, 64)\n",
      "Sınama verisinin boyutları (Gözlem, öznitelik) = (179, 64)\n"
     ]
    }
   ],
   "source": [
    "#Stratify değeri veri kümesinin etiket yüzdelerini korumak için kullanılıyor.\n",
    "#Öğrenme veri kümesini küçük tutarak sonuçların çok iyi olmasını engelliyoruz.\n",
    "#random_state değeri sonuçların her seferinde aynı çıkmasını sağlamak için kullanılıyor.\n",
    "X_train, X_test, y_train, y_test = train_test_split(X,y, train_size = 0.5, test_size = 0.5, random_state = 0, stratify = y)\n",
    "\n",
    "print('Öğrenme verisinin boyutları (Gözlem, öznitelik) = ' + str(np.shape(X_train)))\n",
    "print('Sınama verisinin boyutları (Gözlem, öznitelik) = ' + str(np.shape(X_test)))"
   ]
  },
  {
   "cell_type": "markdown",
   "metadata": {},
   "source": [
    "Veri kümesini ikiye böldük. Şimdi sınıflandırma için karar ağacı ve rastgele orman yöntemlerini kullanıp karşılaştıracağız. `scikit-learn` API'ının üç adımlık basit bir kullanımı var. Şimdi bu adımları inceleyelim. \n",
    "\n",
    "## Kullanacağımız sınıfa ait bir örnek oluşturma\n",
    "Örnek olarak bir karar ağacı oluşturmak ya da eksik değerleri ortalama değerle doldurmak istiyorsunuz. Bu amaçla gerekli sınıflara (class) ait örnekleri istediğiniz parametrelerle oluşturmanız gerekiyor..\n",
    "\n",
    "`dt` adında bir karar ağacı oluşturmak için `DecisionTreeClassifier` sınıfını kullanıyoruz: \n",
    "\n",
    "`dt = DecisionTreeClassifier()`\n",
    "\n",
    "Eksik değerleri ortalama değerle değiştirmek için ise `Imputer` sınıfını kullanacağız. `NaN` şeklinde olan eksik değerleri ortalama (mean) değerle değiştirmek istersek bunu kullanacağımız argümanlarla belirtmemiz gerekiyor.\n",
    "\n",
    "`mean_imputer = Imputer(missing_values = 'NaN', strategy = 'mean')` \n",
    "\n",
    "Aşağıda `dt` adında bir karar ağacı ve `rf` adında bir rastgele orman örneği tanımlıyoruz."
   ]
  },
  {
   "cell_type": "code",
   "execution_count": 5,
   "metadata": {
    "collapsed": true
   },
   "outputs": [],
   "source": [
    "#Karar ağaçları\n",
    "from sklearn.tree import DecisionTreeClassifier\n",
    "#Rastgele orman\n",
    "from sklearn.ensemble import RandomForestClassifier\n",
    "\n",
    "#Karar ağacı modelini oluşturalım. \n",
    "#random_state değeri sayesinde sonuçların rassal olarak değişmemesini sağlıyoruz.\n",
    "dt = DecisionTreeClassifier(random_state = 0)\n",
    "\n",
    "#Rastgele orman modelini oluşturalım.\n",
    "rf = RandomForestClassifier(random_state = 0)"
   ]
  },
  {
   "cell_type": "markdown",
   "metadata": {},
   "source": [
    "## Oluşturduğumuz örneğin öğrenmesini sağlama (fit)\n",
    "Bir önceki aşamada oluşturduğumuz örneğin veri üzerinde öğrenmesi `fit` fonksiyonuyla yapılıyor. Örneğin bir karar ağacını öznitelik ve etiketleri kullanarak eğitmek için `fit` fonksiyonunu aşağıdaki gibi kullanabiliriz:\n",
    "\n",
    "`dt.fit(X_train, y_train)`\n",
    "\n",
    "Bu sayede öğrenme verisi üzerinden bir karar ağacı modeli oluşturulur. \n",
    "\n",
    "Eksik değerleri doldurmak için de `fit` fonksiyonunu kullanacağız. Ancak burada `fit` fonksiyonu sadece yapacağımız işlemi tanımlıyor. Aşağıdaki satırda `X_train` matrisindeki eksik değer içeren sütunlar için ortalama değer hesaplanıyor.\n",
    "\n",
    "`mean_imputer.fit(X_train)` \n",
    "\n",
    "Şimdi yukarıda oluşturduğumuz karar ağacı ve rastgele orman modellerini eğitelim."
   ]
  },
  {
   "cell_type": "code",
   "execution_count": 6,
   "metadata": {},
   "outputs": [
    {
     "data": {
      "text/plain": [
       "RandomForestClassifier(bootstrap=True, class_weight=None, criterion='gini',\n",
       "            max_depth=None, max_features='auto', max_leaf_nodes=None,\n",
       "            min_impurity_decrease=0.0, min_impurity_split=None,\n",
       "            min_samples_leaf=1, min_samples_split=2,\n",
       "            min_weight_fraction_leaf=0.0, n_estimators=10, n_jobs=1,\n",
       "            oob_score=False, random_state=0, verbose=0, warm_start=False)"
      ]
     },
     "execution_count": 6,
     "metadata": {},
     "output_type": "execute_result"
    }
   ],
   "source": [
    "#Modellerin öğrenmesini sağlayalım.\n",
    "dt.fit(X_train,y_train)\n",
    "rf.fit(X_train,y_train)"
   ]
  },
  {
   "cell_type": "markdown",
   "metadata": {},
   "source": [
    "## Sonuçları elde etmek (predict/predict_proba ve transform)\n",
    "Oluşturduğunuz modelleri eğittikten sonra sonuçları elde etmek için kullanabileceğiniz iki farklı fonksiyon tipi var.\n",
    "\n",
    "* `predict`: Regresyon, sınıflandırma, kümeleme gibi yöntemler kullanarak yapacağınız çalışmalarda tahmin edilen etiket bilgisini `predict` fonksiyonuyla elde edebilirsiniz. Sınıflandırma problemlerinde gözlemlerin sınıflara ait olma olasılıklarını elde etmek istiyorsanız `predict_proba` fonksiyonunu kullanmanız gerekiyor.\n",
    "\n",
    "Yukarıda oluşturduğumuz karar ağacı için etiketleri elde etmek için aşağıdaki satıra ihtiyacımız var:\n",
    "\n",
    "`y_pred = dt.predict(X_test)`\n",
    "\n",
    "Eğer etiketleri değil de olasılıkları öğrenmek istiyorsak `predict_proba` fonksiyonunu kullanmamız gerekiyor. Sonuçlar her etikete ait olma yüzdesini içeriyor.\n",
    "\n",
    "`y_pred_proba = dt.predict_proba(X_test)`\n",
    "\n",
    "* `transform`: Veriyle ilgili yapacağımız dönüştürme işlemlerinde ise `transform` fonksiyonunu kullanacağız. Dönüştürme işlemleri eksik veriyi doldurma, veriyi ölçeklendirme gibi alanlarda karşımıza çıkıyor. Aynı zamanda bir matrisi çarpanlarına ayırmak gibi işlemler için de `transform` fonksiyonu kullanılıyor.\n",
    "\n",
    "Eksik değerleri doldurmak için aşağıdaki satırı kullanabiliriz:\n",
    "\n",
    "`X_test = mean_imputer.transform(X_test)`\n",
    "\n",
    "Şimdi kullandığımız iki modeli sınama veri kümesinde kullanarak etiketleri ve gözlemlerin etiketlere ait olma olasılıklarını hesaplayalım. "
   ]
  },
  {
   "cell_type": "code",
   "execution_count": 7,
   "metadata": {
    "collapsed": true
   },
   "outputs": [],
   "source": [
    "#Sınama verisinin etiketlerini elde edelim.\n",
    "y_pred_dt = dt.predict(X_test)\n",
    "#Sınama veri kümesinin sınıflara ait olma olasılıklarını alalım.\n",
    "y_pred_proba_dt = dt.predict_proba(X_test)\n",
    "\n",
    "#Aynı adımları rastgele orman yöntemi için tekrarlayalım.\n",
    "y_pred_rf = rf.predict(X_test)\n",
    "y_pred_proba_rf = rf.predict_proba(X_test)"
   ]
  },
  {
   "cell_type": "markdown",
   "metadata": {},
   "source": [
    "Burada dikkat etmemiz gereken bir nokta `fit` işlemlerini öğrenme, `predict` ve `transform` işlemlerini ise sınama verisi üzerinden yapmak. Yapacağımız çalışmalardaki amacımız öğrenme veri kümesiyle yakaladığımız örüntüleri sınama verisi üzerinde denemek. Yani, sınama veri kümesinin sadece son aşamada kullanılması gerekiyor. Eksik değerleri doldurmak gibi konularda da öğrenme verisiyle elde ettiğimiz bilgileri (örnek olarak ortalamayı) sınama verisinde kullanıyoruz. Sınama veri kümesi için de `fit` fonksiyonunu kullanmak sıklıkla yapılan bir hata.\n",
    "\n",
    "Aşağıdaki satırlarda öğrenme verisindeki sütunlar için ortalama değeri bulup eksik değerleri dolduruyoruz. Daha sonra da sınama verisindeki sütunlar için ortalama değerleri bulup eksik değerleri doldurmak için kullanıyoruz. Oysa ki yapmamız gereken sınama verisinde de öğrenme verisindeki ortalamaları kullanmak.\n",
    "\n",
    "`mean_imputer.fit(X_train)\n",
    "X_train = mean_imputer.transform(X_train)\n",
    "mean_imputer.fit(X_test)\n",
    "X_test = mean_imputer.transform(X_test)`"
   ]
  },
  {
   "cell_type": "markdown",
   "metadata": {},
   "source": [
    "# Sonuçları değerlendirmek ve yorumlamak\n",
    "\n",
    "`scikit-learn` modellerin sonuçlarını değerlendirmek ve yorumlamak için de çeşitli araçlar sunuyor. Sonuçları değerlendirmek için isabetlilik (accuracy) ve eğri altı alan (area under curve) değerlerini kullanacağız. `metrics` modülünün altında farklı yöntemleri (sınıflandırma, regresyon, kümeleme) değerlendirmek için araçlar da var."
   ]
  },
  {
   "cell_type": "code",
   "execution_count": 8,
   "metadata": {},
   "outputs": [
    {
     "name": "stdout",
     "output_type": "stream",
     "text": [
      "Karar ağacı isabetlilik değeri: 0.927374301676\n",
      "Rastgele orman isabetlilik değeri: 0.960893854749\n",
      "Karar ağacı eğri altı alan değeri: 0.928723138431\n",
      "Rastgele orman eğri altı alan değeri: 0.997876061969\n"
     ]
    }
   ],
   "source": [
    "#Sonuçları değerlendirmek için aşağıdaki fonksiyonları kullanacağız.\n",
    "from sklearn.metrics import roc_auc_score, accuracy_score\n",
    "#İsabetlilik değeri için etiketlere ihtiyacımız var.\n",
    "print('Karar ağacı isabetlilik değeri: ' + str(accuracy_score(y_pred_dt, y_test)))\n",
    "print('Rastgele orman isabetlilik değeri: ' + str(accuracy_score(y_pred_rf, y_test)))\n",
    "\n",
    "#Eğri altı alan değeri için etiketlerin olasılıklarına ihtiyacımız var.\n",
    "#Bu amaçla etiketlerin 1 değerinde olma yüzdelerini kullanacağız.\n",
    "print('Karar ağacı eğri altı alan değeri: ' + str(roc_auc_score(y_test, y_pred_proba_dt[:,1])))\n",
    "print('Rastgele orman eğri altı alan değeri: ' + str(roc_auc_score(y_test, y_pred_proba_rf[:,1])))"
   ]
  },
  {
   "cell_type": "markdown",
   "metadata": {},
   "source": [
    "İsabetlilik değeri ve eğri altı değeri de rastgele orman yönteminde daha yüksek çıktı.\n",
    "\n",
    "3 ve 8 rakamlarını ayırmamızı sağlayan öznitelikler (piksel değerleri) hangileri? Şimdi de `features_importances_` özelliğini kullanarak modellerin önemli bulduğu piksellere bakalım. "
   ]
  },
  {
   "cell_type": "code",
   "execution_count": 9,
   "metadata": {},
   "outputs": [
    {
     "data": {
      "image/png": "[encoded data removed]",
      "text/plain": [
       "<matplotlib.figure.Figure at 0xec0651c18>"
      ]
     },
     "metadata": {},
     "output_type": "display_data"
    },
    {
     "data": {
      "image/png": "[encoded data removed]",
      "text/plain": [
       "<matplotlib.figure.Figure at 0xec070dd30>"
      ]
     },
     "metadata": {},
     "output_type": "display_data"
    }
   ],
   "source": [
    "features_dt = dt.feature_importances_\n",
    "features_rf = rf.feature_importances_\n",
    "\n",
    "features_dt = np.reshape(features_dt, (8,8))\n",
    "features_rf = np.reshape(features_rf, (8,8))\n",
    "\n",
    "\n",
    "plt.figure(figsize=(3,3))\n",
    "plt.imshow(features_dt)\n",
    "plt.title('Karar Ağacı')\n",
    "plt.colorbar()\n",
    "plt.show()\n",
    "\n",
    "\n",
    "plt.figure(figsize=(3,3))\n",
    "plt.imshow(features_rf)\n",
    "plt.title('Rastgele Orman')\n",
    "plt.colorbar()\n",
    "plt.show()\n"
   ]
  },
  {
   "cell_type": "markdown",
   "metadata": {
    "collapsed": true
   },
   "source": [
    "Önemli olan öznitelikler sarı ve açık mavi, önemsiz olanlarsa koyu mavi ile gösteriliyor. Karar ağaçları daha çok 3 piksele bakarken, rastgele orman yöntemi daha fazla piksele bakarak karar veriyor. İki yöntem de ağırlıklı olarak resmin sol tarafına bakıyor, yani resimlerin sol tarafı 3 ve 8 rakamlarını ayırmak önemli olan pikselleri içeriyor."
   ]
  },
  {
   "cell_type": "markdown",
   "metadata": {
    "collapsed": true
   },
   "source": [
    "# Diğer Modüller\n",
    "Bu yazıda sınıflandırma algoritmalarına bakmış olsak da `scikit-learn` altında başka modüller de var. Bunlardan sıklıkla kullanılanları aşağıda bulabilirsiniz:\n",
    "\n",
    "* `cluster`: Başta k-ortalamalar algoritması olmak üzere kümeleme yöntemlerini içeriyor.\n",
    "* `ensemble`: Adaboost, gradient boosting ve rastgele orman gibi grup halinde (ensemble) tahmin yapan yöntemleri bu modül altında yer alıyor.\n",
    "* `feature_selection`: Öznitelik seçme/azaltma algoritmalarını içeriyor.\n",
    "* `linear_model`: Başta doğrusal regresyon ve lojistik regresyon olmak üzere doğrusal yöntemleri içeriyor. Bu modül altında genelde regresyon yöntemleri bulunuyor.\n",
    "* `metrics`: Regresyon, sınıflandırma ve kümeleme problemlerinde elde ettiğiniz sonuçları değerlendirmek için kullanabileceğiniz araçları kapsıyor.\n",
    "* `model_selection`: Çapraz doğrulama (cross-validation) ve veri kümesini bölmek için kullanabileceğiniz bir modül.\n",
    "* `neighbors`: Gözlemlerin birbirine yakınlığı üzerinden sınıflandırma ve regresyon uygulayan yöntemlerden (k en yakın komşu yöntemi gibi) oluşuyor.\n",
    "* `neural_network`: Yapay sinir ağları üzerinden denemeler yapabileceğiniz bir modül. Ciddi bir çalışma gerçekleştirmek için başka paketlere ihtiyaç duyabilirsiniz.\n",
    "* `preprocessing`: Veri üzerinde ölçeklendirme, eksik değerleri doldurma ve kategorik değişkenleri ikili değerlere çevirmek gibi işlemleri `preprocessing` ile yapabilirsiniz.\n",
    "* `svm`: Destek vektör makineleri modülü. Sınıflandırma, regresyon ve aykırı gözlem bulmak için kullanılabilen algoritmalardan oluşuyor.\n",
    "* `tree`: Karar ağaçları temelli yöntemleri içeriyor.\n",
    "\n",
    "\n"
   ]
  },
  {
   "cell_type": "markdown",
   "metadata": {
    "collapsed": true
   },
   "source": [
    "Bu Veri Defteri'ni [github](https://github.com/sibirbil/VeriDefteri) dizinimizde bulabilirsiniz. "
   ]
  }
 ],
 "metadata": {
  "kernelspec": {
   "display_name": "Python 3",
   "language": "python",
   "name": "python3"
  },
  "language_info": {
   "codemirror_mode": {
    "name": "ipython",
    "version": 3
   },
   "file_extension": ".py",
   "mimetype": "text/x-python",
   "name": "python",
   "nbconvert_exporter": "python",
   "pygments_lexer": "ipython3",
   "version": "3.6.2"
  }
 },
 "nbformat": 4,
 "nbformat_minor": 2
}
