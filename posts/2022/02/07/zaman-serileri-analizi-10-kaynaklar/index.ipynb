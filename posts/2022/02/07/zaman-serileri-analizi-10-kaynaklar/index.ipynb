{
 "cells": [
  {
   "cell_type": "raw",
   "id": "e21cba2c",
   "metadata": {},
   "source": [
    "---\n",
    "title: \"Zaman Serileri Analizi 10: Kaynaklar\"\n",
    "author: Murat Öztürkmen\n",
    "categories:\n",
    "    - Zaman serileri\n",
    "date: 2022-02-07\n",
    "image: ../../../../2021/12/10/zaman-serileri-analizi-1-giris/4f68b-zsa2.png\n",
    "---"
   ]
  },
  {
   "cell_type": "markdown",
   "id": "326984e6",
   "metadata": {},
   "source": [
    "# Zaman Serileri Analizi için Kaynaklar"
   ]
  },
  {
   "cell_type": "markdown",
   "id": "7204c911",
   "metadata": {},
   "source": [
    "Zaman serileri yazı dizisinde zaman serilerini en basitten başlayarak, olabildiğince farklı alanlarına da değinmeye çalışarak ele aldık. Yine de, bu dizide bahsetmediğimiz başka konular da var. Buraya kadar değindiğimiz konular ve belki de daha fazlası için bazı kaynakları bu son yazıda paylaşıyoruz."
   ]
  },
  {
   "cell_type": "markdown",
   "id": "3451b156",
   "metadata": {},
   "source": [
    "# 1. Kitaplar"
   ]
  },
  {
   "cell_type": "markdown",
   "id": "94791016",
   "metadata": {},
   "source": [
    "Belli bir sıralama olmasa da, iki grup halinde yararlanılabilecek kaynak kitapların bazılarını paylaşalım:"
   ]
  },
  {
   "cell_type": "markdown",
   "id": "d7fc37e7",
   "metadata": {},
   "source": [
    "Başlangıç seviye:\n",
    "\n",
    "* Wooldridge, J. (2013). *Ekonometriye Giriş - Modern Yaklaşım*. Nobel Akademik Yayıncılık.\n",
    "* Gujarati, D. M. ve Porter D. C. (2020). *Temel Ekonometri*. Literatür Yayınları.\n",
    "* Newbold, P. ve diğ. (2019). *İşletme ve İktisat için İstatistik*. Literatür Yayınları.\n",
    "* Hamilton, J. D. (1994). *Time Series Analysis*. Princeton University Press.\n",
    "* Brownlee, J. (2020). *Introduction to Time Series Forecasting with Python*. Machine Learning Mastery.\n",
    "* Hyndman, R, J. ve Athanasopoulos, G. (2021). *Forecasting: Principles and Practice*. 3rd ed. çevrimiçi: https://otexts.com/fpp3/\n",
    "\n",
    "Orta-üst seviye:\n",
    "\n",
    "* Vishwas, B.V. ve Patel A. (2020). *Hands-on Time Series Analysis With Python: From Basics To Bleeding Edge Techniques*. Apress.\n",
    "* Tsay, R.S. ve Chen, R. (2019). *Nonlinear time series analysis*. John Wiley & Sons.\n",
    "* Mills, T.C. (2019). *Applied time series analysis: a practical guide to modeling and forecasting*. Academic Press.\n",
    "* Krispin, R. (2019). *Hands-On Time Series Analysis With R*. Packt Publishing.\n",
    "* Percival, D.B. ve Walden, A.T. (2020). *Spectral Analysis for Univariate Time Series*. Cambridge University Press.\n",
    "* Auffarth, B. (2021). *Machine Learning for Time-Series with Python*. Packt Publishing.\n",
    "* Rafferty, G. (2021). *Forecasting Time Series Data with Facebook Prophet*. Packt Publishing.\n",
    "* Brownlee, J. (2018). *Deep Learning for Time Series Forecasting*. Machine Learning Mastery."
   ]
  },
  {
   "cell_type": "markdown",
   "id": "6d8ad5db",
   "metadata": {},
   "source": [
    "# 2. Python Çerçeveleri"
   ]
  },
  {
   "cell_type": "markdown",
   "id": "b45e0b6f",
   "metadata": {},
   "source": [
    "Zaman serileri analizlerinde ve modellerinde oldukça işe yarayacak bazı Python çerçevelerini de sıralayalım. Bu çerçevelerin, kullanıcı dökümanları da oldukça açıklayıcıdır:\n",
    "\n",
    "* statsmodels: En başta, gelen çerçevedir. Birçok istatistiksel ve ekonometrik fonksiyona sahiptir.\n",
    "* arch: Oynaklık modelleri, birim kök testleri, eşbütünleşme testleri gibi fonksiyonlara sahip bir çerçeve.\n",
    "* sktime: scikit-learn yapısıyla uyumlu, birçok klasik ve yapay öğrenme zaman serisi modeli için kolay bir arayüz çerçevesi.\n",
    "* prophet: Hem R, hem de Python için yazılmış, toplamsal modele dayanan, gün, hafta, ay, tatil etkisi gibi dış etkileri de kolaylıkla modelleyebileceğiniz bir çerçeve.\n",
    "* kats: Zaman serisi verilerini analiz etmek için bir kit, temel istatistikleri ve özellikleri anlamaktan, değişim noktalarını ve anormallikleri tespit etmekten, gelecekteki eğilimleri tahmin etmeye kadar zaman serisi analizi yapmak için hafif, kullanımı kolay, genelleştirilebilir ve genişletilebilir bir çerçeve.\n",
    "* orbit-ml: Bayesian zaman serisi modellemesi ve çıkarımı için bir Python çerçevesi.\n",
    "* darts: Zaman serilerinin kolay manipülasyonu ve tahmini için bir Python çerçevesi. ARIMA gibi klasik modellerden derin sinir ağlarına kadar çeşitli modeller içerir.\n",
    "* autots: autots, yüksek doğrulukta öngörüleri geniş ölçekte hızla dağıtmak için tasarlanmış Python için bir zaman serisi çerçevesidir.\n",
    "* tsfresh: Öznitelik adı verilen çok sayıda zaman serisi değişkenini otomatik olarak hesaplar. Ayrıca çerçeve, bağlanım veya sınıflandırma görevleri için bu tür özniteliklerin açıklama gücünü ve önemini değerlendirmek için yöntemler de içerir.\n",
    "* pycaret-timeseries: PyCaret'in yeni zaman serisi modülü henüz beta sürümünde. PyCaret'in sadeliğine sadık kalarak, mevcut API ile uyumludur ve birçok fonksiyonalite ile birlikte gelir. İstatistiksel testler, model eğitimi ve seçimi (30'dan fazla algoritma), model analizi, otomatik hiperparametre ayarı, deney günlüğü, bulutta dağıtım ve daha fazlasını içerir."
   ]
  },
  {
   "cell_type": "markdown",
   "id": "2ed58969",
   "metadata": {},
   "source": [
    "Böylece, yazı dizimiz için ve okuyucu için kaynak olmuş/olacak bazı kitap ve çerçeveleri paylaşmış olduk. Okuyucu, yazı dizisini takip ederken, paylaştığımız kaynaklar ile zaman serileri analizi için daha derine inebilecektir. Bununla birlikte önerimiz, güncel yazını da takip etmek, bu alandaki gelişmelerden uzak kalmamak için önemlidir."
   ]
  }
 ],
 "metadata": {
  "kernelspec": {
   "display_name": "Python 3",
   "language": "python",
   "name": "python3"
  },
  "language_info": {
   "codemirror_mode": {
    "name": "ipython",
    "version": 3
   },
   "file_extension": ".py",
   "mimetype": "text/x-python",
   "name": "python",
   "nbconvert_exporter": "python",
   "pygments_lexer": "ipython3",
   "version": "3.8.8"
  }
 },
 "nbformat": 4,
 "nbformat_minor": 5
}
