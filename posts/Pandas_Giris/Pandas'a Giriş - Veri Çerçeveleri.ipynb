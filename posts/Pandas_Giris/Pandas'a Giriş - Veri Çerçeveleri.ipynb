{
 "cells": [
  {
   "cell_type": "markdown",
   "metadata": {},
   "source": [
    "`Pandas` ile ilgili bu yazımızda veri çerçevesi (`DataFrame`) isimli veri yapısını ele alacağız. Önceki yazımızda etiketli verilerden oluşan [serileri](http://www.veridefteri.com/2018/03/01/pandasa-giris-seriler/) görmüştük. Seriler tek boyutlu bir veri yapısıyken, veri çerçevelerini her sütunu bir seriden oluşan iki boyutlu bir matris olarak düşünebiliriz. Serilerde bahsettiğimiz birçok yöntemi veri çerçevelerinde de kullanmak mümkün. Ayrıca SQL tablolarında kullanılan tablo birleştirme (`JOIN`) gibi işlemleri de `Pandas` ile yapmak mümkün.\n",
    "\n",
    "# Veri Çerçeveleri\n",
    "\n",
    "Veri çerçevelerini birden fazla serinin bir araya gelmiş hali olarak düşünebiliriz. Veri çerçeveleri de seriler gibi etiketli bir veri yapısıdır, ancak serilerden farkı iki boyutlu olmasıdır. Serilerdeki gibi etiket değerlerine indeks (`index`) denir. Veri çerçeveleri `index` alanının yanında `columns` alanını da içeriyor. `columns` sütunların isimlerini içeren bir sıralı nesne. \n",
    "\n",
    "Veri çerçevesi oluşturmak için serileri kullanmak mümkün. [Linkten](http://www.imf.org/external/pubs/ft/weo/2017/02/weodata/download.aspx) erişebileceğiniz IMF'nin gayrisafi yurt içi hasıla verisi ile ilk denemeyi yapabiliriz. 2016 ve 2017 yılları için serileri anlattığımız yazıdaki veri kümelerini oluşturalım.\n",
    "\n"
   ]
  },
  {
   "cell_type": "code",
   "execution_count": 1,
   "metadata": {},
   "outputs": [
    {
     "name": "stdout",
     "output_type": "stream",
     "text": [
      "ABD                 18624.45\n",
      "Almanya              3479.23\n",
      "Birleşik Krallık     2629.19\n",
      "Brezilya             1798.62\n",
      "Fransa               2466.47\n",
      "Hindistan            2263.79\n",
      "Japonya              4936.54\n",
      "Kanada               1529.76\n",
      "Kore                 1411.04\n",
      "Çin                 11232.11\n",
      "İtalya               1850.74\n",
      "Name: GDP_2016, dtype: float64\n",
      "ABD                 19362.13\n",
      "Çin                 11937.56\n",
      "Japonya              4884.49\n",
      "Almanya              3651.87\n",
      "Fransa               2574.81\n",
      "Birleşik Krallık     2565.05\n",
      "Hindistan            2439.01\n",
      "Brezilya             2080.92\n",
      "İtalya               1921.14\n",
      "Kanada               1640.39\n",
      "Name: GDP_2017, dtype: float64\n"
     ]
    }
   ],
   "source": [
    "# Pandas paketini yükleyelim\n",
    "import pandas as pd \n",
    "import numpy as np\n",
    "\n",
    "# GSYİH değeri en yüksek olan 10 ülkenin değerlerini kullanacağız.\n",
    "gdp_data_2017 = [19362.13, 11937.56, 4884.49, 3651.87, 2574.81, 2565.05, 2439.01, \n",
    "                 2080.92, 1921.14, 1640.39]\n",
    "# İndeks değerlerini içeren listeyi oluşturalım.\n",
    "gdp_index_2017 = ['ABD', 'Çin', 'Japonya', 'Almanya', 'Fransa', \n",
    "                  'Birleşik Krallık', 'Hindistan', 'Brezilya', 'İtalya', 'Kanada']\n",
    "\n",
    "# Seriyi oluşturalım. İndeks değerini vermediğimizde, Pandas 0'dan başlayarak veriyi indeksler.\n",
    "gdp_2017 = pd.Series(gdp_data_2017, index = gdp_index_2017, name = 'GDP_2017')\n",
    "\n",
    "# Aynı işlemi 2016 yılı için yapalım.\n",
    "d = {'ABD':18624.45,\n",
    "'Çin':11232.11,\n",
    "'Japonya':4936.54,\n",
    "'Almanya':3479.23,\n",
    "'Fransa':2466.47,\n",
    "'Birleşik Krallık':2629.19,\n",
    "'Hindistan':2263.79,\n",
    "'Brezilya':1798.62,\n",
    "'İtalya':1850.74,\n",
    "'Kanada':1529.76,\n",
    "'Kore':1411.04}\n",
    "\n",
    "gdp_2016 = pd.Series(d, name = 'GDP_2016')\n",
    "\n",
    "print(gdp_2016)\n",
    "print(gdp_2017)"
   ]
  },
  {
   "cell_type": "markdown",
   "metadata": {},
   "source": [
    "Oluşturduğumuz serileri birleştirmek için iki yol kullanacağız. Bunlardan biri `pandas` altındaki `concat` fonksiyonu, diğeri ise serilerden oluşan bir sözlük tanımlamak olacak. \n",
    "\n",
    "`concat` fonksiyonunu kullanırken sütunların isimlerini ayrıca belirtmemize gerek yok. Bunun yerine serilerin `name` alanı sütun isimleri olarak atanıyor. Bir seride olup diğerinde olmayan değerler (Kore gibi) `NaN` değeriyle gösterilir."
   ]
  },
  {
   "cell_type": "code",
   "execution_count": 2,
   "metadata": {},
   "outputs": [
    {
     "name": "stdout",
     "output_type": "stream",
     "text": [
      "                  GDP_2017  GDP_2016\n",
      "ABD               19362.13  18624.45\n",
      "Almanya            3651.87   3479.23\n",
      "Birleşik Krallık   2565.05   2629.19\n",
      "Brezilya           2080.92   1798.62\n",
      "Fransa             2574.81   2466.47\n",
      "Hindistan          2439.01   2263.79\n",
      "Japonya            4884.49   4936.54\n",
      "Kanada             1640.39   1529.76\n",
      "Kore                   NaN   1411.04\n",
      "Çin               11937.56  11232.11\n",
      "İtalya             1921.14   1850.74\n"
     ]
    }
   ],
   "source": [
    "df = pd.concat([gdp_2017, gdp_2016], axis = 1)\n",
    "print(df)"
   ]
  },
  {
   "cell_type": "markdown",
   "metadata": {},
   "source": [
    "Veri çerçevesindeki değerlerin serilerdeki yerinden bağımsız olarak indeks alanına göre eşleştirildiğini görüyoruz. Ondalık işaretini virgüle çevirmek için aşağıdaki yerel ayarları kullanabiliriz. Aşağıdaki kutucukta yerel ayarları değiştiriyoruz ve ondalıklı sayıları formatlıyoruz. Son satırdaki `grouping = False` binlik işaretini kullanmayacağımızı belirtiyor. Yerel ayarların formatlama ile kullanılması konusunda Kaan'ın [sıralı nesneler](http://www.veridefteri.com/2018/01/26/python-programlamaya-giris-sirali-nesnelerle-islemler/) ve [dizeler](http://www.veridefteri.com/2018/02/23/python-programlamaya-giris-16-dize-bicimlendirme/) için yazdığı yazıları incelemenizi tavsiye ederim."
   ]
  },
  {
   "cell_type": "code",
   "execution_count": 3,
   "metadata": {},
   "outputs": [],
   "source": [
    "import locale\n",
    "loc = locale.getlocale()\n",
    "# Yerel ayarları Türkiye standartlarına çeviriyoruz.\n",
    "locale.setlocale(locale.LC_ALL, \"Turkish_Turkey.1254\")\n",
    "# Küsuratlı sayıları virgülden sonra iki basamak içerecek şekilde formatlıyoruz.\n",
    "# Binlik işaretini kullanmayacağız.\n",
    "pd.set_option('display.float_format', lambda x: locale.format('%.2f', x, grouping = False))"
   ]
  },
  {
   "cell_type": "markdown",
   "metadata": {},
   "source": [
    "Aşağıdaki örnekte, veri çerçevesini serilerden oluşan bir sözlük yardımıyla oluşturuyoruz. Sözlüğün anahtarı sütunun ismine atanır."
   ]
  },
  {
   "cell_type": "code",
   "execution_count": 4,
   "metadata": {},
   "outputs": [
    {
     "name": "stdout",
     "output_type": "stream",
     "text": [
      "                     2016     2017\n",
      "ABD              18624,45 19362,13\n",
      "Almanya           3479,23  3651,87\n",
      "Birleşik Krallık  2629,19  2565,05\n",
      "Brezilya          1798,62  2080,92\n",
      "Fransa            2466,47  2574,81\n",
      "Hindistan         2263,79  2439,01\n",
      "Japonya           4936,54  4884,49\n",
      "Kanada            1529,76  1640,39\n",
      "Kore              1411,04      nan\n",
      "Çin              11232,11 11937,56\n",
      "İtalya            1850,74  1921,14\n"
     ]
    }
   ],
   "source": [
    "d = {'2017' : gdp_2017,\n",
    "     '2016' : gdp_2016}\n",
    "\n",
    "df = pd.DataFrame(d)\n",
    "print(df)"
   ]
  },
  {
   "cell_type": "markdown",
   "metadata": {},
   "source": [
    "Ondalık işaretinin değiştiğini görebilirsiniz.\n",
    "\n",
    "Sözlük listeleri de veri çerçevesi oluşturmak için kullanılabilir. Aşağıdaki örnekteki listedeki her bir sözlük bir ülkenin GSYİH değerine denk geliyor. Hangi ülkeler olduğunu ise veri çerçevesini oluştururken söylüyoruz. Belirtmediğimiz değerler de `NaN` değerini alıyor."
   ]
  },
  {
   "cell_type": "code",
   "execution_count": 5,
   "metadata": {},
   "outputs": [
    {
     "name": "stdout",
     "output_type": "stream",
     "text": [
      "         GDP_2016  GDP_2017\n",
      "Almanya   3651,87   3479,23\n",
      "Fransa    2466,47       nan\n"
     ]
    }
   ],
   "source": [
    "data = [{'GDP_2016':3651.87, 'GDP_2017': 3479.23}, {'GDP_2016' : 2466.47}]\n",
    "df = pd.DataFrame(data, index = ['Almanya', 'Fransa'])\n",
    "print(df)"
   ]
  },
  {
   "cell_type": "markdown",
   "metadata": {},
   "source": [
    "Veri çerçevelerinin matrisler gibi iki boyutlu bir veri yapısı olduğundan bahsetmiştik. Matrisler de veri çerçeveleri oluşturmak için kullanılabilir."
   ]
  },
  {
   "cell_type": "code",
   "execution_count": 6,
   "metadata": {},
   "outputs": [
    {
     "name": "stdout",
     "output_type": "stream",
     "text": [
      "          1. sütun  2. sütun\n",
      "1. satır      0,45      0,42\n",
      "2. satır      1,00      0,96\n"
     ]
    }
   ],
   "source": [
    "# 2x2'lik rassal sayılardan oluşan bir matris oluşturalım.\n",
    "data = np.random.rand(2,2)\n",
    "# Index ve columns değerlerini veri çerçevesini oluştururken tanımlayabiliriz.\n",
    "df = pd.DataFrame(data, index = ['1. satır', '2. satır'], columns=['1. sütun', '2. sütun'])\n",
    "print(df)"
   ]
  },
  {
   "cell_type": "markdown",
   "metadata": {},
   "source": [
    "Uygulamalarınızda kullanacağınız boyuttaki verileri bahsettiğimiz yöntemlerle veri çerçevesine atamanın zorluğunu farketmişsinizdir. Neyse ki `pandas` çeşitli formatlardaki dosyaları okumanızı sağlayacak fonksiyonlar içeriyor. \n",
    "\n",
    "# Dosya okuma\n",
    "`pandas` paketi csv, Excel, JSON formatlarındaki dosyaların yanında Stata, SAS programlarıyla oluşturulmuş dosyaları da okuyarak içeriğini bir veri çerçevesine atamanızı sağlayan fonksiyonlar içeriyor. Benim sıklıkla kullandığım `read_clipboard` fonksiyonu ise kopyaladığınız bir veriyi (örneğin bir Excel tablosunu) veri çerçevesine dönüştürüyor. \n",
    "\n",
    "`read_csv` fonksiyonunda sıklıkla kullanabileceğiniz parametreleri aşağıda bulabilirsiniz:\n",
    "* `sep`: kolonları ayıran karakter ya da kurallı ifade (varsayılan değer `','`),\n",
    "* `header`: sütun isimlerini içeren satırın numarası (varsayılan değer 0, eğer böyle bir satır yoksa `None`),\n",
    "* `index_col`: indeks değerlerini içeren sütunun numarası,\n",
    "* `names`: sütun isimlerini içeren sıralı nesne.\n",
    "\n",
    "`read_excel` fonksiyonunda ek olarak birden fazla sayfa içeren dokümanlarda hangi sayfaları okutacağınızı belirten `sheet_name` argümanını da kullanabilirsiniz. `sheet_name` değeri sayfanın adı, indeksi (ya da bunların bir listesi) olabilir. Ayrıca `None` değerini kullanmanız halinde bütün sayfaları okutabilirsiniz. Örnek olarak [linkten](http://archive.ics.uci.edu/ml/datasets/online+retail) indirebileceğiniz bir çevrimiçi alışveriş veri kümesini kullandım."
   ]
  },
  {
   "cell_type": "code",
   "execution_count": 7,
   "metadata": {},
   "outputs": [
    {
     "name": "stdout",
     "output_type": "stream",
     "text": [
      "  InvoiceNo StockCode                          Description  Quantity  \\\n",
      "0    536365    85123A   WHITE HANGING HEART T-LIGHT HOLDER         6   \n",
      "1    536365     71053                  WHITE METAL LANTERN         6   \n",
      "2    536365    84406B       CREAM CUPID HEARTS COAT HANGER         8   \n",
      "3    536365    84029G  KNITTED UNION FLAG HOT WATER BOTTLE         6   \n",
      "4    536365    84029E       RED WOOLLY HOTTIE WHITE HEART.         6   \n",
      "\n",
      "          InvoiceDate  UnitPrice  CustomerID         Country  \n",
      "0 2010-12-01 08:26:00       2,55    17850,00  United Kingdom  \n",
      "1 2010-12-01 08:26:00       3,39    17850,00  United Kingdom  \n",
      "2 2010-12-01 08:26:00       2,75    17850,00  United Kingdom  \n",
      "3 2010-12-01 08:26:00       3,39    17850,00  United Kingdom  \n",
      "4 2010-12-01 08:26:00       3,39    17850,00  United Kingdom  \n"
     ]
    }
   ],
   "source": [
    "# Dosya tek bir sayfa içerdiği için sheet_name'e ihtiyaç duymadık.\n",
    "# Benim bilgisayarımda Excel dosyası ile Jupyter Notebook dosyası \n",
    "# aynı klasörde olduğundan adres belirtmedim.\n",
    "df = pd.read_excel('Online Retail.xlsx', decimal = ',')\n",
    "print(df.head())"
   ]
  },
  {
   "cell_type": "markdown",
   "metadata": {},
   "source": [
    "Kolonların isimlerini değiştirelim."
   ]
  },
  {
   "cell_type": "code",
   "execution_count": 8,
   "metadata": {},
   "outputs": [
    {
     "name": "stdout",
     "output_type": "stream",
     "text": [
      "  FaturaNo  UrunNo                                Tanim  Adet  \\\n",
      "0   536365  85123A   WHITE HANGING HEART T-LIGHT HOLDER     6   \n",
      "1   536365   71053                  WHITE METAL LANTERN     6   \n",
      "2   536365  84406B       CREAM CUPID HEARTS COAT HANGER     8   \n",
      "3   536365  84029G  KNITTED UNION FLAG HOT WATER BOTTLE     6   \n",
      "4   536365  84029E       RED WOOLLY HOTTIE WHITE HEART.     6   \n",
      "\n",
      "         FaturaTarihi  BirimFiyat  MusteriNo            Ulke  \n",
      "0 2010-12-01 08:26:00        2,55   17850,00  United Kingdom  \n",
      "1 2010-12-01 08:26:00        3,39   17850,00  United Kingdom  \n",
      "2 2010-12-01 08:26:00        2,75   17850,00  United Kingdom  \n",
      "3 2010-12-01 08:26:00        3,39   17850,00  United Kingdom  \n",
      "4 2010-12-01 08:26:00        3,39   17850,00  United Kingdom  \n"
     ]
    }
   ],
   "source": [
    "df.columns = ['FaturaNo', 'UrunNo', 'Tanim', 'Adet', 'FaturaTarihi', 'BirimFiyat', 'MusteriNo', 'Ulke']\n",
    "print(df.head())"
   ]
  },
  {
   "cell_type": "markdown",
   "metadata": {},
   "source": [
    "# Temel Metotlar ve Erişim\n",
    "\n",
    "Veri çerçevelerinde, serilerde gördüğümüz `dim`, `shape`, `size` alanlarını ve erişim için kullandığımız `loc` ve `iloc` fonksiyonları kullanabiliriz. Serilerden farklı olarak veri çerçeveleri iki boyutlu, `size` alanı da bu nedenle sütun ve satır sayısının çarpımına eşit. "
   ]
  },
  {
   "cell_type": "code",
   "execution_count": 9,
   "metadata": {},
   "outputs": [
    {
     "name": "stdout",
     "output_type": "stream",
     "text": [
      "Boyut: 2\n",
      "Şekil: (541909, 8)\n",
      "Uzunluk: 4335272\n",
      "Sütunlar: Index(['FaturaNo', 'UrunNo', 'Tanim', 'Adet', 'FaturaTarihi', 'BirimFiyat',\n",
      "       'MusteriNo', 'Ulke'],\n",
      "      dtype='object')\n"
     ]
    }
   ],
   "source": [
    "print('Boyut: {}'.format(df.ndim))\n",
    "print('Şekil: {}'.format(df.shape))\n",
    "print('Uzunluk: {}'.format(df.size))\n",
    "print('Sütunlar: {}'.format(df.columns))"
   ]
  },
  {
   "cell_type": "markdown",
   "metadata": {},
   "source": [
    "Erişim için de yine serilerde gördüğümüz `iloc` ve `loc` metotlarını kullanabiliriz. Aynı zamanda Kaan'ın [Sıralı Nesneler İşlemler](http://www.veridefteri.com/2018/01/26/python-programlamaya-giris-sirali-nesnelerle-islemler/) yazısında bahsettiği dilimleme yöntemlerini kullanabiliriz."
   ]
  },
  {
   "cell_type": "code",
   "execution_count": 10,
   "metadata": {},
   "outputs": [
    {
     "name": "stdout",
     "output_type": "stream",
     "text": [
      "Veri çerçevesinin 0,0 indeksindeki değer: 536365\n",
      "Veri çerçevesinin ilk satırındaki değerler:\n",
      "FaturaNo                                    536365\n",
      "UrunNo                                      85123A\n",
      "Tanim           WHITE HANGING HEART T-LIGHT HOLDER\n",
      "Adet                                             6\n",
      "FaturaTarihi                   2010-12-01 08:26:00\n",
      "BirimFiyat                                    2,55\n",
      "MusteriNo                                 17850,00\n",
      "Ulke                                United Kingdom\n",
      "Name: 0, dtype: object\n"
     ]
    }
   ],
   "source": [
    "print('Veri çerçevesinin 0,0 indeksindeki değer: {}'.format(df.iloc[0,0]))\n",
    "print('Veri çerçevesinin ilk satırındaki değerler:\\n{}'.format(df.iloc[0,:]))"
   ]
  },
  {
   "cell_type": "markdown",
   "metadata": {},
   "source": [
    "Verideki eksik değerler özel ilgi göstermemizi gerektirecek durumlara işaret edebilir. Şimdi sütunlardaki eksik değerlerin sayısına bakalım. `isnull` veri çerçevesinin boyutunda 0 ve 1 (`True`/`False`) değerlerinden oluşan bir veri çerçevesi döndürüyor. Bu veri çerçevesi `NaN` olan hücreler için `True`, diğer hücreler için `False` değerine sahip. Sütunlar üzerinden toplarsak eksik değer içeren hücre sayısını bulabiliriz."
   ]
  },
  {
   "cell_type": "code",
   "execution_count": 11,
   "metadata": {},
   "outputs": [
    {
     "name": "stdout",
     "output_type": "stream",
     "text": [
      "Eksik hücre sayısı\n",
      "FaturaNo             0\n",
      "UrunNo               0\n",
      "Tanim             1454\n",
      "Adet                 0\n",
      "FaturaTarihi         0\n",
      "BirimFiyat           0\n",
      "MusteriNo       135080\n",
      "Ulke                 0\n",
      "dtype: int64\n"
     ]
    }
   ],
   "source": [
    "print('Eksik hücre sayısı')\n",
    "print(df.isnull().sum())"
   ]
  },
  {
   "cell_type": "markdown",
   "metadata": {},
   "source": [
    "Müşteri numarası olmayan 135080 satır var. Bu satırları veri setinden çıkaralım."
   ]
  },
  {
   "cell_type": "code",
   "execution_count": 12,
   "metadata": {},
   "outputs": [
    {
     "name": "stdout",
     "output_type": "stream",
     "text": [
      "Şekil: (406829, 8)\n",
      "Eksik hücre sayısı\n",
      "FaturaNo        0\n",
      "UrunNo          0\n",
      "Tanim           0\n",
      "Adet            0\n",
      "FaturaTarihi    0\n",
      "BirimFiyat      0\n",
      "MusteriNo       0\n",
      "Ulke            0\n",
      "dtype: int64\n"
     ]
    }
   ],
   "source": [
    "df = df[~df['MusteriNo'].isnull()]\n",
    "print('Şekil: {}'.format(df.shape))\n",
    "print('Eksik hücre sayısı')\n",
    "print(df.isnull().sum())"
   ]
  },
  {
   "cell_type": "markdown",
   "metadata": {},
   "source": [
    "Alternatif olarak eksik değerleri istediğiniz başka bir değerle değiştirmeniz de mümkün. Bu amaçla `fillna` fonksiyonunu kullanabilirsiniz. Örnek olarak eksik değerleri 0 değeriyle doldurmak için `df.fillna(0, inplace = True)` yazmanız yeterli. Buradaki `inplace` argümanı değişikliğin veri çerçevesi üzerinde yapılmasını sağlar. Bunu kullanmak istemezseniz bir atama yapmanız gerekecek (`df = df.fillna(0)`). İki seçeneği de kullanmamanız haline orijinal veri çerçevesi değişmeyecektir.\n",
    "\n",
    "Müşteri numaraları tamsayı olması gerekirken ondalıklı olarak okunduğu için tamsayıya çevirelim."
   ]
  },
  {
   "cell_type": "code",
   "execution_count": 13,
   "metadata": {},
   "outputs": [
    {
     "name": "stdout",
     "output_type": "stream",
     "text": [
      "  FaturaNo  UrunNo                                Tanim  Adet  \\\n",
      "0   536365  85123A   WHITE HANGING HEART T-LIGHT HOLDER     6   \n",
      "1   536365   71053                  WHITE METAL LANTERN     6   \n",
      "2   536365  84406B       CREAM CUPID HEARTS COAT HANGER     8   \n",
      "3   536365  84029G  KNITTED UNION FLAG HOT WATER BOTTLE     6   \n",
      "4   536365  84029E       RED WOOLLY HOTTIE WHITE HEART.     6   \n",
      "\n",
      "         FaturaTarihi  BirimFiyat  MusteriNo            Ulke  \n",
      "0 2010-12-01 08:26:00        2,55      17850  United Kingdom  \n",
      "1 2010-12-01 08:26:00        3,39      17850  United Kingdom  \n",
      "2 2010-12-01 08:26:00        2,75      17850  United Kingdom  \n",
      "3 2010-12-01 08:26:00        3,39      17850  United Kingdom  \n",
      "4 2010-12-01 08:26:00        3,39      17850  United Kingdom  \n"
     ]
    }
   ],
   "source": [
    "# Aşağıdaki satırda sütunlara ulaşmanın iki farklı yolunu görüyoruz. \n",
    "# Veri_çerçevesi['sütun_adı'] ve Veri_çerçevesi.Sütun_adı\n",
    "df['MusteriNo'] = df.MusteriNo.astype('int')\n",
    "print(df.head())"
   ]
  },
  {
   "cell_type": "markdown",
   "metadata": {},
   "source": [
    "# Veri İşleme\n",
    "Veri çerçevesinde ürünler için birim fiyat ve satın alınan adet değerleri var. Müşterilerin o ürün için toplam harcamasını içeren bir sütun ekleyelim. Yeni sütunun adı `Miktar` olsun."
   ]
  },
  {
   "cell_type": "code",
   "execution_count": 14,
   "metadata": {},
   "outputs": [
    {
     "name": "stdout",
     "output_type": "stream",
     "text": [
      "  FaturaNo  UrunNo                                Tanim  Adet  \\\n",
      "0   536365  85123A   WHITE HANGING HEART T-LIGHT HOLDER     6   \n",
      "1   536365   71053                  WHITE METAL LANTERN     6   \n",
      "2   536365  84406B       CREAM CUPID HEARTS COAT HANGER     8   \n",
      "3   536365  84029G  KNITTED UNION FLAG HOT WATER BOTTLE     6   \n",
      "4   536365  84029E       RED WOOLLY HOTTIE WHITE HEART.     6   \n",
      "\n",
      "         FaturaTarihi  BirimFiyat  MusteriNo            Ulke  Miktar  \n",
      "0 2010-12-01 08:26:00        2,55      17850  United Kingdom   15,30  \n",
      "1 2010-12-01 08:26:00        3,39      17850  United Kingdom   20,34  \n",
      "2 2010-12-01 08:26:00        2,75      17850  United Kingdom   22,00  \n",
      "3 2010-12-01 08:26:00        3,39      17850  United Kingdom   20,34  \n",
      "4 2010-12-01 08:26:00        3,39      17850  United Kingdom   20,34  \n"
     ]
    }
   ],
   "source": [
    "df['Miktar'] = df['BirimFiyat'] * df['Adet']\n",
    "print(df.head())"
   ]
  },
  {
   "cell_type": "markdown",
   "metadata": {},
   "source": [
    "`FaturaNo` ve o faturaya ait toplam miktarı içeren yeni bir veri çerçevesi oluşturalım. `groupby` fonksiyonuyla her alışverişin toplam miktarını bulabiliriz. `Groupby` fonksiyonunun kullanımını Veri Defteri'nin [ilk yazılarından birinde](http://www.veridefteri.com/2017/10/30/groupby/) anlatmıştık.         "
   ]
  },
  {
   "cell_type": "code",
   "execution_count": 15,
   "metadata": {},
   "outputs": [
    {
     "name": "stdout",
     "output_type": "stream",
     "text": [
      "  FaturaNo  ToplamMiktar\n",
      "0   536365        139,12\n",
      "1   536366         22,20\n",
      "2   536367        278,73\n",
      "3   536368         70,05\n",
      "4   536369         17,85\n"
     ]
    }
   ],
   "source": [
    "df_fis = df.groupby(['FaturaNo']).agg({'Miktar' : 'sum'}).reset_index()\n",
    "df_fis.columns = ['FaturaNo', 'ToplamMiktar']\n",
    "print(df_fis.head())"
   ]
  },
  {
   "cell_type": "markdown",
   "metadata": {},
   "source": [
    "İlk veri çerçevesine `ToplamMiktar` sütununu eklemek için `pandas` paketinin sunduğu birleştirme işlemlerinden yararlanabiliriz. Bu amaçla `merge` fonksiyonunu kullanacağız. \n",
    "\n",
    "`merge` işlemi için iki veri çerçevesinin hangi sütunlarının nasıl birleştirileceğini belirtmek gerekiyor. `merge` fonksiyonu SQL tablolarında kullanılan birleştirme (`JOIN`) işlemlerini destekliyor. İki veri çerçevesini birleştirmek için `FaturaNo` anahtarını kullanalım (`on = 'FaturaNo'`). Farklı isimlere sahip sütunlar üzerinden birleştirme yapmak için `right_on = ...` ve `left_on = ...` şeklinde veri çerçevelerindeki sütun isimlerini fonksiyona ekleyebilirsiniz.\n",
    "\n",
    "`how` argümanı için kullanabileceğiniz değerler:\n",
    "* \"`inner`\": Sadece iki tabloda da bulunan anahtar değerlerini birleştirir. Bir tabloda olmayan değerler silinir.\n",
    "* \"`right`\": İlk tabloda bulunan değerler korunur ve ikinci tabloda eşleşen değerler tabloya eklenir. İkinci tabloda bulunmayan değerler `NaN` ile belirtilir. \n",
    "* \"`left`\": İkinci tabloda bulunan değerler korunur ve ilk tabloda eşleşen değerler tabloya eklenir. İlk tabloda bulunmayan değerler `NaN` ile belirtilir. \n",
    "* \"`outer`\": İki tablodan en az birinde bulunan değerler korunur. Bir tabloda olmayan eksik değerler `NaN` ile belirtilir."
   ]
  },
  {
   "cell_type": "code",
   "execution_count": 16,
   "metadata": {},
   "outputs": [
    {
     "name": "stdout",
     "output_type": "stream",
     "text": [
      "  FaturaNo  UrunNo                                Tanim  Adet  \\\n",
      "0   536365  85123A   WHITE HANGING HEART T-LIGHT HOLDER     6   \n",
      "1   536365   71053                  WHITE METAL LANTERN     6   \n",
      "2   536365  84406B       CREAM CUPID HEARTS COAT HANGER     8   \n",
      "3   536365  84029G  KNITTED UNION FLAG HOT WATER BOTTLE     6   \n",
      "4   536365  84029E       RED WOOLLY HOTTIE WHITE HEART.     6   \n",
      "\n",
      "         FaturaTarihi  BirimFiyat  MusteriNo            Ulke  Miktar  \\\n",
      "0 2010-12-01 08:26:00        2,55      17850  United Kingdom   15,30   \n",
      "1 2010-12-01 08:26:00        3,39      17850  United Kingdom   20,34   \n",
      "2 2010-12-01 08:26:00        2,75      17850  United Kingdom   22,00   \n",
      "3 2010-12-01 08:26:00        3,39      17850  United Kingdom   20,34   \n",
      "4 2010-12-01 08:26:00        3,39      17850  United Kingdom   20,34   \n",
      "\n",
      "   ToplamMiktar  \n",
      "0        139,12  \n",
      "1        139,12  \n",
      "2        139,12  \n",
      "3        139,12  \n",
      "4        139,12  \n",
      "Şekil: (406829, 10)\n",
      "  FaturaNo  UrunNo                                Tanim  Adet  \\\n",
      "0   536365  85123A   WHITE HANGING HEART T-LIGHT HOLDER     6   \n",
      "1   536365   71053                  WHITE METAL LANTERN     6   \n",
      "2   536365  84406B       CREAM CUPID HEARTS COAT HANGER     8   \n",
      "3   536365  84029G  KNITTED UNION FLAG HOT WATER BOTTLE     6   \n",
      "4   536365  84029E       RED WOOLLY HOTTIE WHITE HEART.     6   \n",
      "5   536365   22752         SET 7 BABUSHKA NESTING BOXES     2   \n",
      "6   536365   21730    GLASS STAR FROSTED T-LIGHT HOLDER     6   \n",
      "\n",
      "         FaturaTarihi  BirimFiyat  MusteriNo            Ulke  Miktar  \\\n",
      "0 2010-12-01 08:26:00        2,55      17850  United Kingdom   15,30   \n",
      "1 2010-12-01 08:26:00        3,39      17850  United Kingdom   20,34   \n",
      "2 2010-12-01 08:26:00        2,75      17850  United Kingdom   22,00   \n",
      "3 2010-12-01 08:26:00        3,39      17850  United Kingdom   20,34   \n",
      "4 2010-12-01 08:26:00        3,39      17850  United Kingdom   20,34   \n",
      "5 2010-12-01 08:26:00        7,65      17850  United Kingdom   15,30   \n",
      "6 2010-12-01 08:26:00        4,25      17850  United Kingdom   25,50   \n",
      "\n",
      "   ToplamMiktar  \n",
      "0        139,12  \n",
      "1        139,12  \n",
      "2        139,12  \n",
      "3        139,12  \n",
      "4        139,12  \n",
      "5        139,12  \n",
      "6        139,12  \n"
     ]
    }
   ],
   "source": [
    "df_yeni = pd.merge(df,df_fis, how= 'inner', on = 'FaturaNo')\n",
    "print(df_yeni.head())\n",
    "print('Şekil: {}'.format(df_yeni.shape))\n",
    "print(df_yeni[df_yeni['FaturaNo'] == 536365])"
   ]
  },
  {
   "cell_type": "markdown",
   "metadata": {},
   "source": [
    "Tekrar eden verileri tekilleştirmek için `drop_duplicates` fonksiyonunu kullanabiliriz. Aşağıda müşteri numaralarını tekilleştirerek kaç müşteri olduğunu buluyoruz. Ben sütunları kopyalamayı tercih ettim. Bunu yapmamanız durumunda Python referans modelinden kaynaklı bir uyarı mesajı alacaksınız. Bu konu hakkında Kaan'ın [yazısını](http://www.veridefteri.com/2018/03/19/python-programlamaya-giris-18-python-referans-modeli-sig-ve-derin-kopyalama/) okumanızı tavsiye ederim."
   ]
  },
  {
   "cell_type": "code",
   "execution_count": 17,
   "metadata": {},
   "outputs": [
    {
     "name": "stdout",
     "output_type": "stream",
     "text": [
      "    MusteriNo\n",
      "0       17850\n",
      "9       13047\n",
      "26      12583\n",
      "46      13748\n",
      "65      15100\n",
      "Şekil: (4372, 1)\n",
      "Müşteri sayısı: 4372\n"
     ]
    }
   ],
   "source": [
    "# Sadece ürün bilgilerini içeren sütunları alıyoruz.\n",
    "# Burada copy işlemini kullanmazsak bir uyarı mesajı alıyoruz.\n",
    "df_musteri = df[['MusteriNo']].copy()\n",
    "df_musteri.drop_duplicates(inplace = True)\n",
    "print(df_musteri.head())\n",
    "print('Şekil: {}'.format(df_musteri.shape))\n",
    "print('Müşteri sayısı: {}'.format(df_musteri.shape[0]))"
   ]
  },
  {
   "cell_type": "markdown",
   "metadata": {},
   "source": [
    "Veri çerçeveleri `scikit-learn`, `statsmodel` gibi bir çok paket tarafından destekleniyor. `Tensorflow` ve `lightgbm` gibi popüler paketlerle de veri çerçevelerini kullanabilirsiniz. Yapay öğrenmede sıklıkla kullanılan bu paketlerden [scikit-learn](http://www.veridefteri.com/2017/11/23/scikit-learn-ile-veri-analitigine-giris/) paketiyle ilgili bir giriş yazısı yazmıştık. İleride, diğer paketlerle ilgili yazılar yazmayı planlıyoruz. \n",
    "\n",
    "Bu yazının Jupyter Notebook dosyasına [Github](https://github.com/sibirbil/VeriDefteri) dizinimizden ulaşabilirsiniz."
   ]
  }
 ],
 "metadata": {
  "kernelspec": {
   "display_name": "Python 3",
   "language": "python",
   "name": "python3"
  },
  "language_info": {
   "codemirror_mode": {
    "name": "ipython",
    "version": 3
   },
   "file_extension": ".py",
   "mimetype": "text/x-python",
   "name": "python",
   "nbconvert_exporter": "python",
   "pygments_lexer": "ipython3",
   "version": "3.6.3"
  }
 },
 "nbformat": 4,
 "nbformat_minor": 2
}
