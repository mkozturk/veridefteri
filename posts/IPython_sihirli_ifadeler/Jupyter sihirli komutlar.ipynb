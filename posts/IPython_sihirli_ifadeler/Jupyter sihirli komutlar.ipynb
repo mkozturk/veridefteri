{
 "cells": [
  {
   "cell_type": "markdown",
   "metadata": {},
   "source": [
    "# Jupyter / IPython sihirli ifadeler"
   ]
  },
  {
   "cell_type": "markdown",
   "metadata": {},
   "source": [
    "Jupyter Jupyter olmadan önce (yani birçok farklı dil çekirdeğiyle uyumlu bir arayüz haline gelmeden önce) _IPython Notebook_ olarak biliniyordu. IPython bir Python yorumlayıcısı, ama özellikle etkileşimli sayısal hesaplamalar gözetilerek hazırlanmış bir yorumlayıcı. Başta sadece terminalde çalışıyordu, daha sonra Web teknolojileriyle birleştirilerek tarayıcı içinde kullanılabilen bir _defter_ yapısına kavuştu. \n",
    "\n",
    "[Geçmiş bir yazıda bahsettiğimiz](http://www.veridefteri.com/2017/10/30/jupyter-notebook-nedir-2/) _Jupyter_ arayüzünün özellikleri doğrudan doğruya _IPython_'dan alınmış, ve yorumlanabilir herhangi bir dille çalışabilecek şekilde genelleştirilmiştir. _Jupyter_'in devraldığı _IPython_ özelliklerinden biri de **sihirli ifadeler** denen bazı kolaylaştırıcı, özelleşmiş komutlardır. Bu komutlar `!`, `%` veya `%%` ile başlarlar. Sihirli ifadeler Python yorumlayıcısına aktarılmadan _IPython_ tarafından işlenir.\n",
    "\n",
    "Sihirli ifadeler IPython çekirdeğine özgü oldukları için sadece Python ile çalışırlar. Jupyter'in desteklediği diğer diller (R, Julia, vd.) şimdilik bu özelliğe sahip değiller.\n",
    "\n",
    "Sihirli ifadelerle ilgili tam referans için [resmi belgelere bakabilirsiniz.](http://ipython.readthedocs.io/en/stable/interactive/magics.html) Bu yazıda bazı en yaygın kullanılan komutlara göz atacağız."
   ]
  },
  {
   "cell_type": "markdown",
   "metadata": {},
   "source": [
    "## Sistem komutu çalıştırmak"
   ]
  },
  {
   "cell_type": "markdown",
   "metadata": {},
   "source": [
    "İşletim sisteminin komut yorumlayıcısına doğrudan erişmek için `!` sihrini kullanırız. Bu komutların cevabı ekrana yazılır. (Dikkat: Aşağıdaki örnekler bir Linux sisteminde çalışır. Windows veya MacOS'da çalışıyorsanız, sisteminizdeki kabuğa uygun komutlar denemelisiniz.)"
   ]
  },
  {
   "cell_type": "markdown",
   "metadata": {},
   "source": [
    "Tarih ve saat:"
   ]
  },
  {
   "cell_type": "code",
   "execution_count": 1,
   "metadata": {},
   "outputs": [
    {
     "name": "stdout",
     "output_type": "stream",
     "text": [
      "Pzt Kas 20 19:58:15 +03 2017\r\n"
     ]
    }
   ],
   "source": [
    "!date"
   ]
  },
  {
   "cell_type": "markdown",
   "metadata": {},
   "source": [
    "`ls` ile `\\bin` dizininde b ile başlayan dosyaları görelim."
   ]
  },
  {
   "cell_type": "code",
   "execution_count": 2,
   "metadata": {
    "scrolled": true
   },
   "outputs": [
    {
     "name": "stdout",
     "output_type": "stream",
     "text": [
      "/bin/bash     /bin/bzcat   /bin/bzegrep  /bin/bzgrep\t    /bin/bzless\r\n",
      "/bin/bunzip2  /bin/bzcmp   /bin/bzexe\t /bin/bzip2\t    /bin/bzmore\r\n",
      "/bin/busybox  /bin/bzdiff  /bin/bzfgrep  /bin/bzip2recover\r\n"
     ]
    }
   ],
   "source": [
    "!ls /bin/b*"
   ]
  },
  {
   "cell_type": "markdown",
   "metadata": {},
   "source": [
    "Bu komutların çıktılarını, daha sonra kullanmak için bir değişkene atayabiliriz. Bu şekilde, komut satırında kolayca yapılabilecek bir iş için kod yazmak zorunda kalmayız."
   ]
  },
  {
   "cell_type": "code",
   "execution_count": 3,
   "metadata": {},
   "outputs": [
    {
     "data": {
      "text/plain": [
       "['/bin/bash',\n",
       " '/bin/bunzip2',\n",
       " '/bin/busybox',\n",
       " '/bin/bzcat',\n",
       " '/bin/bzcmp',\n",
       " '/bin/bzdiff',\n",
       " '/bin/bzegrep',\n",
       " '/bin/bzexe',\n",
       " '/bin/bzfgrep',\n",
       " '/bin/bzgrep',\n",
       " '/bin/bzip2',\n",
       " '/bin/bzip2recover',\n",
       " '/bin/bzless',\n",
       " '/bin/bzmore']"
      ]
     },
     "execution_count": 3,
     "metadata": {},
     "output_type": "execute_result"
    }
   ],
   "source": [
    "bindosyalar = !ls /bin/b*\n",
    "bindosyalar"
   ]
  },
  {
   "cell_type": "markdown",
   "metadata": {},
   "source": [
    "## Yardım almak"
   ]
  },
  {
   "cell_type": "markdown",
   "metadata": {},
   "source": [
    "Jupyter'in çevrimiçi yardımını hücre sihirleriyle de kullanabilirsiniz. Sihirli kelimeyi yazıp `Shift-Tab` bastığınızda bir yardım balonu çıkar.\n",
    "\n",
    "<img src=\"data:image/png;base64,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\"/>"
   ]
  },
  {
   "cell_type": "markdown",
   "metadata": {},
   "source": [
    "Kullanabileceğiniz bütün sihirli kelimelerin listesini `%lsmagic` sihriyle görebilirsiniz."
   ]
  },
  {
   "cell_type": "code",
   "execution_count": 4,
   "metadata": {},
   "outputs": [
    {
     "data": {
      "application/json": {
       "cell": {
        "!": "OSMagics",
        "HTML": "Other",
        "SVG": "Other",
        "bash": "Other",
        "capture": "ExecutionMagics",
        "debug": "ExecutionMagics",
        "file": "Other",
        "html": "DisplayMagics",
        "javascript": "DisplayMagics",
        "js": "DisplayMagics",
        "latex": "DisplayMagics",
        "markdown": "DisplayMagics",
        "perl": "Other",
        "prun": "ExecutionMagics",
        "pypy": "Other",
        "python": "Other",
        "python2": "Other",
        "python3": "Other",
        "ruby": "Other",
        "script": "ScriptMagics",
        "sh": "Other",
        "svg": "DisplayMagics",
        "sx": "OSMagics",
        "system": "OSMagics",
        "time": "ExecutionMagics",
        "timeit": "ExecutionMagics",
        "writefile": "OSMagics"
       },
       "line": {
        "alias": "OSMagics",
        "alias_magic": "BasicMagics",
        "autocall": "AutoMagics",
        "automagic": "AutoMagics",
        "autosave": "KernelMagics",
        "bookmark": "OSMagics",
        "cat": "Other",
        "cd": "OSMagics",
        "clear": "KernelMagics",
        "colors": "BasicMagics",
        "config": "ConfigMagics",
        "connect_info": "KernelMagics",
        "cp": "Other",
        "debug": "ExecutionMagics",
        "dhist": "OSMagics",
        "dirs": "OSMagics",
        "doctest_mode": "BasicMagics",
        "ed": "Other",
        "edit": "KernelMagics",
        "env": "OSMagics",
        "gui": "BasicMagics",
        "hist": "Other",
        "history": "HistoryMagics",
        "killbgscripts": "ScriptMagics",
        "ldir": "Other",
        "less": "KernelMagics",
        "lf": "Other",
        "lk": "Other",
        "ll": "Other",
        "load": "CodeMagics",
        "load_ext": "ExtensionMagics",
        "loadpy": "CodeMagics",
        "logoff": "LoggingMagics",
        "logon": "LoggingMagics",
        "logstart": "LoggingMagics",
        "logstate": "LoggingMagics",
        "logstop": "LoggingMagics",
        "ls": "Other",
        "lsmagic": "BasicMagics",
        "lx": "Other",
        "macro": "ExecutionMagics",
        "magic": "BasicMagics",
        "man": "KernelMagics",
        "matplotlib": "PylabMagics",
        "mkdir": "Other",
        "more": "KernelMagics",
        "mv": "Other",
        "notebook": "BasicMagics",
        "page": "BasicMagics",
        "pastebin": "CodeMagics",
        "pdb": "ExecutionMagics",
        "pdef": "NamespaceMagics",
        "pdoc": "NamespaceMagics",
        "pfile": "NamespaceMagics",
        "pinfo": "NamespaceMagics",
        "pinfo2": "NamespaceMagics",
        "pip": "BasicMagics",
        "popd": "OSMagics",
        "pprint": "BasicMagics",
        "precision": "BasicMagics",
        "profile": "BasicMagics",
        "prun": "ExecutionMagics",
        "psearch": "NamespaceMagics",
        "psource": "NamespaceMagics",
        "pushd": "OSMagics",
        "pwd": "OSMagics",
        "pycat": "OSMagics",
        "pylab": "PylabMagics",
        "qtconsole": "KernelMagics",
        "quickref": "BasicMagics",
        "recall": "HistoryMagics",
        "rehashx": "OSMagics",
        "reload_ext": "ExtensionMagics",
        "rep": "Other",
        "rerun": "HistoryMagics",
        "reset": "NamespaceMagics",
        "reset_selective": "NamespaceMagics",
        "rm": "Other",
        "rmdir": "Other",
        "run": "ExecutionMagics",
        "save": "CodeMagics",
        "sc": "OSMagics",
        "set_env": "OSMagics",
        "store": "StoreMagics",
        "sx": "OSMagics",
        "system": "OSMagics",
        "tb": "ExecutionMagics",
        "time": "ExecutionMagics",
        "timeit": "ExecutionMagics",
        "unalias": "OSMagics",
        "unload_ext": "ExtensionMagics",
        "who": "NamespaceMagics",
        "who_ls": "NamespaceMagics",
        "whos": "NamespaceMagics",
        "xdel": "NamespaceMagics",
        "xmode": "BasicMagics"
       }
      },
      "text/plain": [
       "Available line magics:\n",
       "%alias  %alias_magic  %autocall  %automagic  %autosave  %bookmark  %cat  %cd  %clear  %colors  %config  %connect_info  %cp  %debug  %dhist  %dirs  %doctest_mode  %ed  %edit  %env  %gui  %hist  %history  %killbgscripts  %ldir  %less  %lf  %lk  %ll  %load  %load_ext  %loadpy  %logoff  %logon  %logstart  %logstate  %logstop  %ls  %lsmagic  %lx  %macro  %magic  %man  %matplotlib  %mkdir  %more  %mv  %notebook  %page  %pastebin  %pdb  %pdef  %pdoc  %pfile  %pinfo  %pinfo2  %popd  %pprint  %precision  %profile  %prun  %psearch  %psource  %pushd  %pwd  %pycat  %pylab  %qtconsole  %quickref  %recall  %rehashx  %reload_ext  %rep  %rerun  %reset  %reset_selective  %rm  %rmdir  %run  %save  %sc  %set_env  %store  %sx  %system  %tb  %time  %timeit  %unalias  %unload_ext  %who  %who_ls  %whos  %xdel  %xmode\n",
       "\n",
       "Available cell magics:\n",
       "%%!  %%HTML  %%SVG  %%bash  %%capture  %%debug  %%file  %%html  %%javascript  %%js  %%latex  %%markdown  %%perl  %%prun  %%pypy  %%python  %%python2  %%python3  %%ruby  %%script  %%sh  %%svg  %%sx  %%system  %%time  %%timeit  %%writefile\n",
       "\n",
       "Automagic is ON, % prefix IS NOT needed for line magics."
      ]
     },
     "execution_count": 4,
     "metadata": {},
     "output_type": "execute_result"
    }
   ],
   "source": [
    "%lsmagic"
   ]
  },
  {
   "cell_type": "markdown",
   "metadata": {},
   "source": [
    "Sihirli ifadelerin kullanımının özeti ve her bir komutun kısa açıklaması için `%quickref` komutunu kullanabilirsiniz."
   ]
  },
  {
   "cell_type": "code",
   "execution_count": 5,
   "metadata": {
    "collapsed": true
   },
   "outputs": [],
   "source": [
    "%quickref  # Jupyter ekranında ayrı bir alt pencere açar."
   ]
  },
  {
   "cell_type": "markdown",
   "metadata": {},
   "source": [
    "Bütün sihirli ifadelerin tam ve kapsamlı bir referansı için `%magic` komutunu kullanabilirsiniz."
   ]
  },
  {
   "cell_type": "code",
   "execution_count": 6,
   "metadata": {
    "collapsed": true
   },
   "outputs": [],
   "source": [
    "%magic # Jupyter ekranında ayrı bir alt pencere açar."
   ]
  },
  {
   "cell_type": "markdown",
   "metadata": {},
   "source": [
    "**Satır sihirleri** bir tek `%` işaretiyle başlar, ve tek satırda bulunurlar. Hücrenin geri kalanında Python kodu bulunabilir. **Hücre sihirleri** ise çift `%%` işaretiyle başlarlar. Hücrenin tamamı bu sihrin etkisinde kalır."
   ]
  },
  {
   "cell_type": "markdown",
   "metadata": {},
   "source": [
    "## %time, %timeit: Süre ölçme"
   ]
  },
  {
   "cell_type": "markdown",
   "metadata": {},
   "source": [
    "Bir komutun işletilmesinin ne kadar zaman aldığını ölçmek için `%time` ve `%timeit` sihirlerini kullanabiliriz. Bunlar standart kütüphanedeki `time` ve `timeit` modüllerini kullanır."
   ]
  },
  {
   "cell_type": "code",
   "execution_count": 7,
   "metadata": {},
   "outputs": [
    {
     "name": "stdout",
     "output_type": "stream",
     "text": [
      "CPU times: user 40 µs, sys: 4 µs, total: 44 µs\n",
      "Wall time: 49.6 µs\n"
     ]
    },
    {
     "data": {
      "text/plain": [
       "499500"
      ]
     },
     "execution_count": 7,
     "metadata": {},
     "output_type": "execute_result"
    }
   ],
   "source": [
    "%time sum(range(1000))"
   ]
  },
  {
   "cell_type": "markdown",
   "metadata": {},
   "source": [
    "`%timeit` komutu, ardından gelen Python komutunu bir döngü içinde birçok defa çalıştırır, sonra ortalama süreyi bulur. Bunu birkaç defa tekrarlar ve elde ettiği sonucu ortalama ve standart sapma olarak verir. Bu şekilde bilgisayar sistemi içindeki çeşitli rastgele gecikmeleri kısmen bertaraf etmek mümkün olur."
   ]
  },
  {
   "cell_type": "code",
   "execution_count": 8,
   "metadata": {},
   "outputs": [
    {
     "name": "stdout",
     "output_type": "stream",
     "text": [
      "19 µs ± 2.15 µs per loop (mean ± std. dev. of 7 runs, 100000 loops each)\n"
     ]
    }
   ],
   "source": [
    "%timeit sum(range(1000))"
   ]
  },
  {
   "cell_type": "markdown",
   "metadata": {},
   "source": [
    "Döngü sayısı açıkça verilmediyse, otomatik olarak ayarlanır. Döngü sayısı, toplam çalışma süresi 0.2 saniyenin üstünde olacak şekilde 10'un kuvvetleri olarak belirlenir. Döngü sayısı ve tekrar sayısı istendiği gibi değiştirilebilir."
   ]
  },
  {
   "cell_type": "code",
   "execution_count": 9,
   "metadata": {},
   "outputs": [
    {
     "name": "stdout",
     "output_type": "stream",
     "text": [
      "21.2 µs ± 726 ns per loop (mean ± std. dev. of 4 runs, 250 loops each)\n"
     ]
    }
   ],
   "source": [
    "%timeit -n 250 -r 4 sum(range(1000))"
   ]
  },
  {
   "cell_type": "markdown",
   "metadata": {},
   "source": [
    "Bazen süresini tutmak istediğimiz işlem birkaç satıra yayılmış olabilir. O zaman bütün hücrenin işleyiş süresini tutmak için, çift yüzde işaretiyle, `%%timeit` _hücre sihiri_ kullanırız.\n",
    "\n",
    "Örnek olarak, bir listeyi `append` ile genişletmek ve liste kurma arasındaki zaman farkına bakalım."
   ]
  },
  {
   "cell_type": "code",
   "execution_count": 10,
   "metadata": {},
   "outputs": [
    {
     "name": "stdout",
     "output_type": "stream",
     "text": [
      "326 µs ± 5.88 µs per loop (mean ± std. dev. of 10 runs, 1000 loops each)\n"
     ]
    }
   ],
   "source": [
    "%%timeit -r 10\n",
    "L = []\n",
    "for i in range(1000):\n",
    "    L.append(i**2)"
   ]
  },
  {
   "cell_type": "code",
   "execution_count": 11,
   "metadata": {},
   "outputs": [
    {
     "name": "stdout",
     "output_type": "stream",
     "text": [
      "282 µs ± 21.7 µs per loop (mean ± std. dev. of 10 runs, 1000 loops each)\n"
     ]
    }
   ],
   "source": [
    "%timeit -r 10 [i**2 for i in range(1000)]"
   ]
  },
  {
   "cell_type": "markdown",
   "metadata": {},
   "source": [
    "## Dizin işlemleri"
   ]
  },
  {
   "cell_type": "markdown",
   "metadata": {},
   "source": [
    "Yeni bir dizin yaratalım ve o dizine geçelim."
   ]
  },
  {
   "cell_type": "code",
   "execution_count": 12,
   "metadata": {},
   "outputs": [
    {
     "name": "stdout",
     "output_type": "stream",
     "text": [
      "/home/kaan/deneme\n"
     ]
    }
   ],
   "source": [
    "!mkdir deneme\n",
    "%cd deneme"
   ]
  },
  {
   "cell_type": "markdown",
   "metadata": {},
   "source": [
    "Yeni dizinde bir dosya yaratalım."
   ]
  },
  {
   "cell_type": "code",
   "execution_count": 13,
   "metadata": {},
   "outputs": [
    {
     "name": "stdout",
     "output_type": "stream",
     "text": [
      "dosya1\r\n"
     ]
    }
   ],
   "source": [
    "!touch dosya1\n",
    "!ls"
   ]
  },
  {
   "cell_type": "markdown",
   "metadata": {},
   "source": [
    "Üst dizine dönelim."
   ]
  },
  {
   "cell_type": "code",
   "execution_count": 14,
   "metadata": {},
   "outputs": [
    {
     "name": "stdout",
     "output_type": "stream",
     "text": [
      "/home/kaan\n"
     ]
    }
   ],
   "source": [
    "%cd .."
   ]
  },
  {
   "cell_type": "markdown",
   "metadata": {},
   "source": [
    "Yarattığımız dizini silelim."
   ]
  },
  {
   "cell_type": "code",
   "execution_count": 15,
   "metadata": {
    "collapsed": true
   },
   "outputs": [],
   "source": [
    "!rm -r deneme/"
   ]
  },
  {
   "cell_type": "markdown",
   "metadata": {},
   "source": [
    "Neden bütün işlemleri `!` işleciyle yaparken, dizin değiştirmeyi `%cd` ile yaptık? Eğer komutu `!cd deneme` olarak verseydik, kabuk yorumlayıcı bunu işletir, ama hemen sonra kapanırdı. Sonraki her bir komut yeni bir kabuk yorumlayıcıyla yapılacağı için dizin değiştirme işlemi kalıcı olmazdı. IPython'un `%cd` komutu dizinlerin çalıştığımız ortamda kalıcı olarak değiştirilmesini sağlar.\n",
    "\n",
    "Örnek olarak, aşağıdaki komutlar sonucunda, `/deneme` dizinine geçmiş olmuyoruz."
   ]
  },
  {
   "cell_type": "code",
   "execution_count": 16,
   "metadata": {},
   "outputs": [
    {
     "name": "stdout",
     "output_type": "stream",
     "text": [
      "/home/kaan\r\n"
     ]
    }
   ],
   "source": [
    "!mkdir deneme\n",
    "!cd deneme\n",
    "!pwd"
   ]
  },
  {
   "cell_type": "markdown",
   "metadata": {},
   "source": [
    "Doğrusunu yaparak `%cd` kullanırsak istediğimiz değişiklik geçerli olur."
   ]
  },
  {
   "cell_type": "code",
   "execution_count": 17,
   "metadata": {},
   "outputs": [
    {
     "name": "stdout",
     "output_type": "stream",
     "text": [
      "/home/kaan/deneme\n",
      "/home/kaan/deneme\r\n"
     ]
    }
   ],
   "source": [
    "%cd deneme\n",
    "!pwd"
   ]
  },
  {
   "cell_type": "markdown",
   "metadata": {},
   "source": [
    "Üst dizine geri çıkıp `/deneme` dizinini silelim."
   ]
  },
  {
   "cell_type": "code",
   "execution_count": 18,
   "metadata": {},
   "outputs": [
    {
     "name": "stdout",
     "output_type": "stream",
     "text": [
      "/home/kaan\n"
     ]
    }
   ],
   "source": [
    "%cd ..\n",
    "!rm -r deneme/"
   ]
  },
  {
   "cell_type": "markdown",
   "metadata": {},
   "source": [
    "## %%writefile: Bir metin dosyası yaratmak"
   ]
  },
  {
   "cell_type": "markdown",
   "metadata": {},
   "source": [
    "Diyelim elle yazacağınız kısa bir metni bir dosyaya kaydetmek istiyorsunuz. Bunun için ayrı bir pencerede bir editör açabilirsiniz, veya Python'un dosya açma komutlarını kullanabilirsiniz. `%%writefile` hücre sihri ise zahmetsiz kestirme bir yol sağlar.\n",
    "\n",
    "`deneme` isimli bir dosyaya iki telefon numarası yazalım:"
   ]
  },
  {
   "cell_type": "code",
   "execution_count": 19,
   "metadata": {},
   "outputs": [
    {
     "name": "stdout",
     "output_type": "stream",
     "text": [
      "Writing deneme\n"
     ]
    }
   ],
   "source": [
    "%%writefile deneme\n",
    "Kaan (111)-1234567\n",
    "Meral (124)-9283759"
   ]
  },
  {
   "cell_type": "markdown",
   "metadata": {},
   "source": [
    "`%cat` ile dosyanın içeriğini ekrana dökerek istediğimizi yaptığını teyit edebiliriz."
   ]
  },
  {
   "cell_type": "code",
   "execution_count": 20,
   "metadata": {},
   "outputs": [
    {
     "name": "stdout",
     "output_type": "stream",
     "text": [
      "Kaan (111)-1234567\r\n",
      "Meral (124)-9283759"
     ]
    }
   ],
   "source": [
    "%cat deneme"
   ]
  },
  {
   "cell_type": "markdown",
   "metadata": {},
   "source": [
    "`%%writefile -a` ile mevcut dosyanın altına ekleme yaparız. Yeni satırla başlamak için, satır başı vermemiz gerekir."
   ]
  },
  {
   "cell_type": "code",
   "execution_count": 21,
   "metadata": {},
   "outputs": [
    {
     "name": "stdout",
     "output_type": "stream",
     "text": [
      "Appending to deneme\n"
     ]
    }
   ],
   "source": [
    "%%writefile -a deneme\n",
    "\n",
    "Ziya (234)-8087955"
   ]
  },
  {
   "cell_type": "code",
   "execution_count": 22,
   "metadata": {},
   "outputs": [
    {
     "name": "stdout",
     "output_type": "stream",
     "text": [
      "Kaan (111)-1234567\r\n",
      "Meral (124)-9283759\r\n",
      "Ziya (234)-8087955"
     ]
    }
   ],
   "source": [
    "%cat deneme"
   ]
  },
  {
   "cell_type": "code",
   "execution_count": 23,
   "metadata": {
    "collapsed": true
   },
   "outputs": [],
   "source": [
    "%rm deneme"
   ]
  },
  {
   "cell_type": "markdown",
   "metadata": {},
   "source": [
    "## %run: Python programı çalıştırmak"
   ]
  },
  {
   "cell_type": "markdown",
   "metadata": {},
   "source": [
    "Ayrı bir dosyada bulunan Python kodunu çalıştırmak için `%run` komutu kullanılır.\n",
    "\n",
    "Basit bir Python programı hazırlayıp _merhaba.py_ ismiyle kaydedelim."
   ]
  },
  {
   "cell_type": "code",
   "execution_count": 24,
   "metadata": {},
   "outputs": [
    {
     "name": "stdout",
     "output_type": "stream",
     "text": [
      "Overwriting merhaba.py\n"
     ]
    }
   ],
   "source": [
    "%%writefile merhaba.py\n",
    "isim = input(\"Adınız?\")\n",
    "print(\"Merhaba\",isim)"
   ]
  },
  {
   "cell_type": "code",
   "execution_count": 25,
   "metadata": {},
   "outputs": [
    {
     "name": "stdout",
     "output_type": "stream",
     "text": [
      "Adınız?kaan\n",
      "Merhaba kaan\n"
     ]
    }
   ],
   "source": [
    "%run merhaba.py"
   ]
  },
  {
   "cell_type": "markdown",
   "metadata": {},
   "source": [
    "Çağırılan program mevcut yorumlayıcı tarafından işlendiği için, o program içinde yaratılan değişken isimleri kalıcı olur."
   ]
  },
  {
   "cell_type": "code",
   "execution_count": 26,
   "metadata": {},
   "outputs": [
    {
     "data": {
      "text/plain": [
       "'kaan'"
      ]
     },
     "execution_count": 26,
     "metadata": {},
     "output_type": "execute_result"
    }
   ],
   "source": [
    "isim"
   ]
  },
  {
   "cell_type": "markdown",
   "metadata": {},
   "source": [
    "## Bir dosyanın içeriğini yüklemek"
   ]
  },
  {
   "cell_type": "markdown",
   "metadata": {},
   "source": [
    "`%load` komutu, `%run` gibi, bir Python dosyasındaki komutları okuyup çalıştırmaya yarar. Farkı, kodu önce mevcut hücreye kopyalaması, ama biz tekrar talep etmedikçe çalıştırmamasıdır."
   ]
  },
  {
   "cell_type": "code",
   "execution_count": null,
   "metadata": {
    "collapsed": true
   },
   "outputs": [],
   "source": [
    "%load merhaba.py"
   ]
  },
  {
   "cell_type": "markdown",
   "metadata": {},
   "source": [
    "Yukarıdaki hücre çalıştırıldığında sihirli kelime yorum haline getirilir, dosyadaki kod aynı hücreye kopyalanır, ama çalıştırılmaz."
   ]
  },
  {
   "cell_type": "code",
   "execution_count": null,
   "metadata": {
    "collapsed": true
   },
   "outputs": [],
   "source": [
    "# %load merhaba.py\n",
    "isim = input(\"Adınız?\")\n",
    "print(\"Merhaba\",isim)"
   ]
  },
  {
   "cell_type": "markdown",
   "metadata": {},
   "source": [
    "Hücrede tekrar Shift-Enter'e basıldığında kod çalışır."
   ]
  },
  {
   "cell_type": "code",
   "execution_count": 29,
   "metadata": {},
   "outputs": [
    {
     "name": "stdout",
     "output_type": "stream",
     "text": [
      "Adınız?kaan\n",
      "Merhaba kaan\n"
     ]
    }
   ],
   "source": [
    "# %load merhaba.py\n",
    "isim = input(\"Adınız?\")\n",
    "print(\"Merhaba\",isim)"
   ]
  },
  {
   "cell_type": "markdown",
   "metadata": {},
   "source": [
    "## %qtconsole: Yan terminal açmak"
   ]
  },
  {
   "cell_type": "markdown",
   "metadata": {},
   "source": [
    "Defterinizin akışına müdahale etmeden bazı yan işlemler yapmak istediğinizde, ayrı bir pencerede bir IPython penceresi açabilirsiniz. (Bu komut her işletim sisteminde bulunmayabilir.)"
   ]
  },
  {
   "cell_type": "code",
   "execution_count": 30,
   "metadata": {
    "collapsed": true
   },
   "outputs": [],
   "source": [
    "%qtconsole"
   ]
  },
  {
   "cell_type": "markdown",
   "metadata": {},
   "source": [
    "Her iki arayüz de aynı çekirdeğe bağlıdır. Birbirlerinin tanımlarını görebilirler. Konsol penceresini kapatmak, onu başlatan defteri etkilemez."
   ]
  },
  {
   "cell_type": "markdown",
   "metadata": {},
   "source": [
    "<img src=\"data:image/png;base64,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\" />"
   ]
  },
  {
   "cell_type": "code",
   "execution_count": 32,
   "metadata": {},
   "outputs": [
    {
     "data": {
      "text/plain": [
       "2"
      ]
     },
     "execution_count": 32,
     "metadata": {},
     "output_type": "execute_result"
    }
   ],
   "source": [
    "x"
   ]
  },
  {
   "cell_type": "markdown",
   "metadata": {},
   "source": [
    "## %pastebin: Github'a Gist yüklemek"
   ]
  },
  {
   "cell_type": "markdown",
   "metadata": {},
   "source": [
    "[_GitHub_](https://github.com/) sitesi, çok kaba bir özetle, programcıların yazdıkları kodları paylaştığı bir depo olarak tanımlanabilir. Bu sitenin altındaki [_GitHub Gist_](https://gist.github.com/) hizmeti, bir düz metin veya kod dosyasını hızlı ve formalitesiz şekilde paylaşmayı sağlar. _Gist_'ler GitHub kullanıcı adınıza bağlı veya isimsiz, ve herkese açık veya gizli olabilirler.\n",
    "\n",
    "`%pastebin` sihri, bir dosyayı, veya mevcut oturumdan seçtiğiniz satırları isimsiz ve herkese açık bir Gist olarak yayınlar ve URL'sini döndürür."
   ]
  },
  {
   "cell_type": "markdown",
   "metadata": {},
   "source": [
    "Bu defterdeki `In[1]`-`In[11]` arası komutları Gist'e yüklemek için:"
   ]
  },
  {
   "cell_type": "code",
   "execution_count": 33,
   "metadata": {},
   "outputs": [
    {
     "data": {
      "text/plain": [
       "'https://gist.github.com/4afc1236ba56d4f7dbd17277f1817818'"
      ]
     },
     "execution_count": 33,
     "metadata": {},
     "output_type": "execute_result"
    }
   ],
   "source": [
    "%pastebin -d \"Deneme yüklemesi\" 1-11"
   ]
  },
  {
   "cell_type": "markdown",
   "metadata": {},
   "source": [
    "_merhaba.py_ dosyasını Gist'e yüklemek için:"
   ]
  },
  {
   "cell_type": "code",
   "execution_count": 34,
   "metadata": {},
   "outputs": [
    {
     "data": {
      "text/plain": [
       "'https://gist.github.com/1dea182d78b7862e7206dd563cc9e643'"
      ]
     },
     "execution_count": 34,
     "metadata": {},
     "output_type": "execute_result"
    }
   ],
   "source": [
    "%pastebin -d \"Deneme yüklemesi\" merhaba.py"
   ]
  },
  {
   "cell_type": "markdown",
   "metadata": {},
   "source": [
    "## %who: Oturumda tanımlanmış değişkenler"
   ]
  },
  {
   "cell_type": "markdown",
   "metadata": {},
   "source": [
    "Mevcut oturumda tanımlanmış değişken isimlerini gösterir."
   ]
  },
  {
   "cell_type": "code",
   "execution_count": 35,
   "metadata": {},
   "outputs": [
    {
     "name": "stdout",
     "output_type": "stream",
     "text": [
      "bindosyalar\t isim\t x\t \n"
     ]
    }
   ],
   "source": [
    "%who"
   ]
  },
  {
   "cell_type": "markdown",
   "metadata": {},
   "source": [
    "Değişken isimlerini bir liste olarak almak isterseniz `%who_ls` kullanabilirsiniz."
   ]
  },
  {
   "cell_type": "code",
   "execution_count": 36,
   "metadata": {},
   "outputs": [
    {
     "data": {
      "text/plain": [
       "['bindosyalar', 'isim', 'x']"
      ]
     },
     "execution_count": 36,
     "metadata": {},
     "output_type": "execute_result"
    }
   ],
   "source": [
    "%who_ls"
   ]
  },
  {
   "cell_type": "markdown",
   "metadata": {
    "collapsed": true
   },
   "source": [
    "## %reset: Değişkenleri topluca silmek"
   ]
  },
  {
   "cell_type": "markdown",
   "metadata": {},
   "source": [
    "Mevcut oturumda kullanıcı tarafından tanımlanmış değişkenleri siler. Modüllerde tanımlanmış isimlere dokunmaz."
   ]
  },
  {
   "cell_type": "code",
   "execution_count": 37,
   "metadata": {},
   "outputs": [
    {
     "name": "stdout",
     "output_type": "stream",
     "text": [
      "bindosyalar\t isim\t x\t \n"
     ]
    }
   ],
   "source": [
    "%who"
   ]
  },
  {
   "cell_type": "code",
   "execution_count": 38,
   "metadata": {},
   "outputs": [
    {
     "name": "stdout",
     "output_type": "stream",
     "text": [
      "Once deleted, variables cannot be recovered. Proceed (y/[n])? y\n"
     ]
    }
   ],
   "source": [
    "%reset"
   ]
  },
  {
   "cell_type": "code",
   "execution_count": 39,
   "metadata": {},
   "outputs": [
    {
     "name": "stdout",
     "output_type": "stream",
     "text": [
      "Interactive namespace is empty.\n"
     ]
    }
   ],
   "source": [
    "%who"
   ]
  },
  {
   "cell_type": "markdown",
   "metadata": {},
   "source": [
    "Parametreler:\n",
    "* `%reset -f    :` Teyit istemeden sıfırlar.\n",
    "* `%reset -s    :` Yumuşak sıfırlama: Komut geçmişi silinmez, sadece isim alanı temizlenir.\n",
    "* `%reset in    :` Komut geçmişini sıfırlar.\n",
    "* `%reset out   :` Çıktı geçmişini sıfırlar.\n",
    "* `%reset dhist :` Dizin geçmişini sıfırlar.\n",
    "* `%reset array :` Sadece NumPy dizi (array) değişkenlerini siler."
   ]
  },
  {
   "cell_type": "markdown",
   "metadata": {
    "collapsed": true
   },
   "source": [
    "## %macro: İşlemleri otomatik olarak tekrar etmek"
   ]
  },
  {
   "cell_type": "markdown",
   "metadata": {},
   "source": [
    "Arka arkaya yazdığınız birkaç komutu daha sonra tekrar tekrar işletmek için bir kenara yazmak istediğinizde `%macro` sihri işinize yarayacaktır. Bu işlem,de daha önce verdiğimiz komutları giriş sayılarını vererek bir seferde çalıştırabiliriz."
   ]
  },
  {
   "cell_type": "code",
   "execution_count": 40,
   "metadata": {
    "collapsed": true
   },
   "outputs": [],
   "source": [
    "from random import randint"
   ]
  },
  {
   "cell_type": "code",
   "execution_count": 41,
   "metadata": {
    "collapsed": true
   },
   "outputs": [],
   "source": [
    "zar1 = randint(1,6)"
   ]
  },
  {
   "cell_type": "code",
   "execution_count": 42,
   "metadata": {
    "collapsed": true
   },
   "outputs": [],
   "source": [
    "zar2 = randint(1,6)"
   ]
  },
  {
   "cell_type": "code",
   "execution_count": 43,
   "metadata": {
    "collapsed": true
   },
   "outputs": [],
   "source": [
    "zar3 = randint(1,6)"
   ]
  },
  {
   "cell_type": "code",
   "execution_count": 44,
   "metadata": {
    "collapsed": true
   },
   "outputs": [],
   "source": [
    "a = 5"
   ]
  },
  {
   "cell_type": "code",
   "execution_count": 45,
   "metadata": {},
   "outputs": [
    {
     "name": "stdout",
     "output_type": "stream",
     "text": [
      "8\n"
     ]
    }
   ],
   "source": [
    "print(zar1 + zar2)"
   ]
  },
  {
   "cell_type": "code",
   "execution_count": 46,
   "metadata": {},
   "outputs": [
    {
     "name": "stdout",
     "output_type": "stream",
     "text": [
      "4 4 4 12\n"
     ]
    }
   ],
   "source": [
    "print(zar1, zar2, zar3, zar1+zar2+zar3)"
   ]
  },
  {
   "cell_type": "markdown",
   "metadata": {},
   "source": [
    "Bu komutları kullanarak bir makro hazırlayalım. Girdi numaralarını hücrelerin yanından okuyabileceğimiz gibi, `%hist -n` sihiriyle de görebiliriz."
   ]
  },
  {
   "cell_type": "code",
   "execution_count": 47,
   "metadata": {},
   "outputs": [
    {
     "name": "stdout",
     "output_type": "stream",
     "text": [
      "   1: !date\n",
      "   2: !ls /bin/b*\n",
      "   3:\n",
      "bindosyalar = !ls /bin/b*\n",
      "bindosyalar\n",
      "   4: %lsmagic\n",
      "   5: %quickref  # Jupyter ekranında ayrı bir alt pencere açar.\n",
      "   6: %magic # Jupyter ekranında ayrı bir alt pencere açar.\n",
      "   7: %time sum(range(1000))\n",
      "   8: %timeit sum(range(1000))\n",
      "   9: %timeit -n 250 -r 4 sum(range(1000))\n",
      "  10:\n",
      "%%timeit -r 10\n",
      "L = []\n",
      "for i in range(1000):\n",
      "    L.append(i**2)\n",
      "  11: %timeit -r 10 [i**2 for i in range(1000)]\n",
      "  12:\n",
      "!mkdir deneme\n",
      "%cd deneme\n",
      "  13:\n",
      "!touch dosya1\n",
      "!ls\n",
      "  14: %cd ..\n",
      "  15: !rm -r deneme/\n",
      "  16:\n",
      "!mkdir deneme\n",
      "!cd deneme\n",
      "!pwd\n",
      "  17:\n",
      "%cd deneme\n",
      "!pwd\n",
      "  18:\n",
      "%cd ..\n",
      "!rm -r deneme/\n",
      "  19:\n",
      "%%writefile deneme\n",
      "Kaan (111)-1234567\n",
      "Meral (124)-9283759\n",
      "  20: %cat deneme\n",
      "  21:\n",
      "%%writefile -a deneme\n",
      "\n",
      "Ziya (234)-8087955\n",
      "  22: %cat deneme\n",
      "  23: %rm deneme\n",
      "  24:\n",
      "%%writefile merhaba.py\n",
      "isim = input(\"Adınız?\")\n",
      "print(\"Merhaba\",isim)\n",
      "  25: %run merhaba.py\n",
      "  26: isim\n",
      "  27: %load merhaba.py\n",
      "  28:\n",
      "# %load merhaba.py\n",
      "isim = input(\"Adınız?\")\n",
      "print(\"Merhaba\",isim)\n",
      "  29:\n",
      "# %load merhaba.py\n",
      "isim = input(\"Adınız?\")\n",
      "print(\"Merhaba\",isim)\n",
      "  30: %qtconsole\n",
      "  31: x=2\n",
      "  32: x\n",
      "  33: %pastebin -d \"Deneme yüklemesi\" 1-11\n",
      "  34: %pastebin -d \"Deneme yüklemesi\" merhaba.py\n",
      "  35: %who\n",
      "  36: %who_ls\n",
      "  37: %who\n",
      "  38: %reset\n",
      "  39: %who\n",
      "  40: from random import randint\n",
      "  41: zar1 = randint(1,6)\n",
      "  42: zar2 = randint(1,6)\n",
      "  43: zar3 = randint(1,6)\n",
      "  44: a = 5\n",
      "  45: print(zar1 + zar2)\n",
      "  46: print(zar1, zar2, zar3, zar1+zar2+zar3)\n",
      "  47: %hist -n\n"
     ]
    }
   ],
   "source": [
    "%hist -n"
   ]
  },
  {
   "cell_type": "markdown",
   "metadata": {},
   "source": [
    "`%macro` sihirli kelimesinden sonra, makroya vereceğiniz isim ve komut numarası aralıkları gelmelidir. Aralıklar `n1-n2 n3-n4 n5` şeklinde verilebilir. Aralıkların başı ve sonu dahil edilir. Araya virgül koyulmaz."
   ]
  },
  {
   "cell_type": "code",
   "execution_count": 48,
   "metadata": {},
   "outputs": [
    {
     "name": "stdout",
     "output_type": "stream",
     "text": [
      "Macro `zarat` created. To execute, type its name (without quotes).\n",
      "=== Macro contents: ===\n",
      "zar1 = randint(1,6)\n",
      "zar2 = randint(1,6)\n",
      "zar3 = randint(1,6)\n",
      "print(zar1, zar2, zar3, zar1+zar2+zar3)\n",
      " "
     ]
    }
   ],
   "source": [
    "%macro zarat 41-43 46"
   ]
  },
  {
   "cell_type": "code",
   "execution_count": 49,
   "metadata": {},
   "outputs": [
    {
     "name": "stdout",
     "output_type": "stream",
     "text": [
      "5 5 6 16\n"
     ]
    }
   ],
   "source": [
    "zarat"
   ]
  },
  {
   "cell_type": "markdown",
   "metadata": {},
   "source": [
    "## %save: Komutları kaydet"
   ]
  },
  {
   "cell_type": "markdown",
   "metadata": {},
   "source": [
    "Hazırladığınız bir makroyu veya girdi satırlarının bir kısmını sonraki bir oturumda kullanmak için sabit diske yazmak isterseniz `%save` sihrini kullanabilirsiniz. Parametre olarak satır numaraları aralıkları veya numara listesi verilebilir."
   ]
  },
  {
   "cell_type": "code",
   "execution_count": 50,
   "metadata": {},
   "outputs": [
    {
     "name": "stdout",
     "output_type": "stream",
     "text": [
      "The following commands were written to file `deneme.py`:\n",
      "from random import randint\n",
      "zar1 = randint(1,6)\n",
      "zar2 = randint(1,6)\n",
      "zar3 = randint(1,6)\n",
      "print(zar1, zar2, zar3, zar1+zar2+zar3)\n"
     ]
    }
   ],
   "source": [
    "%save deneme 40-43 46"
   ]
  },
  {
   "cell_type": "markdown",
   "metadata": {},
   "source": [
    "Satır numaraları yerine daha önce hazırladığınız bir makro ismi de verebilirsiniz."
   ]
  },
  {
   "cell_type": "code",
   "execution_count": 51,
   "metadata": {},
   "outputs": [
    {
     "name": "stdout",
     "output_type": "stream",
     "text": [
      "File `deneme.py` exists. Overwrite (y/[N])?  y\n",
      "The following commands were written to file `deneme.py`:\n",
      "zar1 = randint(1,6)\n",
      "zar2 = randint(1,6)\n",
      "zar3 = randint(1,6)\n",
      "print(zar1, zar2, zar3, zar1+zar2+zar3)\n",
      "\n"
     ]
    }
   ],
   "source": [
    "%save deneme zarat"
   ]
  },
  {
   "cell_type": "markdown",
   "metadata": {},
   "source": [
    "## %store: Değişkenleri sabit diske kaydet"
   ]
  },
  {
   "cell_type": "markdown",
   "metadata": {},
   "source": [
    "Hesabınız sırasında ürettiğiniz bazı değişkenleri sonraki oturumlarda kullanmak için kaydetmek istediğinizde bu sihri kullanabilirsiniz."
   ]
  },
  {
   "cell_type": "code",
   "execution_count": 52,
   "metadata": {
    "collapsed": true
   },
   "outputs": [],
   "source": [
    "L = [i*2 for i in range(10)]"
   ]
  },
  {
   "cell_type": "code",
   "execution_count": 53,
   "metadata": {},
   "outputs": [
    {
     "name": "stdout",
     "output_type": "stream",
     "text": [
      "Stored 'L' (list)\n"
     ]
    }
   ],
   "source": [
    "%store L"
   ]
  },
  {
   "cell_type": "markdown",
   "metadata": {},
   "source": [
    "Değişkenleri silelim:"
   ]
  },
  {
   "cell_type": "code",
   "execution_count": 54,
   "metadata": {
    "collapsed": true
   },
   "outputs": [],
   "source": [
    "%reset -f"
   ]
  },
  {
   "cell_type": "markdown",
   "metadata": {},
   "source": [
    "Artık _L_ listesini kaybettik."
   ]
  },
  {
   "cell_type": "code",
   "execution_count": 55,
   "metadata": {},
   "outputs": [
    {
     "ename": "NameError",
     "evalue": "name 'L' is not defined",
     "output_type": "error",
     "traceback": [
      "\u001b[0;31m---------------------------------------------------------------------------\u001b[0m",
      "\u001b[0;31mNameError\u001b[0m                                 Traceback (most recent call last)",
      "\u001b[0;32m<ipython-input-55-d0442a85ec0f>\u001b[0m in \u001b[0;36m<module>\u001b[0;34m()\u001b[0m\n\u001b[0;32m----> 1\u001b[0;31m \u001b[0mprint\u001b[0m\u001b[0;34m(\u001b[0m\u001b[0mL\u001b[0m\u001b[0;34m)\u001b[0m\u001b[0;34m\u001b[0m\u001b[0m\n\u001b[0m",
      "\u001b[0;31mNameError\u001b[0m: name 'L' is not defined"
     ]
    }
   ],
   "source": [
    "print(L)"
   ]
  },
  {
   "cell_type": "markdown",
   "metadata": {},
   "source": [
    "_L_ değişkenini kaydedilen yerden geri yükleyelim."
   ]
  },
  {
   "cell_type": "code",
   "execution_count": 56,
   "metadata": {
    "collapsed": true
   },
   "outputs": [],
   "source": [
    "%store -r L"
   ]
  },
  {
   "cell_type": "code",
   "execution_count": 57,
   "metadata": {},
   "outputs": [
    {
     "name": "stdout",
     "output_type": "stream",
     "text": [
      "[0, 2, 4, 6, 8, 10, 12, 14, 16, 18]\n"
     ]
    }
   ],
   "source": [
    "print(L)"
   ]
  },
  {
   "cell_type": "code",
   "execution_count": 58,
   "metadata": {},
   "outputs": [
    {
     "name": "stdout",
     "output_type": "stream",
     "text": [
      "Writing 'L' (list) to file 'kareler.txt'.\n"
     ]
    }
   ],
   "source": [
    "%store L > kareler.txt"
   ]
  },
  {
   "cell_type": "code",
   "execution_count": 59,
   "metadata": {},
   "outputs": [
    {
     "name": "stdout",
     "output_type": "stream",
     "text": [
      "[0, 2, 4, 6, 8, 10, 12, 14, 16, 18]\r\n"
     ]
    }
   ],
   "source": [
    "%cat kareler.txt"
   ]
  },
  {
   "cell_type": "code",
   "execution_count": 60,
   "metadata": {
    "collapsed": true
   },
   "outputs": [],
   "source": [
    "!rm kareler.txt"
   ]
  },
  {
   "cell_type": "markdown",
   "metadata": {},
   "source": [
    "## matplotlib arayüzünü ayarlamak"
   ]
  },
  {
   "cell_type": "markdown",
   "metadata": {},
   "source": [
    "_matplotlib_ Python'un gayrıresmi görselleştirme kütüphanesidir. Özel `%matplotlib` sihriyle, hangi arka yüzü kullanmak istediğinizi belirleyebilirsiniz."
   ]
  },
  {
   "cell_type": "code",
   "execution_count": 61,
   "metadata": {},
   "outputs": [
    {
     "name": "stdout",
     "output_type": "stream",
     "text": [
      "Available matplotlib backends: ['tk', 'gtk', 'gtk3', 'wx', 'qt', 'qt4', 'qt5', 'osx', 'nbagg', 'notebook', 'agg', 'inline', 'ipympl']\n"
     ]
    }
   ],
   "source": [
    "%matplotlib -l"
   ]
  },
  {
   "cell_type": "markdown",
   "metadata": {},
   "source": [
    "Bu arka yüzlerin hepsi her işletim sisteminde bulunmayabilir.\n",
    "\n",
    "Birçok Jupyter defter kullanıcısı, defterin başında `%matplotlib inline` komutunu vermeyi tercih eder. Bu sayede ürettiğiniz matplotlib grafikleri defterin içine gömülür ve tam bir belge oluşturmanızı sağlar."
   ]
  },
  {
   "cell_type": "code",
   "execution_count": 62,
   "metadata": {
    "collapsed": true
   },
   "outputs": [],
   "source": [
    "%matplotlib inline"
   ]
  },
  {
   "cell_type": "code",
   "execution_count": 63,
   "metadata": {},
   "outputs": [
    {
     "data": {
      "text/plain": [
       "[<matplotlib.lines.Line2D at 0x7fdced940c18>]"
      ]
     },
     "execution_count": 63,
     "metadata": {},
     "output_type": "execute_result"
    },
    {
     "data": {
      "image/png": "[encoded data removed]",
      "text/plain": [
       "<matplotlib.figure.Figure at 0x7fdcf46b2550>"
      ]
     },
     "metadata": {},
     "output_type": "display_data"
    }
   ],
   "source": [
    "import matplotlib.pylab as plt\n",
    "x = plt.linspace(-20,20,100)\n",
    "y = plt.sin(x)/x\n",
    "plt.plot(x,y)"
   ]
  },
  {
   "cell_type": "markdown",
   "metadata": {},
   "source": [
    "Bunun yerine `notebook` arka yüzü kullanmayı tercih ederseniz, fareyle etkileşebileceğiniz, kaydırıp zumlayabileceğiniz dinamik bir formda gösterilir.\n",
    "\n",
    "_Dikkat_: matplotlib arka yüzünü bir oturum içinde sadece bir kere belirleyebilirsiniz. Aşağıdaki komutlar için çekirdeği tekrar başlatmanız gerekecektir. Çekirdeği, menü çubuğunda _Kernel -> Kernel Restart_ seçerek, veya iki kere sıfıra basarak tekrar başlatabilirsiniz."
   ]
  },
  {
   "cell_type": "code",
   "execution_count": 1,
   "metadata": {
    "collapsed": true
   },
   "outputs": [],
   "source": [
    "%matplotlib notebook"
   ]
  },
  {
   "cell_type": "code",
   "execution_count": null,
   "metadata": {
    "collapsed": true
   },
   "outputs": [],
   "source": [
    "import matplotlib.pylab as plt\n",
    "x = plt.linspace(-20,20,100)\n",
    "y = plt.sin(x)/x\n",
    "plt.plot(x,y)"
   ]
  },
  {
   "cell_type": "markdown",
   "metadata": {},
   "source": [
    "Deftere gömülü olarak bir etkileşimli grafik arayüzü elde ederiz."
   ]
  },
  {
   "cell_type": "markdown",
   "metadata": {},
   "source": [
    "<img src=\"data:image/png;base64,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\" />"
   ]
  },
  {
   "cell_type": "markdown",
   "metadata": {},
   "source": [
    "Grafiğin ayrı bir pencerede gösterilmesini istiyorsanız `gtk`, `qt`, `agg`, ve türevlerini kullanabilirsiniz. O zaman en sonda matplotlib'in `show()` komutunu vermelisiniz."
   ]
  },
  {
   "cell_type": "code",
   "execution_count": 1,
   "metadata": {
    "collapsed": true
   },
   "outputs": [],
   "source": [
    "%matplotlib qt5"
   ]
  },
  {
   "cell_type": "code",
   "execution_count": 2,
   "metadata": {
    "collapsed": true
   },
   "outputs": [],
   "source": [
    "import matplotlib.pylab as plt\n",
    "x = plt.linspace(-20,20,100)\n",
    "y = plt.sin(x)/x\n",
    "plt.plot(x,y)\n",
    "plt.show()"
   ]
  },
  {
   "cell_type": "markdown",
   "metadata": {},
   "source": [
    "Bu komutlardan sonra grafik şöyle bir pencerede gösterilir."
   ]
  },
  {
   "cell_type": "markdown",
   "metadata": {},
   "source": [
    "<img src=\"data:image/png;base64,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\" />"
   ]
  },
  {
   "cell_type": "markdown",
   "metadata": {},
   "source": [
    "## %%script: Herhangi bir yorumlayıcıyı çalıştır"
   ]
  },
  {
   "cell_type": "markdown",
   "metadata": {},
   "source": [
    "Başka dillere ait yorumlayıcıları kullanmaya ne dersiniz? Belki bir sürü veri dosyasını hızlıca işlemek için birkaç kabuk komutu vereceksiniz. Belki _Awk_, _Perl_, ya da _Ruby_ ile hızlı bir işlem yapmak istiyorsunuz. Sisteminize kurulu herhangi bir yorumlayıcıyı çalıştırıp ona komutlar vermek için `%%script` hücre sihrini kullanabilirsiniz.\n",
    "\n",
    "Hücrenin başına `%%script`'in ardından yorumlayıcı programın adını, ve gerekiyorsa bazı parametreleri yazın. Hücredeki alt satırlar yorumlayıcıya gönderilip işlenecek, gelen cevap ekrana basılacak."
   ]
  },
  {
   "cell_type": "code",
   "execution_count": 3,
   "metadata": {},
   "outputs": [
    {
     "name": "stdout",
     "output_type": "stream",
     "text": [
      "1\n",
      "2\n",
      "3\n"
     ]
    }
   ],
   "source": [
    "%%script bash\n",
    "for i in 1 2 3; do\n",
    "echo $i\n",
    "done"
   ]
  },
  {
   "cell_type": "markdown",
   "metadata": {},
   "source": [
    "Programın çıktısını bir değişkende saklamak için `--out <dosya adı>` parametresini kullanabilirsiniz."
   ]
  },
  {
   "cell_type": "code",
   "execution_count": 4,
   "metadata": {
    "collapsed": true
   },
   "outputs": [],
   "source": [
    "%%script bash --out hede\n",
    "for i in 1 2 3; do\n",
    "echo $i\n",
    "done"
   ]
  },
  {
   "cell_type": "code",
   "execution_count": 5,
   "metadata": {},
   "outputs": [
    {
     "data": {
      "text/plain": [
       "'1\\n2\\n3\\n'"
      ]
     },
     "execution_count": 5,
     "metadata": {},
     "output_type": "execute_result"
    }
   ],
   "source": [
    "hede"
   ]
  },
  {
   "cell_type": "markdown",
   "metadata": {},
   "source": [
    "## %%html: HTML yorumlayıcı"
   ]
  },
  {
   "cell_type": "markdown",
   "metadata": {},
   "source": [
    "Bulunduğu hücredeki HTML kodunu işler ve HTML belgesini ekrana verir."
   ]
  },
  {
   "cell_type": "code",
   "execution_count": 8,
   "metadata": {},
   "outputs": [
    {
     "data": {
      "text/html": [
       "<html>\n",
       "<head>\n",
       "<style>\n",
       "table {\n",
       "    font-family: arial, sans-serif;\n",
       "    border-collapse: collapse;\n",
       "    widtd: 100%;\n",
       "}\n",
       "\n",
       "th, td {\n",
       "    border: 1px solid #dddddd;\n",
       "    text-align: left;\n",
       "    padding: 8px;\n",
       "}\n",
       "\n",
       "tr:nth-child(even) {\n",
       "    background-color: #dddddd;\n",
       "}\n",
       "</style>\n",
       "</head>\n",
       "<body>\n",
       "<h1> Çevrimiçi alışveriş veri kayıtları </h2>\n",
       "<table class=\"table table-bordered table-hover table-condensed\">\n",
       "<thead><tr><th title=\"Field #1\">InvoiceNo</th>\n",
       "<th title=\"Field #2\">StockCode</th>\n",
       "<th title=\"Field #3\">Description</th>\n",
       "<th title=\"Field #4\">Quantity</th>\n",
       "<th title=\"Field #5\">InvoiceDate</th>\n",
       "<th title=\"Field #6\">UnitPrice</th>\n",
       "<th title=\"Field #7\">CustomerID</th>\n",
       "<th title=\"Field #8\">Country</th>\n",
       "</tr></thead>\n",
       "<tbody><tr>\n",
       "<td align=\"right\">536365</td>\n",
       "<td>85123A</td>\n",
       "<td>WHITE HANGING HEART T-LIGHT HOLDER</td>\n",
       "<td align=\"right\">6</td>\n",
       "<td>12/1/2010 8:26</td>\n",
       "<td align=\"right\">2.55</td>\n",
       "<td align=\"right\">17850</td>\n",
       "<td>United Kingdom</td>\n",
       "</tr>\n",
       "<tr>\n",
       "<td align=\"right\">536365</td>\n",
       "<td>71053</td>\n",
       "<td>WHITE METAL LANTERN</td>\n",
       "<td align=\"right\">6</td>\n",
       "<td>12/1/2010 8:26</td>\n",
       "<td align=\"right\">3.39</td>\n",
       "<td align=\"right\">17850</td>\n",
       "<td>United Kingdom</td>\n",
       "</tr>\n",
       "<tr>\n",
       "<td align=\"right\">536365</td>\n",
       "<td>84406B</td>\n",
       "<td>CREAM CUPID HEARTS COAT HANGER</td>\n",
       "<td align=\"right\">8</td>\n",
       "<td>12/1/2010 8:26</td>\n",
       "<td align=\"right\">2.75</td>\n",
       "<td align=\"right\">17850</td>\n",
       "<td>United Kingdom</td>\n",
       "</tr>\n",
       "</tbody></table>\n",
       "\n",
       "</body>\n",
       "</html>"
      ],
      "text/plain": [
       "<IPython.core.display.HTML object>"
      ]
     },
     "metadata": {},
     "output_type": "display_data"
    }
   ],
   "source": [
    "%%html\n",
    "<html>\n",
    "<head>\n",
    "<style>\n",
    "table {\n",
    "    font-family: arial, sans-serif;\n",
    "    border-collapse: collapse;\n",
    "    widtd: 100%;\n",
    "}\n",
    "\n",
    "th, td {\n",
    "    border: 1px solid #dddddd;\n",
    "    text-align: left;\n",
    "    padding: 8px;\n",
    "}\n",
    "\n",
    "tr:nth-child(even) {\n",
    "    background-color: #dddddd;\n",
    "}\n",
    "</style>\n",
    "</head>\n",
    "<body>\n",
    "<h1> Çevrimiçi alışveriş veri kayıtları </h2>\n",
    "<table class=\"table table-bordered table-hover table-condensed\">\n",
    "<thead><tr><th title=\"Field #1\">InvoiceNo</th>\n",
    "<th title=\"Field #2\">StockCode</th>\n",
    "<th title=\"Field #3\">Description</th>\n",
    "<th title=\"Field #4\">Quantity</th>\n",
    "<th title=\"Field #5\">InvoiceDate</th>\n",
    "<th title=\"Field #6\">UnitPrice</th>\n",
    "<th title=\"Field #7\">CustomerID</th>\n",
    "<th title=\"Field #8\">Country</th>\n",
    "</tr></thead>\n",
    "<tbody><tr>\n",
    "<td align=\"right\">536365</td>\n",
    "<td>85123A</td>\n",
    "<td>WHITE HANGING HEART T-LIGHT HOLDER</td>\n",
    "<td align=\"right\">6</td>\n",
    "<td>12/1/2010 8:26</td>\n",
    "<td align=\"right\">2.55</td>\n",
    "<td align=\"right\">17850</td>\n",
    "<td>United Kingdom</td>\n",
    "</tr>\n",
    "<tr>\n",
    "<td align=\"right\">536365</td>\n",
    "<td>71053</td>\n",
    "<td>WHITE METAL LANTERN</td>\n",
    "<td align=\"right\">6</td>\n",
    "<td>12/1/2010 8:26</td>\n",
    "<td align=\"right\">3.39</td>\n",
    "<td align=\"right\">17850</td>\n",
    "<td>United Kingdom</td>\n",
    "</tr>\n",
    "<tr>\n",
    "<td align=\"right\">536365</td>\n",
    "<td>84406B</td>\n",
    "<td>CREAM CUPID HEARTS COAT HANGER</td>\n",
    "<td align=\"right\">8</td>\n",
    "<td>12/1/2010 8:26</td>\n",
    "<td align=\"right\">2.75</td>\n",
    "<td align=\"right\">17850</td>\n",
    "<td>United Kingdom</td>\n",
    "</tr>\n",
    "</tbody></table>\n",
    "\n",
    "</body>\n",
    "</html>\n"
   ]
  }
 ],
 "metadata": {
  "kernelspec": {
   "display_name": "Python 3",
   "language": "python",
   "name": "python3"
  },
  "language_info": {
   "codemirror_mode": {
    "name": "ipython",
    "version": 3
   },
   "file_extension": ".py",
   "mimetype": "text/x-python",
   "name": "python",
   "nbconvert_exporter": "python",
   "pygments_lexer": "ipython3",
   "version": "3.6.2"
  }
 },
 "nbformat": 4,
 "nbformat_minor": 2
}
