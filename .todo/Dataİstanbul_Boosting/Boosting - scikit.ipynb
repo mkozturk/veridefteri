{
 "cells": [
  {
   "cell_type": "markdown",
   "metadata": {},
   "source": [
    "# Scikit-Learn ve Boosting\n",
    "\n",
    "Boosting yöntemlerinden AdaBoost ve Gradient Boosting `scikit-learn` altında da bulunuyor. `Scikit-learn` uçtan uca çözüm sunan bir paket olduğu için boosting uygulamalarında daha fazla esneklik için `LightGBM` ya da `xgboost` gibi paketleri tercih etmekte fayda var. Ancak bu paketleri kullansanız da veriyi işlemek, sonuçları değerlendirmek için `scikit-learn` ideal bir çözüm sunuyor. \n",
    "\n",
    "Şimdi `scikit-learn` altındaki boosting yöntemlerinin kullanımını UCI dizinindeki [banka pazarlama veri kümesi](https://archive.ics.uci.edu/ml/datasets/bank+marketing) üzerinden inceleyelim. Elimizdeki problem iki sınıftan oluşan bir sınıflandırma problemi. Amaç müşterilerin özelliklerine ve ekonomik göstergelere bakarak müşterilerin kampanya tekliflerine dönüş yapıp yapmayacağını tahmin etmek. \n",
    "\n",
    "Paketleri yükleyerek ve veri kümesini okuyarak başlayalım."
   ]
  },
  {
   "cell_type": "code",
   "execution_count": 1,
   "metadata": {},
   "outputs": [
    {
     "name": "stdout",
     "output_type": "stream",
     "text": [
      "   yaş         iş medeni_durum       eğitim  gecikme   ev borç   iletişim  \\\n",
      "0   56  housemaid      married     basic.4y       no   no   no  telephone   \n",
      "1   57   services      married  high.school  unknown   no   no  telephone   \n",
      "2   37   services      married  high.school       no  yes   no  telephone   \n",
      "3   40     admin.      married     basic.6y       no   no   no  telephone   \n",
      "4   56   services      married  high.school       no   no  yes  telephone   \n",
      "\n",
      "    ay haftanın_günü  süre  kampanya  önceki_iletişimden_sonra_geçen_gün  \\\n",
      "0  may           mon   261         1                                 999   \n",
      "1  may           mon   149         1                                 999   \n",
      "2  may           mon   226         1                                 999   \n",
      "3  may           mon   151         1                                 999   \n",
      "4  may           mon   307         1                                 999   \n",
      "\n",
      "   iletişim_sayısı iletişim_sonucu  işsizlik  tüketici_fiyat_endeksi  \\\n",
      "0                0     nonexistent       1.1                  93.994   \n",
      "1                0     nonexistent       1.1                  93.994   \n",
      "2                0     nonexistent       1.1                  93.994   \n",
      "3                0     nonexistent       1.1                  93.994   \n",
      "4                0     nonexistent       1.1                  93.994   \n",
      "\n",
      "   tüketici_güven_endeksi  euribor_faizi  çalışan_sayısı  \n",
      "0                   -36.4          4.857          5191.0  \n",
      "1                   -36.4          4.857          5191.0  \n",
      "2                   -36.4          4.857          5191.0  \n",
      "3                   -36.4          4.857          5191.0  \n",
      "4                   -36.4          4.857          5191.0  \n"
     ]
    }
   ],
   "source": [
    "# Veri çerçevesi oluşturmak için Pandas paketini kullanıyoruz.\n",
    "import pandas as pd\n",
    "# Veri kümesini ikiye bölmek ve performans ölçütlerinin hesaplanması için gerekli modüller.\n",
    "from sklearn.model_selection import train_test_split\n",
    "from sklearn.metrics import roc_auc_score, accuracy_score, confusion_matrix\n",
    "# Grafik çizdirmek için gerekli paket.\n",
    "import matplotlib.pyplot as plt\n",
    "import numpy as np\n",
    "#Uyarı mesajlarını kapatmak için\n",
    "import warnings\n",
    "warnings.filterwarnings(\"ignore\")\n",
    "# Veri çerçevelerini daha güzel görselleştirmek için\n",
    "from IPython.display import display, HTML\n",
    "# Veri kümesini okuyalım ve etiketleri ayıralım. Veri çerçevesindeki sütun isimlerini de değiştiriyoruz.\n",
    "df = pd.read_csv('bank-additional-full.csv', delimiter=';')\n",
    "y= (df['y'] == 'yes')*1\n",
    "df.drop('y', axis=1, inplace = True)\n",
    "\n",
    "df.columns = ['yaş', 'iş', 'medeni_durum', 'eğitim', 'gecikme', 'ev', 'borç', 'iletişim', 'ay', 'haftanın_günü',\n",
    "              'süre', 'kampanya', 'önceki_iletişimden_sonra_geçen_gün', 'iletişim_sayısı', 'iletişim_sonucu', \n",
    "              'işsizlik', 'tüketici_fiyat_endeksi', 'tüketici_güven_endeksi', 'euribor_faizi', 'çalışan_sayısı'] \n",
    "print(df.head())"
   ]
  },
  {
   "cell_type": "markdown",
   "metadata": {},
   "source": [
    "Verideki değişkenlerin anlamlarını aşağıda ve veri kümesini indirebileceğiniz [web sayfasında](https://archive.ics.uci.edu/ml/datasets/bank+marketing) bulabilirsiniz:\n",
    "* yaş: Müşterinin yaşı.\n",
    "* iş: Müşterinin işinin tanımı.\n",
    "* medeni_durum: Müşterinin medeni durumu.\n",
    "* eğitim: Müşterinin eğitim durumu.\n",
    "* gecikme: Borcunu ödemekte gecikme yaşadığı kredi var mı?\n",
    "* ev: Ev kredisi ödüyor mu?\n",
    "* borç: Başka kredi ödüyor mu?\n",
    "* iletişim: İletişim için seçtiği telefon tipi (sabit hat, GSM).\n",
    "* ay: En son iletişim kurulan ay.\n",
    "* haftanın_günü: En son iletişim kurulan gün (haftanın günü olarak). \n",
    "* süre: En son iletişim kurulan süre. Bu değişken 0 değerini aldığında etiket de 0 (ya da `no`) değerini aldığı için sağlıklı bir analiz için bu değişkeni veri kümesinden çıkarıyoruz.\n",
    "* kampanya: Müşteri için bu kampanya özelinde kaç kere iletişim kurulduğu bilgisi.\n",
    "* önceki_iletişimden_sonra_geçen_gün: Müşteriyle başka bir kampanya için iletişim kurulan günden bu yana geçen zaman. Değer 999 ise iletişim kurulmadığı anlamına geliyor. \n",
    "* iletişim_sayısı: Müşteriyle bu kampanya öncesi kurulan iletişim sayısı.\n",
    "* iletişim_sonucu: Önceki kampanya iletişiminin sonucu.                     \n",
    "* işsizlik: İşsizlik endeksindeki değişim.\n",
    "* tüketici_fiyat_endeksi: Tüketici fiyat endeksi.\n",
    "* tüketici_güven_endeksi: Tüketici güven endeksi.\n",
    "* euribor_faizi: Euribor faizi (Euro Interbank Offered Rate).\n",
    "* çalışan_sayısı: Çalışan nüfus sayısı.\n",
    "\n",
    "Gördüğümüz gibi son beş değişken daha çok sosyal ve ekonomik göstergelerden oluşuyor. Bu göstergeler kampanya teklifinin yapıldığı zamana ait değerleri içeriyor. Veri kümesinde eksik değerler olup olmadığını inceleyelim."
   ]
  },
  {
   "cell_type": "code",
   "execution_count": 2,
   "metadata": {},
   "outputs": [
    {
     "name": "stdout",
     "output_type": "stream",
     "text": [
      "yaş                                   0\n",
      "iş                                    0\n",
      "medeni_durum                          0\n",
      "eğitim                                0\n",
      "gecikme                               0\n",
      "ev                                    0\n",
      "borç                                  0\n",
      "iletişim                              0\n",
      "ay                                    0\n",
      "haftanın_günü                         0\n",
      "süre                                  0\n",
      "kampanya                              0\n",
      "önceki_iletişimden_sonra_geçen_gün    0\n",
      "iletişim_sayısı                       0\n",
      "iletişim_sonucu                       0\n",
      "işsizlik                              0\n",
      "tüketici_fiyat_endeksi                0\n",
      "tüketici_güven_endeksi                0\n",
      "euribor_faizi                         0\n",
      "çalışan_sayısı                        0\n",
      "dtype: int64\n"
     ]
    }
   ],
   "source": [
    "print(df.isnull().sum())"
   ]
  },
  {
   "cell_type": "markdown",
   "metadata": {},
   "source": [
    "Veri kümesinde eksik değer yok. Aslında bilinmeyen (`unknown`) gibi değerler mevcut. Ayrıca `önceki_iletişimden_sonra_geçen_gün` değişkeni de 999 değerini aldığında bu değişkenin tanımlı olmadığı duruma denk geliyor. Şimdilik eksik değerlere odaklanmayalım. \n",
    "\n",
    "Veri kümesinde eksik değer bulunmasa da, kategorik değişkenler bulunmakta. Örnek olarak `iş` sütununu inceleyelim."
   ]
  },
  {
   "cell_type": "code",
   "execution_count": 3,
   "metadata": {},
   "outputs": [
    {
     "data": {
      "text/plain": [
       "array(['housemaid', 'services', 'admin.', 'blue-collar', 'technician',\n",
       "       'retired', 'management', 'unemployed', 'self-employed', 'unknown',\n",
       "       'entrepreneur', 'student'], dtype=object)"
      ]
     },
     "execution_count": 3,
     "metadata": {},
     "output_type": "execute_result"
    }
   ],
   "source": [
    "df['iş'].unique()"
   ]
  },
  {
   "cell_type": "markdown",
   "metadata": {},
   "source": [
    "Kategorik değişkenleri sayısal hale getirmemiz gerekiyor. Bu amaçla `scikit-learn` paketindeki `LabelEncoder` modülünü kullanabiliriz. Bahsettiğim modül değişkenleri 0 ve değer sayısı - 1 (bu örnekte 12 ayrı değer olduğu için 11) arasındaki sayılara çevirecek. Örnek olarak `housemaid` 0 değerini alırken `student` 11 değerini alacak. Kategorik değişkenleri 0 ve 1 değerleri alan kukla değişkenlere çevirmek için `LabelBinarizer` modülünü kullanabilirsiniz. Ben `LightGBM` ile tutarlı olması için `LabelEncoder` kullandım; ancak `scikit-learn` kategorik değişkenleri özel olarak değerlendirmediği için `LabelBinarizer` kullanmamız daha doğru olacaktır.\n",
    "\n",
    "Veri kümesindeki kategorik değişkenleri sayısal hale getirelim."
   ]
  },
  {
   "cell_type": "code",
   "execution_count": 4,
   "metadata": {},
   "outputs": [
    {
     "name": "stdout",
     "output_type": "stream",
     "text": [
      "   yaş  iş  medeni_durum  eğitim  gecikme  ev  borç  iletişim  ay  \\\n",
      "0   56   3             1       0        0   0     0         1   6   \n",
      "1   57   7             1       3        1   0     0         1   6   \n",
      "2   37   7             1       3        0   2     0         1   6   \n",
      "3   40   0             1       1        0   0     0         1   6   \n",
      "4   56   7             1       3        0   0     2         1   6   \n",
      "\n",
      "   haftanın_günü  süre  kampanya  önceki_iletişimden_sonra_geçen_gün  \\\n",
      "0              1   261         1                                 999   \n",
      "1              1   149         1                                 999   \n",
      "2              1   226         1                                 999   \n",
      "3              1   151         1                                 999   \n",
      "4              1   307         1                                 999   \n",
      "\n",
      "   iletişim_sayısı  iletişim_sonucu  işsizlik  tüketici_fiyat_endeksi  \\\n",
      "0                0                1       1.1                  93.994   \n",
      "1                0                1       1.1                  93.994   \n",
      "2                0                1       1.1                  93.994   \n",
      "3                0                1       1.1                  93.994   \n",
      "4                0                1       1.1                  93.994   \n",
      "\n",
      "   tüketici_güven_endeksi  euribor_faizi  çalışan_sayısı  \n",
      "0                   -36.4          4.857          5191.0  \n",
      "1                   -36.4          4.857          5191.0  \n",
      "2                   -36.4          4.857          5191.0  \n",
      "3                   -36.4          4.857          5191.0  \n",
      "4                   -36.4          4.857          5191.0  \n"
     ]
    }
   ],
   "source": [
    "from sklearn.preprocessing import LabelEncoder\n",
    "\n",
    "kategorik_sutunlar = ['iş', 'medeni_durum', 'eğitim', 'gecikme', 'ev', 'borç', 'iletişim', 'ay',\n",
    "                      'haftanın_günü', 'iletişim_sonucu']\n",
    "\n",
    "for i in kategorik_sutunlar:\n",
    "    le = LabelEncoder()\n",
    "    df[i] = le.fit_transform(df[i])\n",
    "print(df.head())"
   ]
  },
  {
   "cell_type": "markdown",
   "metadata": {},
   "source": [
    "Burada şunu belirtmem gerekiyor. Yaptığımız dönüşüm işlemini geri dönüşsüz olarak yaptık. Yani dönüştürdüğümüz kolonlardaki değerleri kaybettik. Veri kümesinin orijinal versiyonuyla bir eşleştirme yaparak bu değerleri tekrar elde edebiliriz. Eski değerleri koruyarak bu değişimi yapmak `scikit-learn` ile biraz daha zor bir işlem ve bu yazının konusunun dışında. Ancak [derin kopyalama](http://www.veridefteri.com/2018/03/19/python-programlamaya-giris-18-python-referans-modeli-sig-ve-derin-kopyalama/) ile veri çerçevesinin orijinalinin bir kopyasını oluşturmak mümkün.\n",
    "\n",
    "Veri kümesini analize uygun hale getirdiğimize göre eğitim ve sınama için ikiye bölelim ve `süre` değişkenini kümeden çıkartalım."
   ]
  },
  {
   "cell_type": "code",
   "execution_count": 5,
   "metadata": {},
   "outputs": [],
   "source": [
    "df.drop('süre', inplace = True, axis=1)\n",
    "df_train, df_test, y_train, y_test = train_test_split(df, y, train_size = 0.7, test_size = 0.3)"
   ]
  },
  {
   "cell_type": "markdown",
   "metadata": {},
   "source": [
    "# Model Eğitme\n",
    "\n",
    "`scikit-learn` altındaki AdaBoost ve Gradient Boosting yöntemlerini kullanarak tahmin yapalım. `scikit-learn` API'ındaki `fit/predict` ve `fit/transform` yapısı, modelleri eğitmeyi çok kolaylaştırıyor. Ben, modelleri eğitmek için varsayılan değerleri kullandım. Ancak özellikle iterasyon sayısı (`n_estimators`) gibi değişkenlerle denemeler yapmak yararlı olabilir."
   ]
  },
  {
   "cell_type": "code",
   "execution_count": 6,
   "metadata": {},
   "outputs": [],
   "source": [
    "from sklearn.ensemble import AdaBoostClassifier, GradientBoostingClassifier\n",
    "from sklearn.tree import DecisionTreeClassifier\n",
    "\n",
    "#Tek seviyeli karar ağaçlarıyla AdaBoost modeli oluşturalım.\n",
    "ada = AdaBoostClassifier(DecisionTreeClassifier(max_depth=1, random_state=0), random_state=0)\n",
    "\n",
    "# Modeli eğitip, sonuçlarını alalım.\n",
    "ada.fit(df_train, y_train)\n",
    "y_pred_ada = ada.predict(df_test)\n",
    "y_pred_proba_ada = ada.predict_proba(df_test)\n",
    "\n",
    "# Bir Gradient Boosting modeli oluşturalım.\n",
    "gbc = GradientBoostingClassifier(random_state=0)\n",
    "\n",
    "# Modeli eğitip, sonuçlarını alalım.\n",
    "gbc.fit(df_train, y_train)\n",
    "y_pred_gbc = gbc.predict(df_test)\n",
    "y_pred_proba_gbc = gbc.predict_proba(df_test)"
   ]
  },
  {
   "cell_type": "markdown",
   "metadata": {},
   "source": [
    "Şimdi eğittiğimiz modelin başarısına bakalım. Bu amaçla eğri altı alan, hata matrisi ve isabetlilik değerlerine bakalım."
   ]
  },
  {
   "cell_type": "code",
   "execution_count": 7,
   "metadata": {},
   "outputs": [
    {
     "name": "stdout",
     "output_type": "stream",
     "text": [
      "AdaBoost\n",
      "Eğri altı alan değeri: 0.800718324303\n",
      "İsabetlilik değeri: 0.901189609128\n",
      "Hata matrisi:\n",
      " [[10839   132]\n",
      " [ 1089   297]]\n",
      "Gradient Boosting\n",
      "Eğri altı alan değeri: 0.804200711228\n",
      "İsabetlilik değeri: 0.902565347576\n",
      "Hata matrisi:\n",
      " [[10794   177]\n",
      " [ 1027   359]]\n"
     ]
    }
   ],
   "source": [
    "# Tahmin ve değerlendirme\n",
    "\n",
    "print('AdaBoost')\n",
    "print('Eğri altı alan değeri:', roc_auc_score(y_test, y_pred_proba_ada[:,1]))\n",
    "print('İsabetlilik değeri:', accuracy_score(y_test, y_pred_ada))\n",
    "print('Hata matrisi:\\n', confusion_matrix(y_test, y_pred_ada))\n",
    "\n",
    "print('Gradient Boosting')\n",
    "print('Eğri altı alan değeri:', roc_auc_score(y_test, y_pred_proba_gbc[:,1]))\n",
    "print('İsabetlilik değeri:', accuracy_score(y_test, y_pred_gbc))\n",
    "print('Hata matrisi:\\n', confusion_matrix(y_test, y_pred_gbc))\n"
   ]
  },
  {
   "cell_type": "markdown",
   "metadata": {},
   "source": [
    "Gradient Boosting biraz daha başarılı oldu. Ancak arada çok belirgin bir fark yok gibi. Karar alıcı durumundaki birisi için müşterilerin kampanyaya cevap verip/vermeyecek olması kadar bunun ihtimali de önemli olabilir. Örnek olarak bir kullanıcı kampanyaya cevap verme ihtimali %80'in üzerindeki müşterilerle ilgilenmeyi tercih edebilir. Müşterilerin kampanyaya cevap verme ihtimallerine daha yakından bakalım. Olasılıkları incelemek amacıyla iki histogram çizdireceğiz."
   ]
  },
  {
   "cell_type": "code",
   "execution_count": 8,
   "metadata": {},
   "outputs": [
    {
     "data": {
      "image/png": "[encoded data removed]",
      "text/plain": [
       "<matplotlib.figure.Figure at 0x1a891ccf208>"
      ]
     },
     "metadata": {},
     "output_type": "display_data"
    },
    {
     "data": {
      "image/png": "[encoded data removed]",
      "text/plain": [
       "<matplotlib.figure.Figure at 0x1a8910114e0>"
      ]
     },
     "metadata": {},
     "output_type": "display_data"
    }
   ],
   "source": [
    "plt.figure(figsize=(10,8))\n",
    "plt.title('AdaBoost Yöntemiyle Elde Edilen Olumlu Cevap Olasılıkları')\n",
    "plt.hist(y_pred_proba_ada[:,1], bins=10)\n",
    "plt.show()\n",
    "\n",
    "plt.figure(figsize=(10,8))\n",
    "plt.title('Gradient Boosting Yöntemiyle Elde Edilen Olumlu Cevap Olasılıkları')\n",
    "plt.hist(y_pred_proba_gbc[:,1], bins=10)\n",
    "plt.show()"
   ]
  },
  {
   "cell_type": "markdown",
   "metadata": {},
   "source": [
    "# Kalibrasyon\n",
    "\n",
    "Tek başına rakamların çok fazla bir şey ifade etmediğini görmüş olduk. AdaBoost performans olarak Gradient Boostinge yakın gözükse de kullanımı daha zor. Kampanyaya cevap verme olasılığı en yüksek olan müşteri için bile bu olasılık %55 civarında.\n",
    "\n",
    "AdaBoost yönteminde gördüğümüz kadarıyla olasılıkların değerlerinin anlamı az. Ancak müşteriler olasılıklara göre sıralandığında bu sıralama başarılıdır diyebiliriz (eğri altı değerin yüksekliği nedeniyle). \n",
    "\n",
    "AdaBoost (ve diğer sınıflandırma algoritmalarıyla) elde edilen olasılıkların kullanılabilirliğini arttırmak için olasılıkların yeniden değerlendirilmesi ve dönüştürülmesi gerekli olabilir. `scikit-learn` altındaki `CalibratedClassifierCV` tam olarak bunu yapıyor.\n",
    "\n",
    "Kalibrasyona geçmeden önce çizdirdiğimiz histogramı detaylandıralım."
   ]
  },
  {
   "cell_type": "code",
   "execution_count": 9,
   "metadata": {},
   "outputs": [
    {
     "data": {
      "image/png": "[encoded data removed]",
      "text/plain": [
       "<matplotlib.figure.Figure at 0x1a88d309898>"
      ]
     },
     "metadata": {},
     "output_type": "display_data"
    }
   ],
   "source": [
    "plt.figure(figsize=(10,8))\n",
    "plt.title('AdaBoost Yöntemiyle Elde Edilen Olumlu Cevap Olasılıkları')\n",
    "plt.hist(y_pred_proba_ada[:,1], bins=100)\n",
    "plt.show()"
   ]
  },
  {
   "cell_type": "markdown",
   "metadata": {},
   "source": [
    "Aslında müşterilerin kampanyaya cevap verme olasılıklarının bir dağılımı var. Yapacağımız kalibrasyon işlemi, bu değerleri 0 ile 1 arasında daha geniş bir aralığa dönüştürecek."
   ]
  },
  {
   "cell_type": "code",
   "execution_count": 10,
   "metadata": {},
   "outputs": [
    {
     "name": "stdout",
     "output_type": "stream",
     "text": [
      "Calibrated AdaBoost\n",
      "Eğri altı alan değeri: 0.80077915633\n",
      "İsabetlilik değeri: 0.901270534919\n",
      "Hata matrisi:\n",
      " [[10846   125]\n",
      " [ 1095   291]]\n"
     ]
    },
    {
     "data": {
      "image/png": "[encoded data removed]",
      "text/plain": [
       "<matplotlib.figure.Figure at 0x1a891140b00>"
      ]
     },
     "metadata": {},
     "output_type": "display_data"
    }
   ],
   "source": [
    "from sklearn.calibration import CalibratedClassifierCV\n",
    "\n",
    "# Kalibrasyon fonksiyonları için scikit-learn dokümantasyonunu inceleyebilirsiniz.\n",
    "# http://scikit-learn.org/stable/modules/generated/sklearn.calibration.CalibratedClassifierCV.html \n",
    "# Modeli eğitmek için kalibrasyon yapacağımız modeli de belirtiyoruz. Onun dışında kullandığımız fonksiyonlar aynı.\n",
    "cclf = CalibratedClassifierCV(AdaBoostClassifier(DecisionTreeClassifier(max_depth=1, random_state=0), random_state=0), method= 'isotonic')\n",
    "\n",
    "cclf.fit(df_train,y_train)\n",
    "y_pred_cclf = cclf.predict(df_test)\n",
    "y_pred_proba_cclf = cclf.predict_proba(df_test)\n",
    "\n",
    "print('Calibrated AdaBoost')\n",
    "print('Eğri altı alan değeri:', roc_auc_score(y_test, y_pred_proba_cclf[:,1]))\n",
    "print('İsabetlilik değeri:', accuracy_score(y_test, y_pred_cclf))\n",
    "print('Hata matrisi:\\n', confusion_matrix(y_test, y_pred_cclf))\n",
    "\n",
    "plt.figure(figsize=(10,8))\n",
    "plt.hist(y_pred_proba_cclf[:,1], bins=100)\n",
    "plt.show()"
   ]
  },
  {
   "cell_type": "markdown",
   "metadata": {},
   "source": [
    "Sonuçlarda çok farklılık olmasa da müşterilerin kampanyaya cevap verme olasılıklarının dağılımını değiştirmiş ve daha kullanışlı bir hale getirmiş olduk. `scikit-learn` altında da iterasyon bazında değerlendirme yapmak mümkün. Bunun için `staged_predict` ve `staged_predict_proba` fonksiyonlarını kullanabiliriz. Bu sayede, değerlendirme için kullandığımız veri kümesinde en iyi sonucu verecek iterasyonu kullanıp, aşırı uyum gibi problemlerin önüne geçebiliriz. Ancak `LightGBM`'de olduğu gibi bunu otomatik olarak yapmak mümkün değil.\n",
    "\n",
    "Modellerde tahmin amacıyla kullandığımız özniteliklerin önemlerini çizdirmek de mümkün."
   ]
  },
  {
   "cell_type": "code",
   "execution_count": 11,
   "metadata": {},
   "outputs": [
    {
     "data": {
      "image/png": "[encoded data removed]",
      "text/plain": [
       "<matplotlib.figure.Figure at 0x1a891169e48>"
      ]
     },
     "metadata": {},
     "output_type": "display_data"
    }
   ],
   "source": [
    "# Plot the feature importances of the forest\n",
    "importances = gbc.feature_importances_ / gbc.feature_importances_.max() * 100\n",
    "indices = np.argsort(importances)#[::-1]\n",
    "\n",
    "plt.figure(figsize=(10,15))\n",
    "plt.title(\"Özniteliklerin Göreceli Önemi\")\n",
    "plt.barh(range(df_train.shape[1]), importances[indices],\n",
    "       color=\"r\", align=\"center\")\n",
    "plt.yticks(range(df_train.shape[1]), df_train.columns[indices])\n",
    "plt.xlim([0, 100])\n",
    "plt.show()"
   ]
  },
  {
   "cell_type": "markdown",
   "metadata": {},
   "source": [
    "`LightGBM` ile karşılaştırmak gerekirse `kampanya` değişkeninin öneminin azaldığını `çalışan_sayısı` değişkeninin ise öneminin arttığını görebiliriz."
   ]
  },
  {
   "cell_type": "code",
   "execution_count": null,
   "metadata": {},
   "outputs": [],
   "source": []
  }
 ],
 "metadata": {
  "kernelspec": {
   "display_name": "Python 3",
   "language": "python",
   "name": "python3"
  },
  "language_info": {
   "codemirror_mode": {
    "name": "ipython",
    "version": 3
   },
   "file_extension": ".py",
   "mimetype": "text/x-python",
   "name": "python",
   "nbconvert_exporter": "python",
   "pygments_lexer": "ipython3",
   "version": "3.6.3"
  }
 },
 "nbformat": 4,
 "nbformat_minor": 2
}
