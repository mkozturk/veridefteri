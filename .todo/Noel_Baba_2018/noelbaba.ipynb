{
 "cells": [
  {
   "cell_type": "markdown",
   "metadata": {},
   "source": [
    "Bu yazıda, basit ama büyük bir hesaplama problemini hızlandırmak için kullanabileceğimiz bazı yöntemlere bakacağız ve bir Python modülünü C ile nasıl yazabileceğimizi göreceğiz.\n",
    "\n",
    "[Kaggle'ın yarışma problemlerinden biri](https://www.kaggle.com/c/traveling-santa-2018-prime-paths), Noel Baba'nın ziyaret edeceği şehirleri en kısa yol olarak düzenlememizi istiyor. Şehirlerin iki boyutlu koordinatları ve ID numaraları verilmiş. Noel Baba 0 numaralı noktadan yola çıkıyor ve yine 0 numarada yolculuğunu bitiriyor. Soru şu: Öyle bir şehir sırası bulun ki, Noel Baba'nın katedeceği toplam mesafe asgariye insin. Bu optimizasyon probleminin klasik [Seyyar Satıcı probleminden](https://en.0wikipedia.org/wiki/Travelling_salesman_problem) farkı şu: Noel Baba'nın her on durağından birinin sıra numarası bir asal sayı değilse, bir sonraki etabın mesafesi %10 fazla olarak hesaplanıyor. Yani ideal en kısa yolda on noktadan birinin asal numaralı bir şehir olması gerekli.\n",
    "\n",
    "Bu yazıda bu problemi tamamen çözmeyeceğiz, ama çözümü bulmak için elzem olan bir ara problemi didik didik edeceğiz: Belli bir şehir listesi verildiğinde, bu yolculukta katedilecek toplam mesafeyi mümkün olan en hızlı şekilde hesaplayacak kodu yazacağız. Hızlı olması önemli, çünkü en kısa yolu bulacak olan optimizasyon algoritması bu işi binlerce kere tekrarlayacak."
   ]
  },
  {
   "cell_type": "markdown",
   "metadata": {},
   "source": [
    "## Veriyi yükleyelim"
   ]
  },
  {
   "cell_type": "markdown",
   "metadata": {},
   "source": [
    "Veri dosyasını çalışma dizinimin altında `data` dizinine koydum.\n",
    "\n",
    "Dikkat: Buradan sonraki dört komut (`!` ile başlayanlar) işletim sistemi yorumlayıcısına gönderilir. Ben Linux kullanıyorum; sizin işletim sisteminiz farklıysa aynı komutlar bulunmayabilir ve Jupyter hata mesajı verir.\n",
    "\n",
    "Önce verinin ilk ve son satırlarına bakalım. "
   ]
  },
  {
   "cell_type": "code",
   "execution_count": 1,
   "metadata": {},
   "outputs": [
    {
     "name": "stdout",
     "output_type": "stream",
     "text": [
      "CityId,X,Y\n",
      "0,316.836739061509,2202.34070733524\n",
      "1,4377.40597216624,336.602082171235\n",
      "2,3454.15819771172,2820.05301124811\n",
      "3,4688.09929763477,2935.89805580997\n"
     ]
    }
   ],
   "source": [
    "!head -n5 data/cities.csv"
   ]
  },
  {
   "cell_type": "code",
   "execution_count": 2,
   "metadata": {},
   "outputs": [
    {
     "name": "stdout",
     "output_type": "stream",
     "text": [
      "197764,149.828017662206,3134.756985909\n",
      "197765,2615.29923891032,2267.97928577378\n",
      "197766,4775.8898741018,3103.84622791918\n",
      "197767,2994.23095453079,1931.76434369354\n",
      "197768,1354.76477830356,3218.10062536298\n"
     ]
    }
   ],
   "source": [
    "!tail -n5 data/cities.csv"
   ]
  },
  {
   "cell_type": "markdown",
   "metadata": {},
   "source": [
    "Şehir ID numaraları 0 ile başlayıp 197768 ile bitiyor. Arada tekrarlanan ID olup olmadığını kontrol edelim."
   ]
  },
  {
   "cell_type": "code",
   "execution_count": 3,
   "metadata": {},
   "outputs": [],
   "source": [
    "!cut -f1 -d, data/cities.csv | sort | uniq -d"
   ]
  },
  {
   "cell_type": "markdown",
   "metadata": {},
   "source": [
    "Komut hiç bir şey çıkarmıyor, demek ki tekrarlanan ID yok. Peki acaba arada atlanan ID var mı? Dosyanın toplam uzunluğuna bakalım:"
   ]
  },
  {
   "cell_type": "code",
   "execution_count": 4,
   "metadata": {},
   "outputs": [
    {
     "name": "stdout",
     "output_type": "stream",
     "text": [
      "197770 data/cities.csv\n"
     ]
    }
   ],
   "source": [
    "!wc -l data/cities.csv"
   ]
  },
  {
   "cell_type": "markdown",
   "metadata": {},
   "source": [
    "Dosyada toplam 197770 satır var. Birinci satır sütun başlıklarını içeriyor, onu çıkarırsak toplam 197769 veri noktası mevcut. Tekrarlanan ID olmadığını da görmüştük, demek ki 0-197768 arası ID'lerin hepsi dosyada mevcut.\n",
    "\n",
    "Buradan itibaren normal Python koduna dönüyoruz; komutlarımız her işletim sisteminde çalışacaktır.\n",
    "\n",
    "Dosyayı bir Numpy dizisine yükleyelim. "
   ]
  },
  {
   "cell_type": "code",
   "execution_count": 5,
   "metadata": {},
   "outputs": [],
   "source": [
    "import numpy as np\n",
    "şehirler = np.loadtxt(\"data/cities.csv\", delimiter=\",\",skiprows=1, usecols=(1,2))"
   ]
  },
  {
   "cell_type": "code",
   "execution_count": 6,
   "metadata": {},
   "outputs": [
    {
     "data": {
      "text/plain": [
       "array([[ 316.83673906, 2202.34070734],\n",
       "       [4377.40597217,  336.60208217],\n",
       "       [3454.15819771, 2820.05301125],\n",
       "       [4688.09929763, 2935.89805581],\n",
       "       [1010.69695175, 3236.75098903]])"
      ]
     },
     "execution_count": 6,
     "metadata": {},
     "output_type": "execute_result"
    }
   ],
   "source": [
    "şehirler[:5,:]"
   ]
  },
  {
   "cell_type": "markdown",
   "metadata": {},
   "source": [
    "Bir dizi şehir numarası alıp, katedilen toplam mesafeyi verecek bir fonksiyon yazmalıyız. Ancak, her onuncu adımı atmadan önce durup, bulunduğumuz şehir numarasının asal olup olmadığına bakmalıyız. Bir sonraki adım mesafesi buna bağlı olacak.\n",
    "\n",
    "    toplam = || sonraki_nokta - bu_nokta ||\n",
    "    adımno = 1\n",
    "    noktalar bitmediği sürece tekrarla:\n",
    "        noktaları güncelle\n",
    "        eğer adımno 10'a bölünüyorsa ve nokta numarası asal değilse:\n",
    "            toplam += 1.1 * || sonraki_nokta - bu_nokta ||\n",
    "        değilse:\n",
    "            toplam += || sonraki_nokta - bu_nokta ||\n",
    "            \n",
    "Belli bir şehir numarasının asallığını kontrol için bir fonksiyon çağırabiliriz. Ama bu, çok tekrarlandığında fazla zaman alacak bir işlem. Onun yerine, 0 ile 197768 arasındaki bütün asal sayıları çıkarıp bir listeye yazalım ve verilen sayının bu listede bulunup bulunmadığını soralım. Bilgisayar için listeye bakmak fonksiyon çağırmaktan daha hızlı bir işlemdir."
   ]
  },
  {
   "cell_type": "markdown",
   "metadata": {},
   "source": [
    "# Asal şehirlerin listesi"
   ]
  },
  {
   "cell_type": "markdown",
   "metadata": {},
   "source": [
    "Toplam mesafe hesaplarken on adımda bir, bulunduğumuz şehir numarasının asal olup olmadığına bakacağız. Asal sayıları bir listeye yazıp gerektikçe bakmak, her seferinde o sayının asal olup olmadığını hesaplamaktan çok daha kolaydır. O zaman, 0 ile 197768 arasındaki asalları içeren bir liste hazırlayalım.\n",
    "\n",
    "*SymPy* pakedi içindeki `sieve` modülü, Eratosthenes süzgeci yöntemiyle asal sayılar veren bazı fonksiyonlar içeriyor. Bu modüldeki `primerange()` fonksiyonunu kullanarak bu işi yapabiliriz."
   ]
  },
  {
   "cell_type": "code",
   "execution_count": 7,
   "metadata": {},
   "outputs": [],
   "source": [
    "from sympy import sieve\n",
    "asalşehirler = list(sieve.primerange(0,197769))"
   ]
  },
  {
   "cell_type": "markdown",
   "metadata": {},
   "source": [
    "# Birinci deneme: Toplam mesafe fonksiyonu"
   ]
  },
  {
   "cell_type": "markdown",
   "metadata": {},
   "source": [
    "Şimdi, verilen bir yol için toplam mesafeyi veren fonksiyonu yazalım. Fonksiyonun girdisi şehir numaralarının bir permütasyonu olacak, ve ilk ve son elemanlar 0 olacak."
   ]
  },
  {
   "cell_type": "code",
   "execution_count": 8,
   "metadata": {},
   "outputs": [],
   "source": [
    "def mesafe(i,j):\n",
    "    d = şehirler[i,:] - şehirler[j,:]\n",
    "    return np.sqrt(np.dot(d,d))\n",
    "\n",
    "def toplam_mesafe(p):\n",
    "    toplam = 0\n",
    "    for adımno in range(1,len(p)):\n",
    "        m = mesafe(p[adımno],p[adımno-1])\n",
    "        if adımno%10==0 and (p[adımno-1] not in asalşehirler):\n",
    "            m = 1.1*m\n",
    "        toplam += m\n",
    "    return toplam"
   ]
  },
  {
   "cell_type": "markdown",
   "metadata": {},
   "source": [
    "Denemelerimiz için Noel Baba'nın kullanacağı bir yol belirlememiz lazım. Bu aşamada sadece kodu hızlandırmaya çalışıyoruz; herhangi bir optimizasyon uygulamıyoruz. Basitçe, 0'dan başlayarak bütün şehirleri ID sırasıyla takip eden bir yol kullanacağız. Son durak olarak 0 eklemeyi de unutmayalım."
   ]
  },
  {
   "cell_type": "code",
   "execution_count": 9,
   "metadata": {},
   "outputs": [],
   "source": [
    "yol = list(range(197769))+[0]"
   ]
  },
  {
   "cell_type": "markdown",
   "metadata": {},
   "source": [
    "Bu haliyle fonksiyonumuzun ne kadar vakit aldığını `%time` sihirli komutuyla ölçebiliriz. (Jupyter kullanmıyorsanız aynı işi `timeit` modülüyle yapabilirsiniz.)"
   ]
  },
  {
   "cell_type": "code",
   "execution_count": 10,
   "metadata": {},
   "outputs": [
    {
     "name": "stdout",
     "output_type": "stream",
     "text": [
      "CPU times: user 6.38 s, sys: 5.84 ms, total: 6.39 s\n",
      "Wall time: 6.75 s\n"
     ]
    },
    {
     "data": {
      "text/plain": [
       "446884407.5212135"
      ]
     },
     "execution_count": 10,
     "metadata": {},
     "output_type": "execute_result"
    }
   ],
   "source": [
    "%time toplam_mesafe(yol)"
   ]
  },
  {
   "cell_type": "code",
   "execution_count": 11,
   "metadata": {},
   "outputs": [
    {
     "name": "stdout",
     "output_type": "stream",
     "text": [
      "6.82 s ± 562 ms per loop (mean ± std. dev. of 7 runs, 1 loop each)\n"
     ]
    }
   ],
   "source": [
    "%timeit toplam_mesafe(yol)"
   ]
  },
  {
   "cell_type": "markdown",
   "metadata": {},
   "source": [
    "# Zaman profili çıkarma"
   ]
  },
  {
   "cell_type": "markdown",
   "metadata": {},
   "source": [
    "İlk algoritmamızla bir tek yolun toplam mesafesini hesaplamak 6 saniyeden fazla alıyor. Bu epeyce yavaş; hızlandırmanın yolunu aramamız lazım. Bunun için de ilk adım fonksiyonun *zaman profilini* çıkarmak; yani hangi satırda ne kadar vakit harcandığını ölçmek. Bunu [`line_profiler` paketi](https://github.com/rkern/line_profiler) ile yapabiliriz.\n",
    "\n",
    "`line_profiler` sisteminizde kurulu değilse, terminalde\n",
    "\n",
    "    $ pip install line_profiler\n",
    "veya\n",
    "\n",
    "    $ conda install -c anaconda line_profiler \n",
    "komutuyla kurabilirsiniz. Anaconda kullanıyorsanız ikincisini tercih edin."
   ]
  },
  {
   "cell_type": "code",
   "execution_count": 12,
   "metadata": {},
   "outputs": [],
   "source": [
    "%load_ext line_profiler"
   ]
  },
  {
   "cell_type": "code",
   "execution_count": 13,
   "metadata": {},
   "outputs": [
    {
     "data": {
      "text/plain": [
       "Timer unit: 1e-06 s\n",
       "\n",
       "Total time: 8.28844 s\n",
       "File: <ipython-input-8-734b2b73192d>\n",
       "Function: toplam_mesafe at line 5\n",
       "\n",
       "Line #      Hits         Time  Per Hit   % Time  Line Contents\n",
       "==============================================================\n",
       "     5                                           def toplam_mesafe(p):\n",
       "     6         1          5.0      5.0      0.0      toplam = 0\n",
       "     7    197770     305052.0      1.5      3.7      for adımno in range(1,len(p)):\n",
       "     8    197769    1839833.0      9.3     22.2          m = mesafe(p[adımno],p[adımno-1])\n",
       "     9    197769    5758511.0     29.1     69.5          if adımno%10==0 and (p[adımno-1] not in asalşehirler):\n",
       "    10     15337      41786.0      2.7      0.5              m = 1.1*m\n",
       "    11    197769     343249.0      1.7      4.1          toplam += m\n",
       "    12         1          1.0      1.0      0.0      return toplam"
      ]
     },
     "metadata": {},
     "output_type": "display_data"
    }
   ],
   "source": [
    "%lprun -f toplam_mesafe toplam_mesafe(yol)"
   ]
  },
  {
   "cell_type": "markdown",
   "metadata": {},
   "source": [
    "Görüyoruz ki zamanın çoğu, şehrin sayısının asal olup olmadığını kontrol etmek için harcanıyor. Öncelikli olarak bu işlemi hızlandırmaya çalışalım."
   ]
  },
  {
   "cell_type": "markdown",
   "metadata": {},
   "source": [
    "# İkinci deneme: İkiye bölerek arama yapmak"
   ]
  },
  {
   "cell_type": "markdown",
   "metadata": {},
   "source": [
    "Şehrin sayısının asal olup olmadığına bakarken uzun bir liste içinde bir elemanın var olup olmadığını kontrol ediyoruz. Python, bu kontrolü yaparken elemanları baştan itibaren sırayla tarar; bu da büyük listelerde çok uzun zaman alır.\n",
    "\n",
    "Eğer elimizde sıralı bir liste varsa (ki asal şehirler listesi öyle), [ikiye bölerek arama (binary search)](https://www.youtube.com/watch?v=0VN5iwEyq4c) algoritması çok daha hızlı çalışır. Şimdi bunu deneyelim."
   ]
  },
  {
   "cell_type": "markdown",
   "metadata": {},
   "source": [
    "Bu algoritma gayet basittir; kendimiz de yazabiliriz. Ama Python'un standart kütüphanesindeki `bisect` modülü bu işlevi sağlıyor zaten. Mümkün oldukça mevcut kütüphaneleri kullanmak daha iyidir; çünkü bu kütüphanelerdeki kodlar çok kişi tarafından uzun zaman boyunca denenmiş, hataları düzeltilmiş, performansları geliştirilmiştir.\n",
    "\n",
    "`bisect` modülünün yardım belgelerinde tarif edildiği şekilde, verilen bir liste içinde bir elemanın olup olmadığını döndüren, `içinde()` isimli bir fonksiyon yazalım. Birinci denemedeki programımızdaki ilgili satırı da bu fonksiyonu çağıracak şekilde değiştirelim."
   ]
  },
  {
   "cell_type": "code",
   "execution_count": 14,
   "metadata": {},
   "outputs": [],
   "source": [
    "import bisect"
   ]
  },
  {
   "cell_type": "code",
   "execution_count": 15,
   "metadata": {},
   "outputs": [],
   "source": [
    "def mesafe(i,j):\n",
    "    d = şehirler[i,:] - şehirler[j,:]\n",
    "    return np.sqrt(np.dot(d,d))\n",
    "\n",
    "def içinde(a, x):\n",
    "    i = bisect.bisect_left(a, x)\n",
    "    if i != len(a) and a[i] == x:\n",
    "        return True\n",
    "    else:\n",
    "        return False\n",
    "\n",
    "def toplam_mesafe(p):\n",
    "    toplam = 0\n",
    "    for adımno in range(1,len(p)):\n",
    "        m = mesafe(p[adımno],p[adımno-1])\n",
    "        if adımno%10 == 0 and not içinde(asalşehirler, p[adımno-1]):\n",
    "            toplam += 1.1*m\n",
    "        else:\n",
    "            toplam += m\n",
    "    return toplam"
   ]
  },
  {
   "cell_type": "markdown",
   "metadata": {},
   "source": [
    "Tekrar `%time` sihirli işlemini kullanarak fonksiyonun kullandığı zamanı ölçelim."
   ]
  },
  {
   "cell_type": "code",
   "execution_count": 16,
   "metadata": {},
   "outputs": [
    {
     "name": "stdout",
     "output_type": "stream",
     "text": [
      "CPU times: user 1.17 s, sys: 8 µs, total: 1.17 s\n",
      "Wall time: 1.17 s\n"
     ]
    },
    {
     "data": {
      "text/plain": [
       "446884407.5212135"
      ]
     },
     "execution_count": 16,
     "metadata": {},
     "output_type": "execute_result"
    }
   ],
   "source": [
    "%time toplam_mesafe(yol)"
   ]
  },
  {
   "cell_type": "markdown",
   "metadata": {},
   "source": [
    "Başka hiç bir değişiklik yapmadan, sadece ikili arama algoritması kullanarak süreyi dörtte bire indirdik. `lprun` ile profilleme yaptığımızda şehrin asallığını belirleme için gereken zamanın çok düştüğünü görüyoruz. Artık darboğaz oluşturmuyor."
   ]
  },
  {
   "cell_type": "code",
   "execution_count": 17,
   "metadata": {},
   "outputs": [
    {
     "data": {
      "text/plain": [
       "Timer unit: 1e-06 s\n",
       "\n",
       "Total time: 2.98043 s\n",
       "File: <ipython-input-15-c1f1ca36e50c>\n",
       "Function: toplam_mesafe at line 12\n",
       "\n",
       "Line #      Hits         Time  Per Hit   % Time  Line Contents\n",
       "==============================================================\n",
       "    12                                           def toplam_mesafe(p):\n",
       "    13         1          5.0      5.0      0.0      toplam = 0\n",
       "    14    197770     319318.0      1.6     10.7      for adımno in range(1,len(p)):\n",
       "    15    197769    1853748.0      9.4     62.2          m = mesafe(p[adımno],p[adımno-1])\n",
       "    16    197769     446396.0      2.3     15.0          if adımno%10 == 0 and not içinde(asalşehirler, p[adımno-1]):\n",
       "    17     15337      31656.0      2.1      1.1              toplam += 1.1*m\n",
       "    18                                                   else:\n",
       "    19    182432     329304.0      1.8     11.0              toplam += m\n",
       "    20         1          1.0      1.0      0.0      return toplam"
      ]
     },
     "metadata": {},
     "output_type": "display_data"
    }
   ],
   "source": [
    "%lprun -f toplam_mesafe toplam_mesafe(yol)"
   ]
  },
  {
   "cell_type": "markdown",
   "metadata": {},
   "source": [
    "# Üçüncü deneme: Mesafeyi fonksiyon çağrısı yapmadan hesaplamak"
   ]
  },
  {
   "cell_type": "markdown",
   "metadata": {},
   "source": [
    "Bir önceki denemede, artık zamanın çoğunun `mesafe()` fonksiyonuna yapılan çağrıda harcandığını görüyoruz. Bu işlemi hızlandırıp hızlandıramayacağımızı düşünelim. Genel olarak bir fonksiyon çağrısı zaman harcayıcı bir işlemdir. `mesafe()` fonksiyonda yapılan işlemleri `toplam_mesafe()` içine taşıyalım ve bir hızlanma olup olmadığını görelim."
   ]
  },
  {
   "cell_type": "code",
   "execution_count": 18,
   "metadata": {},
   "outputs": [],
   "source": [
    "def toplam_mesafe(p):\n",
    "    toplam = 0\n",
    "    for adımno in range(1,len(p)):\n",
    "        d = şehirler[p[adımno]] - şehirler[p[adımno-1]]\n",
    "        m = np.sqrt(d[0]**2+d[1]**2)\n",
    "        if adımno%10 == 0 and not içinde(asalşehirler, p[adımno-1]):\n",
    "            toplam += 1.1*m\n",
    "        else:\n",
    "            toplam += m\n",
    "    return toplam"
   ]
  },
  {
   "cell_type": "code",
   "execution_count": 19,
   "metadata": {},
   "outputs": [
    {
     "name": "stdout",
     "output_type": "stream",
     "text": [
      "CPU times: user 1.03 s, sys: 0 ns, total: 1.03 s\n",
      "Wall time: 1.03 s\n"
     ]
    },
    {
     "data": {
      "text/plain": [
       "446884407.5212135"
      ]
     },
     "execution_count": 19,
     "metadata": {},
     "output_type": "execute_result"
    }
   ],
   "source": [
    "%time toplam_mesafe(yol)"
   ]
  },
  {
   "cell_type": "code",
   "execution_count": 20,
   "metadata": {},
   "outputs": [
    {
     "data": {
      "text/plain": [
       "Timer unit: 1e-06 s\n",
       "\n",
       "Total time: 3.29524 s\n",
       "File: <ipython-input-18-c8cd3560b788>\n",
       "Function: toplam_mesafe at line 1\n",
       "\n",
       "Line #      Hits         Time  Per Hit   % Time  Line Contents\n",
       "==============================================================\n",
       "     1                                           def toplam_mesafe(p):\n",
       "     2         1          5.0      5.0      0.0      toplam = 0\n",
       "     3    197770     352734.0      1.8     10.7      for adımno in range(1,len(p)):\n",
       "     4    197769     790760.0      4.0     24.0          d = şehirler[p[adımno]] - şehirler[p[adımno-1]]\n",
       "     5    197769    1268651.0      6.4     38.5          m = np.sqrt(d[0]**2+d[1]**2)\n",
       "     6    197769     489346.0      2.5     14.9          if adımno%10 == 0 and not içinde(asalşehirler, p[adımno-1]):\n",
       "     7     15337      36932.0      2.4      1.1              toplam += 1.1*m\n",
       "     8                                                   else:\n",
       "     9    182432     356813.0      2.0     10.8              toplam += m\n",
       "    10         1          1.0      1.0      0.0      return toplam"
      ]
     },
     "metadata": {},
     "output_type": "display_data"
    }
   ],
   "source": [
    "%lprun -f toplam_mesafe toplam_mesafe(yol)"
   ]
  },
  {
   "cell_type": "markdown",
   "metadata": {},
   "source": [
    "Az miktarda bir hızlanma görüyoruz, ama bu değişiklik önemli bir fark oluşturmadı. Yine zamanın %60'dan fazlası tek bir adımlık mesafeyi hesaplayan işlemlerde harcanıyor. Değiştirmesek de olurdu."
   ]
  },
  {
   "cell_type": "markdown",
   "metadata": {},
   "source": [
    "# Dördüncü deneme: Numpy ile vektörleştirme"
   ]
  },
  {
   "cell_type": "markdown",
   "metadata": {},
   "source": [
    "Temel Python işlemleri kullanarak daha fazla hızlandırma sağlayabilecekmişiz gibi görünmüyor. Şimdi bambaşka bir yaklaşım deneyelim: Hızlı sayısal vektör işlemleri için geliştirilmiş NumPy kütüphanesini kullanalım.\n",
    "\n",
    "Python gibi yüksek seviyeli, yorumlanan dillerde `while` veya `for` gibi döngüler çok yavaş işler. Buna karşılık _vektörleştirme_ kullanırsak, yani döngü işlerini dikkatli bir şekilde vektör işlemleri haline getirirsek NumPy bize büyük bir avantaj sağlar. Biz görmeden arka planda yine bir döngü çalışır kuşkusuz, ama bu döngü NumPy kütüphanesinin C ile yazılmış, derlenerek azami derecede hızlı hale getirilmiş kodları içinde çalışır. Python komut yorumlayıcısını yavaşlatan faktörlerden etkilenmez."
   ]
  },
  {
   "cell_type": "code",
   "execution_count": 21,
   "metadata": {},
   "outputs": [],
   "source": [
    "def toplam_mesafe(p):\n",
    "    p = np.array(p)\n",
    "    # Şehir çiftleri arasındaki fark vektörlerini hesapla\n",
    "    kaymalar = şehirler[p[1:]] - şehirler[p[:-1]]\n",
    "\n",
    "    # Her fark vektörünün uzunluğunu hesapla\n",
    "    mesafeler = np.linalg.norm(kaymalar, axis=1)\n",
    "    \n",
    "    # Turdaki her şehir için (son durak 0 hariç) asalşehirler içinde bulunanlara False, diğerlerine True yaz.\n",
    "    asalmaske = np.isin(p[:-1], asalşehirler, assume_unique=True, invert=True)\n",
    "    \n",
    "    # Uzun olması gereken adımlar için True, diğerleri için False yaz.\n",
    "    uzunadımlar = (np.arange(1,len(p)) % 10 == 0) & asalmaske\n",
    "    \n",
    "    # On adımdan biri asal şehirde başlamıyorsa mesafeyi %10 artır.\n",
    "    mesafeler[uzunadımlar] *= 1.1\n",
    "    \n",
    "    return mesafeler.sum()"
   ]
  },
  {
   "cell_type": "markdown",
   "metadata": {},
   "source": [
    "Gördüğünüz gibi bu kodda açıkça yazılmış hiç bir döngü yok; bütün döngüler alt seviyede hallediliyor. Bu da ciddi bir hızlanma sağlıyor."
   ]
  },
  {
   "cell_type": "code",
   "execution_count": 22,
   "metadata": {},
   "outputs": [
    {
     "name": "stdout",
     "output_type": "stream",
     "text": [
      "CPU times: user 138 ms, sys: 12.2 ms, total: 150 ms\n",
      "Wall time: 557 ms\n"
     ]
    },
    {
     "data": {
      "text/plain": [
       "446884407.52120817"
      ]
     },
     "execution_count": 22,
     "metadata": {},
     "output_type": "execute_result"
    }
   ],
   "source": [
    "%time toplam_mesafe(yol)"
   ]
  },
  {
   "cell_type": "code",
   "execution_count": 24,
   "metadata": {},
   "outputs": [
    {
     "name": "stdout",
     "output_type": "stream",
     "text": [
      "59.1 ms ± 213 µs per loop (mean ± std. dev. of 7 runs, 10 loops each)\n"
     ]
    }
   ],
   "source": [
    "%timeit toplam_mesafe(yol)"
   ]
  },
  {
   "cell_type": "markdown",
   "metadata": {},
   "source": [
    "Bu sefer performans artışı çok etkileyici; işlemi 60 milisaniyeye indirdik."
   ]
  },
  {
   "cell_type": "code",
   "execution_count": 25,
   "metadata": {},
   "outputs": [
    {
     "data": {
      "text/plain": [
       "Timer unit: 1e-06 s\n",
       "\n",
       "Total time: 0.070196 s\n",
       "File: <ipython-input-21-e1273d4bed33>\n",
       "Function: toplam_mesafe at line 1\n",
       "\n",
       "Line #      Hits         Time  Per Hit   % Time  Line Contents\n",
       "==============================================================\n",
       "     1                                           def toplam_mesafe(p):\n",
       "     2         1      19601.0  19601.0     27.9      p = np.array(p)\n",
       "     3                                               # Şehir çiftleri arasındaki fark vektörlerini hesapla\n",
       "     4         1      21841.0  21841.0     31.1      kaymalar = şehirler[p[1:]] - şehirler[p[:-1]]\n",
       "     5                                           \n",
       "     6                                               # Her fark vektörünün uzunluğunu hesapla\n",
       "     7         1      10137.0  10137.0     14.4      mesafeler = np.linalg.norm(kaymalar, axis=1)\n",
       "     8                                               \n",
       "     9                                               # Turdaki her şehir için (son durak 0 hariç) asalşehirler içinde bulunanlara False, diğerlerine True yaz.\n",
       "    10         1      14404.0  14404.0     20.5      asalmaske = np.isin(p[:-1], asalşehirler, assume_unique=True, invert=True)\n",
       "    11                                               \n",
       "    12                                               # Uzun olması gereken adımlar için True, diğerleri için False yaz.\n",
       "    13         1       2726.0   2726.0      3.9      uzunadımlar = (np.arange(1,len(p)) % 10 == 0) & asalmaske\n",
       "    14                                               \n",
       "    15                                               # On adımdan biri asal şehirde başlamıyorsa mesafeyi %10 artır.\n",
       "    16         1       1079.0   1079.0      1.5      mesafeler[uzunadımlar] *= 1.1\n",
       "    17                                               \n",
       "    18         1        408.0    408.0      0.6      return mesafeler.sum()"
      ]
     },
     "metadata": {},
     "output_type": "display_data"
    }
   ],
   "source": [
    "%lprun -f toplam_mesafe toplam_mesafe(yol)"
   ]
  },
  {
   "cell_type": "markdown",
   "metadata": {},
   "source": [
    "Profilden gördüğümüz gibi özellikle kısıtlayıcı bir darboğaz yok. NumPy içindeki hızlı vektör algoritmalarını kullanmak büyük avantaj sağladı.\n",
    "\n",
    "Bundan daha hızlı olmaz mı? Olur, ama ellerimizi makine yağına ve silikon tozuna bulamamız gerekecek. Bu fonksiyonu C ile yazacağız ve Python'dan çağıracağız."
   ]
  },
  {
   "cell_type": "markdown",
   "metadata": {},
   "source": [
    "# Beşinci deneme: Python C API'sini kullanmak"
   ]
  },
  {
   "cell_type": "markdown",
   "metadata": {},
   "source": [
    "Burada `toplam_mesafe()` fonksiyonunu Python ile değil C ile yazacağız, ama bu fonksiyonun Python içinde kullanılabilmesini sağlayacağız. Bir Python listesi (şehir numaraları) alacak, işleyecek ve sonucu geri verecek.\n",
    "\n",
    "[Python C API'si](https://docs.python.org/3/extending/index.html#), bazı kurallara riayet ederek bu işleri yapabileceğimiz bir arayüz sağlıyor bize. Bu geniş API'yi burada ayrıntılarıyla anlatmamız mümkün değil. Bazı örnek kullanımlar ve açıklamalar için [Tutorialspoint](https://www.tutorialspoint.com/python/python_further_extensions.htm) ve [Wikibooks](https://en.wikibooks.org/wiki/Python_Programming/Extending_with_C)'a bakabilirsiniz."
   ]
  },
  {
   "cell_type": "markdown",
   "metadata": {},
   "source": [
    "## Sabit verileri C dizileri olarak kaydet"
   ]
  },
  {
   "cell_type": "markdown",
   "metadata": {},
   "source": [
    "Kullandığımız şehir koordinatlarının ve asal sayılar listesinin hep aynı olduğuna dikkat edin. Bunları sabit veriler olarak C kaynak koduna eklersek daha fazla performans artışı sağlayabiliriz. Bu amaçla, önce `data.c` adıyla bir C kaynak dosyası hazırlayacağız. Bu dosyada asal şehirler ile her bir şehrin x ve y koordinatları birer C dizisi (array) olarak kaydedilmiş olacak. Bunu elle yapmak zor, o yüzden bu dosyayı yaratacak özel bir betik hazırlayacağız; aşağıdaki gibi.\n",
    "\n",
    "```\n",
    "# santa2c.py\n",
    "# CSV dosyasındaki verileri C array olarak içeren bir data.c dosyası yaratır.\n",
    "\n",
    "import numpy as np\n",
    "cities = np.loadtxt(\"data/cities.csv\", delimiter=\",\",skiprows=1, usecols=(1,2))\n",
    "\n",
    "from sympy import sieve\n",
    "primeids = sieve.primerange(0,197769)\n",
    "        \n",
    "with open(\"data.c\",\"w\") as f:\n",
    "    # Asal olan şehir numaralarını sıralı bir diziye yaz.\n",
    "    f.write(\"unsigned int asalsehirler[] = {\")\n",
    "    for p in primeids:\n",
    "        f.write( str(p)+\",\" )\n",
    "    f.write( \"};\\n\" )\n",
    "    \n",
    "    # Şehirlerin x koordinatlarını bir diziye yaz.\n",
    "    f.write( \"double x[]={\"+str(cities[0,0]) )\n",
    "    for x in cities[1:,0]:\n",
    "        f.write( \",\"+str(x) )\n",
    "    f.write( \"};\\n\" )\n",
    "\n",
    "    # Şehirlerin y koordinatlarını bir diziye yaz.\n",
    "    f.write( \"double y[]={\"+str(cities[0,1]) )\n",
    "    for y in cities[1:,1]:\n",
    "        f.write( \",\"+str(y) )\n",
    "    f.write( \"};\\n\" )\n",
    "```\n",
    "\n",
    "Bu programı terminalde şu şekilde çalıştırırız:\n",
    "\n",
    "    $ python santa2c.py\n",
    "ve bu işlemin sonucunda `data.c` dosyası yaratılmış olur. Şimdi Asıl işi yapan C kodunu nasıl yazacağımızı görelim."
   ]
  },
  {
   "cell_type": "markdown",
   "metadata": {},
   "source": [
    "## Toplam mesafe: C kodu\n",
    "Yazacağımız C programı, derlendikten sonra bir Python modülü olarak yüklenecek. Bu programın içinde asıl işi yapan `toplam_mesafe()` fonksiyonunun yanı sıra, bazı yardımcı fonksiyonlar, ve Python'a bu modülün nasıl kullanılacağını bildiren kodlar bulunacak.\n",
    "\n",
    "```\n",
    "// pysanta.c\n",
    "#include <Python.h>  // Python C API'si için\n",
    "#include <math.h>    // sqrt() için\n",
    "#include <stdlib.h>  // bsearch() için\n",
    "\n",
    "#define n_asal 17802\n",
    "\n",
    "// data.c içinde yazılı diziler:\n",
    "extern double x[];\n",
    "extern double y[];\n",
    "extern unsigned int asalsehirler[];\n",
    "```"
   ]
  },
  {
   "cell_type": "markdown",
   "metadata": {},
   "source": [
    "Yardımcı fonksiyonlarımızı yazalım: İki şehir arasındaki mesafeyi hesaplayan bir fonksiyon, ve ikili arama için kullanacağımız `bsearch()` fonksiyonu için gereken karşılaştırma fonksiyonu."
   ]
  },
  {
   "cell_type": "markdown",
   "metadata": {},
   "source": [
    "```\n",
    "inline double mesafe(long sehir1, long sehir2)\n",
    "{\n",
    "    double dx, dy;\n",
    "    dx = x[sehir2] - x[sehir1];\n",
    "    dy = y[sehir2] - y[sehir1];\n",
    "    return sqrt(dx*dx+dy*dy);\n",
    "}\n",
    "\n",
    "int compareints (const void * a, const void * b)\n",
    "{\n",
    "  return ( *(int*)a - *(int*)b );\n",
    "}\n",
    "```"
   ]
  },
  {
   "cell_type": "markdown",
   "metadata": {},
   "source": [
    "Python'dan çağıracağımız `toplam_mesafe()` fonksiyonunu biraz farklı bir şekilde yazmamız gerekiyor. Fonksiyonun giriş parametreleri ve döndürdüğü değer bir Python nesnesi olmalı. "
   ]
  },
  {
   "cell_type": "markdown",
   "metadata": {},
   "source": [
    "```\n",
    "static PyObject* toplam_mesafe(PyObject* self, PyObject* args)\n",
    "{\n",
    "    PyObject *yol;\n",
    "    long onceki, yeni;\n",
    "    int *item;\n",
    "    double m;\n",
    "    double toplam = 0;\n",
    "```"
   ]
  },
  {
   "cell_type": "markdown",
   "metadata": {},
   "source": [
    "Parametreleri toplamak için `PyArg_ParseTuple` ve benzeri fonksiyonlar [kullanışlı bir arayüz oluşturuyorlar](https://docs.python.org/3/c-api/arg.html). Burada parametre olarak tek bir liste alacağız ve `yol` değişkenine aktaracağız. Ardından, `PyList_Size()` ile bu listenin eleman sayısını alabiliriz, `PyList_GetItem()` ile belirli elemanlarına ulaşabiliriz. Ulaştığımız elemanı tamsayı değerine çevirmek için `PyLong_AsLong()` fonksiyonunu kullanırız (Python C API'de bütün tamsayılar `long` tipindedir)."
   ]
  },
  {
   "cell_type": "markdown",
   "metadata": {},
   "source": [
    "```\n",
    "    if (!PyArg_ParseTuple(args, \"O\", &yol))\n",
    "        return NULL;\n",
    "    \n",
    "    Py_ssize_t len = PyList_Size(yol);\n",
    "    onceki = PyLong_AsLong(PyList_GetItem(yol, 0));\n",
    "```    "
   ]
  },
  {
   "cell_type": "markdown",
   "metadata": {},
   "source": [
    "Şimdi yolun her adımındaki mesafeleri toplayalım. On adımda bir asallık şartını kontrol etmeyi unutmayalım."
   ]
  },
  {
   "cell_type": "markdown",
   "metadata": {},
   "source": [
    "```\n",
    "    for (int adim=1; adim<len; adim++) {\n",
    "\t\tyeni = PyLong_AsLong(PyList_GetItem(yol, adim));\n",
    "        m = mesafe(onceki, yeni);\n",
    "        if (adim%10==0) {\n",
    "            // İkili arama ile şehir sayısını asallar arasında ara.\n",
    "            item = (int*) bsearch (&onceki, asalsehirler, n_asal,\n",
    "                               sizeof (unsigned int), compareints);\n",
    "            // Asallar arasında bulunmadıysa mesafeyi %10 arttır.\n",
    "            if (item==NULL) m *= 1.1;\n",
    "        }\n",
    "        toplam += m;\n",
    "        onceki = yeni;\n",
    "\t}\n",
    "```"
   ]
  },
  {
   "cell_type": "markdown",
   "metadata": {},
   "source": [
    "Hesaplama döngümüz bittikten sonra sonuç değerini bir Python nesnesi haline getirerek döndürüyoruz."
   ]
  },
  {
   "cell_type": "markdown",
   "metadata": {},
   "source": [
    "```\n",
    "    return Py_BuildValue(\"f\", toplam);\n",
    "}  // toplam_mesafe sonu\n",
    "```"
   ]
  },
  {
   "cell_type": "markdown",
   "metadata": {},
   "source": [
    "Programın geri kalanı, bu modülle ilgili üst bilgiler içeren veri yapıları ve modülün ilk işlemleri için gereken hazırlık fonksiyonunun tanımından ibaret. Bunlarla ilgili ayrıntıya girmiyorum; daha fazla bilgiyi yukarıda belirttiğim kaynaklarda bulabilirsiniz."
   ]
  },
  {
   "cell_type": "markdown",
   "metadata": {},
   "source": [
    "```\n",
    "static PyMethodDef SantaMethods[] =\n",
    "{\n",
    "     {\"toplam_mesafe\", toplam_mesafe, METH_VARARGS, \"Belli bir turun katettiği toplam mesafeyi verir.\"},\n",
    "     {NULL, NULL, 0, NULL}\n",
    "};\n",
    "\n",
    "static struct PyModuleDef Santa_Module = {  \n",
    "    PyModuleDef_HEAD_INIT,\n",
    "    \"santa\",     // Python'un gordugu modul ismi.\n",
    "    \"Gezgin Santa Problemi modulu.\", // modul belgeleme dizesi\n",
    "    -1,\n",
    "    SantaMethods\n",
    "};\n",
    "\n",
    "PyMODINIT_FUNC PyInit_santa(void)\n",
    "{\n",
    "     return PyModule_Create(&Santa_Module);\n",
    "}\n",
    "```"
   ]
  },
  {
   "cell_type": "markdown",
   "metadata": {},
   "source": [
    "## Kodları derleyerek Python modülü yarat"
   ]
  },
  {
   "cell_type": "markdown",
   "metadata": {},
   "source": [
    "Derleme aşamasında C kodu ve Python API'si birleştirilerek bir *paylaşılan kütüphane* oluşturulur (Unix/Linux'da `.so` uzantılı, Windows'ta `.pyd` uzantılı). Bu işlemin ayrıntılarını [Python belgelerinde](https://docs.python.org/3/extending/building.html) bulabilirsiniz. Sisteminizde bir C derleyicisinin ve Python \"header\"larının bulunması gerekiyor. \n",
    "\n",
    "Derleme aşamasında gereken adımları otomatikleştirmek için `distutils` modülünü kullanmak tavsiye edilir. Bunun için önce aşağıdaki gibi bir `setup.py` programı hazırlarız:\n",
    "\n",
    "```\n",
    "from distutils.core import setup, Extension\n",
    "module = Extension('santa', sources = ['data.c','pysanta.c'])\n",
    "setup (name = 'santa',\n",
    "        version = '1.0',\n",
    "        description = 'Gezgin Santa Problemi',\n",
    "        ext_modules = [module])\n",
    "```\n",
    "\n",
    "Özetlersek, şu aşamada elimizde üç tane kaynak kodu dosyası bulunması gerekiyor: `setup.py`, `pysanta.c` ve `data.c` (ki bunu `santa2c.py` programıyla üretmiştik).\n",
    "\n",
    "Ardından modülü inşa etmek için terminalde şu komutu veririz:\n",
    "\n",
    "    $ python setup.py build_ext --inplace\n",
    "\n",
    "Bu işlemden sonra `santa` modülü derlenmiş bir ikili dosya olarak kullanmaya hazırdır. Şimdi Python'a dönerek alışıldık şekilde `import` ederek kullanabiliriz."
   ]
  },
  {
   "cell_type": "markdown",
   "metadata": {},
   "source": [
    "## Derlenmiş modülü Python'la kullan"
   ]
  },
  {
   "cell_type": "code",
   "execution_count": 26,
   "metadata": {},
   "outputs": [],
   "source": [
    "from santa import toplam_mesafe"
   ]
  },
  {
   "cell_type": "markdown",
   "metadata": {},
   "source": [
    "Bu yeni versiyonu kullanırken yukarıda kullandığımız `şehirler` ve `asalşehirler` listelerine ihtiyacımız kalmıyor, çünkü bu veriler artık `santa` kaynak kodunun içine gömülü.\n",
    "\n",
    "Fonksiyonumuzun yeni halinin hızını ölçelim:"
   ]
  },
  {
   "cell_type": "code",
   "execution_count": 27,
   "metadata": {},
   "outputs": [
    {
     "name": "stdout",
     "output_type": "stream",
     "text": [
      "CPU times: user 19.8 ms, sys: 8.02 ms, total: 27.8 ms\n",
      "Wall time: 27 ms\n"
     ]
    },
    {
     "data": {
      "text/plain": [
       "446884407.5212135"
      ]
     },
     "execution_count": 27,
     "metadata": {},
     "output_type": "execute_result"
    }
   ],
   "source": [
    "%time toplam_mesafe(list(range(197769))+[0])"
   ]
  },
  {
   "cell_type": "code",
   "execution_count": 28,
   "metadata": {},
   "outputs": [
    {
     "name": "stdout",
     "output_type": "stream",
     "text": [
      "16.7 ms ± 403 µs per loop (mean ± std. dev. of 7 runs, 10 loops each)\n"
     ]
    }
   ],
   "source": [
    "%timeit toplam_mesafe(list(range(197769))+[0])"
   ]
  },
  {
   "cell_type": "markdown",
   "metadata": {},
   "source": [
    "Önceki denemelere göre çok daha hızlıyız artık. İlk denememizde ortalama 6.8 saniye süren işlem, şimdi ortalama 16 milisaniye sürüyor; 400 kattan fazla bir hızlanma sağladık. Optimizasyona başlamak için bu kadarı yeterli olacaktır.\n",
    "\n",
    "Daha iyisini yapamaz mıyız? Mümkün, ama daha yüksek performans için paralel programlama teknikleri kullanmak gerekir. Toplam mesafeyi hesaplamak kolayca dağıtılabilecek bir problemdir. CPU'nuzun dört tane çekirdeği varsa yol listesini dört parçaya ayırabilir ve her bir parçanın uzunluğunu ayrı ayrı hesaplatabilirsiniz. Böyle bir algoritma ile `toplam_mesafe()` çalışma süresini teorik olarak 4-5 milisaniyeye indirmek mümkün olur. Bunu meraklısına alıştırma olarak bırakıyorum."
   ]
  }
 ],
 "metadata": {
  "kernelspec": {
   "display_name": "Python 3",
   "language": "python",
   "name": "python3"
  },
  "language_info": {
   "codemirror_mode": {
    "name": "ipython",
    "version": 3
   },
   "file_extension": ".py",
   "mimetype": "text/x-python",
   "name": "python",
   "nbconvert_exporter": "python",
   "pygments_lexer": "ipython3",
   "version": "3.6.5"
  },
  "toc": {
   "nav_menu": {},
   "number_sections": true,
   "sideBar": true,
   "skip_h1_title": false,
   "toc_cell": false,
   "toc_position": {},
   "toc_section_display": "block",
   "toc_window_display": false
  }
 },
 "nbformat": 4,
 "nbformat_minor": 2
}
