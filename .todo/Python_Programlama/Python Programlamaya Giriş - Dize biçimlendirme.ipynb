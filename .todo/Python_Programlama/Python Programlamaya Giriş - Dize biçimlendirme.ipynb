{
 "cells": [
  {
   "cell_type": "markdown",
   "metadata": {},
   "source": [
    "_Python Programlamaya Giriş_ dizimizin [bir önceki bölümünde](http://www.veridefteri.com/2018/02/17/python-programlamaya-giris-15-dize-metodlari/) dizelerle yapılabilecek işlemleri ve yaygın dize metodlarını özetledik. Bu yazıda dize metodlarından biri olan `format()` ile dize biçimlendirmeyi daha ayrıntılı işleyeceğiz. Dizinin bütün yazılarına erişmek için <a href=\"http://www.veridefteri.com/category/python-giris/\"><em>Python Programlamaya Giriş</em></a> kategorimize bakabilirsiniz. Bu dizideki yazılar ayrıca Jupyter defterleri halinde <a href=\"https://github.com/sibirbil/VeriDefteri/tree/master/Python_Programlama\">GitHub depomuzda</a> da mevcut.\n",
    "\n",
    "Birçok durumda bir değişkende barındırılan bir değeri uygun bir biçimde düzenleyerek ekrana basmamız gerekir. Bu düzenlemeler ve biçimlendirmeler örneğin şöyle olabilirler:\n",
    "* Bir kalıp dize içindeki boşlukları doldurmak, `İsim:...., Yaş:....` gibi.\n",
    "* Sayıları ondalıktan sonra sabit sayıda basamakla vermek: `9.340, -18.731` gibi.\n",
    "* Sayıları sıfırlarla doldurmak: `099.45, 001.12` gibi.\n",
    "* Tablo halinde basılan listeleri hizalı olarak, belli boşluklar ayırarak basmak.\n",
    "* Tablo içeriklerini sağa veya sola yaslamak, ortalamak.\n",
    "\n",
    "Bu tür düzenlemeler için Python'da kapsamlı bir mini-dil mevcut. Bu tür düzenlemeler, `format()` metoduyla beraber şu şekilde kullanılır:\n",
    "\n",
    "    \"<kalıp dizesi>\".format(<değerler>)\n",
    "\n",
    "Dize biçimlendirmenin bütün ayrıntıları için [Python belgelerine](https://docs.python.org/3/library/string.html#formatstrings) bakabilirsiniz.\n",
    "    \n",
    "Konumla yerleştirme ve isimle yerleştirme\n",
    "------------------------\n",
    "En basit kullanımda, `format()`'a verilen değerler, kalıp dizesinin içinde küme parantezleri (`{}`) ile bırakılan boşluklara sırayla yerleştirilir."
   ]
  },
  {
   "cell_type": "code",
   "execution_count": 1,
   "metadata": {},
   "outputs": [
    {
     "data": {
      "text/plain": [
       "'İsim: Kaan, Telefon: 5555, Boy: 1.8 m'"
      ]
     },
     "execution_count": 1,
     "metadata": {},
     "output_type": "execute_result"
    }
   ],
   "source": [
    "\"İsim: {}, Telefon: {}, Boy: {} m\".format(\"Kaan\", \"5555\", 1.80)"
   ]
  },
  {
   "cell_type": "markdown",
   "metadata": {},
   "source": [
    "Yukarıdaki örnekte birinci boşluğa birinci değer (`\"Kaan\"`), ikinci boşluğa ikinci değer (`\"5555\"`), üçüncü boşluğa da üçüncü değer (1.80) yerleştirildi. Bu sırayı değiştirmek için, küme parantezlerinin içine arzu ettiğimiz konum numaralarını koyabiliriz."
   ]
  },
  {
   "cell_type": "code",
   "execution_count": 2,
   "metadata": {},
   "outputs": [
    {
     "data": {
      "text/plain": [
       "'İsim: Kaan, Boy: 1.8 m, Telefon: 5555'"
      ]
     },
     "execution_count": 2,
     "metadata": {},
     "output_type": "execute_result"
    }
   ],
   "source": [
    "\"İsim: {0}, Boy: {2} m, Telefon: {1}\".format(\"Kaan\", \"5555\", 1.80)"
   ]
  },
  {
   "cell_type": "markdown",
   "metadata": {},
   "source": [
    "Başka bir yol da, yer tutuculara isim vermek ve `format()`'a bu isimlerle parametreler vermektir."
   ]
  },
  {
   "cell_type": "code",
   "execution_count": 3,
   "metadata": {},
   "outputs": [
    {
     "data": {
      "text/plain": [
       "'Alıcı Adı: Fatma, Yaşı: 32, Şehir: Tekirdağ'"
      ]
     },
     "execution_count": 3,
     "metadata": {},
     "output_type": "execute_result"
    }
   ],
   "source": [
    "\"Alıcı Adı: {isim}, Yaşı: {yaş}, Şehir: {şehir}\".format(yaş=32, isim=\"Fatma\", şehir=\"Tekirdağ\")"
   ]
  },
  {
   "cell_type": "markdown",
   "metadata": {},
   "source": [
    "Örneklerden gördüğümüz gibi, `format()` fonksiyonu kalıp dizesindeki boşluklarla değerleri eşleştirirken, fonksiyonlardaki [parametre eşleştirme](http://www.veridefteri.com/2018/01/10/python-programlamaya-giris-fonksiyon-parametreleri/) kurallarını kullanıyor. İlk gördüğümüz örnek _konumla eşleştirmeye_ denk iken, son örneğimiz _isimle eşleştirme_ yapıyor.\n",
    "\n",
    "Bu sebepten, fonksiyon çağrılarındaki _parametre çözme_ kuralları da aynen uygulanabilir. Mesela:"
   ]
  },
  {
   "cell_type": "code",
   "execution_count": 4,
   "metadata": {},
   "outputs": [
    {
     "data": {
      "text/plain": [
       "'İsim: Kaan, Telefon: 5555, Boy: 1.8 m'"
      ]
     },
     "execution_count": 4,
     "metadata": {},
     "output_type": "execute_result"
    }
   ],
   "source": [
    "p = (\"Kaan\",\"5555\",1.80)\n",
    "\"İsim: {}, Telefon: {}, Boy: {} m\".format(*p)"
   ]
  },
  {
   "cell_type": "markdown",
   "metadata": {},
   "source": [
    "Biraz daha gelişkin bir örnek olarak, önceden hazırlanmış bir veri listesi üzerinden döngü çalıştıralım."
   ]
  },
  {
   "cell_type": "code",
   "execution_count": 5,
   "metadata": {},
   "outputs": [
    {
     "name": "stdout",
     "output_type": "stream",
     "text": [
      "İsim: Kaan, Boy: 1.8 m, Telefon: 5555\n",
      "İsim: Meral, Boy: 1.5 m, Telefon: 5628\n",
      "İsim: Ziya, Boy: 1.4 m, Telefon: 9879\n"
     ]
    }
   ],
   "source": [
    "liste = [\n",
    "    (\"Kaan\",\"5555\",1.80), \n",
    "    (\"Meral\",\"5628\",1.50),\n",
    "    (\"Ziya\",\"9879\",1.40)]\n",
    "for p in liste:\n",
    "    print(\"İsim: {0}, Boy: {2} m, Telefon: {1}\".format(*p))"
   ]
  },
  {
   "cell_type": "markdown",
   "metadata": {},
   "source": [
    "Verileri çokuzlar olarak değil de sözlük olarak saklıyor olabiliriz. O zaman sözlüklerde kullandığımız parametre çözme yöntemi geçerli olur."
   ]
  },
  {
   "cell_type": "code",
   "execution_count": 6,
   "metadata": {},
   "outputs": [
    {
     "data": {
      "text/plain": [
       "'Alıcı Adı: Filiz, Yaşı: 55, Şehir: İstanbul'"
      ]
     },
     "execution_count": 6,
     "metadata": {},
     "output_type": "execute_result"
    }
   ],
   "source": [
    "D = dict(isim=\"Filiz\", yaş=55, şehir=\"İstanbul\")\n",
    "\"Alıcı Adı: {isim}, Yaşı: {yaş}, Şehir: {şehir}\".format(**D)"
   ]
  },
  {
   "cell_type": "code",
   "execution_count": 7,
   "metadata": {},
   "outputs": [
    {
     "name": "stdout",
     "output_type": "stream",
     "text": [
      "Alıcı Adı: Filiz, Yaşı: 55, Şehir: İstanbul\n",
      "Alıcı Adı: Meral, Yaşı: 40, Şehir: Ankara\n",
      "Alıcı Adı: Ziya, Yaşı: 10, Şehir: Bursa\n"
     ]
    }
   ],
   "source": [
    "liste = [\n",
    "    {\"isim\": \"Filiz\", \"yaş\":\"55\", \"şehir\":\"İstanbul\"}, \n",
    "    {\"isim\": \"Meral\", \"yaş\":\"40\", \"şehir\":\"Ankara\"},\n",
    "    {\"isim\": \"Ziya\",  \"yaş\":\"10\", \"şehir\":\"Bursa\"}\n",
    "]\n",
    "for D in liste:\n",
    "    print(\"Alıcı Adı: {isim}, Yaşı: {yaş}, Şehir: {şehir}\".format(**D))"
   ]
  },
  {
   "cell_type": "markdown",
   "metadata": {},
   "source": [
    "`format()`'a verilen parametre bir liste veya sözlük ise, kalıp dizesinde indeksleme uygulanabilir."
   ]
  },
  {
   "cell_type": "code",
   "execution_count": 8,
   "metadata": {},
   "outputs": [
    {
     "data": {
      "text/plain": [
       "'İlk eleman: 3, son eleman: 9'"
      ]
     },
     "execution_count": 8,
     "metadata": {},
     "output_type": "execute_result"
    }
   ],
   "source": [
    "listem = [3,6,7,9]\n",
    "\"İlk eleman: {0[0]}, son eleman: {0[3]}\".format(listem)"
   ]
  },
  {
   "cell_type": "code",
   "execution_count": 9,
   "metadata": {},
   "outputs": [
    {
     "data": {
      "text/plain": [
       "'İsim: Kaan, Tel: 5555, Boy: 1.8'"
      ]
     },
     "execution_count": 9,
     "metadata": {},
     "output_type": "execute_result"
    }
   ],
   "source": [
    "kayıt = {\"isim\":\"Kaan\", \"boy\":1.80, \"telefon\":\"5555\"}\n",
    "\"İsim: {D[isim]}, Tel: {D[telefon]}, Boy: {D[boy]}\".format(D=kayıt)"
   ]
  },
  {
   "cell_type": "markdown",
   "metadata": {},
   "source": [
    "Yana yaslama ve ortalama\n",
    "-------------------------\n",
    "Dizeleri biçimlendirirken, alt alta olan dizelerin belli bir hizada olmasını sağlamak isteyebiliriz. Bunun için, dizenin basılacağı yerde kaç karakterlik alan ayrılacağını belirlememiz, sağa veya sola yaslamamız, veya ortalamamız mümkündür.\n",
    "\n",
    "Önce hizalama yapılmayan bir örnek görelim:"
   ]
  },
  {
   "cell_type": "code",
   "execution_count": 10,
   "metadata": {},
   "outputs": [
    {
     "name": "stdout",
     "output_type": "stream",
     "text": [
      "Alıcı Adı: Ziya, Yaşı: 9, Şehir: İstanbul\n",
      "Alıcı Adı: Meral, Yaşı: 32, Şehir: Ankara\n",
      "Alıcı Adı: Hüsamettin, Yaşı: 45, Şehir: Van\n",
      "Alıcı Adı: Zebercet, Yaşı: 28, Şehir: Diyarbakır\n"
     ]
    }
   ],
   "source": [
    "isimler = [\"Ziya\", \"Meral\", \"Hüsamettin\", \"Zebercet\"]\n",
    "yaşlar = [9, 32, 45, 28]\n",
    "şehirler = [\"İstanbul\", \"Ankara\", \"Van\", \"Diyarbakır\"]\n",
    "\n",
    "for i, y, ş in zip(isimler, yaşlar, şehirler):\n",
    "    print(\"Alıcı Adı: {}, Yaşı: {}, Şehir: {}\".format(i, y, ş))"
   ]
  },
  {
   "cell_type": "markdown",
   "metadata": {},
   "source": [
    "Kalıp dizesinde yer tutucuları (mesela) `{:10}` biçiminde yazmakla 10 karakter genişlikte bir alan ayırmış oluruz. Aksi belirtilmedikçe dizeler sola, sayılar ise sağa yaslanır."
   ]
  },
  {
   "cell_type": "code",
   "execution_count": 11,
   "metadata": {},
   "outputs": [
    {
     "name": "stdout",
     "output_type": "stream",
     "text": [
      "Alıcı Adı: Ziya        Yaşı:   9 Şehir: İstanbul  \n",
      "Alıcı Adı: Meral       Yaşı:  32 Şehir: Ankara    \n",
      "Alıcı Adı: Hüsamettin  Yaşı:  45 Şehir: Van       \n",
      "Alıcı Adı: Zebercet    Yaşı:  28 Şehir: Diyarbakır\n"
     ]
    }
   ],
   "source": [
    "for i, y, ş in zip(isimler, yaşlar, şehirler):\n",
    "    print(\"Alıcı Adı: {:11} Yaşı: {:3} Şehir: {:10}\".format(i, y, ş))"
   ]
  },
  {
   "cell_type": "markdown",
   "metadata": {},
   "source": [
    "Sola yaslanmış olarak basmak için `{:<10}`, sağa yaslanmış olarak basmak için `{:>10}`, ortalanmış olarak basmak içinse `{:^10}` yazımı kullanırız."
   ]
  },
  {
   "cell_type": "code",
   "execution_count": 12,
   "metadata": {},
   "outputs": [
    {
     "name": "stdout",
     "output_type": "stream",
     "text": [
      "Alıcı Adı:        Ziya Yaşı: 9   Şehir:  İstanbul \n",
      "Alıcı Adı:       Meral Yaşı: 32  Şehir:   Ankara  \n",
      "Alıcı Adı:  Hüsamettin Yaşı: 45  Şehir:    Van    \n",
      "Alıcı Adı:    Zebercet Yaşı: 28  Şehir: Diyarbakır\n"
     ]
    }
   ],
   "source": [
    "for i, y, ş in zip(isimler, yaşlar, şehirler):\n",
    "    print(\"Alıcı Adı: {:>11} Yaşı: {:<3} Şehir: {:^10}\".format(i, y, ş))"
   ]
  },
  {
   "cell_type": "markdown",
   "metadata": {},
   "source": [
    "Boş bırakılan yerleri bir karakterle doldurmak istiyorsak, bu karakteri `:` işaretinden hemen sonra koyarız. Mesela, `*` işaretiyle doldurmak için:"
   ]
  },
  {
   "cell_type": "code",
   "execution_count": 13,
   "metadata": {},
   "outputs": [
    {
     "name": "stdout",
     "output_type": "stream",
     "text": [
      "*******Ziya\n",
      "******Meral\n",
      "*Hüsamettin\n",
      "***Zebercet\n"
     ]
    }
   ],
   "source": [
    "for i in isimler:\n",
    "    print(\"{:*>11}\".format(i))"
   ]
  },
  {
   "cell_type": "markdown",
   "metadata": {},
   "source": [
    "Yer tutucuları indeksle veya isimle eşleştirmek istediğimizde, iki nokta üstüste işaretinden önce indeksi veya ismi yazarız; `{0:10}` veya `{isim:10}` gibi."
   ]
  },
  {
   "cell_type": "code",
   "execution_count": 14,
   "metadata": {},
   "outputs": [
    {
     "name": "stdout",
     "output_type": "stream",
     "text": [
      "  9 yaşındaki Ziya        isimli alıcı İstanbul   şehrinde oturuyor.\n",
      " 32 yaşındaki Meral       isimli alıcı Ankara     şehrinde oturuyor.\n",
      " 45 yaşındaki Hüsamettin  isimli alıcı Van        şehrinde oturuyor.\n",
      " 28 yaşındaki Zebercet    isimli alıcı Diyarbakır şehrinde oturuyor.\n"
     ]
    }
   ],
   "source": [
    "for i, y, ş in zip(isimler, yaşlar, şehirler):\n",
    "    print(\"{1:3} yaşındaki {0:11} isimli alıcı {2:10} şehrinde oturuyor.\".format(i, y, ş))"
   ]
  },
  {
   "cell_type": "code",
   "execution_count": 15,
   "metadata": {},
   "outputs": [
    {
     "name": "stdout",
     "output_type": "stream",
     "text": [
      "  9 yaşındaki Ziya        isimli alıcı İstanbul   şehrinde oturuyor.\n",
      " 32 yaşındaki Meral       isimli alıcı Ankara     şehrinde oturuyor.\n",
      " 45 yaşındaki Hüsamettin  isimli alıcı Van        şehrinde oturuyor.\n",
      " 28 yaşındaki Zebercet    isimli alıcı Diyarbakır şehrinde oturuyor.\n"
     ]
    }
   ],
   "source": [
    "for i, y, ş in zip(isimler, yaşlar, şehirler):\n",
    "    print(\"{yaş:3} yaşındaki {isim:11} isimli alıcı {şehir:10} şehrinde oturuyor.\".format(isim=i, yaş=y, şehir=ş))"
   ]
  },
  {
   "cell_type": "markdown",
   "metadata": {},
   "source": [
    "Genel olarak, kalıp dizesindeki yer tutucunun içinde `:` işaretinin solunda eşleştirme bilgisi (indeks veya isim) yer alır; sağında ise o değerin nasıl biçimlendirileceğinin bilgisi bulunur."
   ]
  },
  {
   "cell_type": "markdown",
   "metadata": {},
   "source": [
    "Sayı biçimlendirme\n",
    "------------------\n",
    "Yer tutucu içine bir sayı koyacağımız zaman, tamsayılarda `{:d}`, ondalıklı sayılarda ise `{:f}` kodlarını kullanırız."
   ]
  },
  {
   "cell_type": "code",
   "execution_count": 16,
   "metadata": {},
   "outputs": [
    {
     "data": {
      "text/plain": [
       "'Yaş: 42, Boy: 1.760000'"
      ]
     },
     "execution_count": 16,
     "metadata": {},
     "output_type": "execute_result"
    }
   ],
   "source": [
    "\"Yaş: {:d}, Boy: {:f}\".format(42, 1.76) "
   ]
  },
  {
   "cell_type": "markdown",
   "metadata": {},
   "source": [
    "Belli miktarda, söz gelişi 5 karakterlik yer ayırmak için `{:5d}` yazımını kullanabiliriz. Ondalıklı sayılar için `{:5.2f}` yazımı, noktadan sonra 2 basamak olmak üzere en az 5 karakterlik yer ayrılmasını sağlar (ondalık noktası dahil). Türkçeye uygun olarak virgüllerle ayırma yöntemi için bir sonraki bölüme bakın."
   ]
  },
  {
   "cell_type": "code",
   "execution_count": 17,
   "metadata": {},
   "outputs": [
    {
     "data": {
      "text/plain": [
       "'Yaş:    42, Boy: 1.760'"
      ]
     },
     "execution_count": 17,
     "metadata": {},
     "output_type": "execute_result"
    }
   ],
   "source": [
    "\"Yaş: {:5d}, Boy: {:5.3f}\".format(42, 1.76) "
   ]
  },
  {
   "cell_type": "markdown",
   "metadata": {},
   "source": [
    "Ayırdığımız alanda, sayının değerini değiştirmeden boşlukların sıfırlarla doldurulmasını istiyorsak `{:05d}` veya `{05.3f}` gibi yazımlar kullanırız."
   ]
  },
  {
   "cell_type": "code",
   "execution_count": 18,
   "metadata": {},
   "outputs": [
    {
     "data": {
      "text/plain": [
       "'Yaş: 00042, Boy: 01.760'"
      ]
     },
     "execution_count": 18,
     "metadata": {},
     "output_type": "execute_result"
    }
   ],
   "source": [
    "\"Yaş: {:05d}, Boy: {:06.3f}\".format(42, 1.76) "
   ]
  },
  {
   "cell_type": "markdown",
   "metadata": {},
   "source": [
    "Negatif sayıların başına her zaman eksi gelir; pozitif sayıların da her zaman artı ile başlaması için `{:+d}` yazımını kullanırız."
   ]
  },
  {
   "cell_type": "code",
   "execution_count": 19,
   "metadata": {},
   "outputs": [
    {
     "data": {
      "text/plain": [
       "'+42, -45'"
      ]
     },
     "execution_count": 19,
     "metadata": {},
     "output_type": "execute_result"
    }
   ],
   "source": [
    "\"{:+d}, {:+d}\".format(42, -45)"
   ]
  },
  {
   "cell_type": "markdown",
   "metadata": {},
   "source": [
    "Bir sayıyı ikili, sekizli, onaltılı tabanda göstermek için sırasıyla `b`, `o`, `x` kullanırız."
   ]
  },
  {
   "cell_type": "code",
   "execution_count": 20,
   "metadata": {},
   "outputs": [
    {
     "name": "stdout",
     "output_type": "stream",
     "text": [
      "Onluk tabanda 42\n",
      "İkili tabanda 101010\n",
      "Sekizli tabanda 52\n",
      "Onaltılı tabanda 2a\n"
     ]
    }
   ],
   "source": [
    "print(\"Onluk tabanda {:d}\\nİkili tabanda {:b}\\nSekizli tabanda {:o}\\nOnaltılı tabanda {:x}\".format(42,42,42,42))"
   ]
  },
  {
   "cell_type": "markdown",
   "metadata": {},
   "source": [
    "Bu dönüşümleri yapınca sayının tabanının da belli olmasını istersek `#b`, `#o`, `#x` kullanırız. Bu kodlar sayının başına sırasıyla `\"0b\"`, `\"0o\"`, `\"0x\"` konmasını sağlar."
   ]
  },
  {
   "cell_type": "code",
   "execution_count": 21,
   "metadata": {},
   "outputs": [
    {
     "name": "stdout",
     "output_type": "stream",
     "text": [
      "Onluk tabanda 42\n",
      "İkili tabanda 0b101010\n",
      "Sekizli tabanda 0o52\n",
      "Onaltılı tabanda 0x2a\n"
     ]
    }
   ],
   "source": [
    "print(\"Onluk tabanda {:d}\\nİkili tabanda {:#b}\\nSekizli tabanda {:#o}\\nOnaltılı tabanda {:#x}\".format(42,42,42,42))"
   ]
  },
  {
   "cell_type": "markdown",
   "metadata": {},
   "source": [
    "Büyük sayıları virgülle üçer basamaklı ayırmak için `{:,}` kullanırız (Türkçeye uygun olarak noktalarla ayırmak için sonraki bölüme bakın)."
   ]
  },
  {
   "cell_type": "code",
   "execution_count": 22,
   "metadata": {},
   "outputs": [
    {
     "data": {
      "text/plain": [
       "'123,456,789'"
      ]
     },
     "execution_count": 22,
     "metadata": {},
     "output_type": "execute_result"
    }
   ],
   "source": [
    "\"{:,}\".format(123456789)"
   ]
  },
  {
   "cell_type": "markdown",
   "metadata": {},
   "source": [
    "Ondalıklı sayıları göstermek için şu kodlar kullanılabilir:\n",
    "* `{:f}` veya `{:F}` (fixed): Ondalıktan sonra sabit sayıda basamak (varsayılan 6).\n",
    "* `{:e}` veya `{:E}` (exponential): Sayıyı bilimsel notasyonda gösterir; üsteli `\"e\"` veya `\"E\"` harfinden sonra koyar.\n",
    "* `{:g}` veya `{:G}` (genel): Yerine göre `f` veya `e`. Belirli bir basamak sayısını (varsayılan 6) verecek şekilde yuvarlar; sayının büyüklüğüne göre `f` veya `e` biçimine getirir.\n",
    "* `{:%}`: Sayıyı 100 ile çarpar ve sonuna yüzde işareti koyar."
   ]
  },
  {
   "cell_type": "code",
   "execution_count": 23,
   "metadata": {},
   "outputs": [
    {
     "name": "stdout",
     "output_type": "stream",
     "text": [
      "Sabit biçim: 12345.678900, 12345.678900\n",
      "Üstel biçim: 1.234568e+04, 1.234568E+04\n",
      "Genel biçim: 12345.7, 12345.7\n"
     ]
    }
   ],
   "source": [
    "x = 12345.6789\n",
    "print(\"Sabit biçim: {:f}, {:F}\".format(x,x))\n",
    "print(\"Üstel biçim: {:e}, {:E}\".format(x,x))\n",
    "print(\"Genel biçim: {:g}, {:G}\".format(x,x))"
   ]
  },
  {
   "cell_type": "code",
   "execution_count": 24,
   "metadata": {},
   "outputs": [
    {
     "name": "stdout",
     "output_type": "stream",
     "text": [
      "Sabit biçim: 12345.68, 12345.6789\n",
      "Üstel biçim: 1.235e+04, 1.2346E+04\n",
      "Genel biçim: 12345.6789, 1.2E+04\n"
     ]
    }
   ],
   "source": [
    "x = 12345.6789\n",
    "print(\"Sabit biçim: {:4.2f}, {:4.4F}\".format(x,x))\n",
    "print(\"Üstel biçim: {:1.3e}, {:1.4E}\".format(x,x))\n",
    "print(\"Genel biçim: {:.10g}, {:.2G}\".format(x,x))"
   ]
  },
  {
   "cell_type": "markdown",
   "metadata": {},
   "source": [
    "Yüzdeleri gösterirken `%` kodunu kullanabiliriz."
   ]
  },
  {
   "cell_type": "code",
   "execution_count": 25,
   "metadata": {},
   "outputs": [
    {
     "data": {
      "text/plain": [
       "'Başarı oranı 23.27%'"
      ]
     },
     "execution_count": 25,
     "metadata": {},
     "output_type": "execute_result"
    }
   ],
   "source": [
    "geçen = 57\n",
    "başvuran = 245\n",
    "\"Başarı oranı {:.2%}\".format(geçen/başvuran)"
   ]
  },
  {
   "cell_type": "markdown",
   "metadata": {},
   "source": [
    "Sayıları Türk standartlarında biçimlendirmek\n",
    "-----------------\n",
    "Yukarıdaki örneklerde, Amerikan standardına uygun olarak, sayı grupları virgülle ayrıldı ve ondalık için nokta kullanıldı. Oysa Türkiye'deki sayı yazma standartlarında sayı grupları noktayla ayrılır, ondalık için ise virgül kullanılır. Türk standartlarına uygun biçimlendirme yapmak için biraz dolaylı bir yoldan gidip, yerelleştirme işlemleri için kullanılan `locale` kütüphanesini kullanmamız gerekir."
   ]
  },
  {
   "cell_type": "code",
   "execution_count": 26,
   "metadata": {
    "collapsed": true
   },
   "outputs": [
    {
     "data": {
      "text/plain": [
       "'tr_TR.UTF-8'"
      ]
     },
     "execution_count": 26,
     "metadata": {},
     "output_type": "execute_result"
    }
   ],
   "source": [
    "import locale\n",
    "loc = locale.getlocale()\n",
    "locale.setlocale(locale.LC_ALL,\"tr_TR.UTF-8\")"
   ]
  },
  {
   "cell_type": "markdown",
   "metadata": {},
   "source": [
    "Yerelleştirme ayarlarını yapsak da, bu ayarlar `str.format` metodunu etkilemeyecektir. Bunun yerine, `locale.format` fonksiyonunu kullanmalıyız. Bu fonksiyonun dize biçimleme sintaksı [eski usül](https://docs.python.org/2/library/stdtypes.html#string-formatting) olarak bilinir. Basit bir örnek olarak:"
   ]
  },
  {
   "cell_type": "code",
   "execution_count": 27,
   "metadata": {},
   "outputs": [
    {
     "data": {
      "text/plain": [
       "'1.234.567,890000'"
      ]
     },
     "execution_count": 27,
     "metadata": {},
     "output_type": "execute_result"
    }
   ],
   "source": [
    "locale.format(\"%f\", 1234567.89, grouping=True)"
   ]
  },
  {
   "cell_type": "markdown",
   "metadata": {},
   "source": [
    "Şimdi de virgülden sonra 3 hane olmak üzere toplam 13 karakterlik yer ayırarak biçimlendirelim."
   ]
  },
  {
   "cell_type": "code",
   "execution_count": 28,
   "metadata": {},
   "outputs": [
    {
     "data": {
      "text/plain": [
       "'001.234.567,890'"
      ]
     },
     "execution_count": 28,
     "metadata": {},
     "output_type": "execute_result"
    }
   ],
   "source": [
    "locale.format(\"%013.3f\", 1234567.89, grouping=True)"
   ]
  },
  {
   "cell_type": "markdown",
   "metadata": {},
   "source": [
    "`locale.format()` sadece bir tek biçim dizesi alır (`%f` veya `%d` gibi). Daha geniş bir kalıp kullanmak için `locale.format_string()` fonksiyonunu kullanmamız gerekir."
   ]
  },
  {
   "cell_type": "code",
   "execution_count": 29,
   "metadata": {},
   "outputs": [
    {
     "name": "stdout",
     "output_type": "stream",
     "text": [
      "İsim: Ziya         Boy:   1,42 Maaş:     100,73\n",
      "İsim: Meral        Boy:   1,50 Maaş:   5.555,62\n",
      "İsim: Hüsamettin   Boy:   1,74 Maaş:  12.446,43\n",
      "İsim: Zebercet     Boy:   1,81 Maaş:   2.300,12\n"
     ]
    }
   ],
   "source": [
    "isimler = [\"Ziya\", \"Meral\", \"Hüsamettin\", \"Zebercet\"]\n",
    "boylar = [1.42, 1.50, 1.74, 1.81]\n",
    "maaşlar = [100.73, 5555.62, 12446.43, 2300.12]\n",
    "\n",
    "for i, b, m in zip(isimler, boylar, maaşlar):\n",
    "    print(locale.format_string(\"İsim: %-12s Boy: %6.2f Maaş: %10.2f\", (i,b,m), grouping=True))"
   ]
  },
  {
   "cell_type": "markdown",
   "metadata": {},
   "source": [
    "Ne yazık ki `locale.format_string()` sadece daha sınırlı olan eski usül biçimlendirme sintaksıyla çalışıyor. Yine de, ileri Python sürümlerinde yeni usule geçilmesi muhtemeldir.\n",
    "\n",
    "Sayıların biçimlerini yerelleştirmeyi, son kullanıma yönelik raporlar üretme amacıyla sınırlı tutmanız iyi olur. Bu amaç dışında, mesela veriler bir dosyaya yazıp sonradan okumayı hedefliyorsanız yerel ayarları değil varsayılan ayarları (Amerikan standardını) kullanın. Dosyadaki verilerde, söz gelişi, ondalıklar virgülle ayrılmışsa, sonradan veri dosyasını okumakta sorunlar yaşayabilirsiniz. Yazılım paketlerindeki otomatik araçların çoğu Amerikan tarzı sayı yazımını temel alır. Bunun etrafından dolaşmak mümkündür ama hem dolambaçlıdır hem de sorunlara gebedir."
   ]
  },
  {
   "cell_type": "markdown",
   "metadata": {},
   "source": [
    "Nesne içi değişkenleri kullanmak\n",
    "---------\n",
    "Nesnelerin iç değişkenleri (\"attributes\") kalıp dizede kullanılabilir. Örneğin, karmaşık sayıların gerçek kısımları `real`, sanal kısımları `imag` isimli iç değişkenlerde saklanır."
   ]
  },
  {
   "cell_type": "code",
   "execution_count": 30,
   "metadata": {},
   "outputs": [
    {
     "data": {
      "text/plain": [
       "(3.0, 2.0)"
      ]
     },
     "execution_count": 30,
     "metadata": {},
     "output_type": "execute_result"
    }
   ],
   "source": [
    "z = 3+2j\n",
    "z.real, z.imag"
   ]
  },
  {
   "cell_type": "markdown",
   "metadata": {},
   "source": [
    "Dize biçimlendirmede bu iç değişkenlerin isimlerini doğrudan kullanabiliriz. "
   ]
  },
  {
   "cell_type": "code",
   "execution_count": 31,
   "metadata": {},
   "outputs": [
    {
     "data": {
      "text/plain": [
       "'Gerçek kısım 3.0, sanal kısım 2.0'"
      ]
     },
     "execution_count": 31,
     "metadata": {},
     "output_type": "execute_result"
    }
   ],
   "source": [
    "\"Gerçek kısım {0.real}, sanal kısım {0.imag}\".format(3+2j)"
   ]
  }
 ],
 "metadata": {
  "kernelspec": {
   "display_name": "Python 3",
   "language": "python",
   "name": "python3"
  },
  "language_info": {
   "codemirror_mode": {
    "name": "ipython",
    "version": 3
   },
   "file_extension": ".py",
   "mimetype": "text/x-python",
   "name": "python",
   "nbconvert_exporter": "python",
   "pygments_lexer": "ipython3",
   "version": "3.6.5"
  }
 },
 "nbformat": 4,
 "nbformat_minor": 2
}
