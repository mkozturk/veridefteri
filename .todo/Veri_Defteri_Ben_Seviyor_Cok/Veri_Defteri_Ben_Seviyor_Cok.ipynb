{
  "cells": [
    {
      "cell_type": "raw",
      "id": "186a90da",
      "metadata": {},
      "source": [
        "---\n",
        "title: '\"Veri Defteri Ben Seviyor Çok\"'\n",
        "author: İlker Birbil\n",
        "date: 2017-12-13\n",
        "---"
      ]
    },
    {
      "cell_type": "markdown",
      "id": "a4e47864",
      "metadata": {},
      "source": [
        "Yağmurlu bir pazar sabahında evdeyim. Aslında okumam gereken birkaç makale var. Gel gör ki canım onlara bakmak istemiyor. Açıkçası **Veri Defteri**'ne bir yazı hazırlamak çok daha cazip. Hele eğlenceli bir konu bulursam güle-oynaya yazarım diyorum.\n",
        "\n",
        "İnternette dolaşırken eğlenceli konunun âlâsını buldum. Bir grup arkadaş *Yıldız Savaşları* filmlerinin verisini internete koymuş. Resmen amme hizmeti. Hatta bir de [uygulama ara yüzü](https://swapi.co/) (API: *application programming interface*) hazırlamışlar. Yani  internet sorguları ile veriyi çekmek mümkün. Üstelik bu servisi kullanmak için doğrulama (*authentication*) kaydına da ihtiyaç yok. Gerçekten tam oynamalık bir sayfa olmuş.\n",
        "\n",
        "Ara yüz için detaylı açıklamayı [şu sayfada](https://swapi.co/documentation) bulabilirsiniz. Hızlıca özetlemem gerekirse, bu servisten tüm *Yıldız Savaşları* filmlerinde yer alan karakterlerin, gezegenlerin, türlerin, uzay gemilerinin ve araçların bilgilerine ulaşabiliyorsunuz. Servis veriyi, kullanması oldukça kolay olan JSON formatında veriyor. Bu noktayı biraz açayım. JSON formatında bir veri, iç içe geçmiş süslü parantezlerin yardımıyla bir ağaç yapısında saklanıyor. Örneğin bizim sayfanın künyesini şu yapıda verilen alanlarda tutmak istediğimizi düşünelim:\n",
        "\n",
        "* İsim\n",
        "* Tarih\n",
        "* Konular\n",
        " - Teknik\n",
        " - Uygulama\n",
        "\n",
        "Sıraladığım bu alan isimlerine anahtar (*key*) deniyor. JSON formatında veri *anahtar:değer* ikilileri şeklinde tutuluyor. İç içe geçmiş anahtarların süslü parantezler ile ayrılmasıyla da alt alanlara geçiliyor. Gördüğünüz gibi JSON formatı Python'daki sözlük (*dictionary*) yapısıyla bire bir örtüşüyor. Sözlükler konusunda [Kaan'ın yazısına](http://www.veridefteri.com/2017/12/11/python-programlamaya-giris-sayilar-aritmetik-temel-veri-yapilari/) bir göz atabilirsiniz. JSON formatındaki bir veriyi sözlük değişkenine dönüştürmek içinse farklı paketlerin kendi fonksiyonları mevcut. Bu formatı ve dönüştürme işlemini anlatmak için ufak bir örnek açıklayıcı olur. Örnekteki basit JSON verisini işlerken <span style=\"color:darkgreen; font-family:Courier\">json</span> paketini kullanacağım.\n"
      ]
    },
    {
      "cell_type": "code",
      "execution_count": null,
      "id": "2015f30a",
      "metadata": {
        "vscode": {
          "languageId": "python"
        }
      },
      "outputs": [],
      "source": [
        "import json\n",
        "\n",
        "# JSON formatındaki veri\n",
        "json_metin = '''\n",
        "{\n",
        "    \"isim\": \"Veri\",\n",
        "    \"soyad\": \"Defteri\",\n",
        "    \"tarih\": 2017,\n",
        "    \"konular\": {\n",
        "        \"teknik\": [\"yapay zeka\", \"optimizasyon\"],\n",
        "        \"uygulama\": [\"metin analizi\", \"hesaplama\"]\n",
        "        }\n",
        "}\n",
        "'''\n",
        "\n",
        "# Sözlüğe çevirelim\n",
        "sozluk = json.loads(json_metin)\n",
        "print('Dönüştürdükten sonra değişkenin tipi:', type(sozluk))\n",
        "\n",
        "# İlk alan\n",
        "print(sozluk[\"tarih\"])\n",
        "# Alt alan\n",
        "print(sozluk['konular']['teknik'][1])"
      ]
    },
    {
      "cell_type": "markdown",
      "id": "da6ff083",
      "metadata": {},
      "source": [
        "Bu önemli ama sıkıcı konuyu geride bıraktıktan sonra *Yıldız Savaşları* analizine başlayabiliriz. Uygulama ara yüzünden veriyi çekmek için <span style=\"color:darkgreen; font-family:Courier\">requests</span> paketinin sağladığı <span style=\"color:darkgreen; font-family:Courier\">get</span> fonksiyonunu kullanacağız.\n"
      ]
    },
    {
      "cell_type": "code",
      "execution_count": null,
      "id": "a0e3789c",
      "metadata": {
        "vscode": {
          "languageId": "python"
        }
      },
      "outputs": [],
      "source": [
        "from requests import get\n",
        "\n",
        "adres = 'http://swapi.co/api'\n",
        "\n",
        "# Sözlük formatına çevirmek için .json() fonksiyonunu kullandık\n",
        "get(adres).json()"
      ]
    },
    {
      "cell_type": "markdown",
      "id": "d35878bf",
      "metadata": {},
      "source": [
        "Evet, ara yüz bilgileri bu alanlarda veriyor. İlk alandaki filmler ile başlayalım.\n"
      ]
    },
    {
      "cell_type": "code",
      "execution_count": null,
      "id": "d82d0cfb",
      "metadata": {
        "vscode": {
          "languageId": "python"
        }
      },
      "outputs": [],
      "source": [
        "# Yıldız Savaşları Filmleri\n",
        "ys_filmler = get(adres+'/films/').json()\n",
        "\n",
        "# Sözlüğün anahtarları\n",
        "print(ys_filmler.keys())\n",
        "\n",
        "# İlk anahtar film sayısını veriyor\n",
        "film_sayi = ys_filmler['count']\n",
        "print('Toplam film sayısı: ', film_sayi, '\\n')\n",
        "\n",
        "# Film sonuçlarını alalım\n",
        "sonuclar = ys_filmler['results']\n",
        "\n",
        "# Filmler kronolojik sırada değiller\n",
        "for f in range(film_sayi):\n",
        "    print(f+1,'...', 'Yıl:', sonuclar[f]['release_date'], \n",
        "          '-- Bölüm:', sonuclar[f]['episode_id'])\n",
        "\n",
        "kron_sira = [1, 6, 5, 3, 2, 4, 7]\n",
        "print('\\nKronolojik sıra: ', kron_sira)"
      ]
    },
    {
      "cell_type": "markdown",
      "id": "890e9fc1",
      "metadata": {},
      "source": [
        "Kronolojik sırayı özellikle çıkarmak istedim. Eğer tüm seriyi izlemek isterseniz, bazılarının tavsiye ettiği sıra da bu. Bu arada her filmin açılışındaki kayan yazıyı da kaydetmişler. Harika! Valla şunu yapmasam içimde kalırdı.\n"
      ]
    },
    {
      "cell_type": "code",
      "execution_count": null,
      "id": "f76aa747",
      "metadata": {
        "vscode": {
          "languageId": "python"
        }
      },
      "outputs": [],
      "source": [
        "from random import randint\n",
        "from time import sleep\n",
        "\n",
        "# Rassal olarak bir film seçelim\n",
        "film = randint(0,6)\n",
        "\n",
        "# Açılış yazısı\n",
        "print('\\n**** YILDIZ SAVAŞLARI', sonuclar[film]['episode_id'], '****\\n')\n",
        "akan_yazi = sonuclar[film]['opening_crawl'].split('\\n')\n",
        "for satir in akan_yazi:\n",
        "    print(satir)\n",
        "    sleep(1) # Bir saniye bekletelim"
      ]
    },
    {
      "cell_type": "markdown",
      "id": "4c3a286d",
      "metadata": {},
      "source": [
        "Biraz da istatistik toplayalım. Bakalım hangi filmde ne kadar karakter, gezegen, vb. kullanılmış.\n"
      ]
    },
    {
      "cell_type": "code",
      "execution_count": null,
      "id": "32eaf73b",
      "metadata": {
        "collapsed": true,
        "vscode": {
          "languageId": "python"
        }
      },
      "outputs": [],
      "source": [
        "import numpy as np\n",
        "\n",
        "# Veriyi iki boyutlu bir tabloda tutalım\n",
        "film_istat = np.zeros((film_sayi,5))\n",
        "\n",
        "# Kullanacağımız bilgiler\n",
        "bilgiler = ['characters', 'planets', \n",
        "            'starships', 'vehicles', \n",
        "            'species']\n",
        "\n",
        "# Tabloyu doldurma\n",
        "for f in range(film_sayi):\n",
        "    for j, b in enumerate(bilgiler):\n",
        "        film_istat[f, j] = len(sonuclar[f][b])"
      ]
    },
    {
      "cell_type": "markdown",
      "id": "817d4f3c",
      "metadata": {},
      "source": [
        "Sayma işlemi tamam. Bir de görselleştirelim. \n"
      ]
    },
    {
      "cell_type": "code",
      "execution_count": null,
      "id": "12b5988c",
      "metadata": {
        "vscode": {
          "languageId": "python"
        }
      },
      "outputs": [],
      "source": [
        "import pandas as pd\n",
        "import numpy as np\n",
        "from matplotlib import pyplot as plt\n",
        "%matplotlib inline\n",
        "\n",
        "indeks = ['Film '+ str(f) for f in kron_sira]\n",
        "kolonlar = ['Karakterler', 'Gezegenler', \n",
        "            'Uzay Gemileri', 'Araclar', \n",
        "            'Turler']\n",
        "\n",
        "df = pd.DataFrame(film_istat, index=indeks,\n",
        "                  columns=pd.Index(kolonlar))\n",
        "\n",
        "# XKCD formatı eğlenceli olur\n",
        "plt.xkcd()\n",
        "\n",
        "# Lejantı şeklin dışına alalım\n",
        "df.plot(kind='bar', figsize=(10,6)).legend(loc='center left', \n",
        "                                       bbox_to_anchor=(1.0, 0.7));"
      ]
    },
    {
      "cell_type": "markdown",
      "id": "aea078f0",
      "metadata": {},
      "source": [
        "En çok karakter altıncı filmde yer almış. Üçüncü filmde de bir sürü uzay gemisi, tür, araç ve gezegen varmış. Serinin ilkini, yani dördüncü filmi, hatırlarsınız belki. Hani Han Solo uzayda fink atıyor, Luke Skywalker da savaştan savaşa koşuyordu. R2-D2 ve C-3PO isimli iki sevimli robot ile o bölümde tanışmıştık. Tam 40 yıl olmuş! \n",
        "\n",
        "Karakterlerden bahis açılmışken kim, hangi filmde oynadı bakmak istiyorum. Tüm karakterler çok olur. Neyse ki ara yüz, insanlar (people) adresinden 10 kişiyi veriyor. Arasında tanıdıklar da var. Önce bir karakter-film tablosu oluşturayım. Bu tabloda her satır bir karakter bilgisini içerecek. Eğer o karakter bir filmde oynadı ise o filme karşılık gelen kolondaki değeri bir, aksi halde sıfır yapacağım. \n",
        "\n",
        "Bu veriyi hazırladıktan sonra dairesel bir şekil çizmek istiyorum. Böyle bir iş içinse R kullanmaya karar verdim. Bunun iki sebebi var: (1) Veri biliminde birden fazla dili karıştırarak çalışmak çok yaygın. (2) Görselleştirme söz konusu olunca R'ın bir adım önde olduğunu düşünüyorum. Madem görsel için R kullanacağım, tabloyu bir metin dosyasına yazayım. Tablodaki değerleri virgülle ayırarak bir metin dosyasına kaydedeceğim. Bu formattaki dosyaların uzantıları .csv oluyor (csv: *comma separated values*). Bu tür dosyalarla çalışmak için <span style=\"color:darkgreen; font-family:Courier\">csv</span> paketini kullanabiliriz.\n"
      ]
    },
    {
      "cell_type": "code",
      "execution_count": null,
      "id": "6dad19f5",
      "metadata": {
        "collapsed": true,
        "vscode": {
          "languageId": "python"
        }
      },
      "outputs": [],
      "source": [
        "import csv\n",
        "\n",
        "# Karakterler verisini çekelim\n",
        "karakterler = get(adres+'/people/').json()\n",
        "sonuclar = karakterler['results']\n",
        "karakter_say = len(sonuclar)\n",
        "\n",
        "# Virgüller ile ayırarak 'karakter_film.csv' dosyasına yazalım\n",
        "with open('karakter_film.csv', 'w') as dosya:\n",
        "    yazici = csv.writer(dosya)\n",
        "    for i in range(karakter_say):\n",
        "        satir = ['', 0, 0, 0, 0, 0, 0, 0]\n",
        "        isim = sonuclar[i]['name'].split()\n",
        "        satir[0] = isim[0]\n",
        "        film_say = len(sonuclar[i]['films'])\n",
        "        for f in range(film_say):\n",
        "            film_no = sonuclar[i]['films'][f][27:-1]\n",
        "            satir[int(film_no)] = 1\n",
        "        yazici.writerow(satir)"
      ]
    },
    {
      "cell_type": "markdown",
      "id": "5a84a9cf",
      "metadata": {},
      "source": [
        "R ile çizmeden önce dosyanın içeriğine bir göz atalım.\n"
      ]
    },
    {
      "cell_type": "code",
      "execution_count": null,
      "id": "43644c19",
      "metadata": {
        "vscode": {
          "languageId": "python"
        }
      },
      "outputs": [],
      "source": [
        "%cat karakter_film.csv"
      ]
    },
    {
      "cell_type": "markdown",
      "id": "a41de671",
      "metadata": {},
      "source": [
        "Evet hazırız. Şimdi Jupyter Notebook içinden R betiği (*script*) çalıştıracağız. Bu betik şekli bir dosyaya yazmalı. Sonra o şekli defterin içinde gösteririz. Kısacası şu üç adımı takip etmemiz yeterli:\n",
        "\n",
        "1. R betiğini [IPython sihirli ifadeleri](http://www.veridefteri.com/2017/11/28/ipython-sihirli-ifadeler/) ile bir dosyaya yazdırma. \n",
        "2. Komut satırından R ile yazdırdığımız betiği çalıştırma (komut satırından R çalıştırabildiğinize dikkat edin).\n",
        "3. R betiğinin çıktı olarak verdiği şekil dosyasını bu defterin içinde gösterme.\n",
        "\n",
        "R betiğinde <span style=\"color:darkgreen; font-family:Courier\">circlize</span> paketini kullanacağım. Eğer sizde bu paket kurulu değilse öncelikle R komut satırına şunu yazmanız gerek:\n",
        "\n",
        "```R\n",
        "install.packages(\"circlize\")\n",
        "```\n",
        "\n",
        "Evet, birinci adım ile başlayalım. R betiğini dosyaya yazıyoruz.\n"
      ]
    },
    {
      "cell_type": "code",
      "execution_count": null,
      "id": "2125d5c2",
      "metadata": {
        "vscode": {
          "languageId": "python"
        }
      },
      "outputs": [],
      "source": [
        "%%writefile ys.r\n",
        "library(circlize)\n",
        "dat <- read.csv('./karakter_film.csv', header=FALSE, sep=',', row.names=1)\n",
        "colnames(dat) <- paste('Film ', c(1:7), sep='')\n",
        "# Grafikte isimler sığdırmak için satırları rassal seçiyoruz\n",
        "dat <- dat[sample(c(1:10)),]\n",
        "png(filename=\"ys.png\", width=600, height=600)\n",
        "chordDiagram(as.matrix(dat), transparency = 0.5);\n",
        "dev.off()"
      ]
    },
    {
      "cell_type": "markdown",
      "id": "bc2ac2c7",
      "metadata": {},
      "source": [
        "İkinci adım R betiğini komut satırından çalıştırma. Çalıştırdıktan sonra betiği silebiliriz.\n"
      ]
    },
    {
      "cell_type": "code",
      "execution_count": null,
      "id": "6e54262f",
      "metadata": {
        "vscode": {
          "languageId": "python"
        }
      },
      "outputs": [],
      "source": [
        "# Hazırladığımız R dosyasını çalıştıralım\n",
        "!Rscript ys.r\n",
        "\n",
        "# İşimiz bittiği için silebiliriz\n",
        "!rm ys.r"
      ]
    },
    {
      "cell_type": "markdown",
      "id": "71cf7a45",
      "metadata": {},
      "source": [
        "Ve son adım: Kaydettiğimiz resmi, defterin içinde gösterme.\n"
      ]
    },
    {
      "cell_type": "code",
      "execution_count": null,
      "id": "f978d651",
      "metadata": {
        "vscode": {
          "languageId": "python"
        }
      },
      "outputs": [],
      "source": [
        "from IPython.display import Image\n",
        "Image(\"ys.png\")"
      ]
    },
    {
      "cell_type": "markdown",
      "id": "602586c8",
      "metadata": {},
      "source": [
        "Baksanıza R2-D2 bütün filmlerde oynamış. Belli ki asıl yıldız o. Neyse, yağmurlu bir pazar günü için iyi eğlence oldu. Biraz kurcalasanız kim bilir siz neler yaparsınız? Haydi kolları sıvayın. Güç sizinle olsun!\n"
      ]
    },
    {
      "cell_type": "markdown",
      "id": "3d9be5f4",
      "metadata": {},
      "source": [
        "---\n",
        "Bu yazıdaki kodları deneyebileceğiniz deftere [GitHub adresimizden](https://github.com/sibirbil/VeriDefteri/) erişebilirsiniz.\n"
      ]
    }
  ],
  "metadata": {
    "kernelspec": {
      "display_name": "Python 3 (ipykernel)",
      "language": "python",
      "name": "python3"
    }
  },
  "nbformat": 4,
  "nbformat_minor": 5
}
