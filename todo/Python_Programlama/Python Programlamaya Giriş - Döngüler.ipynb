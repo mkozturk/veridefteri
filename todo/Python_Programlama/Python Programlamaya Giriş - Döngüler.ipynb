{
 "cells": [
  {
   "cell_type": "markdown",
   "metadata": {},
   "source": [
    "Python programlamanın temellerini anlattığımız yazı dizimizin bu bölümünde belli bir kod blokunun tekrar tekrar çalıştırılması anlamına gelen _döngülerden_ bahsedeceğiz. Döngüler her türlü programın temel yapı taşlarındandır.\n",
    "\n",
    "Döngüler, daha önce bahsettiğimiz karar yapısı `if` ile benzer bir yapıya sahiptir. Blok kaydırma yapısı ve mantıksal şartlara aşina değilseniz önce karar yapısını anlattığımız bölümü okumanız iyi olur.\n",
    "\n",
    "while döngüsü\n",
    "========\n",
    "`while` döngüleri, bir mantıksal şart mantıksal \"doğru\" değerine sahip olduğu sürece tekrarlanır. Döngünün sona ermesi için şartın eninde sonunda yanlış hale gelmesi gerekir. Bunun için döngünün içinde değişkenler uygun şekilde güncellenir. Bu güncellemeyi unutursak sonsuz döngü içine düşeriz ve programımız biz zorla kapatmadıkça durmaz.\n",
    "\n",
    "Basit bir örnekle başlayalım: 10'a kadar olan sayıları sırayla ekrana yazan bir program yazalım."
   ]
  },
  {
   "cell_type": "code",
   "execution_count": 1,
   "metadata": {},
   "outputs": [
    {
     "name": "stdout",
     "output_type": "stream",
     "text": [
      "1 2 3 4 5 6 7 8 9 "
     ]
    }
   ],
   "source": [
    "a=1\n",
    "b=10\n",
    "while a<b:\n",
    "    print(a, end=\" \")\n",
    "    a += 1  # a = a + 1 ile aynı"
   ]
  },
  {
   "cell_type": "markdown",
   "metadata": {},
   "source": [
    "Gördüğünüz gibi `while` komutunun yapısı `if`'e benziyor: İkisi de bir şarttan sonra iki nokta üstüste (`:`) ile bir blok başlatıyor, ve blok içeri doğru kaydırılıyor.\n",
    "\n",
    "Yukarıdaki örnekte önce `a` ve `b` değişkenlerine ilk değerler veriyoruz. Ardından `while` blokunun başında `a<b` şartının doğru olup olmadığı yoklanıyor. Doğruysa blokun içindeki kod çalıştırılır. `if` yapısındaki gibi, döngü bloku kaydırma ile belli edilir. Blok bitince başa dönülür, şartın hâlâ doğru olup olmadığı tekrar yoklanır, doğruysa blok tekrar çalıştırılır. Döngü bloku üzerinden her bir geçişe bir *iterasyon* deriz.\n",
    "\n",
    "`print` fonksiyonuna verdiğimiz `end=\" \"` parametresi, `a` değeri ekrana basıldıktan sonra satırbaşı yapmak yerine aynı satırda bir boşluk bırakmasını sağlar. Böylece sayıları tek bir satıra yazabiliriz.\n",
    "\n",
    "Döngü blokundaki `a += 1` ifadesi, `a` değişkeninin değerini bir artırmak için kullanılan kısa bir yazım tarzı. Diğer aritmetik işlemlerde de aynı kestirme yol geçerli (meselâ `a -= 2` iki azaltır, `a *= 3` üçle çarpar). Bu işlem döngü içinde tekrarlanınca sonunda `a` değişkeni 10 değerine ulaşıyor, `a<b` şartı yanlış hale geliyor, ve döngü bir daha çalıştırılmıyor. Döngü bittiğinde `a`'nın 10 değerine sahip olduğuna, ama ekranda 10 sayısının yazılmadığına dikkat edin.\n",
    "\n",
    "Döngü içinde `a += 1` ifadesi olmasaydı, `a` hep aynı değerde kalacağı için döngü sonsuza kadar devam ederdi. Yeni başlayanlar bu hataya çok düşer (ben de sık sık yaparım). Sonsuz döngüyü kırmak için programı zorla durdurmanız gerekir. Jupyter defterinde _Interrupt Kernel_ düğmesine tıklayarak, Linux komut satırında Ctrl-C basarak, Windows komut satırında Ctrl-Z basarak programı durmaya zorlayabilirsiniz.\n",
    "__________\n",
    "**Alıştırma.** Yukarıdaki programı değiştirerek (a) 4'den 29'a beşer beşer, (b) 10'dan 1'e geriye doğru birer birer saydırın.\n",
    "_______________\n",
    "\n",
    "Başka bir örnek olarak, 1'den 10'a kadar sayıların toplamını hesaplayan bir program yazalım."
   ]
  },
  {
   "cell_type": "code",
   "execution_count": 2,
   "metadata": {},
   "outputs": [
    {
     "name": "stdout",
     "output_type": "stream",
     "text": [
      "55\n"
     ]
    }
   ],
   "source": [
    "a=1\n",
    "b=10\n",
    "toplam=0\n",
    "while a<=b:\n",
    "    toplam += a\n",
    "    a += 1\n",
    "print(toplam)"
   ]
  },
  {
   "cell_type": "markdown",
   "metadata": {},
   "source": [
    "Bu programda `toplam` isimli bir değişken yaratıyoruz ve döngünün içinde her `a` değerini `toplam`'a ekliyoruz. Bu döngünün çalışmasını aşağıdaki tabloda adım adım görebiliriz.\n",
    "\n",
    "|iterasyon|a|a <= b|toplam|\n",
    "|---------|--|---|----|\n",
    "|1|1|Doğru|1|\n",
    "|2|2|Doğru|3|\n",
    "|3|3|Doğru|6|\n",
    "|4|4|Doğru|10|\n",
    "|...|...|...|...|\n",
    "|10|10|Doğru|55|\n",
    "|11|11|Yanlış|55|\n",
    "\n",
    "Bu programda `print()` komutunun döngünün dışında olduğuna dikkat edin (kaydırma seviyesi `while` kelimesiyle aynı hizada). Bu komut döngü blokunun içinde olsaydı ne olurdu? Deneyin.\n",
    "\n",
    "Döngü tekrarlama şartında küçükeşit kullandık (`a<=b`). Önceki örnek programda olduğu gibi küçük (`a<b`) kullansaydık ne olurdu? Deneyin.\n",
    "________________\n",
    "**Alıştırma.** Yukarıdaki programı değiştirerek şu toplamları hesaplatın.\n",
    "<ol>\n",
    "\t<li>$1 + 3 + 5 + \\cdots + 101$</li>\n",
    "\t<li>$\\frac{1}{2} + \\frac{1}{4}+ \\cdots + \\frac{1}{2^a} + \\cdots + \\frac{1}{1024}$</li>\n",
    "\t<li>$1 + 4 + 9 + \\cdots + a^2 + \\cdots + 100$</li>\n",
    "</ol>\n",
    "_____________________\n",
    "İç içe döngüler\n",
    "-----------------\n",
    "Bir döngü blokunun içine istediğiniz her türlü kodu koyabilirsiniz. Başka bir döngü koymak da buna dahil. Sözgelişi, iki ayrı parametre üzerinden döngü yapmak istediğinizde bir döngü içinde başka bir döngü kullanırsınız.\n",
    "\n",
    "Örnek olarak, $1^p + 2^p + \\cdots + 10^p$ toplamını, $p$'nin 1-6 arasındaki değerleri için ekrana yazacak bir program yazalım. Yukarıda böyle bir seri toplamın bir döngü içinde nasıl hesaplandığını gördük. Her bir $p$ için ayrıca bir hesap yapacağız. Demek ki toplamı hesaplama döngüsünü, $p$'nin 1 ile 6 arasında değiştiği bir döngünün içine koymalıyız. \n",
    "\n",
    "İçiçe döngüler yazmanın en kolay yolu, dış döngüdeki parametreleri sabit tutup en içteki döngüyle başlamaktır. İlk aşamada $1^p + 2^p + \\cdots + 10^p$ toplamını sadece $p=1$ için hesaplayalım."
   ]
  },
  {
   "cell_type": "code",
   "execution_count": 3,
   "metadata": {},
   "outputs": [
    {
     "name": "stdout",
     "output_type": "stream",
     "text": [
      "p = 1 , 1^p + ... + 10^p = 55\n"
     ]
    }
   ],
   "source": [
    "p=1\n",
    "a=1\n",
    "b=10\n",
    "toplam=0\n",
    "while a<=b:\n",
    "    toplam += a**p\n",
    "    a += 1\n",
    "print(\"p =\",p,\", 1^p + ... + 10^p =\", toplam)"
   ]
  },
  {
   "cell_type": "markdown",
   "metadata": {},
   "source": [
    "Şimdi yapmamız gereken bunu $p=2,3,4,5,6$ için tekrarlamak. Tembel işi yapıp, aynı kodu altı kere yapıştırıp $p$ değerlerini değiştirebiliriz."
   ]
  },
  {
   "cell_type": "code",
   "execution_count": 4,
   "metadata": {},
   "outputs": [
    {
     "name": "stdout",
     "output_type": "stream",
     "text": [
      "p = 1 , 1^p + ... + 10^p = 55\n",
      "p = 2 , 1^p + ... + 10^p = 385\n",
      "p = 3 , 1^p + ... + 10^p = 3025\n",
      "p = 4 , 1^p + ... + 10^p = 25333\n",
      "p = 5 , 1^p + ... + 10^p = 220825\n",
      "p = 6 , 1^p + ... + 10^p = 1978405\n"
     ]
    }
   ],
   "source": [
    "p=1\n",
    "a=1\n",
    "b=10\n",
    "toplam=0\n",
    "while a<=b:\n",
    "    toplam += a**p\n",
    "    a += 1\n",
    "print(\"p =\",p,\", 1^p + ... + 10^p =\", toplam)\n",
    "\n",
    "p=2\n",
    "a=1\n",
    "b=10\n",
    "toplam=0\n",
    "while a<=b:\n",
    "    toplam += a**p\n",
    "    a += 1\n",
    "print(\"p =\",p,\", 1^p + ... + 10^p =\", toplam)\n",
    "\n",
    "p=3\n",
    "a=1\n",
    "b=10\n",
    "toplam=0\n",
    "while a<=b:\n",
    "    toplam += a**p\n",
    "    a += 1\n",
    "print(\"p =\",p,\", 1^p + ... + 10^p =\", toplam)\n",
    "\n",
    "p=4\n",
    "a=1\n",
    "b=10\n",
    "toplam=0\n",
    "while a<=b:\n",
    "    toplam += a**p\n",
    "    a += 1\n",
    "print(\"p =\",p,\", 1^p + ... + 10^p =\", toplam)\n",
    "\n",
    "p=5\n",
    "a=1\n",
    "b=10\n",
    "toplam=0\n",
    "while a<=b:\n",
    "    toplam += a**p\n",
    "    a += 1\n",
    "print(\"p =\",p,\", 1^p + ... + 10^p =\", toplam)\n",
    "\n",
    "p=6\n",
    "a=1\n",
    "b=10\n",
    "toplam=0\n",
    "while a<=b:\n",
    "    toplam += a**p\n",
    "    a += 1\n",
    "print(\"p =\",p,\", 1^p + ... + 10^p =\", toplam)"
   ]
  },
  {
   "cell_type": "markdown",
   "metadata": {},
   "source": [
    "İstediğimizi yapıyor, ama güzel bir çözüm yöntemi değil. Birincisi, programımız gereksiz derecede uzuyor ve okuması zorlaşıyor. İkincisi, $p$ için farklı değerlerle hesabı tekrarlamak istediğimizde hepsini elden geçirmemiz, silmemiz veya eklememiz gerekiyor. Aynı hesabı $p$'yi -100 ile 100 arasında tekrarladığınızı düşünün!\n",
    "\n",
    "Muhtemelen bu aşamada en güzel çözümün kodun etrafına bir dış döngü sarmak olduğunu gördünüz bile."
   ]
  },
  {
   "cell_type": "code",
   "execution_count": 5,
   "metadata": {},
   "outputs": [
    {
     "name": "stdout",
     "output_type": "stream",
     "text": [
      "p = 1 , 1^p + ... + 10^p = 55\n",
      "p = 2 , 1^p + ... + 10^p = 385\n",
      "p = 3 , 1^p + ... + 10^p = 3025\n",
      "p = 4 , 1^p + ... + 10^p = 25333\n",
      "p = 5 , 1^p + ... + 10^p = 220825\n",
      "p = 6 , 1^p + ... + 10^p = 1978405\n"
     ]
    }
   ],
   "source": [
    "p=1\n",
    "while p<=6:\n",
    "    a=1\n",
    "    b=10\n",
    "    toplam=0\n",
    "    while a<=b:\n",
    "        toplam += a**p\n",
    "        a += 1\n",
    "    print(\"p =\",p,\", 1^p + ... + 10^p =\", toplam)\n",
    "    p += 1"
   ]
  },
  {
   "cell_type": "markdown",
   "metadata": {},
   "source": [
    "break: Döngüyü bitirmek\n",
    "==============\n",
    "Bir döngünün, döngü şartı yanlış hale geldiğinde sona erdiğini gördük. Ancak bazı durumlarda döngü bloku içinde bir çıkış sağlamak daha kolay olabilir, ve bazen kodun daha okunaklı olmasını sağlar.\n",
    "\n",
    "Bir döngü bloku içinde verilen bir `break` komutu, döngünün hemen o anda bitirilmesine yol açar. Program akışı döngü blokunun dışına atlar, ve ardından gelen komutlarla devam eder. Örnek olarak, kullanıcının verdiği sayıları toplayan bir program yazalım. Kullanıcı -99 girene kadar sayıları toplama eklemeye devam etsin."
   ]
  },
  {
   "cell_type": "code",
   "execution_count": 6,
   "metadata": {},
   "outputs": [
    {
     "name": "stdout",
     "output_type": "stream",
     "text": [
      "Bir sayı girin (bitirmek için -99): 5\n",
      "Bir sayı girin (bitirmek için -99): -7\n",
      "Bir sayı girin (bitirmek için -99): -99\n",
      "Toplam: -2\n"
     ]
    }
   ],
   "source": [
    "toplam = 0\n",
    "while True:   # Şart hep doğru - sonsuz döngü\n",
    "    x = int(input(\"Bir sayı girin (bitirmek için -99): \"))\n",
    "    if x == -99:\n",
    "        break\n",
    "    toplam += x\n",
    "print(\"Toplam:\", toplam)"
   ]
  },
  {
   "cell_type": "markdown",
   "metadata": {},
   "source": [
    "`break` sadece döngüler içinde ve bir `if` şartı altında bir mânâ ifade eder. Eğer `if` kullanmazsanız Python yorumlayıcısı döngünün ilk iterasyonunda `break`'e rastlayarak döngüyü tamamlar, blokun geri kalanını hiç işlemez.\n",
    "\n",
    "Yukarıdaki programda döngünün tekrarlama şartı `True` olduğu için, bu bir sonsuz döngü. Döngünün bitmesi için kullanıcının -99 yazması gerek. Hiç `break` kullanmamak teorik olarak mümkündür, ama bazı karmaşık durumlarda `break` sayesinde programınız sadeleşir, okunması kolaylaşır.\n",
    "_____\n",
    "**Alıştırma.** Yukarıdaki programı `break` kullanmadan yazın.\n",
    "__________\n",
    "continue: Döngünün kalanını atlamak \n",
    "=======\n",
    "`continue` komutu da, aynı `break` gibi, sadece bir döngü içinde ve bir `if` şartı altında mânâ ifade eder. `continue` döngü blokunun işlemesini yarıda keser ve başa döner. `break`'den farkı, programın döngünün dışına çıkmaması, ama döngünün başına dönmesi ve tekrar başlatmasıdır. Bu arada döngü şartının doğru olup olmadığı da kontrol edilir.\n",
    "\n",
    "Örnek olarak, yukarıdaki programı, sadece 0 ve 100 arası değerleri kabul edecek şekilde şöyle yazabiliriz:"
   ]
  },
  {
   "cell_type": "code",
   "execution_count": 7,
   "metadata": {},
   "outputs": [
    {
     "name": "stdout",
     "output_type": "stream",
     "text": [
      "Bir sayı girin (bitirmek için -99): 78\n",
      "Bir sayı girin (bitirmek için -99): 103\n",
      "0-100 arası olmalı.\n",
      "Bir sayı girin (bitirmek için -99): -5\n",
      "0-100 arası olmalı.\n",
      "Bir sayı girin (bitirmek için -99): 11\n",
      "Bir sayı girin (bitirmek için -99): -99\n",
      "Toplam: 89\n"
     ]
    }
   ],
   "source": [
    "toplam = 0\n",
    "while True:\n",
    "    x = int(input(\"Bir sayı girin (bitirmek için -99): \"))\n",
    "    if x == -99:\n",
    "        break\n",
    "    if x < 0 or x > 100:\n",
    "        print(\"0-100 arası olmalı.\")\n",
    "        continue\n",
    "    toplam += x\n",
    "print(\"Toplam:\", toplam)"
   ]
  },
  {
   "cell_type": "markdown",
   "metadata": {},
   "source": [
    "Programda 0-100 aralığı dışındaki girdiler `continue`'ya takılıyor, o yüzden toplama eklenmiyorlar. Programı -99'la bitirmek hâlâ mümkün çünkü bunun yoklaması daha önce yapılıyor. İki `if` blokunun sırasını değiştirirseniz bu özellik bozulur, program sonsuz döngüde kalır.\n",
    "\n",
    "else\n",
    "=====\n",
    "Python dilinde `while` ve `for` döngülerinde bir `else` bloku bulunabilmesi mümkündür. Bu özellik, C'de ve birçok başka dilde bulunmaz.\n",
    "\n",
    "Bir while döngüsünün Python sözdizimindeki genel yapısı şöyledir:\n",
    "\n",
    "    while <şart>:\n",
    "        <komutlar 1>\n",
    "    else:\n",
    "        <komutlar 2>\n",
    "`else` bloku altındaki <`komutlar 2>` kısmı sadece döngü şartı yanlışsa çalıştırılır. Kendi başına bu o kadar da gerekli değil; `<komutlar 2>` kısmını `else` kelimesi olmadan döngü blokunun dışına koysanız da aynı etkiyi yapar. `else`'i işe yarar kılan şey şu: `<komutlar 1>` kısmında bir `break` komutu çalıştırılırsa, döngünün `else` kısmını da atlar. Yani, döngünüz `break` ile bitmediği zaman çalışamasını istediğiniz komutları `else` altına koyarsınız.\n",
    "\n",
    "Somut bir örnek olarak, bir sıralı veri yapısı içinde bir arama yaptığımızı düşünelim. Veride belli bir değere sahip bir eleman olup olmadığını bulmaya çalışıyoruz. Bunun klasik yolu \"bayrak\" (flag) adı verilen Boolean (doğru/yanlış) değişkenler kullanmaktır. Başlangıçta bayrak değeri \"yanlış\"tır. Veriyi eleman eleman tarar, aradığımız değeri bulursak bayrağı \"doğru\" değere getirir ve döngüden çıkarız. Döngü bittiğinde bayrağın durumu bize sonucu verir."
   ]
  },
  {
   "cell_type": "code",
   "execution_count": 8,
   "metadata": {},
   "outputs": [
    {
     "name": "stdout",
     "output_type": "stream",
     "text": [
      "Aranan 3 değeri 4 pozisyonunda.\n"
     ]
    }
   ],
   "source": [
    "data = [1,2,4,-1,3,4,-5,1]\n",
    "i = 0\n",
    "aranan = 3\n",
    "\n",
    "bulduk = False\n",
    "while i<len(data) and not bulduk:\n",
    "    if data[i] == aranan:\n",
    "        bulduk = True\n",
    "    else:\n",
    "        i += 1\n",
    "\n",
    "if bulduk:\n",
    "    print(\"Aranan\", aranan, \"değeri\", i, \"pozisyonunda.\")\n",
    "else:\n",
    "    print(\"Bulamadık\")"
   ]
  },
  {
   "cell_type": "markdown",
   "metadata": {},
   "source": [
    "`while` ile birlikte `else` kullanmak bu programı biraz sadeleştirir."
   ]
  },
  {
   "cell_type": "code",
   "execution_count": 9,
   "metadata": {},
   "outputs": [
    {
     "name": "stdout",
     "output_type": "stream",
     "text": [
      "Aranan değer: 5\n",
      "Bulamadık\n"
     ]
    }
   ],
   "source": [
    "data = [1,2,4,-1,3,4,-5,1]\n",
    "i = 0\n",
    "aranan = int(input(\"Aranan değer: \"))\n",
    "\n",
    "while i<len(data):\n",
    "    if data[i] == aranan:\n",
    "        print (\"Aranan\", aranan, \"değeri\", i, \"pozisyonunda.\")\n",
    "        break;\n",
    "    i += 1\n",
    "else:\n",
    "    print(\"Bulamadık\")"
   ]
  },
  {
   "cell_type": "markdown",
   "metadata": {},
   "source": [
    "İkinci programdaki `else`'in `if`'e değil `while`'a ait olduğuna dikkat edin. Burada bayrak değişkeni `bulduk`'a ihtiyaç kalmıyor.\n",
    "\n",
    "Başka bir örnek olarak, verilen bir sayının asal olup olmadığını belirleyelim. Bunun için, verilen sayının daha küçük sayılara bölünebilir olup olmadığına bakacağız. Verilen sayıyı bölen daha küçük bir sayı bulursak, gerisine bakmadan sayının asal olduğunu söyleyebiliriz. Sayı asalsa, bütün muhtemel bölenlere bakmamız gerekecek.\n",
    "\n",
    "Bir $x$ sayısının asal olup olmadığını anlamak için $x$'den küçük bütün sayılara bakmaya lüzum yok; 2 ile $\\sqrt{x}$ arasındaki sayıları test etmek yeterli.\n",
    "\n",
    "Döngü `else`'ini kullanmadan şöyle yapabiliriz:"
   ]
  },
  {
   "cell_type": "code",
   "execution_count": 10,
   "metadata": {},
   "outputs": [
    {
     "name": "stdout",
     "output_type": "stream",
     "text": [
      "Bir pozitif tamsayı girin: 87236849\n",
      "Asal değil, 7 böler.\n"
     ]
    }
   ],
   "source": [
    "x = int(input(\"Bir pozitif tamsayı girin: \"))\n",
    "asal = True\n",
    "i = 2\n",
    "while i*i <= x and asal:\n",
    "    if x % i==0:\n",
    "        asal = False\n",
    "    else:\n",
    "        i += 1\n",
    "\n",
    "if asal:\n",
    "    print(\"Asal.\")\n",
    "else:\n",
    "    print(\"Asal değil,\", i, \"böler.\")"
   ]
  },
  {
   "cell_type": "markdown",
   "metadata": {},
   "source": [
    "(Karekök alma işlemi CPU'yu fazla kullandığı için, döngü şartını $i \\leq \\sqrt{x}$ yerine $i^2 \\leq x$ olarak yazdım.)\n",
    "\n",
    "Aynı programı döngü `else`'ini kullanarak şöyle yazabiliriz:"
   ]
  },
  {
   "cell_type": "code",
   "execution_count": 11,
   "metadata": {},
   "outputs": [
    {
     "name": "stdout",
     "output_type": "stream",
     "text": [
      "Bir pozitif tamsayı girin: 98731\n",
      "Asal.\n"
     ]
    }
   ],
   "source": [
    "x = int(input(\"Bir pozitif tamsayı girin: \"))\n",
    "i = 2\n",
    "while i*i < x:\n",
    "    if x % i == 0:\n",
    "        print(\"Asal değil,\", i, \"böler.\")\n",
    "        break\n",
    "    i += 1\n",
    "else:\n",
    "    print(\"Asal.\")"
   ]
  },
  {
   "cell_type": "markdown",
   "metadata": {},
   "source": [
    "for: Sıralı nesneler üzerinde döngü\n",
    "=======\n",
    "C, Java ve benzeri dillere aşinaysanız, `for` ve `while` döngülerinin tamamen denk olduğunu bilirsiniz. Python'da `for` başka bir görev üstlenmiştir: Liste, dize, çokuz gibi sıralı bir nesnedeki elemanları sırayla tek tek alır ve döngü blokunda işler."
   ]
  },
  {
   "cell_type": "code",
   "execution_count": 12,
   "metadata": {},
   "outputs": [
    {
     "name": "stdout",
     "output_type": "stream",
     "text": [
      "fındık\n",
      "fıstık\n",
      "ceviz\n"
     ]
    }
   ],
   "source": [
    "for s in [\"fındık\", \"fıstık\", \"ceviz\"]:\n",
    "    print(s)"
   ]
  },
  {
   "cell_type": "markdown",
   "metadata": {},
   "source": [
    "Aynısını bir `while` döngüsünde şöyle yaparız:"
   ]
  },
  {
   "cell_type": "code",
   "execution_count": 13,
   "metadata": {},
   "outputs": [
    {
     "name": "stdout",
     "output_type": "stream",
     "text": [
      "fındık\n",
      "fıstık\n",
      "ceviz\n"
     ]
    }
   ],
   "source": [
    "L = [\"fındık\",\"fıstık\",\"ceviz\"]\n",
    "i=0\n",
    "while i < len(L):\n",
    "    print(L[i])\n",
    "    i += 1"
   ]
  },
  {
   "cell_type": "markdown",
   "metadata": {},
   "source": [
    "Burada `len(L)` bize `L` listesinin eleman sayısı olan 3'ü verir. `while` kullandığımızda listenin indeksini takip eden bir `i` değişkeni kullanmamız gerekiyor. `for` ile buna gerek yok, ve döngü bloku çok daha sade."
   ]
  },
  {
   "cell_type": "markdown",
   "metadata": {},
   "source": [
    "`range(n)` fonksiyon çağrısı sıfırdan başlayarak `n-1`'e kadar tamsayılar verir."
   ]
  },
  {
   "cell_type": "code",
   "execution_count": 14,
   "metadata": {},
   "outputs": [
    {
     "data": {
      "text/plain": [
       "[0, 1, 2, 3, 4, 5, 6, 7, 8, 9, 10]"
      ]
     },
     "execution_count": 14,
     "metadata": {},
     "output_type": "execute_result"
    }
   ],
   "source": [
    "list(range(11))"
   ]
  },
  {
   "cell_type": "markdown",
   "metadata": {},
   "source": [
    "Bunu kullanarak 0-10 arasındaki sayıları ve karelerini ekrana yazalım."
   ]
  },
  {
   "cell_type": "code",
   "execution_count": 15,
   "metadata": {},
   "outputs": [
    {
     "name": "stdout",
     "output_type": "stream",
     "text": [
      "0 0\n",
      "1 1\n",
      "2 4\n",
      "3 9\n",
      "4 16\n",
      "5 25\n",
      "6 36\n",
      "7 49\n",
      "8 64\n",
      "9 81\n",
      "10 100\n"
     ]
    }
   ],
   "source": [
    "for x in range(11):\n",
    "    print(x, x**2)"
   ]
  },
  {
   "cell_type": "markdown",
   "metadata": {},
   "source": [
    "`for` döngüsü, bir dizeyi de bir liste gibi eleman eleman alabilir. Dizenin elemanları onu oluşturan karakterlerdir."
   ]
  },
  {
   "cell_type": "code",
   "execution_count": 16,
   "metadata": {},
   "outputs": [
    {
     "name": "stdout",
     "output_type": "stream",
     "text": [
      "M,e,r,h,a,b,a,"
     ]
    }
   ],
   "source": [
    "for c in \"Merhaba\":\n",
    "    print(c,end=\",\")"
   ]
  },
  {
   "cell_type": "markdown",
   "metadata": {},
   "source": [
    "Bir çokuzdaki elemanların toplamını bulalım."
   ]
  },
  {
   "cell_type": "code",
   "execution_count": 17,
   "metadata": {},
   "outputs": [
    {
     "name": "stdout",
     "output_type": "stream",
     "text": [
      "18\n"
     ]
    }
   ],
   "source": [
    "toplam=0\n",
    "for x in (4, 5, 2, -4, 1, 10):\n",
    "    toplam += x\n",
    "print(toplam)"
   ]
  },
  {
   "cell_type": "markdown",
   "metadata": {},
   "source": [
    "Elimizde sayı çiftlerinden oluşan bir liste olsun ve bu çiftlerin toplamlarının listesini elde etmek istiyoruz diyelim. "
   ]
  },
  {
   "cell_type": "code",
   "execution_count": 18,
   "metadata": {},
   "outputs": [
    {
     "name": "stdout",
     "output_type": "stream",
     "text": [
      "1 2 3\n",
      "2 4 6\n",
      "3 8 11\n"
     ]
    }
   ],
   "source": [
    "L = [(1,2), (2,4), (3,8)]\n",
    "for e in L:  # her e'nin iki elemanı vardır\n",
    "    print (e[0], e[1], e[0]+e[1])"
   ]
  },
  {
   "cell_type": "markdown",
   "metadata": {},
   "source": [
    "Aynısını çokuz atamalarından faydalanarak yazmak kodu sadeleştirir."
   ]
  },
  {
   "cell_type": "code",
   "execution_count": 19,
   "metadata": {},
   "outputs": [
    {
     "name": "stdout",
     "output_type": "stream",
     "text": [
      "1 2 3\n",
      "2 4 6\n",
      "3 8 11\n"
     ]
    }
   ],
   "source": [
    "L = [(1,2), (2,4), (3,8)]\n",
    "for a,b in L:\n",
    "    print (a,b,a+b)"
   ]
  },
  {
   "cell_type": "markdown",
   "metadata": {},
   "source": [
    "___________\n",
    "**Alıştırma.** Yukarıdaki örnekleri `while` döngüsü kullanarak yazın.\n",
    "_______________\n",
    "\n",
    "`break`, `continue`, `else` komutları `for` döngülerinde de, yukarıda `while` için bahsedilen şekilde çalışırlar. Bu komutların `for` ile kullanılışına ayrıca örnek vermeyeceğiz.\n",
    "\n",
    "Sonraki iki bölümde, somut hesaplama problemlerinde döngüleri nasıl kullanacağımızı göreceğiz."
   ]
  }
 ],
 "metadata": {
  "kernelspec": {
   "display_name": "Python 3",
   "language": "python",
   "name": "python3"
  },
  "language_info": {
   "codemirror_mode": {
    "name": "ipython",
    "version": 3
   },
   "file_extension": ".py",
   "mimetype": "text/x-python",
   "name": "python",
   "nbconvert_exporter": "python",
   "pygments_lexer": "ipython3",
   "version": "3.6.2"
  }
 },
 "nbformat": 4,
 "nbformat_minor": 2
}
