{
 "cells": [
  {
   "cell_type": "markdown",
   "metadata": {},
   "source": [
    "Yeni başlayanlar için Python programlama temellerini işlediğimiz yazı dizimizin bu bölümünde karar verme yapısından bahsedeceğiz.\n",
    "\n",
    "En basit programlarda bile sık sık \"şu şart doğruysa şöyle yap, yoksa yapma\", veya \"doğruysa şöyle yap, yanlışsa öbür türlü yap\" şeklinde düzenlemelere ihtiyaç duyarız. Sözgelişi, \"cevap doğruysa puanı bir arttır\", veya \"yanlış sayısı dördün katıysa puanı bir azalt\" gibi. Birçok dil gibi Python'da da seçim yapısı `if-else` komutlarıyla kurulur.\n",
    "\n",
    "if komutu\n",
    "======\n",
    "Karar yapılarının en basit hali, bir şartın doğruluğunu yoklamak ve doğruysa belli işlemler yapmaktır. Sözgelişi aşağıdaki programa bakalım. Hücreyi Shift-Enter ile çalıştırdığımızda tahminimizi soran bir kutu ortaya çıkacak. Kutuya bir cevap yazıp Enter'e basın."
   ]
  },
  {
   "cell_type": "code",
   "execution_count": 2,
   "metadata": {},
   "outputs": [
    {
     "name": "stdout",
     "output_type": "stream",
     "text": [
      "Tahmininiz: 42\n",
      "Doğru!\n"
     ]
    }
   ],
   "source": [
    "hedef = \"42\"\n",
    "tahmin = input(\"Tahmininiz: \")\n",
    "if tahmin == hedef:\n",
    "    print(\"Doğru!\")"
   ]
  },
  {
   "cell_type": "markdown",
   "metadata": {},
   "source": [
    "Sayı `hedef` değerine (`\"42\"`) eşitse ekrana `\"Doğru!\"` yazısını basacak, değilse birşey yapmayacak. Şarttan sonra iki nokta üstüste (`:`) koymayı da unutmayın.\n",
    "\n",
    "(Bu hücredeki kodu kendi başına çalışan bir betik haline getirmek için, kodu kopyalayıp bir metin editörüne yapıştırın ve tahmin.py isimli bir dosya olarak kaydedin. Böylece komut satırında çalıştırabilirsiniz:\n",
    "\n",
    "    $ python3 tahmin.py\n",
    "    Tahmininiz: 42\n",
    "    Doğru!\n",
    "şeklinde bir çıktınız olmalı)\n",
    "\n",
    "`if`'den sonra `tahmin`'in `hedef`'e eşit olup olmadığını yoklayan bir mantık ifadesi var. Bunun değeri ya doğru (`True`) ya da yanlış (`False`) olacak. Eşitlik şartı için `==` (iki tane eşit işareti) kullanıldığına dikkat edin."
   ]
  },
  {
   "cell_type": "code",
   "execution_count": 1,
   "metadata": {},
   "outputs": [
    {
     "data": {
      "text/plain": [
       "True"
      ]
     },
     "execution_count": 1,
     "metadata": {},
     "output_type": "execute_result"
    }
   ],
   "source": [
    "1 == 1"
   ]
  },
  {
   "cell_type": "code",
   "execution_count": 2,
   "metadata": {},
   "outputs": [
    {
     "data": {
      "text/plain": [
       "False"
      ]
     },
     "execution_count": 2,
     "metadata": {},
     "output_type": "execute_result"
    }
   ],
   "source": [
    "1 == 2"
   ]
  },
  {
   "cell_type": "code",
   "execution_count": 3,
   "metadata": {},
   "outputs": [
    {
     "ename": "SyntaxError",
     "evalue": "can't assign to literal (<ipython-input-3-4c0a01f26144>, line 1)",
     "output_type": "error",
     "traceback": [
      "\u001b[0;36m  File \u001b[0;32m\"<ipython-input-3-4c0a01f26144>\"\u001b[0;36m, line \u001b[0;32m1\u001b[0m\n\u001b[0;31m    1 = 1\u001b[0m\n\u001b[0m         ^\u001b[0m\n\u001b[0;31mSyntaxError\u001b[0m\u001b[0;31m:\u001b[0m can't assign to literal\n"
     ]
    }
   ],
   "source": [
    "1 = 1"
   ]
  },
  {
   "cell_type": "markdown",
   "metadata": {},
   "source": [
    "Şarttan sonraki satırlara, şart doğruysa çalıştırılacak kod parçası (_if bloku_) gelir. Burada Python'un kendine özgü bir kuralını görüyoruz: Bloktaki her ifade, `if` başlığına göre belli bir miktar sağa kaydırılmalıdır. Yorumlayıcı hangi komutların  `if` blokuna ait olduğunu bu kaydırma sayesinde ayırt eder.\n",
    "\n",
    "Meselâ şu iki ayrı programa bakalım:\n",
    "\n",
    "    hedef = \"42\"\n",
    "    tahmin = input(\"Tahmininiz: \")\n",
    "    if tahmin == hedef:\n",
    "        print(\"Doğru!\")\n",
    "        print(\"Bravo\")\n",
    "ve:\n",
    "\n",
    "    hedef = \"42\"\n",
    "    tahmin = input(\"Tahmininiz: \")\n",
    "    if tahmin == hedef:\n",
    "        print(\"Doğru!\")\n",
    "    print(\"Bravo\")\n",
    "    \n",
    "İkinci programdaki\n",
    "\n",
    "    print \"Bravo\"\n",
    "komutu `if` blokunun dışında olduğu için, tahmin doğru olsa da olmasa da çalıştırılır. Deneyin.\n",
    "\n",
    "`if` içindeki blokun kaç boşluk sağa kaydırılacağı önemli değildir; bir tek boşluk bile yeterlidir. Çoğu IDE otomatik olarak dört boşluk genişlikte bir sıçrama yapar; Python programcılık camiasında tavsiye edilen de budur. Sonraki satırlar da aynı kaydırma seviyesinde başlar. Bu yüzden, bloku bitirmek için yeni satıra geçtikten sonra geriye silme (Backspace) tuşuna basmalısınız.\n",
    "\n",
    "if-else komutu\n",
    "========\n",
    "Yukarıdaki program bize sadece tahminimiz doğruysa bir cevap veriyor. Tahminimizin yanlış olduğunu da söylemesini istersek `if-else` yapısını kullanırız."
   ]
  },
  {
   "cell_type": "code",
   "execution_count": 4,
   "metadata": {},
   "outputs": [
    {
     "name": "stdout",
     "output_type": "stream",
     "text": [
      "Tahmininiz: 43\n",
      "Yanlış\n"
     ]
    }
   ],
   "source": [
    "hedef = \"42\"\n",
    "x = input(\"Tahmininiz: \")\n",
    "if x == hedef:\n",
    "    print(\"Doğru!\")\n",
    "else:\n",
    "    print(\"Yanlış\")"
   ]
  },
  {
   "cell_type": "markdown",
   "metadata": {},
   "source": [
    "`else` ifadesinden sonra herhangi bir şart gelmez, çünkü `else` bloku zaten sadece `if` şartı yanlışsa çalıştırılır. `else` kelimesinin, bağlı olduğu `if` ile aynı kaydırma seviyesinde olduğuna dikkat edin.\n",
    "\n",
    "Her `else` bir `if`'e bağlı olmalıdır, ama tersi doğru değildir. Her `if`'e bir `else` gerekmez.\n",
    "\n",
    "if-elif-else komutu\n",
    "===========\n",
    "`if` kullanımının en genel hali budur. `elif` kelimesi `else if`'in kısaltmasıdır."
   ]
  },
  {
   "cell_type": "code",
   "execution_count": 5,
   "metadata": {},
   "outputs": [
    {
     "name": "stdout",
     "output_type": "stream",
     "text": [
      "Kaç tane? 87\n",
      "Çok\n"
     ]
    }
   ],
   "source": [
    "x = int(input(\"Kaç tane? \"))\n",
    "if x>2000:\n",
    "    print(\"Binlerce\")\n",
    "elif x>200:\n",
    "    print(\"Yüzlerce\")\n",
    "elif x>10:\n",
    "    print(\"Çok\")\n",
    "elif x>0:\n",
    "    print(\"Birkaç\")\n",
    "else:\n",
    "    print(\"Yok\")"
   ]
  },
  {
   "cell_type": "markdown",
   "metadata": {},
   "source": [
    "Aynı programı `elif` kullanmadan ancak şöyle yazabiliriz:"
   ]
  },
  {
   "cell_type": "code",
   "execution_count": null,
   "metadata": {
    "collapsed": true
   },
   "outputs": [],
   "source": [
    "x = int(input(\"Kaç tane? \"))\n",
    "if x>2000:\n",
    "    print(\"Binlerce\")\n",
    "else:\n",
    "    if x>200:\n",
    "        print(\"Yüzlerce\")\n",
    "    else:\n",
    "        if x>10:\n",
    "            print(\"Çok\")\n",
    "        else:\n",
    "            if x>0:\n",
    "                print(\"Birkaç\")\n",
    "            else:\n",
    "                print(\"Yok\")"
   ]
  },
  {
   "cell_type": "markdown",
   "metadata": {},
   "source": [
    "Görüldüğü gibi `elif` kullanmak programı sadeleştiriyor.\n",
    "\n",
    "Karşılaştırmalar\n",
    "=========\n",
    "`if`'den sonra, mantıksal olarak doğru veya yanlış sayılacak ifadeler gelmelidir. Eşitlikten yukarıda bahsettik. Ayrıca `>` (büyük), `<` (küçük), `>=` (büyük veya eşit), `<=` (küçük veya eşit) ve `!=` (eşit değil) işlemleri kullanılabilir."
   ]
  },
  {
   "cell_type": "code",
   "execution_count": 6,
   "metadata": {},
   "outputs": [
    {
     "data": {
      "text/plain": [
       "(False, False, True, True, True)"
      ]
     },
     "execution_count": 6,
     "metadata": {},
     "output_type": "execute_result"
    }
   ],
   "source": [
    "2 > 3, 2 >= 3, 2 < 3, 2 <= 3, 2 != 3"
   ]
  },
  {
   "cell_type": "markdown",
   "metadata": {},
   "source": [
    "Sayı olmayan veri yapıları da karşılaştırmalarda kullanılabilirler. O durumda, eşitsizliklerin değerlendirilmesinde alfabetik sıra kullanılır."
   ]
  },
  {
   "cell_type": "code",
   "execution_count": 7,
   "metadata": {},
   "outputs": [
    {
     "data": {
      "text/plain": [
       "(False, True, True)"
      ]
     },
     "execution_count": 7,
     "metadata": {},
     "output_type": "execute_result"
    }
   ],
   "source": [
    "\"hello\" == \"Hello\", \"hello\" > \"Hello\", \"hello\" < \"jello\""
   ]
  },
  {
   "cell_type": "code",
   "execution_count": 8,
   "metadata": {},
   "outputs": [
    {
     "data": {
      "text/plain": [
       "(True, True)"
      ]
     },
     "execution_count": 8,
     "metadata": {},
     "output_type": "execute_result"
    }
   ],
   "source": [
    "[1,2,3] < [1,20,3], [1,2,3] < [11,2,3]"
   ]
  },
  {
   "cell_type": "markdown",
   "metadata": {},
   "source": [
    "Daha fazla bilgi için <a href=\"http://docs.python.org/2/reference/expressions.html#not-in\">Python dili referansına</a> bakabilirsiniz.\n",
    "\n",
    "Bir veri yapısı içinde belli bir eleman veya alt grubun bulunup bulunmadığını `in` kelimesiyle test edebilirsiniz. Şartı ters çevirmek için `not in` kullanılır."
   ]
  },
  {
   "cell_type": "code",
   "execution_count": 9,
   "metadata": {},
   "outputs": [
    {
     "data": {
      "text/plain": [
       "(True, False, True, False)"
      ]
     },
     "execution_count": 9,
     "metadata": {},
     "output_type": "execute_result"
    }
   ],
   "source": [
    "L = [12,3,4,[5,6]]\n",
    "3 in L, [3,4] in L, [5,6] in L, [5,6] not in L"
   ]
  },
  {
   "cell_type": "code",
   "execution_count": 10,
   "metadata": {},
   "outputs": [
    {
     "data": {
      "text/plain": [
       "(True, True)"
      ]
     },
     "execution_count": 10,
     "metadata": {},
     "output_type": "execute_result"
    }
   ],
   "source": [
    "s = \"merhaba\"\n",
    "\"a\" in s, \"erh\" in s"
   ]
  },
  {
   "cell_type": "markdown",
   "metadata": {},
   "source": [
    "Sözlüklerde `in` kelimesi sadece referanslar içinde yoklama yapar."
   ]
  },
  {
   "cell_type": "code",
   "execution_count": 11,
   "metadata": {},
   "outputs": [
    {
     "data": {
      "text/plain": [
       "(True, False, True)"
      ]
     },
     "execution_count": 11,
     "metadata": {},
     "output_type": "execute_result"
    }
   ],
   "source": [
    "d = {\"abc\": 54, (1,2): -45.1}\n",
    "\"abc\" in d, 54 in d, (1,2) in d"
   ]
  },
  {
   "cell_type": "markdown",
   "metadata": {},
   "source": [
    "Doğru ve yanlış sabitleri\n",
    "==============\n",
    "`True` ve `False`, aslında 1 ve 0 sayılarına verilen yeni isimlerdir. Ayrıca,\n",
    "\n",
    "    [], {}, \"\", None, 0, 0.0, False\n",
    "ifadelerinin her biri mantıksal yanlış anlamı taşır. Tersine olarak da, sıfırdan farklı her sayı veya boş olmayan herhangi bir liste/çokuz/dize/sözlük `if` yapılarında mantıksal doğru olarak yorumlanırlar."
   ]
  },
  {
   "cell_type": "code",
   "execution_count": 12,
   "metadata": {},
   "outputs": [
    {
     "name": "stdout",
     "output_type": "stream",
     "text": [
      "Liste boş.\n"
     ]
    }
   ],
   "source": [
    "L=[]\n",
    "if L:\n",
    "    print(\"Liste dolu\")\n",
    "else:\n",
    "    print(\"Liste boş.\")"
   ]
  },
  {
   "cell_type": "code",
   "execution_count": 13,
   "metadata": {},
   "outputs": [
    {
     "name": "stdout",
     "output_type": "stream",
     "text": [
      "abc\n"
     ]
    }
   ],
   "source": [
    "s = \"abc\"\n",
    "if s:\n",
    "    print(s)\n",
    "else:\n",
    "    print(\"Boş\")"
   ]
  },
  {
   "cell_type": "markdown",
   "metadata": {},
   "source": [
    "Mantıksal işlemler\n",
    "==========\n",
    "Birden fazla şartı Boole işlemleri (`and`, `or`, `not`) ile biraraya getirerek, daha karmaşık şartlar oluşturmak mümkün olur.\n",
    "\n",
    "* `X and Y` : Hem `X` hem `Y` doğruysa doğru; `X` ve `Y`'den en az biri yanlışsa yanlış.\n",
    "* `X or Y` : `X` ve `Y`'den en az biri doğruysa doğru; hem `X` hem `Y` yanlışsa yanlış.\n",
    "* `not X` : `X`'in doğruluk değerinin tersi."
   ]
  },
  {
   "cell_type": "code",
   "execution_count": 14,
   "metadata": {},
   "outputs": [
    {
     "data": {
      "text/plain": [
       "True"
      ]
     },
     "execution_count": 14,
     "metadata": {},
     "output_type": "execute_result"
    }
   ],
   "source": [
    "1 < 2 and 3==3"
   ]
  },
  {
   "cell_type": "code",
   "execution_count": 15,
   "metadata": {},
   "outputs": [
    {
     "data": {
      "text/plain": [
       "False"
      ]
     },
     "execution_count": 15,
     "metadata": {},
     "output_type": "execute_result"
    }
   ],
   "source": [
    "1 < 2 and 3==4"
   ]
  },
  {
   "cell_type": "code",
   "execution_count": 16,
   "metadata": {},
   "outputs": [
    {
     "data": {
      "text/plain": [
       "True"
      ]
     },
     "execution_count": 16,
     "metadata": {},
     "output_type": "execute_result"
    }
   ],
   "source": [
    "1 < 2 or 3==4"
   ]
  },
  {
   "cell_type": "code",
   "execution_count": 17,
   "metadata": {},
   "outputs": [
    {
     "data": {
      "text/plain": [
       "False"
      ]
     },
     "execution_count": 17,
     "metadata": {},
     "output_type": "execute_result"
    }
   ],
   "source": [
    "1 > 2 or 3==4"
   ]
  },
  {
   "cell_type": "code",
   "execution_count": 18,
   "metadata": {},
   "outputs": [
    {
     "data": {
      "text/plain": [
       "True"
      ]
     },
     "execution_count": 18,
     "metadata": {},
     "output_type": "execute_result"
    }
   ],
   "source": [
    "not 1>2"
   ]
  },
  {
   "cell_type": "code",
   "execution_count": 19,
   "metadata": {},
   "outputs": [
    {
     "data": {
      "text/plain": [
       "False"
      ]
     },
     "execution_count": 19,
     "metadata": {},
     "output_type": "execute_result"
    }
   ],
   "source": [
    "not 3==3"
   ]
  },
  {
   "cell_type": "markdown",
   "metadata": {},
   "source": [
    "Boole ifadelerinde ikiden fazla bileşen de kullanılabilir. Önce `not` işlemi, sonra `and` işlemi, sonra da `or` işlemi yapılır. Aynı işlem yapılıyorsa, bileşenler soldan sağa çifter çifter alınır."
   ]
  },
  {
   "cell_type": "code",
   "execution_count": 20,
   "metadata": {},
   "outputs": [
    {
     "data": {
      "text/plain": [
       "True"
      ]
     },
     "execution_count": 20,
     "metadata": {},
     "output_type": "execute_result"
    }
   ],
   "source": [
    "1 == 2 or 3 > 4 or 5 < 8"
   ]
  },
  {
   "cell_type": "code",
   "execution_count": 21,
   "metadata": {},
   "outputs": [
    {
     "data": {
      "text/plain": [
       "True"
      ]
     },
     "execution_count": 21,
     "metadata": {},
     "output_type": "execute_result"
    }
   ],
   "source": [
    "1 != 2 and not 3 > 4 and 5 < 8"
   ]
  },
  {
   "cell_type": "code",
   "execution_count": 22,
   "metadata": {},
   "outputs": [
    {
     "data": {
      "text/plain": [
       "True"
      ]
     },
     "execution_count": 22,
     "metadata": {},
     "output_type": "execute_result"
    }
   ],
   "source": [
    "1 != 2 and 3 <= 4 or 5 > 10 and 7 > 8"
   ]
  },
  {
   "cell_type": "markdown",
   "metadata": {},
   "source": [
    "\"Kısa devre\" işlemler\n",
    "============\n",
    "Mantıksal işlemlerin yan etkileri vardır: Mantıksal `or` (veya) işleminde, işlenen değerlerden sadece birisinin doğru olması işlem sonucunun doğru olması için yeterlidir. Bu yüzden, Python `X or Y` işlemini yaparken `X`'in doğru olduğunu görürse `Y`'ye hiç bakmaz, onu değerlemez, ve işlem sonucu olarak `X`'in değerini geri verir. Buna _kısa devre hesaplama_ adı verilir. Eğer `X` doğru değilse, `Y` ne olursa olsun, `Y`'yi verir.\n",
    "\n",
    "Kısa devre özelliği hesaplama verimliliği de sağlar. Bazen bu işlemlerin bileşenleri karmaşık işlemlerle elde ediliyor olabilir. Sözgelişi `Y` yerine, bir fonksiyon çağrısı koyuyor olabiliriz, ve bu fonksiyon ağır işlemler yapıyor olabilir. Böyle durumlarda kısa devre işlemler hesaplamada verimlilik sağlarlar, `Y`'yi boş yere hesaplamazlar."
   ]
  },
  {
   "cell_type": "markdown",
   "metadata": {},
   "source": [
    "Aşağıdaki örnekte, `\"abc\"` doğru sayıldığı için, `print` işlemi hiç yapılmadan `\"abc\"` geri verilir."
   ]
  },
  {
   "cell_type": "code",
   "execution_count": 29,
   "metadata": {},
   "outputs": [
    {
     "data": {
      "text/plain": [
       "'abc'"
      ]
     },
     "execution_count": 29,
     "metadata": {},
     "output_type": "execute_result"
    }
   ],
   "source": [
    "\"abc\" or print(\"mrb\")"
   ]
  },
  {
   "cell_type": "markdown",
   "metadata": {},
   "source": [
    "Aşağıdaki örnekte, `or` işleminin değerini anlamak için `print` komutu işlenir. Bunun yan etkisi olarak `\"mrb\"` yazılır. Ama `print` çağrısı `None` verir, o yüzden `or` işlemi de `None` sonucu verir."
   ]
  },
  {
   "cell_type": "code",
   "execution_count": 34,
   "metadata": {},
   "outputs": [
    {
     "name": "stdout",
     "output_type": "stream",
     "text": [
      "mrb\n"
     ]
    }
   ],
   "source": [
    "False or print(\"mrb\")"
   ]
  },
  {
   "cell_type": "code",
   "execution_count": 28,
   "metadata": {},
   "outputs": [
    {
     "data": {
      "text/plain": [
       "3"
      ]
     },
     "execution_count": 28,
     "metadata": {},
     "output_type": "execute_result"
    }
   ],
   "source": [
    "0 or 3"
   ]
  },
  {
   "cell_type": "markdown",
   "metadata": {},
   "source": [
    "Benzer bir durum `X and Y` işlemi için de geçerlidir. Eğer `X` mantıksal olarak yanlışsa, `Y `ne olursa olsun bütün ifade yanlış olur, böylece `X` değeri geri verilir. Ama `X` doğruysa, işlemin doğruluk değeri `Y`'ye bağlıdır, ve `Y `değeri geri verilir."
   ]
  },
  {
   "cell_type": "code",
   "execution_count": 35,
   "metadata": {},
   "outputs": [
    {
     "data": {
      "text/plain": [
       "3"
      ]
     },
     "execution_count": 35,
     "metadata": {},
     "output_type": "execute_result"
    }
   ],
   "source": [
    "2 and 3"
   ]
  },
  {
   "cell_type": "code",
   "execution_count": 36,
   "metadata": {},
   "outputs": [
    {
     "name": "stdout",
     "output_type": "stream",
     "text": [
      "mrb\n"
     ]
    }
   ],
   "source": [
    "3 and print(\"mrb\")"
   ]
  },
  {
   "cell_type": "code",
   "execution_count": 39,
   "metadata": {},
   "outputs": [
    {
     "data": {
      "text/plain": [
       "0"
      ]
     },
     "execution_count": 39,
     "metadata": {},
     "output_type": "execute_result"
    }
   ],
   "source": [
    "0 and 2"
   ]
  },
  {
   "cell_type": "code",
   "execution_count": 40,
   "metadata": {},
   "outputs": [
    {
     "data": {
      "text/plain": [
       "[]"
      ]
     },
     "execution_count": 40,
     "metadata": {},
     "output_type": "execute_result"
    }
   ],
   "source": [
    "[] and False"
   ]
  },
  {
   "cell_type": "markdown",
   "metadata": {},
   "source": [
    "Bu özellik çeşitli \"hack\"ler için kullanılabilir. Sözgelişi\n",
    "\n",
    "    X = A or B or C or None\n",
    "ifadesi, `X`'in, `A`, `B`, `C` arasında boş olmayan ilk nesneye atanmasını, veya `None` olmasını sağlar. Aynı şeyi `if-elif-else` kullanarak yapmak daha uzun bir kod gerektirir.\n",
    "\n",
    "    if A:\n",
    "        X = A\n",
    "    elif B:\n",
    "        X = B\n",
    "    elif C:\n",
    "        X = C\n",
    "    else:\n",
    "        X = None"
   ]
  },
  {
   "cell_type": "markdown",
   "metadata": {},
   "source": [
    "Üçlü if-else ifadesi\n",
    "===========\n",
    "Birçok durumda, bir değişkene, bir şartın doğru veya yanlış olmasına göre farklı değerler atarız. Sözgelişi, `x` mantık ifadesinin doğru olması halinde `a`'ya `y` değeri verelim, aksi takdirde `z` verelim.\n",
    "\n",
    "    if x:\n",
    "        a = y\n",
    "    else:\n",
    "        a = z\n",
    "Üçlü `if-else` ifadesiyle aynısını daha kısa olarak şöyle yazabiliriz:\n",
    "\n",
    "    a = y if x else z\n",
    "Örnek olarak, `m`'ye `x`'in mutlak değerini atayalım."
   ]
  },
  {
   "cell_type": "code",
   "execution_count": 42,
   "metadata": {},
   "outputs": [
    {
     "name": "stdout",
     "output_type": "stream",
     "text": [
      "Bir sayı girin: -1.4\n",
      "1.4\n"
     ]
    }
   ],
   "source": [
    "x = float(input(\"Bir sayı girin: \"))\n",
    "m = x if x>0 else -x\n",
    "print(m)"
   ]
  },
  {
   "cell_type": "markdown",
   "metadata": {},
   "source": [
    "En baştaki örneği de şöyle yazabiliriz."
   ]
  },
  {
   "cell_type": "code",
   "execution_count": 43,
   "metadata": {},
   "outputs": [
    {
     "name": "stdout",
     "output_type": "stream",
     "text": [
      "Tahmininiz: 43\n",
      "Yanlış\n"
     ]
    }
   ],
   "source": [
    "hedef = \"42\"\n",
    "x = input(\"Tahmininiz: \")\n",
    "print(\"Doğru!\" if x == hedef else \"Yanlış\")"
   ]
  },
  {
   "cell_type": "markdown",
   "metadata": {},
   "source": [
    "Bir `if-elif-else` blokunu üçlü `if-else` ifadesi olarak yazabiliriz. Sözgelişi\n",
    "\n",
    "    if rating > 100:\n",
    "        sinif = \"A\"\n",
    "    elif rating > 50:\n",
    "        sinif = \"B\"\n",
    "    else:\n",
    "        sinif = \"C\"\n",
    "yerine\n",
    "\n",
    "    sinif = \"A\" if rating > 100 else \"B\" if rating > 50 else \"C\"\n",
    "yazılabilir. Ama aşırıya kaçırırsanız programın okunması zorlaşır."
   ]
  }
 ],
 "metadata": {
  "kernelspec": {
   "display_name": "Python 3",
   "language": "python",
   "name": "python3"
  },
  "language_info": {
   "codemirror_mode": {
    "name": "ipython",
    "version": 3
   },
   "file_extension": ".py",
   "mimetype": "text/x-python",
   "name": "python",
   "nbconvert_exporter": "python",
   "pygments_lexer": "ipython3",
   "version": "3.6.2"
  }
 },
 "nbformat": 4,
 "nbformat_minor": 2
}
