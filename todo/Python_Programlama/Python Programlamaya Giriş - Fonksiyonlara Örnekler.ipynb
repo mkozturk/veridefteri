{
 "cells": [
  {
   "cell_type": "markdown",
   "metadata": {},
   "source": [
    "Python Programlamaya Giriş yazı dizimizde [Python fonksiyonlarının nasıl tanımlandığını](http://www.veridefteri.com/2018/01/06/python-programlamaya-giris-fonksiyonlar/), parametre eşleştirmenin ve varsayılan parametrelerin [nasıl işlediğini gördük](http://www.veridefteri.com/2018/01/10/python-programlamaya-giris-fonksiyon-parametreleri/). Dizinin bütün yazılarına erişmek için <a href=\"http://www.veridefteri.com/category/python-giris/\"><em>Python Programlamaya Giriş</em></a> kategorimize bakabilirsiniz. Bu dizideki yazılar ayrıca Jupyter defterleri halinde <a href=\"https://github.com/sibirbil/VeriDefteri/tree/master/Python_Programlama\">GitHub depomuzda</a> da mevcut.\n",
    "\n",
    "\n",
    "Önceki yazılarda verdiğimiz basit örneklerin ötesine geçip biraz daha elle tutulur fonksiyon örnekleri verelim.\n",
    "\n",
    "* Asallık testi\n",
    "* Asal çarpanlar\n",
    "* Standart sapma\n",
    "* Collatz dizisi uzunluğu\n",
    "* Taylor serisiyle üstel fonksiyon\n",
    "\n",
    "Asallık testi\n",
    "---------------\n",
    "[Döngülerden bahsederken](http://www.veridefteri.com/2017/12/20/python-programlamaya-giris-donguler/), bir sayının asal olup olmadığını belirleyen bir program yazmıştık. Şimdi bunu bir fonksiyon haline getirelim. Parametre değeri bir asal sayıysa fonksiyonumuz `True` verecek, değilse `False` verecek."
   ]
  },
  {
   "cell_type": "code",
   "execution_count": 1,
   "metadata": {
    "collapsed": true
   },
   "outputs": [],
   "source": [
    "def asal_mı(x):\n",
    "    i = 2\n",
    "    while i*i < x:\n",
    "        if x % i == 0:\n",
    "            return False\n",
    "        i += 1\n",
    "    else:\n",
    "        return True"
   ]
  },
  {
   "cell_type": "code",
   "execution_count": 2,
   "metadata": {},
   "outputs": [
    {
     "data": {
      "text/plain": [
       "False"
      ]
     },
     "execution_count": 2,
     "metadata": {},
     "output_type": "execute_result"
    }
   ],
   "source": [
    "asal_mı(8)"
   ]
  },
  {
   "cell_type": "code",
   "execution_count": 3,
   "metadata": {},
   "outputs": [
    {
     "data": {
      "text/plain": [
       "True"
      ]
     },
     "execution_count": 3,
     "metadata": {},
     "output_type": "execute_result"
    }
   ],
   "source": [
    "asal_mı(79)"
   ]
  },
  {
   "cell_type": "markdown",
   "metadata": {},
   "source": [
    "Asal çarpanlar\n",
    "----------------\n",
    "[Önceki bir bölümde](http://www.veridefteri.com/2017/12/26/python-programlamaya-giris-dongulerle-problem-cozme/) bir sayının asal çarpanlarını ekrana basan bir döngü yazmıştık. O döngüyü bir fonksiyon içine koyalım ve verilen sayının asal çarpanları bir liste olarak geri verilsin."
   ]
  },
  {
   "cell_type": "code",
   "execution_count": 4,
   "metadata": {
    "collapsed": true
   },
   "outputs": [],
   "source": [
    "def asalçarpanlar(N):\n",
    "    çarpanlar = []  # boş liste    \n",
    "    x = 2\n",
    "    while N > 1:\n",
    "        # x asal mı?\n",
    "        asal = True\n",
    "        i = 2\n",
    "        while i*i <= x:\n",
    "            if x % i == 0:\n",
    "                asal = False\n",
    "                break\n",
    "            i += 1\n",
    "\n",
    "        if asal and N % x == 0:  # x asalsa ve N'yi bölüyorsa...\n",
    "            çarpanlar.append(x)  # x'i listenin sonuna ekle\n",
    "            while N % x == 0 :   # N x'e bölünebildiği sürece...\n",
    "                N = N / x        # N'yi x'e böl, x çarpanı kalmasın.\n",
    "        x += 1\n",
    "    return çarpanlar"
   ]
  },
  {
   "cell_type": "code",
   "execution_count": 5,
   "metadata": {},
   "outputs": [
    {
     "data": {
      "text/plain": [
       "[71, 839, 1471, 6857]"
      ]
     },
     "execution_count": 5,
     "metadata": {},
     "output_type": "execute_result"
    }
   ],
   "source": [
    "asalçarpanlar(600851475143)"
   ]
  },
  {
   "cell_type": "markdown",
   "metadata": {},
   "source": [
    "Bu fonksiyonu, yukarıda tanımladığımız `asal_mı()` fonksiyonunu kullanarak kısaltabiliriz."
   ]
  },
  {
   "cell_type": "code",
   "execution_count": 6,
   "metadata": {},
   "outputs": [
    {
     "data": {
      "text/plain": [
       "[71, 839, 1471, 6857]"
      ]
     },
     "execution_count": 6,
     "metadata": {},
     "output_type": "execute_result"
    }
   ],
   "source": [
    "def asalçarpanlar(N):\n",
    "    çarpanlar = []  # boş liste    \n",
    "    x = 2\n",
    "    while N > 1:\n",
    "        if asal_mı(x) and N % x == 0:   # x asalsa ve N'yi bölüyorsa...\n",
    "            çarpanlar.append(x)         # x'i listenin sonuna ekle.\n",
    "            while N % x == 0 :          # N x'e bölünebildiği sürece...\n",
    "                N = N / x               # N'yi x'e böl, x çarpanı kalmasın.\n",
    "        x += 1\n",
    "    return çarpanlar\n",
    "\n",
    "asalçarpanlar(600851475143)"
   ]
  },
  {
   "cell_type": "markdown",
   "metadata": {},
   "source": [
    "Standart sapma\n",
    "-----------------\n",
    "Elimizde $N$ tane $x_1, x_2,\\ldots,x_N$ sayısı olsun. Sayıların ortalamasına $\\bar{x}$ diyelim. Bu sayıların standart sapması şöyle tanımlanır:\n",
    "\n",
    "$$ \\sigma = \\sqrt{ \\frac{1}{N-1} \\left[ (x_1-\\bar{x})^2 + (x_2-\\bar{x})^2 + \\ldots + (x_N-\\bar{x})^2\\right]}$$\n",
    "\n",
    "Belirsiz sayıda parametre alan ve bu parametrelerin standart sapmasını veren `stdsap()` isimli bir fonksiyon yazalım. Standart sapmanın tanımlanabilmesi için fonksiyon en az iki parametre almalı. Bunun dışında parametre sayısında bir kısıtlama olmayacak. Bu şartı sağlamak için fonksiyon arayüzünü `stdsap(x1, x2, *y)` şeklinde yazmamız gerekir."
   ]
  },
  {
   "cell_type": "code",
   "execution_count": 7,
   "metadata": {
    "collapsed": true
   },
   "outputs": [],
   "source": [
    "import math   # karekök için\n",
    "\n",
    "def stsapma(x1, x2, *y):\n",
    "    N = len(y) + 2 # Fonksiyona verilen parametre sayısı\n",
    "\n",
    "    # ortalamayı hesapla\n",
    "    toplam = x1 + x2\n",
    "    for z in y:\n",
    "        toplam += z\n",
    "    ort = toplam / N\n",
    "\n",
    "    karetoplam = (x1-ort)**2 + (x2-ort)**2\n",
    "    for z in y:\n",
    "        karetoplam += (z-ort)**2\n",
    "    stsap = math.sqrt(karetoplam / (N-1))\n",
    "\n",
    "    return stsap"
   ]
  },
  {
   "cell_type": "code",
   "execution_count": 8,
   "metadata": {},
   "outputs": [
    {
     "name": "stdout",
     "output_type": "stream",
     "text": [
      "0.7071067811865476\n",
      "1.250454462839956\n"
     ]
    }
   ],
   "source": [
    "print(stsapma(1,2))\n",
    "print(stsapma(1,2,2,3,3,3,3,4,4,5,5))"
   ]
  },
  {
   "cell_type": "markdown",
   "metadata": {},
   "source": [
    "Tipik bir uygulamada, verileri önceden kullanıcıdan veya bir dosyadan tek tek almış ve bir listeye yazmış olabilirsiniz. O durumda parametre çözme (link) kullanarak listeyi bu fonksiyona parametre olarak verebilirsiniz."
   ]
  },
  {
   "cell_type": "code",
   "execution_count": 9,
   "metadata": {},
   "outputs": [
    {
     "data": {
      "text/plain": [
       "1.250454462839956"
      ]
     },
     "execution_count": 9,
     "metadata": {},
     "output_type": "execute_result"
    }
   ],
   "source": [
    "data = [1,2,2,3,3,3,3,4,4,5,5]\n",
    "stsapma( *data )"
   ]
  },
  {
   "cell_type": "markdown",
   "metadata": {},
   "source": [
    "Collatz dizisi uzunluğu\n",
    "--------------------------\n",
    "\n",
    "Collatz dizisini [önceki bölümlerde görmüştük](http://www.veridefteri.com/2017/12/26/python-programlamaya-giris-dongulerle-problem-cozme/). Bir dizide belli bir $n_0$ sayısından başlayıp $n_1$'i buluruz, $n_1$ ile $n_2$'yi buluruz, ve böyle gider. Collatz dizisinde bir sonraki sayıyı bulma kuralı şöyledir:\n",
    "\n",
    "* $n_i$ çift sayıysa: $n_{i+1} = n_i/2$\n",
    "* $n_i$ tek sayıysa: $n_{i+1} = 3n_i+1$\n",
    "* $n_i = 1$ ise dur.\n",
    "\n",
    "Söz gelişi, 13 ile başlayan bir dizi aşağıdaki gibi olur.\n",
    "\n",
    "    13, 40, 20, 10, 5, 16, 8, 4, 2, 1\n",
    "\n",
    "Collatz dizisi, bildiğimiz kadarıyla, hangi sayıyla başlarsak başlayalım hep 1'e gelir ve durur (ama bunun her zaman böyle olacağı ispat edilememiştir). Öyle bir fonksiyon yazalım ki, verilen bir başlangıç değeriyle Collatz dizisini üretsin ve 1'e kaç adımda ulaşıldığını saysın. Bunu yaparken dizinin en fazla kaça çıktığını da kaydetsin ve bu iki değeri geri versin."
   ]
  },
  {
   "cell_type": "code",
   "execution_count": 10,
   "metadata": {
    "collapsed": true
   },
   "outputs": [],
   "source": [
    "def collatz_uzunluk(n):\n",
    "    enbüyük = n\n",
    "    uzunluk = 0\n",
    "    while n > 1:\n",
    "        if n % 2==0:\n",
    "            n = n/2\n",
    "        else:\n",
    "            n = 3*n + 1\n",
    "\n",
    "        uzunluk += 1\n",
    "        if n > enbüyük:\n",
    "            enbüyük = n\n",
    "    return uzunluk, enbüyük"
   ]
  },
  {
   "cell_type": "code",
   "execution_count": 11,
   "metadata": {},
   "outputs": [
    {
     "name": "stdout",
     "output_type": "stream",
     "text": [
      "Başlangıç = 11, dizi uzunluğu = 14, en büyük değer = 52.0\n",
      "Başlangıç = 79, dizi uzunluğu = 35, en büyük değer = 808.0\n"
     ]
    }
   ],
   "source": [
    "for n0 in [11, 79]:\n",
    "    u, m = collatz_uzunluk(n0)\n",
    "    print(\"Başlangıç = {}, dizi uzunluğu = {}, en büyük değer = {}\".format(n0, u, m))"
   ]
  },
  {
   "cell_type": "markdown",
   "metadata": {},
   "source": [
    "11 ile başlayan Collatz dizisi 14 adım sonra 1'e ulaşıyor ve arada aldığı en büyük değer 52. Diziyi 79 ile başlatırsak 1'e ulaşana kadar 35 adım atıyor; ara değerler 808'e kadar çıkıyor.\n",
    "\n",
    "Taylor serisiyle üstel fonksiyon\n",
    "-----------------------------------\n",
    "\n",
    "[Döngü alıştırmaları bölümünde](http://www.veridefteri.com/2017/12/30/python-programlamaya-giris-dongu-alistirmalari/) üstel fonksiyon $e^x$ değerini Taylor serisi ile bulmaktan bahsetmiştik.\n",
    "\n",
    "$$ e^x = \\sum_{n=0}^{\\infty} \\frac {x^n}{n!} = 1 + x + \\frac{1}{2}x^2 + \\frac{1}{6}x^3 + \\cdots$$\n",
    "\n",
    "Bu açılımı kullanarak, üstel fonksiyonu bir Python fonksiyonu olarak yazalım.\n",
    "\n",
    "Bu serinin sonsuz terimi olduğu için bir yerde kesmek zorundayız. Bu kesme bir hataya yol açacak, ve biz ne kadarlık bir hataya göz yumabileceğimizi (toleransımızı) önceden belirleyeceğiz. Her yeni terim bir öncekinden küçük olduğu için, yeni terim toleranstan küçükse hesabı durduracağız. \n",
    "\n",
    "Ayrıca, kaç tane terim kullanabileceğimizin katı bir sınırı da olacak. Belki öyle bir $x$ sayısı ile başlarız ki, seriye ne kadar terim eklersek ekleyelim bir türlü toleransın altına inemeyiz. Tabii bu serinin her $x$ değeri için yakınsak olduğunu biliyoruz, ama bu ek emniyet tedbiri bu tür iteratif algoritmalarda genelde faydalıdır. Eğer azami terim sayısına ulaşılmasına rağmen terimler toleransın altına inmediyse ekrana bir uyarı mesajı basılsın ve fonksiyon elde ettiği sonucu geri versin.\n",
    "\n",
    "Tolerans ve azami terim sayısı için makul varsayılan değerler verelim, böylece fonksiyonu kullanırken her seferinde yazmak zorunda kalmayalım. Sadece deney yapmak istediğimizde değiştirelim. "
   ]
  },
  {
   "cell_type": "code",
   "execution_count": 12,
   "metadata": {
    "collapsed": true
   },
   "outputs": [],
   "source": [
    "def üstel(x, hata = 1e-8, maxterim = 20):\n",
    "    n = 1\n",
    "    sonterim = 1 # serideki ilk terimimiz\n",
    "    toplam = sonterim\n",
    "    while sonterim >= hata:\n",
    "        if n > maxterim :\n",
    "            print(\"{} terimde yakınsama sağlanamadı\".format(maxterim))\n",
    "            break\n",
    "        sonterim = sonterim * x/n # yeni terim bir öncekini x ile çarpıp terim sıra numarasına bölerek bulunuyor.\n",
    "        toplam += sonterim\n",
    "        n += 1\n",
    "    return toplam"
   ]
  },
  {
   "cell_type": "markdown",
   "metadata": {},
   "source": [
    "Fonksiyonumuzu standart kütüphanedeki üstel fonksiyonla karşılaştıralım:"
   ]
  },
  {
   "cell_type": "code",
   "execution_count": 13,
   "metadata": {},
   "outputs": [
    {
     "name": "stdout",
     "output_type": "stream",
     "text": [
      "7.38905609893065\n",
      "7.389056098516415\n"
     ]
    }
   ],
   "source": [
    "import math\n",
    "print(math.exp(2))\n",
    "print(üstel(2))"
   ]
  },
  {
   "cell_type": "markdown",
   "metadata": {},
   "source": [
    "Virgülden sonra dokuz basamağa kadar uyum sağlanıyor. Daha iyi uyum için toleransı küçültebiliriz. Ama çok küçültürsek yirmi terim yeterli olmayacaktır."
   ]
  },
  {
   "cell_type": "code",
   "execution_count": 14,
   "metadata": {},
   "outputs": [
    {
     "name": "stdout",
     "output_type": "stream",
     "text": [
      "20 terimde yakınsama sağlanamadı\n"
     ]
    },
    {
     "data": {
      "text/plain": [
       "7.389056098930604"
      ]
     },
     "execution_count": 14,
     "metadata": {},
     "output_type": "execute_result"
    }
   ],
   "source": [
    "üstel(2, hata=1e-15)"
   ]
  },
  {
   "cell_type": "markdown",
   "metadata": {},
   "source": [
    "Bu sınıra takılmadan daha yüksek hassasiyet sağlamak için `maxterim` değerini artırabiliriz."
   ]
  },
  {
   "cell_type": "code",
   "execution_count": 15,
   "metadata": {},
   "outputs": [
    {
     "name": "stdout",
     "output_type": "stream",
     "text": [
      "7.38905609893065\n",
      "7.389056098930649\n"
     ]
    }
   ],
   "source": [
    "print(math.exp(2))\n",
    "print(üstel(2, hata=1e-15, maxterim=30))"
   ]
  },
  {
   "cell_type": "markdown",
   "metadata": {},
   "source": [
    "Büyük $x$ değerleri kullanmak da varsayılan terim sayısının yetmemesine sebep olabilir."
   ]
  },
  {
   "cell_type": "code",
   "execution_count": 16,
   "metadata": {},
   "outputs": [
    {
     "name": "stdout",
     "output_type": "stream",
     "text": [
      "20 terimde yakınsama sağlanamadı\n"
     ]
    },
    {
     "data": {
      "text/plain": [
       "21991.482025665064"
      ]
     },
     "execution_count": 16,
     "metadata": {},
     "output_type": "execute_result"
    }
   ],
   "source": [
    "üstel(10)"
   ]
  },
  {
   "cell_type": "code",
   "execution_count": 17,
   "metadata": {},
   "outputs": [
    {
     "name": "stdout",
     "output_type": "stream",
     "text": [
      "22026.465794806718\n",
      "22026.46579480579\n"
     ]
    }
   ],
   "source": [
    "print(math.exp(10))\n",
    "print(üstel(10, maxterim=50))"
   ]
  },
  {
   "cell_type": "markdown",
   "metadata": {},
   "source": [
    "Burada bir örnek olsun diye üstel fonksiyon için kod yazdık, ama pratik uygulamalarda bu kodu kullanmamalısınız. Matematiksel işlemler için Python'un matematik kütüphanesini kullanmanız daha iyi olur. Bu kütüphane C dilinde yazılmış ve derlenerek makine diline çevrilmiş kod kullandığı için çok daha hızlıdır. Tek çalıştırmada bu hız farkı çok belli olmasa da çok sayıda işlem yapıldığında ciddi bir fark görülür."
   ]
  },
  {
   "cell_type": "code",
   "execution_count": 18,
   "metadata": {},
   "outputs": [
    {
     "name": "stdout",
     "output_type": "stream",
     "text": [
      "3.11 µs ± 584 ns per loop (mean ± std. dev. of 7 runs, 100000 loops each)\n"
     ]
    }
   ],
   "source": [
    "%timeit üstel(2)"
   ]
  },
  {
   "cell_type": "code",
   "execution_count": 19,
   "metadata": {},
   "outputs": [
    {
     "name": "stdout",
     "output_type": "stream",
     "text": [
      "138 ns ± 6.25 ns per loop (mean ± std. dev. of 7 runs, 10000000 loops each)\n"
     ]
    }
   ],
   "source": [
    "%timeit math.exp(2)"
   ]
  },
  {
   "cell_type": "markdown",
   "metadata": {},
   "source": [
    "Görüldüğü gibi `math.exp` fonksiyonu işlemi 140 nanosaniyede yaparken, bizim yazdığımız `üstel` fonksiyonuyla yapılan işlem yaklaşık 3 mikrosaniye sürüyor, yirmi kat yavaş. Üstelik `math.exp` daha yüksek hassasiyette sonuç veriyor ve fazladan kontroller içeriyor.\n",
    "\n",
    "Meraklısı için: `math.exp` içinde üstel fonksiyon Taylor serisiyle hesaplanmaz. Python matematik işlemlerinde C dilinin standart matematik kütüphanesini kullanır. Bu kütüphanede üstel fonksiyon hızlı ve isabetli hesaplanabilecek şekilde özel olarak düzenlenmiştir. C'de üstel fonksiyonun tanımı [şurada](http://www.netlib.org/fdlibm/e_exp.c) görülebilir. Özetle, önce öyle bir tamsayı $k$ ve $|r|<0.5\\ln 2$ sağlayan reel sayı $r$ bulunur ki, parametremiz $x = k\\ln 2 + r$ biçiminde olsun. O zaman $e^x = 2^k + e^r$ şeklinde yazılabilir. Bunun avantajı şudur: Bilgisayarda 2'nin tamsayı kuvvetini almak kolaydır (sayı bitlerini sola kaydırmak yeter). Kalan $r$ sayısı küçük olduğu için $e^r$ içinse yüksek hassasiyetli özel bir formül kullanılabilir. Ara hesaplar, bayt seviyesi işlemler kullanılarak mümkün olduğunca hızlandırılır."
   ]
  }
 ],
 "metadata": {
  "kernelspec": {
   "display_name": "Python 3",
   "language": "python",
   "name": "python3"
  },
  "language_info": {
   "codemirror_mode": {
    "name": "ipython",
    "version": 3
   },
   "file_extension": ".py",
   "mimetype": "text/x-python",
   "name": "python",
   "nbconvert_exporter": "python",
   "pygments_lexer": "ipython3",
   "version": "3.6.2"
  }
 },
 "nbformat": 4,
 "nbformat_minor": 2
}
