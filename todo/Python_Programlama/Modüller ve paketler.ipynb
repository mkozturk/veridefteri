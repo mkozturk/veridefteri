{
 "cells": [
  {
   "cell_type": "markdown",
   "metadata": {},
   "source": [
    "Her programlama dilinde olduğu gibi Python’da da tekrar tekrar kullanılabilen fonksiyon ve sınıfların bir kütüphane şeklinde ayrı dosyalarda saklanması ve yeni yazılan programlara entegre edilmesi için bir mekanizma vardır. Standart kütüphaneler, SciPy ve benzeri paketler, veya kendi kişisel fonksiyon kütüphaneniz bu modül sistemiyle inşa edilir.\n",
    "\n",
    "Dizinin bütün yazılarına erişmek için <a href=\"http://www.veridefteri.com/category/python-giris/\"><em>Python Programlamaya Giriş</em></a> kategorimize bakabilirsiniz. Bu dizideki yazılar ayrıca Jupyter defterleri halinde <a href=\"https://github.com/sibirbil/VeriDefteri/tree/master/Python_Programlama\">GitHub depomuzda</a> da mevcut.\n",
    "\n",
    "Modüller\n",
    "====\n",
    "\n",
    "Python’da bir modül yaratmak için özel bir işleme gerek yoktur. Python kodu içeren, `.py` uzantılı herhangi bir dosya bir modül olabilir. Sözgelişi, aşağıdaki kodu `basitmodul.py` isimli bir dosyaya yazıp kaydettiğinizde, bir modül yaratmış olursunuz.\n",
    "\n",
    "(Burada dosyayı yaratmak için IPython'un [hücre sihirlerinden birini](http://www.veridefteri.com/2017/11/28/ipython-sihirli-ifadeler/) kullanıyoruz. İsterseniz `%%writefile ...` satırından sonraki kısmı koyalayıp bir metin editörüne yapıştırarak `basitmodul.py` adıyla kaydedebilirsiniz.)"
   ]
  },
  {
   "cell_type": "code",
   "execution_count": 1,
   "metadata": {},
   "outputs": [
    {
     "name": "stdout",
     "output_type": "stream",
     "text": [
      "Writing basitmodul.py\n"
     ]
    }
   ],
   "source": [
    "%%writefile basitmodul.py\n",
    "print(\"basitmodul çalıştırıldı.\")\n",
    "x = 5\n",
    "def f(x):\n",
    "    return x**2\n",
    "def g():\n",
    "    print(\"Merhaba\")"
   ]
  },
  {
   "cell_type": "markdown",
   "metadata": {},
   "source": [
    "Komut satırında veya başka bir program içinde `import basitmodul` komutunu vererek (sonunda .py olmayacak) bu modülün içindeki bütün komutların işletilmesini sağlarsınız."
   ]
  },
  {
   "cell_type": "code",
   "execution_count": 2,
   "metadata": {},
   "outputs": [
    {
     "name": "stdout",
     "output_type": "stream",
     "text": [
      "basitmodul çalıştırıldı.\n"
     ]
    }
   ],
   "source": [
    "import basitmodul"
   ]
  },
  {
   "cell_type": "markdown",
   "metadata": {},
   "source": [
    "Elbette `basitmodul.py` dosyasını nereye kaydettiğiniz önemli. Bu örnekte, dosyanın mevcut çalışma dizininde bulunduğunu varsaydım. Bir `import` komutunda yorumlayıcı önce çalışma dizinine, sonra `PYTHONPATH` kabuk değişkeninde yazan dizinlere, sonra da kurulum sırasında belirlenmiş dizinlere bakar. İkincisini Linux bash kabuğunda `echo $PYTHONPATH` komutu ile görebilirsiniz.\n",
    "\n",
    "Diyelim yazdığınız modülleri `modullerim` isimli bir dizin altında tutmak istiyorsunuz. Python yorumlayıcısı içindeki `sys.path` değişkeni bakılacak dizinlerin listesini tutar (önce import sys yazmayı unutmayın). Bu listeye `sys.path.append(\"<ev dizininiz>/modullerim\")` komutuyla bir ekleme yaparak, ev dizininizin altındaki `modullerim` dizinine bakmasını sağlayabilirsiniz.\n",
    "\n",
    "Modülü `import` etmekle yeni bir _isim alanı_ yaratmış oldunuz. Bir isim alanı bir nesnedir; dolayısıyla modülde tanımlanan değişken ve fonksiyonlara erişmek için nokta notasyonu kullanılır."
   ]
  },
  {
   "cell_type": "code",
   "execution_count": 3,
   "metadata": {},
   "outputs": [
    {
     "data": {
      "text/plain": [
       "(5, 25)"
      ]
     },
     "execution_count": 3,
     "metadata": {},
     "output_type": "execute_result"
    }
   ],
   "source": [
    "basitmodul.x, basitmodul.f(5)"
   ]
  },
  {
   "cell_type": "code",
   "execution_count": 4,
   "metadata": {},
   "outputs": [
    {
     "name": "stdout",
     "output_type": "stream",
     "text": [
      "Merhaba\n"
     ]
    }
   ],
   "source": [
    "basitmodul.g()"
   ]
  },
  {
   "cell_type": "markdown",
   "metadata": {},
   "source": [
    "Modülden sadece belli isimleri almak istiyorsak `from ... import` komutunu kullanabiliriz. O zaman bu değişkenler ana isim alanına aktarılmış olurlar ve onlara nokta işlemi olmadan doğrudan erişebiliriz."
   ]
  },
  {
   "cell_type": "code",
   "execution_count": 5,
   "metadata": {},
   "outputs": [
    {
     "data": {
      "text/plain": [
       "(5, 25)"
      ]
     },
     "execution_count": 5,
     "metadata": {},
     "output_type": "execute_result"
    }
   ],
   "source": [
    "from basitmodul import x,f\n",
    "basitmodul.x, basitmodul.f(5)"
   ]
  },
  {
   "cell_type": "markdown",
   "metadata": {},
   "source": [
    "Yukarıdaki işlemde `g` fonksiyonunu ana isim alanına aktarmadığımız için doğrudan kullanmaya kalktığımızda hata mesajı alırız."
   ]
  },
  {
   "cell_type": "code",
   "execution_count": 6,
   "metadata": {},
   "outputs": [
    {
     "ename": "NameError",
     "evalue": "name 'g' is not defined",
     "output_type": "error",
     "traceback": [
      "\u001b[0;31m---------------------------------------------------------------------------\u001b[0m",
      "\u001b[0;31mNameError\u001b[0m                                 Traceback (most recent call last)",
      "\u001b[0;32m<ipython-input-6-5fd69ddb5074>\u001b[0m in \u001b[0;36m<module>\u001b[0;34m()\u001b[0m\n\u001b[0;32m----> 1\u001b[0;31m \u001b[0mg\u001b[0m\u001b[0;34m(\u001b[0m\u001b[0;34m)\u001b[0m\u001b[0;34m\u001b[0m\u001b[0m\n\u001b[0m",
      "\u001b[0;31mNameError\u001b[0m: name 'g' is not defined"
     ]
    }
   ],
   "source": [
    "g()"
   ]
  },
  {
   "cell_type": "markdown",
   "metadata": {},
   "source": [
    "Modüldeki bütün isimleri ana isim alanına aktarmak için `from basitmodul import *` komutu verilebilir. Ancak, böyle yaptığınızda modüldeki isimler daha önce tanımlanmış isimlerin yerine geçebilir. Söz gelişi, yeni bir `g()` fonksiyonu tanımlamış olalım."
   ]
  },
  {
   "cell_type": "code",
   "execution_count": 7,
   "metadata": {},
   "outputs": [
    {
     "name": "stdout",
     "output_type": "stream",
     "text": [
      "Hasta la vista\n"
     ]
    }
   ],
   "source": [
    "def g(): print(\"Hasta la vista\")\n",
    "g()"
   ]
  },
  {
   "cell_type": "markdown",
   "metadata": {},
   "source": [
    "Bu tanımdan sonra, `basitmodul`'deki bütün isimleri aşağıdaki komutla alırsak, bu fonksiyon yerine `basitmodul`'deki `g()` geçecektir."
   ]
  },
  {
   "cell_type": "code",
   "execution_count": 8,
   "metadata": {},
   "outputs": [
    {
     "name": "stdout",
     "output_type": "stream",
     "text": [
      "Merhaba\n"
     ]
    }
   ],
   "source": [
    "from basitmodul import *\n",
    "g()"
   ]
  },
  {
   "cell_type": "markdown",
   "metadata": {},
   "source": [
    "Bu tür çatışmalara meydan vermemek için, modülleri `import *` ile yüklemek tavsiye edilmez. Modüldeki değişkenlere modül ismi aracılığıyla (meselâ `basitmodul.g()` ile) ulaşmak daha emniyetlidir.\n",
    "\n",
    "Ancak her seferinde modül ismini  uzun uzun yazmak epeyce zahmetli olabilir ve kodun okunaklılığını azaltır. Modüle daha kısa bir isim atamak için `import ... as` komutunu kullanabiliriz."
   ]
  },
  {
   "cell_type": "code",
   "execution_count": 9,
   "metadata": {},
   "outputs": [],
   "source": [
    "import basitmodul as bm"
   ]
  },
  {
   "cell_type": "code",
   "execution_count": 10,
   "metadata": {},
   "outputs": [
    {
     "data": {
      "text/plain": [
       "(5, 9)"
      ]
     },
     "execution_count": 10,
     "metadata": {},
     "output_type": "execute_result"
    }
   ],
   "source": [
    "bm.x, bm.f(3)"
   ]
  },
  {
   "cell_type": "markdown",
   "metadata": {},
   "source": [
    "`from ... import ... as` komutuyla modülden belli bir nesne (değişken, fonksiyon, vs.) alabilir ve onu yeni bir isimle kullanabilirsiniz."
   ]
  },
  {
   "cell_type": "code",
   "execution_count": 11,
   "metadata": {},
   "outputs": [
    {
     "name": "stdout",
     "output_type": "stream",
     "text": [
      "Merhaba\n"
     ]
    }
   ],
   "source": [
    "from basitmodul import g as selamlama\n",
    "selamlama()"
   ]
  },
  {
   "cell_type": "markdown",
   "metadata": {},
   "source": [
    "## dir() fonksiyonu\n",
    "\n",
    "Bir modülde tanımlanmış isimlerin (değişken ve fonksiyon) tam listesini görmek isterseniz `dir()` fonksiyonunu kullanabilirsiniz."
   ]
  },
  {
   "cell_type": "code",
   "execution_count": 12,
   "metadata": {},
   "outputs": [
    {
     "data": {
      "text/plain": [
       "['__builtins__',\n",
       " '__cached__',\n",
       " '__doc__',\n",
       " '__file__',\n",
       " '__loader__',\n",
       " '__name__',\n",
       " '__package__',\n",
       " '__spec__',\n",
       " 'f',\n",
       " 'g',\n",
       " 'x']"
      ]
     },
     "execution_count": 12,
     "metadata": {},
     "output_type": "execute_result"
    }
   ],
   "source": [
    "dir(bm)"
   ]
  },
  {
   "cell_type": "markdown",
   "metadata": {},
   "source": [
    "`dir()` fonksiyonu sadece modüllerde değil, bir sınıf (class) içindeki isimleri almak için de kullanılabilir. Örneğin, bir liste nesnesindeki metodları listelemek için `dir(list)` komutu verebiliriz."
   ]
  },
  {
   "cell_type": "code",
   "execution_count": 13,
   "metadata": {},
   "outputs": [
    {
     "data": {
      "text/plain": [
       "['__add__',\n",
       " '__class__',\n",
       " '__contains__',\n",
       " '__delattr__',\n",
       " '__delitem__',\n",
       " '__dir__',\n",
       " '__doc__',\n",
       " '__eq__',\n",
       " '__format__',\n",
       " '__ge__',\n",
       " '__getattribute__',\n",
       " '__getitem__',\n",
       " '__gt__',\n",
       " '__hash__',\n",
       " '__iadd__',\n",
       " '__imul__',\n",
       " '__init__',\n",
       " '__init_subclass__',\n",
       " '__iter__',\n",
       " '__le__',\n",
       " '__len__',\n",
       " '__lt__',\n",
       " '__mul__',\n",
       " '__ne__',\n",
       " '__new__',\n",
       " '__reduce__',\n",
       " '__reduce_ex__',\n",
       " '__repr__',\n",
       " '__reversed__',\n",
       " '__rmul__',\n",
       " '__setattr__',\n",
       " '__setitem__',\n",
       " '__sizeof__',\n",
       " '__str__',\n",
       " '__subclasshook__',\n",
       " 'append',\n",
       " 'clear',\n",
       " 'copy',\n",
       " 'count',\n",
       " 'extend',\n",
       " 'index',\n",
       " 'insert',\n",
       " 'pop',\n",
       " 'remove',\n",
       " 'reverse',\n",
       " 'sort']"
      ]
     },
     "execution_count": 13,
     "metadata": {},
     "output_type": "execute_result"
    }
   ],
   "source": [
    "dir(list)"
   ]
  },
  {
   "cell_type": "markdown",
   "metadata": {},
   "source": [
    "Modülleri tekrar yüklemek\n",
    "-----\n",
    "Bir `import` işlemi bir modül dosyasını baştan sona bir kere işletir, ama ikinci bir `import` komutu dosyayı baştan çalıştırmaz. Dolayısıyla, etkileşimli çalışırken (sözgelişi Spyder gibi bir IDE ile veya Jupyter defteri ile) modül dosyasında bir değişiklik yaptıysanız, tekrar `import` yapmak bu değişikliklerin görülmesini sağlamaz.\n",
    "\n",
    "Söz gelişi, `basitmodul.py` dosyasında `g()` fonksiyonunun tanımını değiştirelim:"
   ]
  },
  {
   "cell_type": "code",
   "execution_count": 14,
   "metadata": {},
   "outputs": [
    {
     "name": "stdout",
     "output_type": "stream",
     "text": [
      "Overwriting basitmodul.py\n"
     ]
    }
   ],
   "source": [
    "%%writefile basitmodul.py\n",
    "print(\"basitmodul çalıştırıldı.\")\n",
    "x = 5\n",
    "def f(x):\n",
    "    return x**2\n",
    "def g():\n",
    "    print(\"Namaste\")"
   ]
  },
  {
   "cell_type": "markdown",
   "metadata": {},
   "source": [
    "Bu yeni modül dosyasını `import` ile işletmeye çalışalım:"
   ]
  },
  {
   "cell_type": "code",
   "execution_count": 15,
   "metadata": {},
   "outputs": [
    {
     "name": "stdout",
     "output_type": "stream",
     "text": [
      "Merhaba\n"
     ]
    }
   ],
   "source": [
    "import basitmodul\n",
    "basitmodul.g()"
   ]
  },
  {
   "cell_type": "markdown",
   "metadata": {},
   "source": [
    "Görüldüğü gibi `g()`'nin eski tanımını kullanıyor. Zaten başta `\"basitmodul çalıştırıldı\"` mesajının çıkmaması da modülün işletilmediğine işaret ediyor.\n",
    "\n",
    "Modülünüzün güncellenmiş olarak yeniden işletilmesini istiyorsanız ya Python yorumlayıcınızı kapatıp açmalısınız (Jupyter'de kernel restart), ya da `importlib.reload()` fonksiyonunu kullanmalısınız. Bu fonksiyon bir _modül nesnesi_ döndürür."
   ]
  },
  {
   "cell_type": "code",
   "execution_count": 16,
   "metadata": {},
   "outputs": [
    {
     "name": "stdout",
     "output_type": "stream",
     "text": [
      "basitmodul çalıştırıldı.\n"
     ]
    }
   ],
   "source": [
    "from importlib import reload\n",
    "bm = reload(basitmodul)"
   ]
  },
  {
   "cell_type": "code",
   "execution_count": 17,
   "metadata": {},
   "outputs": [
    {
     "name": "stdout",
     "output_type": "stream",
     "text": [
      "Namaste\n"
     ]
    }
   ],
   "source": [
    "bm.g()"
   ]
  },
  {
   "cell_type": "markdown",
   "metadata": {},
   "source": [
    "Tabii bir modül aslında dinamik bir nesne olduğu için, böyle bir değişiklik yapmak için her zaman dosyayı değiştirip tekrar yüklemek gerekmez; çalışma sırasında bir komutla da değişiklik yapılabilir. "
   ]
  },
  {
   "cell_type": "code",
   "execution_count": 18,
   "metadata": {},
   "outputs": [],
   "source": [
    "bm.g = lambda: print(\"Guten Tag\")"
   ]
  },
  {
   "cell_type": "code",
   "execution_count": 19,
   "metadata": {},
   "outputs": [
    {
     "name": "stdout",
     "output_type": "stream",
     "text": [
      "Guten Tag\n"
     ]
    }
   ],
   "source": [
    "bm.g()"
   ]
  },
  {
   "cell_type": "markdown",
   "metadata": {},
   "source": [
    "Paketler\n",
    "=====\n",
    "Bir _modül_ belli bir işe dair fonksiyonların ve sınıfların tanımlandığı bir dosyadır. İşlev olarak ilişkili, ama birbirinden ayrı birkaç modülünüz varsa bunları ortak bir dizinde tutmak mantıklı olur. Bunlar bir Python _paketi_ oluşturur.\n",
    "\n",
    "Python'da bir _paket_ bir dizindir; bu dizinde modüller ve `__init__.py` isimli bir dosya mevcut olmalıdır. Paket yüklenirken `__init__.py` dosyasının içindeki komutlar çalıştırılır. Paket yüklemesinde ilk olarak yapılmasını istediğimiz işlemleri bu dosyaya koyabiliriz. Paket dizininde mutlaka `__init__.py` isimli bir dosya bulunmalıdır; bu boş bir dosya olabilir.\n",
    "\n",
    "Örnek olarak, çalıştığımız dizinin altında *modullerim* isimli bir dizin, ve içinde *modul_A.py*, *modul_B.py* ve *\\_\\_init\\_\\_.py* isimli üç tane dosya yaratalım.\n",
    "\n",
    "    modullerim/\n",
    "        __init__.py\n",
    "        modul_A.py\n",
    "        modul_B.py"
   ]
  },
  {
   "cell_type": "code",
   "execution_count": 20,
   "metadata": {},
   "outputs": [
    {
     "name": "stdout",
     "output_type": "stream",
     "text": [
      "Writing modullerim/__init__.py\n"
     ]
    }
   ],
   "source": [
    "%%writefile modullerim/__init__.py\n",
    "print(\"modullerim yüklendi\")"
   ]
  },
  {
   "cell_type": "code",
   "execution_count": 21,
   "metadata": {},
   "outputs": [
    {
     "name": "stdout",
     "output_type": "stream",
     "text": [
      "Writing modullerim/modul_A.py\n"
     ]
    }
   ],
   "source": [
    "%%writefile modullerim/modul_A.py    \n",
    "print(\"Modül A yüklendi\")\n",
    "pi = 3.14159\n",
    "def çevre(yarıçap):\n",
    "    return 2*pi*yarıçap"
   ]
  },
  {
   "cell_type": "code",
   "execution_count": 22,
   "metadata": {},
   "outputs": [
    {
     "name": "stdout",
     "output_type": "stream",
     "text": [
      "Writing modullerim/modul_B.py\n"
     ]
    }
   ],
   "source": [
    "%%writefile modullerim/modul_B.py\n",
    "print(\"Modül B yüklendi\")\n",
    "def fib(n):\n",
    "    \"\"\"Fibonacci dizisinin n terimi.\"\"\"\n",
    "    a,b=1,1\n",
    "    L = [1,1]\n",
    "    for i in range(n-2):\n",
    "        a,b = b,a+b\n",
    "        L += [b]\n",
    "    return L"
   ]
  },
  {
   "cell_type": "code",
   "execution_count": 23,
   "metadata": {},
   "outputs": [
    {
     "name": "stdout",
     "output_type": "stream",
     "text": [
      "modullerim yüklendi\n",
      "Modül A yüklendi\n"
     ]
    }
   ],
   "source": [
    "import modullerim.modul_A"
   ]
  },
  {
   "cell_type": "code",
   "execution_count": 24,
   "metadata": {},
   "outputs": [
    {
     "data": {
      "text/plain": [
       "3.14159"
      ]
     },
     "execution_count": 24,
     "metadata": {},
     "output_type": "execute_result"
    }
   ],
   "source": [
    "modullerim.modul_A.pi"
   ]
  },
  {
   "cell_type": "markdown",
   "metadata": {},
   "source": [
    "`from ... import` komutu ile doğrudan `modul_A` isim alanını yaratabiliriz."
   ]
  },
  {
   "cell_type": "code",
   "execution_count": 25,
   "metadata": {},
   "outputs": [
    {
     "data": {
      "text/plain": [
       "(3.14159, 12.56636)"
      ]
     },
     "execution_count": 25,
     "metadata": {},
     "output_type": "execute_result"
    }
   ],
   "source": [
    "from modullerim import modul_A\n",
    "modul_A.pi, modul_A.çevre(2)"
   ]
  },
  {
   "cell_type": "markdown",
   "metadata": {},
   "source": [
    "Bu ikinci import ile `\"Modul A yüklendi\"` mesajının çıkmadığına dikkat edin. Bir oturumda modül içeriği sadece ilk import komutunda çalıştırılır. Sonraki import işlemlerinde modül tekrar çalıştırılmaz; yine de yukarıda görüldüğü gibi bu modülle yeni bir isim alanı oluşturmak mümkündür."
   ]
  },
  {
   "cell_type": "markdown",
   "metadata": {},
   "source": [
    "Yazma zahmetini kısaltmak için `as` kelimesiyle modüle daha kısa bir isim alanı adı verebiliriz."
   ]
  },
  {
   "cell_type": "code",
   "execution_count": 26,
   "metadata": {},
   "outputs": [
    {
     "data": {
      "text/plain": [
       "(3.14159, 31.4159)"
      ]
     },
     "execution_count": 26,
     "metadata": {},
     "output_type": "execute_result"
    }
   ],
   "source": [
    "from modullerim import modul_A as A\n",
    "A.pi, A.çevre(5)"
   ]
  },
  {
   "cell_type": "markdown",
   "metadata": {},
   "source": [
    "*modul_B* içindeki bütün değişken isimlerini mevcut isim alanına ekleyebiliriz. Ama yukarıda açıkladığımız gibi bu pek tavsiye edilmez."
   ]
  },
  {
   "cell_type": "code",
   "execution_count": 27,
   "metadata": {},
   "outputs": [
    {
     "name": "stdout",
     "output_type": "stream",
     "text": [
      "Modül B yüklendi\n"
     ]
    }
   ],
   "source": [
    "from modullerim.modul_B import *"
   ]
  },
  {
   "cell_type": "code",
   "execution_count": 28,
   "metadata": {},
   "outputs": [
    {
     "data": {
      "text/plain": [
       "[1, 1, 2, 3, 5, 8, 13, 21, 34, 55]"
      ]
     },
     "execution_count": 28,
     "metadata": {},
     "output_type": "execute_result"
    }
   ],
   "source": [
    "fib(10)"
   ]
  },
  {
   "cell_type": "markdown",
   "metadata": {},
   "source": [
    "Yukarıdaki örneklerde `çevre()` fonksiyonunu bir modülden, `fib()` fonksiyonunu başka bir modülden aldık; bunun için de modülleri ayrıca import etme gibi bir adım atmamız icap etti. Bunun yerine bu isimleri doğrudan *\\_\\_init\\_\\_.py* içinde import edersek, modülleri ayrıca yüklememize gerek kalmaz. Bunun için *\\_\\_init\\_\\_.py* dosyasını aşağıdaki gibi değiştirelim:"
   ]
  },
  {
   "cell_type": "code",
   "execution_count": 29,
   "metadata": {},
   "outputs": [
    {
     "name": "stdout",
     "output_type": "stream",
     "text": [
      "Overwriting modullerim/__init__.py\n"
     ]
    }
   ],
   "source": [
    "%%writefile modullerim/__init__.py\n",
    "from .modul_A import çevre\n",
    "from .modul_B import fib"
   ]
  },
  {
   "cell_type": "markdown",
   "metadata": {},
   "source": [
    "Modül adının başındaki noktalar, dosyanın mevcut dizinde bulunduğunu gösterir. Değişikliğin görülebilmesi için yorumlayıcıyı tekrar başlatmak (Jupyter'de \"Restart Kernel\"), veya yukarıda gördüğümüz gibi `reload()` kullanmak gerekir."
   ]
  },
  {
   "cell_type": "code",
   "execution_count": 30,
   "metadata": {},
   "outputs": [],
   "source": [
    "from importlib import reload\n",
    "m = reload(modullerim)"
   ]
  },
  {
   "cell_type": "markdown",
   "metadata": {},
   "source": [
    "Şimdi `çevre()` ve `fib()` fonksiyonlarını, tanımlandıkları modülleri import etmeye gerek kalmadan doğrudan doğruya kullanabiliriz."
   ]
  },
  {
   "cell_type": "code",
   "execution_count": 31,
   "metadata": {},
   "outputs": [
    {
     "name": "stdout",
     "output_type": "stream",
     "text": [
      "31.4159\n",
      "[1, 1, 2, 3, 5, 8, 13, 21, 34, 55]\n"
     ]
    }
   ],
   "source": [
    "print(m.çevre(5))\n",
    "print(m.fib(10))"
   ]
  },
  {
   "cell_type": "markdown",
   "metadata": {},
   "source": [
    "## Paketlerde alt dizinler\n",
    "Bir paketin altında başka dizinler de bulunabilir. Bu durumda her bir dizinin altında kendi *\\_\\_init\\_\\_.py* dosyası bulunmalıdır.\n",
    "\n",
    "İç içe dizinler şeklinde düzenlemiş bir pakete örnek olarak _SciPy_ paketini ele alalım. Bu paketin altındaki dizinlerin bir kısmı şöyledir:\n",
    "\n",
    "    scipy/\n",
    "        integrate/\n",
    "            __init__.py\n",
    "            ...\n",
    "        linalg/\n",
    "            __init__.py\n",
    "            ...\n",
    "        stats/\n",
    "            __init__.py\n",
    "            distributions.py\n",
    "            ...\n",
    "\n",
    "Alt paketlerdeki fonksiyonları import ederken nokta (.) işlemini kullanabiliriz."
   ]
  },
  {
   "cell_type": "code",
   "execution_count": 32,
   "metadata": {},
   "outputs": [
    {
     "data": {
      "text/plain": [
       "(3.7500000000000004, 4.1633363423443377e-14)"
      ]
     },
     "execution_count": 32,
     "metadata": {},
     "output_type": "execute_result"
    }
   ],
   "source": [
    "from scipy.integrate import quad\n",
    "quad(lambda x: x**3, 1, 2)  # x^3 fonksiyonunun 1'den 2'ye kadar integrali"
   ]
  },
  {
   "cell_type": "code",
   "execution_count": 33,
   "metadata": {},
   "outputs": [
    {
     "data": {
      "text/plain": [
       "(3.7500000000000004, 4.1633363423443377e-14)"
      ]
     },
     "execution_count": 33,
     "metadata": {},
     "output_type": "execute_result"
    }
   ],
   "source": [
    "import scipy\n",
    "scipy.integrate.quad(lambda x: x**3, 1, 2)"
   ]
  },
  {
   "cell_type": "code",
   "execution_count": 34,
   "metadata": {},
   "outputs": [
    {
     "data": {
      "text/plain": [
       "(3.7500000000000004, 4.1633363423443377e-14)"
      ]
     },
     "execution_count": 34,
     "metadata": {},
     "output_type": "execute_result"
    }
   ],
   "source": [
    "import scipy.integrate as intg\n",
    "intg.quad(lambda x: x**3, 1, 2 )"
   ]
  },
  {
   "cell_type": "code",
   "execution_count": 35,
   "metadata": {},
   "outputs": [
    {
     "data": {
      "text/plain": [
       "array([0.05399097, 0.24197072, 0.39894228, 0.24197072, 0.05399097])"
      ]
     },
     "execution_count": 35,
     "metadata": {},
     "output_type": "execute_result"
    }
   ],
   "source": [
    "from scipy.stats.distributions import norm\n",
    "norm.pdf((-2,-1,0, 1, 2))  # Normal dağılımın -2, -1, 0, 1, 2 için değerleri"
   ]
  }
 ],
 "metadata": {
  "kernelspec": {
   "display_name": "Python 3",
   "language": "python",
   "name": "python3"
  },
  "language_info": {
   "codemirror_mode": {
    "name": "ipython",
    "version": 3
   },
   "file_extension": ".py",
   "mimetype": "text/x-python",
   "name": "python",
   "nbconvert_exporter": "python",
   "pygments_lexer": "ipython3",
   "version": "3.6.5"
  }
 },
 "nbformat": 4,
 "nbformat_minor": 2
}
