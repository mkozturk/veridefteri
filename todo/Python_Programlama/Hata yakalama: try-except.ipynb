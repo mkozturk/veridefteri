{
 "cells": [
  {
   "cell_type": "markdown",
   "metadata": {},
   "source": [
    "Hata yakalama (exception handling) beklenmedik durumlarda programınızın bir hata mesajı vermesi ve çalışmayı durdurması yerine, hataya kendi istediğimiz şekilde cevap vermesini sağlamanın bir yoludur. Hata yakalama Python programcılığının önemli bir parçasıdır, kaynak kodunu çok karışık hale getirmeden programınızın güvenilir bir şekilde çalışmasını sağlar.\n",
    "\n",
    "Dizinin bütün yazılarına erişmek için <a href=\"http://www.veridefteri.com/category/python-giris/\"><em>Python Programlamaya Giriş</em></a> kategorimize bakabilirsiniz. Bu dizideki yazılar ayrıca Jupyter defterleri halinde <a href=\"https://github.com/sibirbil/VeriDefteri/tree/master/Python_Programlama\">GitHub depomuzda</a> da mevcut."
   ]
  },
  {
   "cell_type": "markdown",
   "metadata": {},
   "source": [
    "## Hatalı girdiyi yakalamak\n",
    "Bir örnekle başlayalım: Etkileşimli çalışarak kullanıcıdan sayılar alan ve aldığı sayıların karesini ekrana basan bir program yazalım. Boş satır okuduğunda program sonlansın."
   ]
  },
  {
   "cell_type": "code",
   "execution_count": null,
   "metadata": {},
   "outputs": [],
   "source": [
    "while True:\n",
    "    x = input(\"Bir sayı girin: \")\n",
    "    if not x:\n",
    "        break\n",
    "    print(float(x)**2)"
   ]
  },
  {
   "cell_type": "markdown",
   "metadata": {},
   "source": [
    "Örnek olarak, programımız şöyle çalışabilir.\n",
    "\n",
    "    Bir sayı girin: 1\n",
    "    1.0\n",
    "    Bir sayı girin: -45.5\n",
    "    2070.25\n",
    "    Bir sayı girin: abc\n",
    "        ---------------------------------------------------------------------------\n",
    "    ValueError                                Traceback (most recent call last)\n",
    "    <ipython-input-1-297c961843d7> in <module>()\n",
    "          3     if not x:\n",
    "          4         break\n",
    "    ----> 5     print(float(x)**2)\n",
    "\n",
    "    ValueError: could not convert string to float: 'abc'\n",
    "\n",
    "Son girdimiz `\"abc\"` sayıya dönüştürülemediği için `float()` fonksiyonu bir `ValueError` hatası (Python terimiyle \"exception\") verdi. Böyle hatalar programımızın çalışmasını durdurur. Oysa, bir hata yakalama (exception handling) yapısı kullanırsak bu tür sorunları programımızı durdurmadan halletmemiz mümkün olur. Söz gelişi:"
   ]
  },
  {
   "cell_type": "code",
   "execution_count": null,
   "metadata": {},
   "outputs": [],
   "source": [
    "while True:\n",
    "    x = input(\"Bir sayı girin: \")\n",
    "    if not x:\n",
    "        break\n",
    "    try:\n",
    "        y = float(x)\n",
    "    except ValueError:\n",
    "        print(\"Geçersiz sayı\")\n",
    "        continue\n",
    "    print(y**2)"
   ]
  },
  {
   "cell_type": "markdown",
   "metadata": {},
   "source": [
    "Bu program hatalı girdi verdiğimizde ekrana bir uyarı yazar ve tekrar girdi alır:\n",
    "\n",
    "    Bir sayı girin: 3\n",
    "    9.0\n",
    "    Bir sayı girin: -2\n",
    "    4.0\n",
    "    Bir sayı girin: abc\n",
    "    Geçersiz sayı\n",
    "    Bir sayı girin: 1.5\n",
    "    2.25\n",
    "    Bir sayı girin: \n",
    "\n",
    "Bu programda, hata mesajı çıkarabilecek bölümü `try:` blokunun içine aldık. Eğer `float(x)` işlemi `valueError` hatası verirse `except ValueError` bloku çalıştırılır, ve kullanıcıya bir uyarı verilerek tekrar döngünün başına dönülür. Bu sayede program durmadan hatayı yakalayıp sorunu gidermiş oluruz."
   ]
  },
  {
   "cell_type": "markdown",
   "metadata": {},
   "source": [
    "## Hata tipleri\n",
    "Yukarıdaki örnekte `ValueError` hatasını yakaladık, ama başka durumlardaki hata isimlerini nereden bileceğiz? \n",
    "\n",
    "Öncelikle, yazdığınız her kod satırında neler olabileceğini düşünün. Hata durumu (exception) yaratan bir çok durum olabilir: Çağırdığınız fonksiyonda bir sayıyı sıfıra bölüyor olmanız mümkün mü? Bir matematiksel fonksiyona verdiğiniz değişken sayısal olmazsa ne olur? Üçüncü elemanını almaya çalıştığınız listede sadece iki eleman varsa? Açmak istediğiniz dosya diskte mevcut değilse?\n",
    "\n",
    "Bu hata durumlarının ne olduğunu anlamak için komutları çalıştırıp ne tip hata aldığınıza bakabilirsiniz ve sonra buna göre _try/except_ blokları yazabilirsiniz. Yardım belgelerinde de fonksiyonun hangi durumlarda hangi hataları yayınlayacağına dair bilgi mevcuttur.\n",
    "\n",
    "**Çalışma.** Yukarıdaki hata durumlarını yaratan Python kodları yazın ve hangi hataların yayınlandığına bakın. Bu hataları bir _try/except_ yapısı içine koyup uygun bulduğunuz şekilde düzenleyin.\n",
    "\n",
    "**Çalışma.** `open()` fonksiyonunun yardım belgelerine bakarak hangi durumda hangi hataların yayınlandığını inceleyin.\n",
    "\n",
    "Python dilindeki ön tanımlı hataların tam listesini ve hangi durumlarda yayınlandıklarını [resmi Python dökümanlarından](https://docs.python.org/3/library/exceptions.html) okuyabilirsiniz."
   ]
  },
  {
   "cell_type": "markdown",
   "metadata": {},
   "source": [
    "## Birden fazla hata durumu"
   ]
  },
  {
   "cell_type": "markdown",
   "metadata": {},
   "source": [
    "Yukarıdaki örneğimizde, `float()` fonksiyonuna yanlış parametre vermekle ortaya çıkan `ValueError` hatasını yakalamıştık. Alternatif olarak şu kodu da kullanabilirdik:"
   ]
  },
  {
   "cell_type": "code",
   "execution_count": null,
   "metadata": {},
   "outputs": [],
   "source": [
    "while True:\n",
    "    x = input(\"Bir sayı girin: \")\n",
    "    if not x:\n",
    "        break\n",
    "    try:\n",
    "        y = 1/float(x)\n",
    "    except:\n",
    "        print(\"Geçersiz sayı\")\n",
    "        continue\n",
    "    print(y)"
   ]
  },
  {
   "cell_type": "markdown",
   "metadata": {},
   "source": [
    "    Bir sayı girin: 0\n",
    "    Geçersiz sayı\n",
    "    Bir sayı girin: abc\n",
    "    Geçersiz sayı\n",
    "    Bir sayı girin: 2\n",
    "    0.5\n",
    "    Bir sayı girin: "
   ]
  },
  {
   "cell_type": "markdown",
   "metadata": {},
   "source": [
    "Bu değişiklikle `try` bloku içindeki _herhangi_ bir hata ile `except` bloku çalıştırılır. Ancak, bu yaklaşımda farklı hataların hepsi aynı `except` blokuna yönlendirilir. Söz gelişi, yukarıda girdi olarak 0 verdiğimizde de ekrana `\"Geçersiz sayı\"` yazılır. Oysa bu iki ayrı hata durumunun ayrı şekilde düzenlenmesini isteyebiliriz. O zaman iki farklı `except` bloku kullanırız:"
   ]
  },
  {
   "cell_type": "code",
   "execution_count": null,
   "metadata": {},
   "outputs": [],
   "source": [
    "while True:\n",
    "    x = input(\"Bir sayı girin: \")\n",
    "    if not x:\n",
    "        break\n",
    "    try:\n",
    "        y = 1/float(x)\n",
    "    except ValueError:\n",
    "        print(\"Geçersiz sayı\")\n",
    "        continue\n",
    "    except ZeroDivisionError:\n",
    "        print(\"Sıfıra bölme\")\n",
    "        continue\n",
    "    print(y)"
   ]
  },
  {
   "cell_type": "markdown",
   "metadata": {},
   "source": [
    "Bu program farklı hatalar için farklı uyarılar gösterir:\n",
    "\n",
    "    Bir sayı girin: abc\n",
    "    Geçersiz sayı\n",
    "    Bir sayı girin: 0\n",
    "    Sıfıra bölme\n",
    "    Bir sayı girin: 4\n",
    "    0.25\n",
    "    Bir sayı girin: "
   ]
  },
  {
   "cell_type": "markdown",
   "metadata": {},
   "source": [
    "## Hata durumu hiyerarşisi"
   ]
  },
  {
   "cell_type": "markdown",
   "metadata": {},
   "source": [
    "Hata durumları bir nesne hiyerarşisi içinde tanımlanır. Bunların en geneli `BaseException` sınıfıdır; diğer daha özelleşmiş hata durumları bunlardan türetilir.\n",
    "\n",
    "Hata durumları hiyerarşisinin bir bölümü şöyledir (tam bir listeyi [Python belgelerinde](https://docs.python.org/3/library/exceptions.html#exception-hierarchy) bulabilirsiniz):\n",
    "\n",
    "    BaseException\n",
    "     +-- SystemExit\n",
    "     +-- KeyboardInterrupt\n",
    "     +-- Exception\n",
    "          +-- StopIteration\n",
    "          +-- StopAsyncIteration\n",
    "          +-- ArithmeticError\n",
    "          |    +-- FloatingPointError\n",
    "          |    +-- OverflowError\n",
    "          |    +-- ZeroDivisionError\n",
    "          +-- ImportError\n",
    "          |    +-- ModuleNotFoundError\n",
    "          +-- LookupError\n",
    "          |    +-- IndexError\n",
    "          |    +-- KeyError\n",
    "          +-- OSError\n",
    "          +-- ValueError"
   ]
  },
  {
   "cell_type": "markdown",
   "metadata": {},
   "source": [
    "Bu hiyerarşi sebebiyle, alt seviye bir hatayı yayınlayan bir kod, onun üstündeki hataları da yayınlar. Söz gelişi, `1/0` işlemi `ZeroDivisionError`, `ArithmeticError`, `Exception` ve `BaseException` hatalarının hepsine uyar.\n",
    "\n",
    "Bir try/except yapısında bir hata durumu belirtmezsek en genel durum olan `BaseException` yayınlanır."
   ]
  },
  {
   "cell_type": "code",
   "execution_count": 1,
   "metadata": {},
   "outputs": [
    {
     "name": "stdout",
     "output_type": "stream",
     "text": [
      "Bir hata oldu.\n"
     ]
    }
   ],
   "source": [
    "try:\n",
    "    1/0\n",
    "except:\n",
    "    print(\"Bir hata oldu.\")"
   ]
  },
  {
   "cell_type": "markdown",
   "metadata": {},
   "source": [
    "Ama böyle bir kullanım, okunaklı yazılım geliştirme açısından doğru değildir. Eğer `try` blokumuz genişse ve birden fazla farklı hata olması ihtimali varsa, hepsi birden bu mesajı verir, ve hangi hatanın gerçekleştiğini tespit etmemiz mümkün olmaz."
   ]
  },
  {
   "cell_type": "code",
   "execution_count": 2,
   "metadata": {},
   "outputs": [
    {
     "name": "stdout",
     "output_type": "stream",
     "text": [
      "Bir hata oldu.\n"
     ]
    }
   ],
   "source": [
    "try:\n",
    "    int(\"abc\")\n",
    "except:\n",
    "    print(\"Bir hata oldu.\")"
   ]
  },
  {
   "cell_type": "markdown",
   "metadata": {},
   "source": [
    "Belirsizliği azaltmak için en iyi yol, hiyerarşide en alt noktadaki (en dar kapsamlı) hata durumunu yakalamak ve ona göre ayrı `except` blokları içinde sorunu gidermektir."
   ]
  },
  {
   "cell_type": "code",
   "execution_count": 3,
   "metadata": {},
   "outputs": [
    {
     "name": "stdout",
     "output_type": "stream",
     "text": [
      "İşlem çok büyük.\n"
     ]
    }
   ],
   "source": [
    "try:\n",
    "    2.5**1000\n",
    "except OverflowError:\n",
    "    print(\"İşlem çok büyük.\")\n",
    "except ZeroDivisionError:\n",
    "    print(\"Sıfıra bölme.\")"
   ]
  },
  {
   "cell_type": "markdown",
   "metadata": {},
   "source": [
    "Hatta, yaptığınız işlemin yeni bir hata durumu olmasını da sağlayabilirsiniz. Öntanımlı hata durumlarından yeni hatalar türetmeyi aşağıda göreceğiz."
   ]
  },
  {
   "cell_type": "markdown",
   "metadata": {},
   "source": [
    "## Fonksiyonlarımızda hata durumu yayınlamak"
   ]
  },
  {
   "cell_type": "markdown",
   "metadata": {},
   "source": [
    "Gördüğümüz gibi birçok Python fonksiyonu normal işleyişe uymayan durumlarda bir hata durumu yayınlıyor, ve programımızda bu hata durumunu yakalayarak işlem yapıyoruz. Kendi yazdığımız fonksiyonların içinde `raise` komutu kullanarak bir hata durumu yayınlanmasını sağlayabiliriz. Örnek olarak, negatif argüman aldığında `ValueError` yayınlayan bir faktöriyel fonksiyonu yazalım. Hata mesajını değiştirmemiz de mümkündür:"
   ]
  },
  {
   "cell_type": "code",
   "execution_count": 4,
   "metadata": {},
   "outputs": [],
   "source": [
    "def faktöryel(x):\n",
    "    x = int(x)    \n",
    "    if x<0:\n",
    "        raise ValueError(\"Negatif değer\")\n",
    "    p = 1\n",
    "    for i in range(1,x+1):\n",
    "        p *= i\n",
    "    return p"
   ]
  },
  {
   "cell_type": "markdown",
   "metadata": {},
   "source": [
    "Şimdi bu fonksiyonu bir try/except bloku içinde kullanalım."
   ]
  },
  {
   "cell_type": "code",
   "execution_count": 5,
   "metadata": {},
   "outputs": [
    {
     "name": "stdout",
     "output_type": "stream",
     "text": [
      "120\n",
      "-5 :  Negatif değer\n",
      "abc :  invalid literal for int() with base 10: 'abc'\n",
      "120\n"
     ]
    }
   ],
   "source": [
    "for x in [5, -5, \"abc\", 5]:\n",
    "    try:\n",
    "        y = faktöryel(x)\n",
    "    except ValueError as e:\n",
    "        print(x,\": \", e)\n",
    "        continue\n",
    "    print(y)"
   ]
  },
  {
   "cell_type": "markdown",
   "metadata": {},
   "source": [
    "Bu koddaki `except ValueError as e:` komutu ile hata durumu `e` isimli bir yerel değişkende saklanabilir ve blok içinde kullanılabilir. Yukarıdaki gibi `print()` içinde kullanıldığında hata mesajını ekrana basarız. Negatif girdi ve harf girdisi durumlarında farklı hata mesajları çıktığına dikkat edin."
   ]
  },
  {
   "cell_type": "markdown",
   "metadata": {},
   "source": [
    "## Yeni hata durumları yaratmak"
   ]
  },
  {
   "cell_type": "markdown",
   "metadata": {},
   "source": [
    "Python'un standart hata durumlarına ek olarak, kendi hata durumlarımızı da yaratabiliriz. Yukarıda gördüğümüz hata durumu hiyerarşisi, aslında bir nesne hiyerarşisidir. Nesne sınıfları tanımlamayı sonraki bölümlerde göreceğiz, ama buradaki örneği nesne programlama bilmeden de uygulayabilirsiniz.\n",
    "\n",
    "Yeni bir hata tanımlarken varolan bir hatayı temel alırız. Söz gelişi, genel `Exception` nesne sınıfından türetilmiş bir `VektörBoyuHatası` tanımlayalım. "
   ]
  },
  {
   "cell_type": "code",
   "execution_count": 6,
   "metadata": {},
   "outputs": [],
   "source": [
    "class VektörBoyuHatası(Exception):\n",
    "    pass"
   ]
  },
  {
   "cell_type": "markdown",
   "metadata": {},
   "source": [
    "Buradaki `pass`  kelimesi etkisiz bir komuttur. Python sözdizimi gereğince doldurulması gereken bir yere herhangi bir kod koymak istemediğimizde kullanırız.\n",
    "\n",
    "Şimdi iki sayı listesinin iç çarpımını veren bir fonksiyon yazalım. Listeler aynı uzunlukta değilse iç çarpım tanımlı olmaz; bu durumda `VektörBoyuHatası` yayınlayalım."
   ]
  },
  {
   "cell_type": "code",
   "execution_count": 7,
   "metadata": {},
   "outputs": [],
   "source": [
    "def iç_çarpım(L1, L2):\n",
    "    if len(L1)!=len(L2):\n",
    "        raise VektörBoyuHatası(\"Parametreler aynı sayıda elemandan oluşmalı.\")\n",
    "    return sum( [a*b for (a,b) in zip(L1,L2)] )"
   ]
  },
  {
   "cell_type": "code",
   "execution_count": 8,
   "metadata": {},
   "outputs": [
    {
     "data": {
      "text/plain": [
       "2"
      ]
     },
     "execution_count": 8,
     "metadata": {},
     "output_type": "execute_result"
    }
   ],
   "source": [
    "iç_çarpım([1,2,3], [-1,0,1])"
   ]
  },
  {
   "cell_type": "code",
   "execution_count": 9,
   "metadata": {},
   "outputs": [
    {
     "ename": "VektörBoyuHatası",
     "evalue": "Parametreler aynı sayıda elemandan oluşmalı.",
     "output_type": "error",
     "traceback": [
      "\u001b[0;31m---------------------------------------------------------------------------\u001b[0m",
      "\u001b[0;31mVektörBoyuHatası\u001b[0m                          Traceback (most recent call last)",
      "\u001b[0;32m<ipython-input-9-5f70170b4bfa>\u001b[0m in \u001b[0;36m<module>\u001b[0;34m()\u001b[0m\n\u001b[0;32m----> 1\u001b[0;31m \u001b[0miç_çarpım\u001b[0m\u001b[0;34m(\u001b[0m\u001b[0;34m[\u001b[0m\u001b[0;36m1\u001b[0m\u001b[0;34m,\u001b[0m\u001b[0;36m2\u001b[0m\u001b[0;34m,\u001b[0m\u001b[0;36m3\u001b[0m\u001b[0;34m,\u001b[0m\u001b[0;36m4\u001b[0m\u001b[0;34m]\u001b[0m\u001b[0;34m,\u001b[0m \u001b[0;34m[\u001b[0m\u001b[0;34m-\u001b[0m\u001b[0;36m1\u001b[0m\u001b[0;34m,\u001b[0m\u001b[0;36m0\u001b[0m\u001b[0;34m,\u001b[0m\u001b[0;36m1\u001b[0m\u001b[0;34m]\u001b[0m\u001b[0;34m)\u001b[0m\u001b[0;34m\u001b[0m\u001b[0m\n\u001b[0m",
      "\u001b[0;32m<ipython-input-7-ec326e885a8f>\u001b[0m in \u001b[0;36miç_çarpım\u001b[0;34m(L1, L2)\u001b[0m\n\u001b[1;32m      1\u001b[0m \u001b[0;32mdef\u001b[0m \u001b[0miç_çarpım\u001b[0m\u001b[0;34m(\u001b[0m\u001b[0mL1\u001b[0m\u001b[0;34m,\u001b[0m \u001b[0mL2\u001b[0m\u001b[0;34m)\u001b[0m\u001b[0;34m:\u001b[0m\u001b[0;34m\u001b[0m\u001b[0m\n\u001b[1;32m      2\u001b[0m     \u001b[0;32mif\u001b[0m \u001b[0mlen\u001b[0m\u001b[0;34m(\u001b[0m\u001b[0mL1\u001b[0m\u001b[0;34m)\u001b[0m\u001b[0;34m!=\u001b[0m\u001b[0mlen\u001b[0m\u001b[0;34m(\u001b[0m\u001b[0mL2\u001b[0m\u001b[0;34m)\u001b[0m\u001b[0;34m:\u001b[0m\u001b[0;34m\u001b[0m\u001b[0m\n\u001b[0;32m----> 3\u001b[0;31m         \u001b[0;32mraise\u001b[0m \u001b[0mVektörBoyuHatası\u001b[0m\u001b[0;34m(\u001b[0m\u001b[0;34m\"Parametreler aynı sayıda elemandan oluşmalı.\"\u001b[0m\u001b[0;34m)\u001b[0m\u001b[0;34m\u001b[0m\u001b[0m\n\u001b[0m\u001b[1;32m      4\u001b[0m     \u001b[0;32mreturn\u001b[0m \u001b[0msum\u001b[0m\u001b[0;34m(\u001b[0m \u001b[0;34m[\u001b[0m\u001b[0ma\u001b[0m\u001b[0;34m*\u001b[0m\u001b[0mb\u001b[0m \u001b[0;32mfor\u001b[0m \u001b[0;34m(\u001b[0m\u001b[0ma\u001b[0m\u001b[0;34m,\u001b[0m\u001b[0mb\u001b[0m\u001b[0;34m)\u001b[0m \u001b[0;32min\u001b[0m \u001b[0mzip\u001b[0m\u001b[0;34m(\u001b[0m\u001b[0mL1\u001b[0m\u001b[0;34m,\u001b[0m\u001b[0mL2\u001b[0m\u001b[0;34m)\u001b[0m\u001b[0;34m]\u001b[0m \u001b[0;34m)\u001b[0m\u001b[0;34m\u001b[0m\u001b[0m\n",
      "\u001b[0;31mVektörBoyuHatası\u001b[0m: Parametreler aynı sayıda elemandan oluşmalı."
     ]
    }
   ],
   "source": [
    "iç_çarpım([1,2,3,4], [-1,0,1])"
   ]
  },
  {
   "cell_type": "markdown",
   "metadata": {},
   "source": [
    "Bu fonksiyonu bir try/except yapısı içinde kullanabiliriz:"
   ]
  },
  {
   "cell_type": "code",
   "execution_count": 10,
   "metadata": {},
   "outputs": [
    {
     "name": "stdout",
     "output_type": "stream",
     "text": [
      "Parametreler aynı sayıda elemandan oluşmalı.\n"
     ]
    }
   ],
   "source": [
    "try:\n",
    "    iç_çarpım([1,2,3,4], [-1,0,1])\n",
    "except VektörBoyuHatası as e:\n",
    "    print(e)"
   ]
  }
 ],
 "metadata": {
  "kernelspec": {
   "display_name": "Python 3",
   "language": "python",
   "name": "python3"
  },
  "language_info": {
   "codemirror_mode": {
    "name": "ipython",
    "version": 3
   },
   "file_extension": ".py",
   "mimetype": "text/x-python",
   "name": "python",
   "nbconvert_exporter": "python",
   "pygments_lexer": "ipython3",
   "version": "3.6.5"
  }
 },
 "nbformat": 4,
 "nbformat_minor": 2
}
