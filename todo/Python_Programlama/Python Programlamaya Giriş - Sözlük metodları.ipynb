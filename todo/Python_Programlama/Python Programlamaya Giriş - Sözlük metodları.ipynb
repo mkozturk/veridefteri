{
 "cells": [
  {
   "cell_type": "markdown",
   "metadata": {},
   "source": [
    "Python'daki veri tiplerini daha önce kısaca ele almıştık; bir önceki bölümde de liste tipine ait metodların kullanımını örneklerle incelemiştik. Bu yazıda sözlük tipine ait olan metodları örneklerle açıklıyoruz. Bundan sonraki bölümlerde dize ve küme tiplerine ait metodları inceleyeceğiz.\n",
    "\n",
    "Dizinin bütün yazılarına erişmek için <a href=\"http://www.veridefteri.com/category/python-giris/\"><em>Python Programlamaya Giriş</em></a> kategorimize bakabilirsiniz. Bu dizideki yazılar ayrıca Jupyter defterleri halinde <a href=\"https://github.com/sibirbil/VeriDefteri/tree/master/Python_Programlama\">GitHub depomuzda</a> da mevcut.\n",
    "\n",
    "**Sözlükler**, listeler gibi, birden fazla elemanı bir araya toplayan yapılardır. Listelerden farkları _sıralı nesne_ olmamalarıdır. Bir listenin indeksleri üzerinden doğal bir sırası varken, sözlüklerin elemanlarında doğal bir sıralama mevcut değildir.\n",
    "\n",
    "Bir sözlük _birleşmeli dizi_ (associative array) olarak anılan bir veri yapısıdır. Bu yapıdaki her eleman bir _anahtar-değer_ (key-value) çiftinden oluşur. Belli bir _değere_ ulaşmak için o değere ait tekil _anahtarı_ kullanmak gerekir. Bu anahtar bir sayı, dize veya çokuz olabilir.\n",
    "    \n",
    "    telefon[\"kaan\"] == \"216 123 4567\"\n",
    "    sıcaklık[(24.345, 41.243)] == 21.2\n",
    "    \n",
    "Listelerde elemanlar sıfırdan başlayarak tamsayılarla indekslenirken, sözlük elemanlarını anahtarlarla indekslenir. Bu anlamda sözlükler listelerden daha geneldirler.\n",
    "\n",
    "Sözlük yaratma\n",
    "----------------\n",
    "Diyelim bir kişinin ismini ve yaşını barındıran bir sözlük oluşturacaksınız. Bu sözlüğü Python'da oluşturmanın dört değişik yolu vardır.\n",
    "\n",
    "(1) Doğrudan bir sözlük nesnesi yaratmak"
   ]
  },
  {
   "cell_type": "code",
   "execution_count": 1,
   "metadata": {},
   "outputs": [
    {
     "data": {
      "text/plain": [
       "{'isim': 'Ali', 'yaş': 45}"
      ]
     },
     "execution_count": 1,
     "metadata": {},
     "output_type": "execute_result"
    }
   ],
   "source": [
    "D = {\"isim\" : \"Ali\", \"yaş\" : 45}\n",
    "D"
   ]
  },
  {
   "cell_type": "markdown",
   "metadata": {},
   "source": [
    "(2) Boş bir sözlük yarattıktan sonra anahtar ve değerleri tek tek eklemek:"
   ]
  },
  {
   "cell_type": "code",
   "execution_count": 2,
   "metadata": {},
   "outputs": [
    {
     "data": {
      "text/plain": [
       "{'isim': 'Ali', 'yaş': 45}"
      ]
     },
     "execution_count": 2,
     "metadata": {},
     "output_type": "execute_result"
    }
   ],
   "source": [
    "D = {}\n",
    "D[\"isim\"] = \"Ali\"\n",
    "D[\"yaş\"] = 45\n",
    "D"
   ]
  },
  {
   "cell_type": "markdown",
   "metadata": {},
   "source": [
    "(3) `dict` fonksiyonunu isimli parametrelerle kullanmak:"
   ]
  },
  {
   "cell_type": "code",
   "execution_count": 3,
   "metadata": {},
   "outputs": [
    {
     "data": {
      "text/plain": [
       "{'isim': 'Ali', 'yaş': 45}"
      ]
     },
     "execution_count": 3,
     "metadata": {},
     "output_type": "execute_result"
    }
   ],
   "source": [
    "D = dict(isim=\"Ali\", yaş=45)\n",
    "D"
   ]
  },
  {
   "cell_type": "markdown",
   "metadata": {},
   "source": [
    "(4) `dict` fonksiyonuna (anahtar, değer) çiftleri dizisi vermek:"
   ]
  },
  {
   "cell_type": "code",
   "execution_count": 4,
   "metadata": {},
   "outputs": [
    {
     "data": {
      "text/plain": [
       "{'isim': 'Ali', 'yaş': 45}"
      ]
     },
     "execution_count": 4,
     "metadata": {},
     "output_type": "execute_result"
    }
   ],
   "source": [
    "D = dict([(\"isim\",\"Ali\"),(\"yaş\",45)])\n",
    "D"
   ]
  },
  {
   "cell_type": "markdown",
   "metadata": {},
   "source": [
    "Bu sonuncu yöntem genellikle, anahtarlar ve değerler ayrı ayrı listelerde verilmişse, onları `zip` fonksiyonuyla birleştirilerek kullanılır."
   ]
  },
  {
   "cell_type": "code",
   "execution_count": 5,
   "metadata": {},
   "outputs": [
    {
     "data": {
      "text/plain": [
       "{'isim': 'Ali', 'yaş': 45}"
      ]
     },
     "execution_count": 5,
     "metadata": {},
     "output_type": "execute_result"
    }
   ],
   "source": [
    "anahtarlar = ['isim', 'yaş']\n",
    "degerler = ['Ali', 45]\n",
    "D = dict( zip(anahtarlar, degerler) )\n",
    "D"
   ]
  },
  {
   "cell_type": "markdown",
   "metadata": {},
   "source": [
    "len, del, in\n",
    "-------------\n",
    "\n",
    "Bir nesnenin içindeki eleman sayısını veren `len` fonksiyonu, bir nesneyi veya elemanını silen `del` komutu, belirli bir elemanın mevcut olup olmadığını veren `in` işlemi sözlüklerde de kullanılabilir."
   ]
  },
  {
   "cell_type": "code",
   "execution_count": 6,
   "metadata": {
    "collapsed": true
   },
   "outputs": [],
   "source": [
    "D = {'bir': 1, 'iki': 2.0, 'pi': 3.14159}"
   ]
  },
  {
   "cell_type": "code",
   "execution_count": 7,
   "metadata": {},
   "outputs": [
    {
     "data": {
      "text/plain": [
       "3"
      ]
     },
     "execution_count": 7,
     "metadata": {},
     "output_type": "execute_result"
    }
   ],
   "source": [
    "len(D)"
   ]
  },
  {
   "cell_type": "code",
   "execution_count": 8,
   "metadata": {},
   "outputs": [
    {
     "data": {
      "text/plain": [
       "True"
      ]
     },
     "execution_count": 8,
     "metadata": {},
     "output_type": "execute_result"
    }
   ],
   "source": [
    "\"bir\" in D"
   ]
  },
  {
   "cell_type": "markdown",
   "metadata": {},
   "source": [
    "`in` komutu sadece anahtarlar üzerinde tarama yapar. Değerler arasında belli bir değer bulunup bulunmadığını bulmakta kullanılmaz."
   ]
  },
  {
   "cell_type": "code",
   "execution_count": 9,
   "metadata": {},
   "outputs": [
    {
     "data": {
      "text/plain": [
       "False"
      ]
     },
     "execution_count": 9,
     "metadata": {},
     "output_type": "execute_result"
    }
   ],
   "source": [
    "1 in D"
   ]
  },
  {
   "cell_type": "code",
   "execution_count": 10,
   "metadata": {},
   "outputs": [
    {
     "data": {
      "text/plain": [
       "{'iki': 2.0, 'pi': 3.14159}"
      ]
     },
     "execution_count": 10,
     "metadata": {},
     "output_type": "execute_result"
    }
   ],
   "source": [
    "del D[\"bir\"]\n",
    "D"
   ]
  },
  {
   "cell_type": "markdown",
   "metadata": {},
   "source": [
    "Sözlük metodları\n",
    "------------------\n",
    "Bir sözlük nesnesine ait metodları `dir` fonksiyonuyla görebiliriz."
   ]
  },
  {
   "cell_type": "code",
   "execution_count": 11,
   "metadata": {},
   "outputs": [
    {
     "data": {
      "text/plain": [
       "['__class__',\n",
       " '__contains__',\n",
       " '__delattr__',\n",
       " '__delitem__',\n",
       " '__dir__',\n",
       " '__doc__',\n",
       " '__eq__',\n",
       " '__format__',\n",
       " '__ge__',\n",
       " '__getattribute__',\n",
       " '__getitem__',\n",
       " '__gt__',\n",
       " '__hash__',\n",
       " '__init__',\n",
       " '__init_subclass__',\n",
       " '__iter__',\n",
       " '__le__',\n",
       " '__len__',\n",
       " '__lt__',\n",
       " '__ne__',\n",
       " '__new__',\n",
       " '__reduce__',\n",
       " '__reduce_ex__',\n",
       " '__repr__',\n",
       " '__setattr__',\n",
       " '__setitem__',\n",
       " '__sizeof__',\n",
       " '__str__',\n",
       " '__subclasshook__',\n",
       " 'clear',\n",
       " 'copy',\n",
       " 'fromkeys',\n",
       " 'get',\n",
       " 'items',\n",
       " 'keys',\n",
       " 'pop',\n",
       " 'popitem',\n",
       " 'setdefault',\n",
       " 'update',\n",
       " 'values']"
      ]
     },
     "execution_count": 11,
     "metadata": {},
     "output_type": "execute_result"
    }
   ],
   "source": [
    "dir(dict)"
   ]
  },
  {
   "cell_type": "markdown",
   "metadata": {},
   "source": [
    "Başında ve sonunda altçizgi olan metodlar nesne içi kullanım içindir."
   ]
  },
  {
   "cell_type": "markdown",
   "metadata": {},
   "source": [
    "Sözlükteki bütün maddeleri silmek\n",
    "-------------------------------\n",
    "`clear` metodu ile bir sözlükteki bütün anahtar-değer çiftleri silinebilir. "
   ]
  },
  {
   "cell_type": "code",
   "execution_count": 12,
   "metadata": {},
   "outputs": [
    {
     "data": {
      "text/plain": [
       "{}"
      ]
     },
     "execution_count": 12,
     "metadata": {},
     "output_type": "execute_result"
    }
   ],
   "source": [
    "D = {'bir': 1, 'iki': 2.0, 'pi': 3.14159}\n",
    "D.clear()\n",
    "D"
   ]
  },
  {
   "cell_type": "markdown",
   "metadata": {},
   "source": [
    "Sözlüğün kopyasını çıkarmak\n",
    "---------\n",
    "Bazen bir sözlükteki orijinal bilgileri değiştirmeden, bir kopya üzerinde işlemler yapmanız gerekebilir. Bir sözlüğün kopyasını `copy` metoduyla elde edebilirsiniz."
   ]
  },
  {
   "cell_type": "code",
   "execution_count": 13,
   "metadata": {},
   "outputs": [
    {
     "data": {
      "text/plain": [
       "{'bir': 1, 'iki': 2.0, 'pi': 3.14159}"
      ]
     },
     "execution_count": 13,
     "metadata": {},
     "output_type": "execute_result"
    }
   ],
   "source": [
    "D = {'bir': 1, 'iki': 2.0, 'pi': 3.14159}\n",
    "D2 = D.copy()\n",
    "D2"
   ]
  },
  {
   "cell_type": "markdown",
   "metadata": {},
   "source": [
    "Bundan sonra `D2`'de yapacağımız değişiklikler `D`'yi etkilemez."
   ]
  },
  {
   "cell_type": "code",
   "execution_count": 14,
   "metadata": {},
   "outputs": [
    {
     "name": "stdout",
     "output_type": "stream",
     "text": [
      "D = {'bir': 1, 'iki': 2.0, 'pi': 3.14159}\n",
      "D2 = {'bir': 'uno', 'iki': 2.0, 'pi': 3.14159}\n"
     ]
    }
   ],
   "source": [
    "D2[\"bir\"] = \"uno\"\n",
    "print(\"D =\",D)\n",
    "print(\"D2 =\",D2)"
   ]
  },
  {
   "cell_type": "markdown",
   "metadata": {},
   "source": [
    "İki sözlüğü birleştirmek\n",
    "-------------\n",
    "\n",
    "Sözlüklerin `update` metodu ile varolan bir sözlüğe yeni bir sözlükten anahtar-değer çiftleri ekleyebilirsiniz. Aynı anahtara sahip iki değer varsa, eskisi yenisiyle değiştirilir. Bu metod nesne içi (in-place) değişiklik yapar."
   ]
  },
  {
   "cell_type": "code",
   "execution_count": 15,
   "metadata": {},
   "outputs": [
    {
     "data": {
      "text/plain": [
       "{'Ali': 3762, 'Deniz': 1129, 'Fatma': 9212, 'Mehmet': 1212, 'Zeynep': 8249}"
      ]
     },
     "execution_count": 15,
     "metadata": {},
     "output_type": "execute_result"
    }
   ],
   "source": [
    "telefonlar = {\"Ali\": 3762, \"Zeynep\": 8249, \"Mehmet\": 2652}\n",
    "telf_2 = {\"Fatma\": 9212, \"Deniz\": 1129, \"Mehmet\": 1212}\n",
    "telefonlar.update(telf_2)\n",
    "telefonlar"
   ]
  },
  {
   "cell_type": "markdown",
   "metadata": {},
   "source": [
    "Sözlüklerden liste üretmek\n",
    "----------------------"
   ]
  },
  {
   "cell_type": "markdown",
   "metadata": {},
   "source": [
    "Bazen bir sözlükteki elemanları teker teker işlemek için bir döngü kurmak isteyebilirsiniz. Ancak sözlükler sıralı nesne olmadıkları için `for` döngüsü ile kullanılamazlar. Bir sözlüğün içeriğini iterasyona uygun bir biçime getirmek için `dict.items` metodunu kullanmalıyız."
   ]
  },
  {
   "cell_type": "code",
   "execution_count": 16,
   "metadata": {},
   "outputs": [
    {
     "name": "stdout",
     "output_type": "stream",
     "text": [
      "Adı: Ali, İç Hat: 3762\n",
      "Adı: Zeynep, İç Hat: 8249\n",
      "Adı: Mehmet, İç Hat: 2652\n"
     ]
    }
   ],
   "source": [
    "telefonlar = {\"Ali\": 3762, \"Zeynep\": 8249, \"Mehmet\": 2652}\n",
    "for isim,tel in telefonlar.items():\n",
    "    print(\"Adı: {}, İç Hat: {}\".format(isim,tel))"
   ]
  },
  {
   "cell_type": "code",
   "execution_count": 17,
   "metadata": {},
   "outputs": [
    {
     "data": {
      "text/plain": [
       "[('Ali', 3762), ('Zeynep', 8249), ('Mehmet', 2652)]"
      ]
     },
     "execution_count": 17,
     "metadata": {},
     "output_type": "execute_result"
    }
   ],
   "source": [
    "list(telefonlar.items())"
   ]
  },
  {
   "cell_type": "markdown",
   "metadata": {},
   "source": [
    "Dikkat: Yazdığımız döngüde elemanları sözlüğe verdiğimiz orijinal sırada geri aldık. Ama bunun her zaman böyle olacağının garantisi yok. Sözlüklerde herhangi bir varsayılan sıra olmaz. Yapacağınız işlem belli bir sıralama gerektiriyorsa, işlemden önce elemanlar listesinde açık komutla sıralama yapın."
   ]
  },
  {
   "cell_type": "code",
   "execution_count": 18,
   "metadata": {},
   "outputs": [
    {
     "name": "stdout",
     "output_type": "stream",
     "text": [
      "Adı: Ali, İç Hat: 3762\n",
      "Adı: Mehmet, İç Hat: 2652\n",
      "Adı: Zeynep, İç Hat: 8249\n"
     ]
    }
   ],
   "source": [
    "telefonlar = {\"Ali\": 3762, \"Zeynep\": 8249, \"Mehmet\": 2652}\n",
    "for isim,tel in sorted(telefonlar.items()):\n",
    "    print(\"Adı: {}, İç Hat: {}\".format(isim,tel))"
   ]
  },
  {
   "cell_type": "markdown",
   "metadata": {},
   "source": [
    "Sadece anahtarlardan oluşan bir liste elde etmek için `dict.keys` metodunu kullanırız."
   ]
  },
  {
   "cell_type": "code",
   "execution_count": 19,
   "metadata": {},
   "outputs": [
    {
     "data": {
      "text/plain": [
       "['Ali', 'Zeynep', 'Mehmet']"
      ]
     },
     "execution_count": 19,
     "metadata": {},
     "output_type": "execute_result"
    }
   ],
   "source": [
    "list(telefonlar.keys())"
   ]
  },
  {
   "cell_type": "markdown",
   "metadata": {},
   "source": [
    "Sadece değerlerden oluşan bir liste için `dict.values` metodu kullanılır."
   ]
  },
  {
   "cell_type": "code",
   "execution_count": 20,
   "metadata": {},
   "outputs": [
    {
     "data": {
      "text/plain": [
       "[3762, 8249, 2652]"
      ]
     },
     "execution_count": 20,
     "metadata": {},
     "output_type": "execute_result"
    }
   ],
   "source": [
    "list(telefonlar.values())"
   ]
  },
  {
   "cell_type": "markdown",
   "metadata": {},
   "source": [
    "Eğer iki çağrı arasında sözlükte bir değişiklik yapılmadıysa, `keys` ve `values` metodlarıyla elde ettiğimiz listelerin elemanları karşılıklı olarak sözlükteki mevcut anahtar-değer çiftlerine denk gelir. Böylece `zip` ile bu listeleri birleştirerek orijinal sözlüğü elde edebiliriz."
   ]
  },
  {
   "cell_type": "code",
   "execution_count": 21,
   "metadata": {},
   "outputs": [
    {
     "data": {
      "text/plain": [
       "{'Ali': 3762, 'Mehmet': 2652, 'Zeynep': 8249}"
      ]
     },
     "execution_count": 21,
     "metadata": {},
     "output_type": "execute_result"
    }
   ],
   "source": [
    "isimler = list(telefonlar.keys())\n",
    "telnolar = list(telefonlar.values())\n",
    "dict(zip(isimler,telnolar))"
   ]
  },
  {
   "cell_type": "markdown",
   "metadata": {
    "collapsed": true
   },
   "source": [
    "Elemanlara erişmek\n",
    "-------------\n",
    "Bir `D` sözlüğünde saklanan bir değere erişmenin en basit yolu `D[anahtar]` komutunu kullanmak. Fakat `anahtar` referansı sözlükte tanımlı değilse bir hata mesajı çıkar, bu da programınızın akışınızı bozabilir."
   ]
  },
  {
   "cell_type": "code",
   "execution_count": 22,
   "metadata": {},
   "outputs": [
    {
     "data": {
      "text/plain": [
       "3762"
      ]
     },
     "execution_count": 22,
     "metadata": {},
     "output_type": "execute_result"
    }
   ],
   "source": [
    "telefonlar = {\"Ali\": 3762, \"Zeynep\": 8249, \"Mehmet\": 2652}\n",
    "telefonlar[\"Ali\"]"
   ]
  },
  {
   "cell_type": "code",
   "execution_count": 23,
   "metadata": {},
   "outputs": [
    {
     "ename": "KeyError",
     "evalue": "'Kaan'",
     "output_type": "error",
     "traceback": [
      "\u001b[0;31m---------------------------------------------------------------------------\u001b[0m",
      "\u001b[0;31mKeyError\u001b[0m                                  Traceback (most recent call last)",
      "\u001b[0;32m<ipython-input-23-e5c66bc1aadc>\u001b[0m in \u001b[0;36m<module>\u001b[0;34m()\u001b[0m\n\u001b[0;32m----> 1\u001b[0;31m \u001b[0mtelefonlar\u001b[0m\u001b[0;34m[\u001b[0m\u001b[0;34m\"Kaan\"\u001b[0m\u001b[0;34m]\u001b[0m\u001b[0;34m\u001b[0m\u001b[0m\n\u001b[0m",
      "\u001b[0;31mKeyError\u001b[0m: 'Kaan'"
     ]
    }
   ],
   "source": [
    "telefonlar[\"Kaan\"]"
   ]
  },
  {
   "cell_type": "markdown",
   "metadata": {},
   "source": [
    "Verilen anahtarın sözlükte bulunmaması durumunda varsayılan bir değer döndürülmesini istiyorsanız, `get` metodunu kullanabilirsiniz. `D.get(k, d)` ifadesi, `k` anahtarı sözlükte varsa `D[k]` değerini, yoksa varsayılan `d` değerini geri verir."
   ]
  },
  {
   "cell_type": "code",
   "execution_count": 24,
   "metadata": {},
   "outputs": [
    {
     "name": "stdout",
     "output_type": "stream",
     "text": [
      "Ali telefonu 3762\n",
      "Kaan telefonu mevcut değil\n"
     ]
    }
   ],
   "source": [
    "for isim in [\"Ali\",\"Kaan\"]:\n",
    "    print(\"{} telefonu {}\".format(isim, telefonlar.get(isim, \"mevcut değil\")))"
   ]
  },
  {
   "cell_type": "markdown",
   "metadata": {},
   "source": [
    "Sözlüğe yeni anahtarlar eklemek\n",
    "------------------------\n",
    "\n",
    "Bir `D` sözlüğüne yeni bir anahtar-değer çiftini dinamik olarak kolayca ekleyebiliriz."
   ]
  },
  {
   "cell_type": "code",
   "execution_count": 25,
   "metadata": {},
   "outputs": [
    {
     "data": {
      "text/plain": [
       "{'abc': 3}"
      ]
     },
     "execution_count": 25,
     "metadata": {},
     "output_type": "execute_result"
    }
   ],
   "source": [
    "D = {}\n",
    "D[\"abc\"] = 3\n",
    "D"
   ]
  },
  {
   "cell_type": "markdown",
   "metadata": {},
   "source": [
    "Bunun başka bir yolu da `setdefault` metodunu kullanmaktır. Bu metod, `get` gibi çalışır, mevcut olmayan bir anahtar verildiğinde bir varsayılan değer döndürür. Ama `get`'ten farklı olarak, verilen yeni anahtarı sözlüğe ekler."
   ]
  },
  {
   "cell_type": "code",
   "execution_count": 26,
   "metadata": {},
   "outputs": [
    {
     "name": "stdout",
     "output_type": "stream",
     "text": [
      "42\n",
      "{'abc': 3}\n"
     ]
    }
   ],
   "source": [
    "print(D.get(\"def\",42))\n",
    "print(D) # sözlük eski halinde kalır."
   ]
  },
  {
   "cell_type": "code",
   "execution_count": 27,
   "metadata": {},
   "outputs": [
    {
     "name": "stdout",
     "output_type": "stream",
     "text": [
      "42\n",
      "{'abc': 3, 'def': 42}\n"
     ]
    }
   ],
   "source": [
    "print(D.setdefault(\"def\",42))\n",
    "print(D) # sözlüğe \"def\" anahtarı eklendi."
   ]
  }
 ],
 "metadata": {
  "kernelspec": {
   "display_name": "Python 3",
   "language": "python",
   "name": "python3"
  },
  "language_info": {
   "codemirror_mode": {
    "name": "ipython",
    "version": 3
   },
   "file_extension": ".py",
   "mimetype": "text/x-python",
   "name": "python",
   "nbconvert_exporter": "python",
   "pygments_lexer": "ipython3",
   "version": "3.6.2"
  }
 },
 "nbformat": 4,
 "nbformat_minor": 2
}
